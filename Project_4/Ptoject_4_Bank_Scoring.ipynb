{
 "cells": [
  {
   "cell_type": "markdown",
   "metadata": {},
   "source": [
    "# Проект №4: Компьютер говорит \"Нет\""
   ]
  },
  {
   "cell_type": "markdown",
   "metadata": {},
   "source": [
    "Целью проекта является написание скоринговой модели предсказания дефолта клиентов банка."
   ]
  },
  {
   "cell_type": "markdown",
   "metadata": {},
   "source": [
    "Импортируем библиотеки"
   ]
  },
  {
   "cell_type": "code",
   "execution_count": 2481,
   "metadata": {},
   "outputs": [],
   "source": [
    "\n",
    "import numpy as np \n",
    "import pandas as pd \n",
    "\n",
    "\n",
    "\n",
    "from sklearn.feature_selection import SelectKBest, chi2, f_classif, mutual_info_classif\n",
    "from sklearn.feature_selection import SelectPercentile\n",
    "from sklearn.feature_selection import SelectFpr, SelectFdr, SelectFwe\n",
    "from sklearn.feature_selection import GenericUnivariateSelect\n",
    "from sklearn.feature_selection import SelectFromModel\n",
    "from sklearn import preprocessing\n",
    "from sklearn.preprocessing import OneHotEncoder\n",
    "from sklearn import metrics\n",
    "from sklearn.metrics import roc_auc_score\n",
    "from sklearn.metrics import precision_score, recall_score\n",
    "from sklearn.metrics import f1_score\n",
    "\n",
    "\n",
    "\n",
    "from sklearn.feature_extraction import DictVectorizer\n",
    "from sklearn.feature_extraction.text import CountVectorizer, TfidfVectorizer\n",
    "\n",
    "\n",
    "\n",
    "\n",
    "from sklearn.ensemble import RandomForestClassifier\n",
    "from sklearn.svm import SVC\n",
    "\n",
    "\n",
    "from sklearn.model_selection import train_test_split\n",
    "from sklearn.metrics import accuracy_score\n",
    "from sklearn.preprocessing import StandardScaler, LabelEncoder\n",
    "from sklearn.pipeline import Pipeline\n",
    "from sklearn.linear_model import LogisticRegression\n",
    "from sklearn.metrics import confusion_matrix\n",
    "from sklearn.metrics import f1_score, accuracy_score\n",
    "\n",
    "\n",
    "import matplotlib.pyplot as plt\n",
    "import seaborn as sns\n",
    "\n",
    "import os\n",
    "for dirname, _, filenames in os.walk('/kaggle/input'):\n",
    "    for filename in filenames:\n",
    "        print(os.path.join(dirname, filename))\n",
    "        \n",
    "import datetime \n",
    "from datetime import datetime, timedelta\n"
   ]
  },
  {
   "cell_type": "code",
   "execution_count": null,
   "metadata": {},
   "outputs": [],
   "source": []
  },
  {
   "cell_type": "code",
   "execution_count": 2482,
   "metadata": {},
   "outputs": [],
   "source": [
    "RANDOM_SEED = 42"
   ]
  },
  {
   "cell_type": "markdown",
   "metadata": {},
   "source": [
    "Загрузим тренировочный и тестовый датасеты "
   ]
  },
  {
   "cell_type": "code",
   "execution_count": 2483,
   "metadata": {},
   "outputs": [],
   "source": [
    "data_train = pd.read_csv('train.csv')\n",
    "data_test = pd.read_csv('test.csv')"
   ]
  },
  {
   "cell_type": "code",
   "execution_count": 2484,
   "metadata": {
    "scrolled": true
   },
   "outputs": [
    {
     "data": {
      "text/html": [
       "<div>\n",
       "<style scoped>\n",
       "    .dataframe tbody tr th:only-of-type {\n",
       "        vertical-align: middle;\n",
       "    }\n",
       "\n",
       "    .dataframe tbody tr th {\n",
       "        vertical-align: top;\n",
       "    }\n",
       "\n",
       "    .dataframe thead th {\n",
       "        text-align: right;\n",
       "    }\n",
       "</style>\n",
       "<table border=\"1\" class=\"dataframe\">\n",
       "  <thead>\n",
       "    <tr style=\"text-align: right;\">\n",
       "      <th></th>\n",
       "      <th>client_id</th>\n",
       "      <th>app_date</th>\n",
       "      <th>education</th>\n",
       "      <th>sex</th>\n",
       "      <th>age</th>\n",
       "      <th>car</th>\n",
       "      <th>car_type</th>\n",
       "      <th>decline_app_cnt</th>\n",
       "      <th>good_work</th>\n",
       "      <th>score_bki</th>\n",
       "      <th>bki_request_cnt</th>\n",
       "      <th>region_rating</th>\n",
       "      <th>home_address</th>\n",
       "      <th>work_address</th>\n",
       "      <th>income</th>\n",
       "      <th>sna</th>\n",
       "      <th>first_time</th>\n",
       "      <th>foreign_passport</th>\n",
       "      <th>default</th>\n",
       "    </tr>\n",
       "  </thead>\n",
       "  <tbody>\n",
       "    <tr>\n",
       "      <td>0</td>\n",
       "      <td>25905</td>\n",
       "      <td>01FEB2014</td>\n",
       "      <td>SCH</td>\n",
       "      <td>M</td>\n",
       "      <td>62</td>\n",
       "      <td>Y</td>\n",
       "      <td>Y</td>\n",
       "      <td>0</td>\n",
       "      <td>0</td>\n",
       "      <td>-2.008753</td>\n",
       "      <td>1</td>\n",
       "      <td>50</td>\n",
       "      <td>1</td>\n",
       "      <td>2</td>\n",
       "      <td>18000</td>\n",
       "      <td>4</td>\n",
       "      <td>1</td>\n",
       "      <td>N</td>\n",
       "      <td>0</td>\n",
       "    </tr>\n",
       "    <tr>\n",
       "      <td>1</td>\n",
       "      <td>63161</td>\n",
       "      <td>12MAR2014</td>\n",
       "      <td>SCH</td>\n",
       "      <td>F</td>\n",
       "      <td>59</td>\n",
       "      <td>N</td>\n",
       "      <td>N</td>\n",
       "      <td>0</td>\n",
       "      <td>0</td>\n",
       "      <td>-1.532276</td>\n",
       "      <td>3</td>\n",
       "      <td>50</td>\n",
       "      <td>2</td>\n",
       "      <td>3</td>\n",
       "      <td>19000</td>\n",
       "      <td>4</td>\n",
       "      <td>1</td>\n",
       "      <td>N</td>\n",
       "      <td>0</td>\n",
       "    </tr>\n",
       "    <tr>\n",
       "      <td>2</td>\n",
       "      <td>25887</td>\n",
       "      <td>01FEB2014</td>\n",
       "      <td>SCH</td>\n",
       "      <td>M</td>\n",
       "      <td>25</td>\n",
       "      <td>Y</td>\n",
       "      <td>N</td>\n",
       "      <td>2</td>\n",
       "      <td>0</td>\n",
       "      <td>-1.408142</td>\n",
       "      <td>1</td>\n",
       "      <td>80</td>\n",
       "      <td>1</td>\n",
       "      <td>2</td>\n",
       "      <td>30000</td>\n",
       "      <td>1</td>\n",
       "      <td>4</td>\n",
       "      <td>Y</td>\n",
       "      <td>0</td>\n",
       "    </tr>\n",
       "    <tr>\n",
       "      <td>3</td>\n",
       "      <td>16222</td>\n",
       "      <td>23JAN2014</td>\n",
       "      <td>SCH</td>\n",
       "      <td>F</td>\n",
       "      <td>53</td>\n",
       "      <td>N</td>\n",
       "      <td>N</td>\n",
       "      <td>0</td>\n",
       "      <td>0</td>\n",
       "      <td>-2.057471</td>\n",
       "      <td>2</td>\n",
       "      <td>50</td>\n",
       "      <td>2</td>\n",
       "      <td>3</td>\n",
       "      <td>10000</td>\n",
       "      <td>1</td>\n",
       "      <td>3</td>\n",
       "      <td>N</td>\n",
       "      <td>0</td>\n",
       "    </tr>\n",
       "    <tr>\n",
       "      <td>4</td>\n",
       "      <td>101655</td>\n",
       "      <td>18APR2014</td>\n",
       "      <td>GRD</td>\n",
       "      <td>M</td>\n",
       "      <td>48</td>\n",
       "      <td>N</td>\n",
       "      <td>N</td>\n",
       "      <td>0</td>\n",
       "      <td>1</td>\n",
       "      <td>-1.244723</td>\n",
       "      <td>1</td>\n",
       "      <td>60</td>\n",
       "      <td>2</td>\n",
       "      <td>3</td>\n",
       "      <td>30000</td>\n",
       "      <td>1</td>\n",
       "      <td>4</td>\n",
       "      <td>Y</td>\n",
       "      <td>0</td>\n",
       "    </tr>\n",
       "  </tbody>\n",
       "</table>\n",
       "</div>"
      ],
      "text/plain": [
       "   client_id   app_date education sex  age car car_type  decline_app_cnt  \\\n",
       "0      25905  01FEB2014       SCH   M   62   Y        Y                0   \n",
       "1      63161  12MAR2014       SCH   F   59   N        N                0   \n",
       "2      25887  01FEB2014       SCH   M   25   Y        N                2   \n",
       "3      16222  23JAN2014       SCH   F   53   N        N                0   \n",
       "4     101655  18APR2014       GRD   M   48   N        N                0   \n",
       "\n",
       "   good_work  score_bki  bki_request_cnt  region_rating  home_address  \\\n",
       "0          0  -2.008753                1             50             1   \n",
       "1          0  -1.532276                3             50             2   \n",
       "2          0  -1.408142                1             80             1   \n",
       "3          0  -2.057471                2             50             2   \n",
       "4          1  -1.244723                1             60             2   \n",
       "\n",
       "   work_address  income  sna  first_time foreign_passport  default  \n",
       "0             2   18000    4           1                N        0  \n",
       "1             3   19000    4           1                N        0  \n",
       "2             2   30000    1           4                Y        0  \n",
       "3             3   10000    1           3                N        0  \n",
       "4             3   30000    1           4                Y        0  "
      ]
     },
     "execution_count": 2484,
     "metadata": {},
     "output_type": "execute_result"
    }
   ],
   "source": [
    "data_train.head()"
   ]
  },
  {
   "cell_type": "markdown",
   "metadata": {},
   "source": [
    "основная информация о данных:"
   ]
  },
  {
   "cell_type": "code",
   "execution_count": 2485,
   "metadata": {
    "scrolled": false
   },
   "outputs": [
    {
     "name": "stdout",
     "output_type": "stream",
     "text": [
      "<class 'pandas.core.frame.DataFrame'>\n",
      "RangeIndex: 73799 entries, 0 to 73798\n",
      "Data columns (total 19 columns):\n",
      "client_id           73799 non-null int64\n",
      "app_date            73799 non-null object\n",
      "education           73492 non-null object\n",
      "sex                 73799 non-null object\n",
      "age                 73799 non-null int64\n",
      "car                 73799 non-null object\n",
      "car_type            73799 non-null object\n",
      "decline_app_cnt     73799 non-null int64\n",
      "good_work           73799 non-null int64\n",
      "score_bki           73799 non-null float64\n",
      "bki_request_cnt     73799 non-null int64\n",
      "region_rating       73799 non-null int64\n",
      "home_address        73799 non-null int64\n",
      "work_address        73799 non-null int64\n",
      "income              73799 non-null int64\n",
      "sna                 73799 non-null int64\n",
      "first_time          73799 non-null int64\n",
      "foreign_passport    73799 non-null object\n",
      "default             73799 non-null int64\n",
      "dtypes: float64(1), int64(12), object(6)\n",
      "memory usage: 10.7+ MB\n"
     ]
    }
   ],
   "source": [
    "data_train.info()"
   ]
  },
  {
   "cell_type": "markdown",
   "metadata": {},
   "source": [
    "Проверим датасет на наличие пропусков:"
   ]
  },
  {
   "cell_type": "code",
   "execution_count": 2486,
   "metadata": {
    "scrolled": true
   },
   "outputs": [
    {
     "data": {
      "text/plain": [
       "client_id             0\n",
       "app_date              0\n",
       "education           307\n",
       "sex                   0\n",
       "age                   0\n",
       "car                   0\n",
       "car_type              0\n",
       "decline_app_cnt       0\n",
       "good_work             0\n",
       "score_bki             0\n",
       "bki_request_cnt       0\n",
       "region_rating         0\n",
       "home_address          0\n",
       "work_address          0\n",
       "income                0\n",
       "sna                   0\n",
       "first_time            0\n",
       "foreign_passport      0\n",
       "default               0\n",
       "dtype: int64"
      ]
     },
     "execution_count": 2486,
     "metadata": {},
     "output_type": "execute_result"
    }
   ],
   "source": [
    "data_train.isnull().sum()"
   ]
  },
  {
   "cell_type": "code",
   "execution_count": 2487,
   "metadata": {},
   "outputs": [
    {
     "data": {
      "text/plain": [
       "client_id             0\n",
       "app_date              0\n",
       "education           171\n",
       "sex                   0\n",
       "age                   0\n",
       "car                   0\n",
       "car_type              0\n",
       "decline_app_cnt       0\n",
       "good_work             0\n",
       "score_bki             0\n",
       "bki_request_cnt       0\n",
       "region_rating         0\n",
       "home_address          0\n",
       "work_address          0\n",
       "income                0\n",
       "sna                   0\n",
       "first_time            0\n",
       "foreign_passport      0\n",
       "dtype: int64"
      ]
     },
     "execution_count": 2487,
     "metadata": {},
     "output_type": "execute_result"
    }
   ],
   "source": [
    "data_test.isnull().sum()"
   ]
  },
  {
   "cell_type": "markdown",
   "metadata": {},
   "source": [
    "мы видим, что пропуски есть только в столбце data['education']. Позже вернёмся к заполнению этих пропусков."
   ]
  },
  {
   "cell_type": "markdown",
   "metadata": {},
   "source": [
    "# Анализ данных в столбцах"
   ]
  },
  {
   "cell_type": "markdown",
   "metadata": {},
   "source": [
    "В столбце data['app_date'] содержатся текстовые данные о дате. Преобразуем их в тип datetime и посчитаем временной интервал между каждым событием и константной датой. Временные интервалы преобразуем в числовой вид"
   ]
  },
  {
   "cell_type": "code",
   "execution_count": 2488,
   "metadata": {},
   "outputs": [],
   "source": [
    "def datefunc(row):\n",
    "    da=datetime.strptime(row['app_date'], '%d%b%Y')\n",
    "    return da"
   ]
  },
  {
   "cell_type": "code",
   "execution_count": 2489,
   "metadata": {},
   "outputs": [],
   "source": [
    "data_train['app_date']=data_train.apply(datefunc, axis=1)\n",
    "data_test['app_date']=data_test.apply(datefunc, axis=1)"
   ]
  },
  {
   "cell_type": "code",
   "execution_count": 2490,
   "metadata": {},
   "outputs": [],
   "source": [
    "const_date=datetime(2020,12,31,0,0,0)"
   ]
  },
  {
   "cell_type": "code",
   "execution_count": 2491,
   "metadata": {},
   "outputs": [],
   "source": [
    "data_train['timedelta']=const_date-data_train['app_date']\n",
    "data_train['timedelta']=data_train.apply(lambda x: x['timedelta'].total_seconds()/10000,axis=1)"
   ]
  },
  {
   "cell_type": "code",
   "execution_count": 2492,
   "metadata": {},
   "outputs": [],
   "source": [
    "data_test['timedelta']=const_date-data_test['app_date']\n",
    "data_test['timedelta']=data_test.apply(lambda x: x['timedelta'].total_seconds()/10000,axis=1)"
   ]
  },
  {
   "cell_type": "markdown",
   "metadata": {},
   "source": [
    "Убедимся, что в результате преобразования у нас появился столбец с числовыми данными о временных промежутках"
   ]
  },
  {
   "cell_type": "code",
   "execution_count": 2493,
   "metadata": {},
   "outputs": [
    {
     "data": {
      "text/html": [
       "<div>\n",
       "<style scoped>\n",
       "    .dataframe tbody tr th:only-of-type {\n",
       "        vertical-align: middle;\n",
       "    }\n",
       "\n",
       "    .dataframe tbody tr th {\n",
       "        vertical-align: top;\n",
       "    }\n",
       "\n",
       "    .dataframe thead th {\n",
       "        text-align: right;\n",
       "    }\n",
       "</style>\n",
       "<table border=\"1\" class=\"dataframe\">\n",
       "  <thead>\n",
       "    <tr style=\"text-align: right;\">\n",
       "      <th></th>\n",
       "      <th>client_id</th>\n",
       "      <th>app_date</th>\n",
       "      <th>education</th>\n",
       "      <th>sex</th>\n",
       "      <th>age</th>\n",
       "      <th>car</th>\n",
       "      <th>car_type</th>\n",
       "      <th>decline_app_cnt</th>\n",
       "      <th>good_work</th>\n",
       "      <th>score_bki</th>\n",
       "      <th>bki_request_cnt</th>\n",
       "      <th>region_rating</th>\n",
       "      <th>home_address</th>\n",
       "      <th>work_address</th>\n",
       "      <th>income</th>\n",
       "      <th>sna</th>\n",
       "      <th>first_time</th>\n",
       "      <th>foreign_passport</th>\n",
       "      <th>default</th>\n",
       "      <th>timedelta</th>\n",
       "    </tr>\n",
       "  </thead>\n",
       "  <tbody>\n",
       "    <tr>\n",
       "      <td>0</td>\n",
       "      <td>25905</td>\n",
       "      <td>2014-02-01</td>\n",
       "      <td>SCH</td>\n",
       "      <td>M</td>\n",
       "      <td>62</td>\n",
       "      <td>Y</td>\n",
       "      <td>Y</td>\n",
       "      <td>0</td>\n",
       "      <td>0</td>\n",
       "      <td>-2.008753</td>\n",
       "      <td>1</td>\n",
       "      <td>50</td>\n",
       "      <td>1</td>\n",
       "      <td>2</td>\n",
       "      <td>18000</td>\n",
       "      <td>4</td>\n",
       "      <td>1</td>\n",
       "      <td>N</td>\n",
       "      <td>0</td>\n",
       "      <td>21816.00</td>\n",
       "    </tr>\n",
       "    <tr>\n",
       "      <td>1</td>\n",
       "      <td>63161</td>\n",
       "      <td>2014-03-12</td>\n",
       "      <td>SCH</td>\n",
       "      <td>F</td>\n",
       "      <td>59</td>\n",
       "      <td>N</td>\n",
       "      <td>N</td>\n",
       "      <td>0</td>\n",
       "      <td>0</td>\n",
       "      <td>-1.532276</td>\n",
       "      <td>3</td>\n",
       "      <td>50</td>\n",
       "      <td>2</td>\n",
       "      <td>3</td>\n",
       "      <td>19000</td>\n",
       "      <td>4</td>\n",
       "      <td>1</td>\n",
       "      <td>N</td>\n",
       "      <td>0</td>\n",
       "      <td>21479.04</td>\n",
       "    </tr>\n",
       "    <tr>\n",
       "      <td>2</td>\n",
       "      <td>25887</td>\n",
       "      <td>2014-02-01</td>\n",
       "      <td>SCH</td>\n",
       "      <td>M</td>\n",
       "      <td>25</td>\n",
       "      <td>Y</td>\n",
       "      <td>N</td>\n",
       "      <td>2</td>\n",
       "      <td>0</td>\n",
       "      <td>-1.408142</td>\n",
       "      <td>1</td>\n",
       "      <td>80</td>\n",
       "      <td>1</td>\n",
       "      <td>2</td>\n",
       "      <td>30000</td>\n",
       "      <td>1</td>\n",
       "      <td>4</td>\n",
       "      <td>Y</td>\n",
       "      <td>0</td>\n",
       "      <td>21816.00</td>\n",
       "    </tr>\n",
       "  </tbody>\n",
       "</table>\n",
       "</div>"
      ],
      "text/plain": [
       "   client_id   app_date education sex  age car car_type  decline_app_cnt  \\\n",
       "0      25905 2014-02-01       SCH   M   62   Y        Y                0   \n",
       "1      63161 2014-03-12       SCH   F   59   N        N                0   \n",
       "2      25887 2014-02-01       SCH   M   25   Y        N                2   \n",
       "\n",
       "   good_work  score_bki  bki_request_cnt  region_rating  home_address  \\\n",
       "0          0  -2.008753                1             50             1   \n",
       "1          0  -1.532276                3             50             2   \n",
       "2          0  -1.408142                1             80             1   \n",
       "\n",
       "   work_address  income  sna  first_time foreign_passport  default  timedelta  \n",
       "0             2   18000    4           1                N        0   21816.00  \n",
       "1             3   19000    4           1                N        0   21479.04  \n",
       "2             2   30000    1           4                Y        0   21816.00  "
      ]
     },
     "execution_count": 2493,
     "metadata": {},
     "output_type": "execute_result"
    }
   ],
   "source": [
    "data_train.head(3)"
   ]
  },
  {
   "cell_type": "markdown",
   "metadata": {},
   "source": [
    "Как мы убедились выше столбец data['education'] содержит многочисленные пропуски.\n",
    "Давайте внимательнее изучим какие ещё значения он содержит"
   ]
  },
  {
   "cell_type": "code",
   "execution_count": 2494,
   "metadata": {
    "scrolled": true
   },
   "outputs": [
    {
     "data": {
      "text/plain": [
       "<matplotlib.axes._subplots.AxesSubplot at 0x15dde7cfa48>"
      ]
     },
     "execution_count": 2494,
     "metadata": {},
     "output_type": "execute_result"
    },
    {
     "data": {
      "image/png": "[encoded data removed]",
      "text/plain": [
       "<Figure size 720x720 with 1 Axes>"
      ]
     },
     "metadata": {
      "needs_background": "light"
     },
     "output_type": "display_data"
    }
   ],
   "source": [
    "data_train['education'].astype('str').value_counts().plot(kind='bar', grid=True, title= 'Образование клиентов')"
   ]
  },
  {
   "cell_type": "markdown",
   "metadata": {},
   "source": [
    "Мы видим, что самым популярным значением в этом столбце является школьное образование. Но, поскольку людей с высшим образованием тоже много, предположем, что люди с более высоким уровнем дохода имеют высшее образование.\n",
    "Создадим фунцию, которая в пропусках людям с уровнем дохода высшим чем третий квантиль присваивает высшее образование, остальным школьное. Скорее всего это не повлияет на работу модэли, но является отличным поводом потренироваться решать подобные задачи.\n"
   ]
  },
  {
   "cell_type": "code",
   "execution_count": 2495,
   "metadata": {},
   "outputs": [],
   "source": [
    "from functools import partial\n",
    "\n",
    "def fill_edu(quan75, row):\n",
    "    edu=row['education']\n",
    "    if type(edu) is not str:\n",
    "        if row['income'] > quan75:\n",
    "            return 'GRD'\n",
    "        else:\n",
    "            return 'SCH'\n",
    "        \n",
    "    else:\n",
    "        return edu\n",
    "    \n"
   ]
  },
  {
   "cell_type": "code",
   "execution_count": 2496,
   "metadata": {},
   "outputs": [],
   "source": [
    "data_train['education']=data_train.apply(partial(fill_edu, data_train['income'].quantile(0.75)), axis=1)"
   ]
  },
  {
   "cell_type": "code",
   "execution_count": 2497,
   "metadata": {},
   "outputs": [],
   "source": [
    "data_test['education']=data_test.apply(partial(fill_edu, data_test['income'].quantile(0.75)), axis=1)"
   ]
  },
  {
   "cell_type": "code",
   "execution_count": 2498,
   "metadata": {
    "scrolled": true
   },
   "outputs": [
    {
     "data": {
      "text/plain": [
       "client_id           0\n",
       "app_date            0\n",
       "education           0\n",
       "sex                 0\n",
       "age                 0\n",
       "car                 0\n",
       "car_type            0\n",
       "decline_app_cnt     0\n",
       "good_work           0\n",
       "score_bki           0\n",
       "bki_request_cnt     0\n",
       "region_rating       0\n",
       "home_address        0\n",
       "work_address        0\n",
       "income              0\n",
       "sna                 0\n",
       "first_time          0\n",
       "foreign_passport    0\n",
       "default             0\n",
       "timedelta           0\n",
       "dtype: int64"
      ]
     },
     "execution_count": 2498,
     "metadata": {},
     "output_type": "execute_result"
    }
   ],
   "source": [
    "data_train.isnull().sum()"
   ]
  },
  {
   "cell_type": "markdown",
   "metadata": {},
   "source": [
    "Сгруппируем данные разных типов"
   ]
  },
  {
   "cell_type": "code",
   "execution_count": 2499,
   "metadata": {},
   "outputs": [],
   "source": [
    "bin_cols=['sex','car', 'car_type', 'foreign_passport', 'good_work'] #бинарные\n",
    "cat_cols=['education', 'home_address', 'work_address'] # категориальные\n",
    "num_cols=['age', 'decline_app_cnt', 'income', 'bki_request_cnt', 'timedelta'] # числовые\n",
    "time_cols = ['app_date'] # временнЫе"
   ]
  },
  {
   "cell_type": "code",
   "execution_count": 2500,
   "metadata": {},
   "outputs": [],
   "source": [
    "def range_outliers(x):\n",
    "    xmedian=x.median()\n",
    "    xperc25=x.quantile(0.25)\n",
    "    xperc75=x.quantile(0.75)\n",
    "    xIQR=xperc75-xperc25\n",
    "    print('медиана:{},'.format(xmedian),'25% персентиль:{},'.format(xperc25), '75% персентиль:{},'.format(xperc75), 'IQR:{},'.format(xIQR), 'границы выбросов: [{f},{l}]'.format(f=xperc25-1.5*xIQR, l=xperc75+1.5*xIQR))"
   ]
  },
  {
   "cell_type": "markdown",
   "metadata": {},
   "source": [
    "Посмотрим на распределение числовых признаков:"
   ]
  },
  {
   "cell_type": "code",
   "execution_count": 2501,
   "metadata": {},
   "outputs": [
    {
     "data": {
      "image/png": "[encoded data removed]",
      "text/plain": [
       "<Figure size 864x288 with 2 Axes>"
      ]
     },
     "metadata": {
      "needs_background": "light"
     },
     "output_type": "display_data"
    },
    {
     "name": "stdout",
     "output_type": "stream",
     "text": [
      "медиана:37.0, 25% персентиль:30.0, 75% персентиль:48.0, IQR:18.0, границы выбросов: [3.0,75.0]\n"
     ]
    },
    {
     "data": {
      "image/png": "[encoded data removed]",
      "text/plain": [
       "<Figure size 864x288 with 2 Axes>"
      ]
     },
     "metadata": {
      "needs_background": "light"
     },
     "output_type": "display_data"
    },
    {
     "name": "stdout",
     "output_type": "stream",
     "text": [
      "медиана:0.0, 25% персентиль:0.0, 75% персентиль:0.0, IQR:0.0, границы выбросов: [0.0,0.0]\n"
     ]
    },
    {
     "data": {
      "image/png": "[encoded data removed]",
      "text/plain": [
       "<Figure size 864x288 with 2 Axes>"
      ]
     },
     "metadata": {
      "needs_background": "light"
     },
     "output_type": "display_data"
    },
    {
     "name": "stdout",
     "output_type": "stream",
     "text": [
      "медиана:30000.0, 25% персентиль:20000.0, 75% персентиль:48000.0, IQR:28000.0, границы выбросов: [-22000.0,90000.0]\n"
     ]
    },
    {
     "data": {
      "image/png": "[encoded data removed]",
      "text/plain": [
       "<Figure size 864x288 with 2 Axes>"
      ]
     },
     "metadata": {
      "needs_background": "light"
     },
     "output_type": "display_data"
    },
    {
     "name": "stdout",
     "output_type": "stream",
     "text": [
      "медиана:1.0, 25% персентиль:0.0, 75% персентиль:3.0, IQR:3.0, границы выбросов: [-4.5,7.5]\n"
     ]
    },
    {
     "data": {
      "image/png": "[encoded data removed]",
      "text/plain": [
       "<Figure size 864x288 with 2 Axes>"
      ]
     },
     "metadata": {
      "needs_background": "light"
     },
     "output_type": "display_data"
    },
    {
     "name": "stdout",
     "output_type": "stream",
     "text": [
      "медиана:21548.16, 25% персентиль:21314.88, 75% персентиль:21798.72, IQR:483.84000000000015, границы выбросов: [20589.120000000003,22524.480000000003]\n"
     ]
    }
   ],
   "source": [
    "for i in num_cols:\n",
    "    \n",
    "    fig,axes=plt.subplots(1,2, figsize=(12,4))\n",
    "    \n",
    "    axes[0].hist(data_train[i])\n",
    "    axes[0].set_title(i+ ' гистограмма')\n",
    "    axes[1].boxplot(data_train[i])\n",
    "    axes[1].set_title(i+ ' боксплот')\n",
    "    plt.show()\n",
    "    range_outliers(data_train[i])"
   ]
  },
  {
   "cell_type": "markdown",
   "metadata": {},
   "source": [
    "После построения гистограмм стало очевидно, что распределения всех числовых переменных, кроме 'timedelta' имеют тяжёлый правый хвост. Для ролучения более равномерного распределения логарифмируем признаки. И посмотрим как изменятся графики "
   ]
  },
  {
   "cell_type": "code",
   "execution_count": 2502,
   "metadata": {
    "scrolled": false
   },
   "outputs": [
    {
     "data": {
      "image/png": "[encoded data removed]",
      "text/plain": [
       "<Figure size 720x720 with 1 Axes>"
      ]
     },
     "metadata": {
      "needs_background": "light"
     },
     "output_type": "display_data"
    },
    {
     "data": {
      "image/png": "[encoded data removed]",
      "text/plain": [
       "<Figure size 720x720 with 1 Axes>"
      ]
     },
     "metadata": {
      "needs_background": "light"
     },
     "output_type": "display_data"
    },
    {
     "data": {
      "image/png": "[encoded data removed]",
      "text/plain": [
       "<Figure size 720x720 with 1 Axes>"
      ]
     },
     "metadata": {
      "needs_background": "light"
     },
     "output_type": "display_data"
    },
    {
     "data": {
      "image/png": "[encoded data removed]",
      "text/plain": [
       "<Figure size 720x720 with 1 Axes>"
      ]
     },
     "metadata": {
      "needs_background": "light"
     },
     "output_type": "display_data"
    },
    {
     "data": {
      "image/png": "[encoded data removed]",
      "text/plain": [
       "<Figure size 720x720 with 1 Axes>"
      ]
     },
     "metadata": {
      "needs_background": "light"
     },
     "output_type": "display_data"
    }
   ],
   "source": [
    "for i in num_cols:\n",
    "    data_train[i] = np.log(data_train[i] + 1)\n",
    "    plt.figure()\n",
    "    sns.distplot(data_train[i][data_train[i] > 0].dropna(), kde = False, rug=False, color='b')\n",
    "    plt.title(i)\n",
    "    plt.show()"
   ]
  },
  {
   "cell_type": "code",
   "execution_count": 2503,
   "metadata": {},
   "outputs": [
    {
     "data": {
      "text/html": [
       "<div>\n",
       "<style scoped>\n",
       "    .dataframe tbody tr th:only-of-type {\n",
       "        vertical-align: middle;\n",
       "    }\n",
       "\n",
       "    .dataframe tbody tr th {\n",
       "        vertical-align: top;\n",
       "    }\n",
       "\n",
       "    .dataframe thead th {\n",
       "        text-align: right;\n",
       "    }\n",
       "</style>\n",
       "<table border=\"1\" class=\"dataframe\">\n",
       "  <thead>\n",
       "    <tr style=\"text-align: right;\">\n",
       "      <th></th>\n",
       "      <th>client_id</th>\n",
       "      <th>app_date</th>\n",
       "      <th>education</th>\n",
       "      <th>sex</th>\n",
       "      <th>age</th>\n",
       "      <th>car</th>\n",
       "      <th>car_type</th>\n",
       "      <th>decline_app_cnt</th>\n",
       "      <th>good_work</th>\n",
       "      <th>score_bki</th>\n",
       "      <th>bki_request_cnt</th>\n",
       "      <th>region_rating</th>\n",
       "      <th>home_address</th>\n",
       "      <th>work_address</th>\n",
       "      <th>income</th>\n",
       "      <th>sna</th>\n",
       "      <th>first_time</th>\n",
       "      <th>foreign_passport</th>\n",
       "      <th>default</th>\n",
       "      <th>timedelta</th>\n",
       "    </tr>\n",
       "  </thead>\n",
       "  <tbody>\n",
       "    <tr>\n",
       "      <td>0</td>\n",
       "      <td>25905</td>\n",
       "      <td>2014-02-01</td>\n",
       "      <td>SCH</td>\n",
       "      <td>M</td>\n",
       "      <td>4.143135</td>\n",
       "      <td>Y</td>\n",
       "      <td>Y</td>\n",
       "      <td>0.000000</td>\n",
       "      <td>0</td>\n",
       "      <td>-2.008753</td>\n",
       "      <td>0.693147</td>\n",
       "      <td>50</td>\n",
       "      <td>1</td>\n",
       "      <td>2</td>\n",
       "      <td>9.798183</td>\n",
       "      <td>4</td>\n",
       "      <td>1</td>\n",
       "      <td>N</td>\n",
       "      <td>0</td>\n",
       "      <td>9.990445</td>\n",
       "    </tr>\n",
       "    <tr>\n",
       "      <td>1</td>\n",
       "      <td>63161</td>\n",
       "      <td>2014-03-12</td>\n",
       "      <td>SCH</td>\n",
       "      <td>F</td>\n",
       "      <td>4.094345</td>\n",
       "      <td>N</td>\n",
       "      <td>N</td>\n",
       "      <td>0.000000</td>\n",
       "      <td>0</td>\n",
       "      <td>-1.532276</td>\n",
       "      <td>1.386294</td>\n",
       "      <td>50</td>\n",
       "      <td>2</td>\n",
       "      <td>3</td>\n",
       "      <td>9.852247</td>\n",
       "      <td>4</td>\n",
       "      <td>1</td>\n",
       "      <td>N</td>\n",
       "      <td>0</td>\n",
       "      <td>9.974879</td>\n",
       "    </tr>\n",
       "    <tr>\n",
       "      <td>2</td>\n",
       "      <td>25887</td>\n",
       "      <td>2014-02-01</td>\n",
       "      <td>SCH</td>\n",
       "      <td>M</td>\n",
       "      <td>3.258097</td>\n",
       "      <td>Y</td>\n",
       "      <td>N</td>\n",
       "      <td>1.098612</td>\n",
       "      <td>0</td>\n",
       "      <td>-1.408142</td>\n",
       "      <td>0.693147</td>\n",
       "      <td>80</td>\n",
       "      <td>1</td>\n",
       "      <td>2</td>\n",
       "      <td>10.308986</td>\n",
       "      <td>1</td>\n",
       "      <td>4</td>\n",
       "      <td>Y</td>\n",
       "      <td>0</td>\n",
       "      <td>9.990445</td>\n",
       "    </tr>\n",
       "  </tbody>\n",
       "</table>\n",
       "</div>"
      ],
      "text/plain": [
       "   client_id   app_date education sex       age car car_type  decline_app_cnt  \\\n",
       "0      25905 2014-02-01       SCH   M  4.143135   Y        Y         0.000000   \n",
       "1      63161 2014-03-12       SCH   F  4.094345   N        N         0.000000   \n",
       "2      25887 2014-02-01       SCH   M  3.258097   Y        N         1.098612   \n",
       "\n",
       "   good_work  score_bki  bki_request_cnt  region_rating  home_address  \\\n",
       "0          0  -2.008753         0.693147             50             1   \n",
       "1          0  -1.532276         1.386294             50             2   \n",
       "2          0  -1.408142         0.693147             80             1   \n",
       "\n",
       "   work_address     income  sna  first_time foreign_passport  default  \\\n",
       "0             2   9.798183    4           1                N        0   \n",
       "1             3   9.852247    4           1                N        0   \n",
       "2             2  10.308986    1           4                Y        0   \n",
       "\n",
       "   timedelta  \n",
       "0   9.990445  \n",
       "1   9.974879  \n",
       "2   9.990445  "
      ]
     },
     "execution_count": 2503,
     "metadata": {},
     "output_type": "execute_result"
    }
   ],
   "source": [
    "data_train.head(3)"
   ]
  },
  {
   "cell_type": "markdown",
   "metadata": {},
   "source": [
    "# Корреляция числовых признаков"
   ]
  },
  {
   "cell_type": "code",
   "execution_count": 2504,
   "metadata": {},
   "outputs": [
    {
     "data": {
      "text/html": [
       "<div>\n",
       "<style scoped>\n",
       "    .dataframe tbody tr th:only-of-type {\n",
       "        vertical-align: middle;\n",
       "    }\n",
       "\n",
       "    .dataframe tbody tr th {\n",
       "        vertical-align: top;\n",
       "    }\n",
       "\n",
       "    .dataframe thead th {\n",
       "        text-align: right;\n",
       "    }\n",
       "</style>\n",
       "<table border=\"1\" class=\"dataframe\">\n",
       "  <thead>\n",
       "    <tr style=\"text-align: right;\">\n",
       "      <th></th>\n",
       "      <th>age</th>\n",
       "      <th>decline_app_cnt</th>\n",
       "      <th>income</th>\n",
       "      <th>bki_request_cnt</th>\n",
       "      <th>timedelta</th>\n",
       "    </tr>\n",
       "  </thead>\n",
       "  <tbody>\n",
       "    <tr>\n",
       "      <td>age</td>\n",
       "      <td>1.000000</td>\n",
       "      <td>-0.127734</td>\n",
       "      <td>-0.092586</td>\n",
       "      <td>0.049327</td>\n",
       "      <td>-0.017087</td>\n",
       "    </tr>\n",
       "    <tr>\n",
       "      <td>decline_app_cnt</td>\n",
       "      <td>-0.127734</td>\n",
       "      <td>1.000000</td>\n",
       "      <td>-0.013868</td>\n",
       "      <td>0.125163</td>\n",
       "      <td>0.022722</td>\n",
       "    </tr>\n",
       "    <tr>\n",
       "      <td>income</td>\n",
       "      <td>-0.092586</td>\n",
       "      <td>-0.013868</td>\n",
       "      <td>1.000000</td>\n",
       "      <td>0.081019</td>\n",
       "      <td>-0.005260</td>\n",
       "    </tr>\n",
       "    <tr>\n",
       "      <td>bki_request_cnt</td>\n",
       "      <td>0.049327</td>\n",
       "      <td>0.125163</td>\n",
       "      <td>0.081019</td>\n",
       "      <td>1.000000</td>\n",
       "      <td>0.009672</td>\n",
       "    </tr>\n",
       "    <tr>\n",
       "      <td>timedelta</td>\n",
       "      <td>-0.017087</td>\n",
       "      <td>0.022722</td>\n",
       "      <td>-0.005260</td>\n",
       "      <td>0.009672</td>\n",
       "      <td>1.000000</td>\n",
       "    </tr>\n",
       "  </tbody>\n",
       "</table>\n",
       "</div>"
      ],
      "text/plain": [
       "                      age  decline_app_cnt    income  bki_request_cnt  \\\n",
       "age              1.000000        -0.127734 -0.092586         0.049327   \n",
       "decline_app_cnt -0.127734         1.000000 -0.013868         0.125163   \n",
       "income          -0.092586        -0.013868  1.000000         0.081019   \n",
       "bki_request_cnt  0.049327         0.125163  0.081019         1.000000   \n",
       "timedelta       -0.017087         0.022722 -0.005260         0.009672   \n",
       "\n",
       "                 timedelta  \n",
       "age              -0.017087  \n",
       "decline_app_cnt   0.022722  \n",
       "income           -0.005260  \n",
       "bki_request_cnt   0.009672  \n",
       "timedelta         1.000000  "
      ]
     },
     "execution_count": 2504,
     "metadata": {},
     "output_type": "execute_result"
    }
   ],
   "source": [
    "correlation=data_train[num_cols].corr()\n",
    "correlation"
   ]
  },
  {
   "cell_type": "code",
   "execution_count": 2505,
   "metadata": {},
   "outputs": [
    {
     "data": {
      "text/plain": [
       "<matplotlib.axes._subplots.AxesSubplot at 0x15dd5b11748>"
      ]
     },
     "execution_count": 2505,
     "metadata": {},
     "output_type": "execute_result"
    },
    {
     "data": {
      "image/png": "[encoded data removed]",
      "text/plain": [
       "<Figure size 720x720 with 2 Axes>"
      ]
     },
     "metadata": {
      "needs_background": "light"
     },
     "output_type": "display_data"
    }
   ],
   "source": [
    "sns.heatmap(correlation)"
   ]
  },
  {
   "cell_type": "markdown",
   "metadata": {},
   "source": [
    "Мы видим лишь слабую между 'decline_app_cnt' и 'bki_request_cnt'. Для дальнейшей оценки проверим значимость этих признаков."
   ]
  },
  {
   "cell_type": "code",
   "execution_count": null,
   "metadata": {},
   "outputs": [],
   "source": []
  },
  {
   "cell_type": "markdown",
   "metadata": {},
   "source": [
    "# Оценка значимости числовых признаков"
   ]
  },
  {
   "cell_type": "markdown",
   "metadata": {},
   "source": [
    "Для оценки значимости числовых переменных будем использовать функцию f_classif из библиотеки sklearn."
   ]
  },
  {
   "cell_type": "code",
   "execution_count": 2506,
   "metadata": {},
   "outputs": [
    {
     "data": {
      "text/plain": [
       "(array([  50.3805738 , 1152.93731744,  214.7905274 ,  457.59176046,\n",
       "         115.02246571]),\n",
       " array([1.27778005e-012, 8.96214000e-251, 1.44923016e-048, 3.26668128e-101,\n",
       "        8.14370657e-027]))"
      ]
     },
     "execution_count": 2506,
     "metadata": {},
     "output_type": "execute_result"
    }
   ],
   "source": [
    "f_classif(data_train[num_cols], data_train['default'])"
   ]
  },
  {
   "cell_type": "code",
   "execution_count": 2507,
   "metadata": {},
   "outputs": [
    {
     "data": {
      "text/plain": [
       "<matplotlib.axes._subplots.AxesSubplot at 0x15ddae2da88>"
      ]
     },
     "execution_count": 2507,
     "metadata": {},
     "output_type": "execute_result"
    },
    {
     "data": {
      "image/png": "[encoded data removed]",
      "text/plain": [
       "<Figure size 720x720 with 1 Axes>"
      ]
     },
     "metadata": {
      "needs_background": "light"
     },
     "output_type": "display_data"
    }
   ],
   "source": [
    "imp_num = pd.Series(f_classif(data_train[num_cols], data_train['default'])[0], index = num_cols)\n",
    "imp_num.sort_values(inplace = True)\n",
    "imp_num.plot(kind = 'barh', title='Значимость числовых переменных')"
   ]
  },
  {
   "cell_type": "markdown",
   "metadata": {},
   "source": [
    "Согласно методу  f_classif, decline_app_cnt - самый значимый признак, в то время, как возраст клиента  имеет наименьшую значимость"
   ]
  },
  {
   "cell_type": "markdown",
   "metadata": {},
   "source": [
    "# Бинарные признаки"
   ]
  },
  {
   "cell_type": "markdown",
   "metadata": {},
   "source": [
    "Преобразуем значения бинарных признаков в нули и единицы"
   ]
  },
  {
   "cell_type": "code",
   "execution_count": 2508,
   "metadata": {},
   "outputs": [],
   "source": [
    "label_encoder = LabelEncoder()\n",
    "\n",
    "for column in bin_cols:\n",
    "    data_train[column] = label_encoder.fit_transform(data_train[column])\n",
    "    data_test[column] = label_encoder.fit_transform(data_test[column])\n"
   ]
  },
  {
   "cell_type": "code",
   "execution_count": 2509,
   "metadata": {},
   "outputs": [
    {
     "name": "stdout",
     "output_type": "stream",
     "text": [
      "{0: 'ACD', 1: 'GRD', 2: 'PGR', 3: 'SCH', 4: 'UGR'}\n"
     ]
    }
   ],
   "source": [
    "print(dict(enumerate(le.classes_)))"
   ]
  },
  {
   "cell_type": "code",
   "execution_count": 2510,
   "metadata": {
    "scrolled": false
   },
   "outputs": [
    {
     "data": {
      "text/html": [
       "<div>\n",
       "<style scoped>\n",
       "    .dataframe tbody tr th:only-of-type {\n",
       "        vertical-align: middle;\n",
       "    }\n",
       "\n",
       "    .dataframe tbody tr th {\n",
       "        vertical-align: top;\n",
       "    }\n",
       "\n",
       "    .dataframe thead th {\n",
       "        text-align: right;\n",
       "    }\n",
       "</style>\n",
       "<table border=\"1\" class=\"dataframe\">\n",
       "  <thead>\n",
       "    <tr style=\"text-align: right;\">\n",
       "      <th></th>\n",
       "      <th>client_id</th>\n",
       "      <th>app_date</th>\n",
       "      <th>education</th>\n",
       "      <th>sex</th>\n",
       "      <th>age</th>\n",
       "      <th>car</th>\n",
       "      <th>car_type</th>\n",
       "      <th>decline_app_cnt</th>\n",
       "      <th>good_work</th>\n",
       "      <th>score_bki</th>\n",
       "      <th>bki_request_cnt</th>\n",
       "      <th>region_rating</th>\n",
       "      <th>home_address</th>\n",
       "      <th>work_address</th>\n",
       "      <th>income</th>\n",
       "      <th>sna</th>\n",
       "      <th>first_time</th>\n",
       "      <th>foreign_passport</th>\n",
       "      <th>default</th>\n",
       "      <th>timedelta</th>\n",
       "    </tr>\n",
       "  </thead>\n",
       "  <tbody>\n",
       "    <tr>\n",
       "      <td>0</td>\n",
       "      <td>25905</td>\n",
       "      <td>2014-02-01</td>\n",
       "      <td>SCH</td>\n",
       "      <td>1</td>\n",
       "      <td>4.143135</td>\n",
       "      <td>1</td>\n",
       "      <td>1</td>\n",
       "      <td>0.0</td>\n",
       "      <td>0</td>\n",
       "      <td>-2.008753</td>\n",
       "      <td>0.693147</td>\n",
       "      <td>50</td>\n",
       "      <td>1</td>\n",
       "      <td>2</td>\n",
       "      <td>9.798183</td>\n",
       "      <td>4</td>\n",
       "      <td>1</td>\n",
       "      <td>0</td>\n",
       "      <td>0</td>\n",
       "      <td>9.990445</td>\n",
       "    </tr>\n",
       "    <tr>\n",
       "      <td>1</td>\n",
       "      <td>63161</td>\n",
       "      <td>2014-03-12</td>\n",
       "      <td>SCH</td>\n",
       "      <td>0</td>\n",
       "      <td>4.094345</td>\n",
       "      <td>0</td>\n",
       "      <td>0</td>\n",
       "      <td>0.0</td>\n",
       "      <td>0</td>\n",
       "      <td>-1.532276</td>\n",
       "      <td>1.386294</td>\n",
       "      <td>50</td>\n",
       "      <td>2</td>\n",
       "      <td>3</td>\n",
       "      <td>9.852247</td>\n",
       "      <td>4</td>\n",
       "      <td>1</td>\n",
       "      <td>0</td>\n",
       "      <td>0</td>\n",
       "      <td>9.974879</td>\n",
       "    </tr>\n",
       "  </tbody>\n",
       "</table>\n",
       "</div>"
      ],
      "text/plain": [
       "   client_id   app_date education  sex       age  car  car_type  \\\n",
       "0      25905 2014-02-01       SCH    1  4.143135    1         1   \n",
       "1      63161 2014-03-12       SCH    0  4.094345    0         0   \n",
       "\n",
       "   decline_app_cnt  good_work  score_bki  bki_request_cnt  region_rating  \\\n",
       "0              0.0          0  -2.008753         0.693147             50   \n",
       "1              0.0          0  -1.532276         1.386294             50   \n",
       "\n",
       "   home_address  work_address    income  sna  first_time  foreign_passport  \\\n",
       "0             1             2  9.798183    4           1                 0   \n",
       "1             2             3  9.852247    4           1                 0   \n",
       "\n",
       "   default  timedelta  \n",
       "0        0   9.990445  \n",
       "1        0   9.974879  "
      ]
     },
     "execution_count": 2510,
     "metadata": {},
     "output_type": "execute_result"
    }
   ],
   "source": [
    "data_train.head(2)"
   ]
  },
  {
   "cell_type": "code",
   "execution_count": 2511,
   "metadata": {},
   "outputs": [
    {
     "data": {
      "image/png": "[encoded data removed]",
      "text/plain": [
       "<Figure size 720x720 with 1 Axes>"
      ]
     },
     "metadata": {
      "needs_background": "light"
     },
     "output_type": "display_data"
    },
    {
     "data": {
      "image/png": "[encoded data removed]",
      "text/plain": [
       "<Figure size 720x720 with 1 Axes>"
      ]
     },
     "metadata": {
      "needs_background": "light"
     },
     "output_type": "display_data"
    },
    {
     "data": {
      "image/png": "[encoded data removed]",
      "text/plain": [
       "<Figure size 720x720 with 1 Axes>"
      ]
     },
     "metadata": {
      "needs_background": "light"
     },
     "output_type": "display_data"
    },
    {
     "data": {
      "image/png": "[encoded data removed]",
      "text/plain": [
       "<Figure size 720x720 with 1 Axes>"
      ]
     },
     "metadata": {
      "needs_background": "light"
     },
     "output_type": "display_data"
    },
    {
     "data": {
      "image/png": "[encoded data removed]",
      "text/plain": [
       "<Figure size 720x720 with 1 Axes>"
      ]
     },
     "metadata": {
      "needs_background": "light"
     },
     "output_type": "display_data"
    }
   ],
   "source": [
    "for column in data_train[bin_cols]:\n",
    "    bin_cal_val=data_train[column].value_counts()\n",
    "    #bin_cal_val.plot(kind='bar', title=column)\n",
    "    sns.countplot(x=data_train[column], data=data_train[bin_cols])\n",
    "    plt.show()\n",
    "    #sns.barplot(x=bin_cal_val, data=bin_cal_val)\n"
   ]
  },
  {
   "cell_type": "markdown",
   "metadata": {},
   "source": [
    "# Категориальные признаки"
   ]
  },
  {
   "cell_type": "code",
   "execution_count": 2512,
   "metadata": {},
   "outputs": [],
   "source": [
    "le =preprocessing.LabelEncoder()\n",
    "le.fit(list(data_train['education'].values))\n",
    "data_train['education']=le.transform(list(data_train['education'].values))\n",
    "data_train['education_label']=data_train['education']\n",
    "\n",
    "data_test['education']=le.transform(list(data_test['education'].values))\n",
    "data_test['education_label']=data_test['education']"
   ]
  },
  {
   "cell_type": "code",
   "execution_count": 2513,
   "metadata": {},
   "outputs": [
    {
     "data": {
      "text/html": [
       "<div>\n",
       "<style scoped>\n",
       "    .dataframe tbody tr th:only-of-type {\n",
       "        vertical-align: middle;\n",
       "    }\n",
       "\n",
       "    .dataframe tbody tr th {\n",
       "        vertical-align: top;\n",
       "    }\n",
       "\n",
       "    .dataframe thead th {\n",
       "        text-align: right;\n",
       "    }\n",
       "</style>\n",
       "<table border=\"1\" class=\"dataframe\">\n",
       "  <thead>\n",
       "    <tr style=\"text-align: right;\">\n",
       "      <th></th>\n",
       "      <th>client_id</th>\n",
       "      <th>app_date</th>\n",
       "      <th>education</th>\n",
       "      <th>sex</th>\n",
       "      <th>age</th>\n",
       "      <th>car</th>\n",
       "      <th>car_type</th>\n",
       "      <th>decline_app_cnt</th>\n",
       "      <th>good_work</th>\n",
       "      <th>score_bki</th>\n",
       "      <th>...</th>\n",
       "      <th>region_rating</th>\n",
       "      <th>home_address</th>\n",
       "      <th>work_address</th>\n",
       "      <th>income</th>\n",
       "      <th>sna</th>\n",
       "      <th>first_time</th>\n",
       "      <th>foreign_passport</th>\n",
       "      <th>default</th>\n",
       "      <th>timedelta</th>\n",
       "      <th>education_label</th>\n",
       "    </tr>\n",
       "  </thead>\n",
       "  <tbody>\n",
       "    <tr>\n",
       "      <td>0</td>\n",
       "      <td>25905</td>\n",
       "      <td>2014-02-01</td>\n",
       "      <td>3</td>\n",
       "      <td>1</td>\n",
       "      <td>4.143135</td>\n",
       "      <td>1</td>\n",
       "      <td>1</td>\n",
       "      <td>0.000000</td>\n",
       "      <td>0</td>\n",
       "      <td>-2.008753</td>\n",
       "      <td>...</td>\n",
       "      <td>50</td>\n",
       "      <td>1</td>\n",
       "      <td>2</td>\n",
       "      <td>9.798183</td>\n",
       "      <td>4</td>\n",
       "      <td>1</td>\n",
       "      <td>0</td>\n",
       "      <td>0</td>\n",
       "      <td>9.990445</td>\n",
       "      <td>3</td>\n",
       "    </tr>\n",
       "    <tr>\n",
       "      <td>1</td>\n",
       "      <td>63161</td>\n",
       "      <td>2014-03-12</td>\n",
       "      <td>3</td>\n",
       "      <td>0</td>\n",
       "      <td>4.094345</td>\n",
       "      <td>0</td>\n",
       "      <td>0</td>\n",
       "      <td>0.000000</td>\n",
       "      <td>0</td>\n",
       "      <td>-1.532276</td>\n",
       "      <td>...</td>\n",
       "      <td>50</td>\n",
       "      <td>2</td>\n",
       "      <td>3</td>\n",
       "      <td>9.852247</td>\n",
       "      <td>4</td>\n",
       "      <td>1</td>\n",
       "      <td>0</td>\n",
       "      <td>0</td>\n",
       "      <td>9.974879</td>\n",
       "      <td>3</td>\n",
       "    </tr>\n",
       "    <tr>\n",
       "      <td>2</td>\n",
       "      <td>25887</td>\n",
       "      <td>2014-02-01</td>\n",
       "      <td>3</td>\n",
       "      <td>1</td>\n",
       "      <td>3.258097</td>\n",
       "      <td>1</td>\n",
       "      <td>0</td>\n",
       "      <td>1.098612</td>\n",
       "      <td>0</td>\n",
       "      <td>-1.408142</td>\n",
       "      <td>...</td>\n",
       "      <td>80</td>\n",
       "      <td>1</td>\n",
       "      <td>2</td>\n",
       "      <td>10.308986</td>\n",
       "      <td>1</td>\n",
       "      <td>4</td>\n",
       "      <td>1</td>\n",
       "      <td>0</td>\n",
       "      <td>9.990445</td>\n",
       "      <td>3</td>\n",
       "    </tr>\n",
       "  </tbody>\n",
       "</table>\n",
       "<p>3 rows × 21 columns</p>\n",
       "</div>"
      ],
      "text/plain": [
       "   client_id   app_date  education  sex       age  car  car_type  \\\n",
       "0      25905 2014-02-01          3    1  4.143135    1         1   \n",
       "1      63161 2014-03-12          3    0  4.094345    0         0   \n",
       "2      25887 2014-02-01          3    1  3.258097    1         0   \n",
       "\n",
       "   decline_app_cnt  good_work  score_bki  ...  region_rating  home_address  \\\n",
       "0         0.000000          0  -2.008753  ...             50             1   \n",
       "1         0.000000          0  -1.532276  ...             50             2   \n",
       "2         1.098612          0  -1.408142  ...             80             1   \n",
       "\n",
       "   work_address     income  sna  first_time  foreign_passport  default  \\\n",
       "0             2   9.798183    4           1                 0        0   \n",
       "1             3   9.852247    4           1                 0        0   \n",
       "2             2  10.308986    1           4                 1        0   \n",
       "\n",
       "   timedelta  education_label  \n",
       "0   9.990445                3  \n",
       "1   9.974879                3  \n",
       "2   9.990445                3  \n",
       "\n",
       "[3 rows x 21 columns]"
      ]
     },
     "execution_count": 2513,
     "metadata": {},
     "output_type": "execute_result"
    }
   ],
   "source": [
    "data_train.head(3)"
   ]
  },
  {
   "cell_type": "code",
   "execution_count": 2514,
   "metadata": {},
   "outputs": [
    {
     "name": "stdout",
     "output_type": "stream",
     "text": [
      "{0: 'ACD', 1: 'GRD', 2: 'PGR', 3: 'SCH', 4: 'UGR'}\n"
     ]
    }
   ],
   "source": [
    "print(dict(enumerate(le.classes_)))"
   ]
  },
  {
   "cell_type": "markdown",
   "metadata": {},
   "source": [
    "Перед тем как преобразовать категориальный признаки в векторы OneHotEncoder, оценим их значимость."
   ]
  },
  {
   "cell_type": "code",
   "execution_count": 2515,
   "metadata": {},
   "outputs": [
    {
     "data": {
      "text/plain": [
       "<matplotlib.axes._subplots.AxesSubplot at 0x15da9d8d848>"
      ]
     },
     "execution_count": 2515,
     "metadata": {},
     "output_type": "execute_result"
    },
    {
     "data": {
      "image/png": "[encoded data removed]",
      "text/plain": [
       "<Figure size 720x720 with 1 Axes>"
      ]
     },
     "metadata": {
      "needs_background": "light"
     },
     "output_type": "display_data"
    }
   ],
   "source": [
    "mutal=pd.Series(mutual_info_classif(data_train[cat_cols+bin_cols], data_train['default'], discrete_features =True), index=cat_cols+bin_cols).sort_values()\n",
    "mutal.plot(kind = 'barh', title = 'Значимость бинарных и категориальных признаков')"
   ]
  },
  {
   "cell_type": "markdown",
   "metadata": {},
   "source": [
    "Мы видим, что наибольшее влияние на модель оказывают адресс и образование, в то время, как пол влияет минимально."
   ]
  },
  {
   "cell_type": "code",
   "execution_count": 2516,
   "metadata": {
    "scrolled": false
   },
   "outputs": [],
   "source": [
    "#data=pd.get_dummies(data[cat_cols], prefix=cat_cols, columns=cat_cols)\n"
   ]
  },
  {
   "cell_type": "code",
   "execution_count": 2517,
   "metadata": {},
   "outputs": [],
   "source": [
    "X_cat_train = OneHotEncoder(sparse = False).fit_transform(data_train[cat_cols].values)\n",
    "X_cat_test = OneHotEncoder(sparse = False).fit_transform(data_test[cat_cols].values)\n",
    "\n"
   ]
  },
  {
   "cell_type": "markdown",
   "metadata": {},
   "source": [
    "Стандартизируем числовые переменные"
   ]
  },
  {
   "cell_type": "code",
   "execution_count": 2518,
   "metadata": {
    "scrolled": false
   },
   "outputs": [
    {
     "data": {
      "text/plain": [
       "array([[-0.88473151, -0.33995109,  0.20922178,  0.42909592, -0.59902814],\n",
       "       [-0.01615572,  6.00146439, -0.81813846, -0.00630055,  1.18319733],\n",
       "       [ 0.93927766, -0.33995109, -0.24738277, -0.44169701, -0.63029526],\n",
       "       ...,\n",
       "       [-0.71101635,  2.1966151 ,  0.43752406, -0.44169701, -0.84916505],\n",
       "       [-1.05844667,  0.92833201, -0.24738277, -0.00630055,  1.71473827],\n",
       "       [-0.10301329, -0.33995109, -0.58983618, -0.00630055, -0.44269258]])"
      ]
     },
     "execution_count": 2518,
     "metadata": {},
     "output_type": "execute_result"
    }
   ],
   "source": [
    "# Стандартизация числовых переменных\n",
    "\n",
    "X_num_train =StandardScaler().fit_transform(data_train[num_cols].values)\n",
    "X_num_test =StandardScaler().fit_transform(data_test[num_cols].values)\n",
    "X_num_test"
   ]
  },
  {
   "cell_type": "markdown",
   "metadata": {},
   "source": [
    "Теперь числовые признаки имеют одинаковый масштаб, что даёт возможность применения метода градиентного спуска"
   ]
  },
  {
   "cell_type": "markdown",
   "metadata": {},
   "source": [
    "Соеденим подготовленные данные в массивы"
   ]
  },
  {
   "cell_type": "code",
   "execution_count": 2519,
   "metadata": {},
   "outputs": [],
   "source": [
    "X=np.hstack([X_num_train, data_train[bin_cols].values, X_cat_train])\n",
    "X_Test = np.hstack([X_num_test, data_test[bin_cols].values, X_cat_test])\n",
    "y=data_train['default'].values"
   ]
  },
  {
   "cell_type": "code",
   "execution_count": 2520,
   "metadata": {},
   "outputs": [],
   "source": [
    "X_num_cat=np.hstack([X_num_train, X_cat_train])"
   ]
  },
  {
   "cell_type": "markdown",
   "metadata": {},
   "source": [
    "Поделим выборку на тренировочную и тестовую "
   ]
  },
  {
   "cell_type": "code",
   "execution_count": 2521,
   "metadata": {},
   "outputs": [],
   "source": [
    "X_train, X_test, y_train, y_test = train_test_split(X, y, test_size=0.2, random_state=RANDOM_SEED)"
   ]
  },
  {
   "cell_type": "markdown",
   "metadata": {},
   "source": [
    "Применим модель"
   ]
  },
  {
   "cell_type": "code",
   "execution_count": 2522,
   "metadata": {},
   "outputs": [
    {
     "data": {
      "text/plain": [
       "LogisticRegression(max_iter=1000)"
      ]
     },
     "execution_count": 2522,
     "metadata": {},
     "output_type": "execute_result"
    }
   ],
   "source": [
    "model_1 = LogisticRegression(max_iter=1000)\n",
    "model_1.fit(X_train, y_train)"
   ]
  },
  {
   "cell_type": "code",
   "execution_count": 2523,
   "metadata": {},
   "outputs": [],
   "source": [
    "y_pred_1=model_1.predict(X_test)"
   ]
  },
  {
   "cell_type": "code",
   "execution_count": null,
   "metadata": {},
   "outputs": [],
   "source": []
  },
  {
   "cell_type": "code",
   "execution_count": 2524,
   "metadata": {},
   "outputs": [
    {
     "name": "stdout",
     "output_type": "stream",
     "text": [
      "Accuracy:0.8760840108401085\n",
      "Precision:0.4375\n",
      "Recall:0.0038314176245210726\n",
      "f1: 0.00759631036353771\n"
     ]
    }
   ],
   "source": [
    "print('Accuracy:'+str(accuracy_score(y_test, y_pred_1)))\n",
    "print('Precision:'+str(precision_score(y_test, y_pred_1)))\n",
    "print('Recall:'+str(recall_score(y_test, y_pred_1)))\n",
    "print('f1: ' + str(f1_score(y_test, y_pred_1)))"
   ]
  },
  {
   "cell_type": "code",
   "execution_count": 2525,
   "metadata": {
    "scrolled": false
   },
   "outputs": [
    {
     "data": {
      "image/png": "[encoded data removed]",
      "text/plain": [
       "<Figure size 720x720 with 1 Axes>"
      ]
     },
     "metadata": {
      "needs_background": "light"
     },
     "output_type": "display_data"
    }
   ],
   "source": [
    "\n",
    "probs_1 = model_1.predict_proba(X_test)\n",
    "probs_1 = probs_1[:,1]\n",
    "\n",
    "\n",
    "fpr, tpr, threshold = metrics.roc_curve(y_test, probs_1)\n",
    "roc_auc = roc_auc_score(y_test, probs_1)\n",
    "\n",
    "plt.figure()\n",
    "plt.plot([0, 1], label='Baseline', linestyle='--')\n",
    "plt.plot(fpr, tpr, label = 'Regression')\n",
    "plt.title('Logistic Regression ROC AUC = %0.3f' % roc_auc)\n",
    "plt.ylabel('True Positive Rate')\n",
    "plt.xlabel('False Positive Rate')\n",
    "plt.legend(loc = 'lower right')\n",
    "plt.show()"
   ]
  },
  {
   "cell_type": "markdown",
   "metadata": {},
   "source": [
    "Матрица ошибок:"
   ]
  },
  {
   "cell_type": "code",
   "execution_count": 2526,
   "metadata": {
    "scrolled": true
   },
   "outputs": [
    {
     "data": {
      "text/plain": [
       "array([[12924,     9],\n",
       "       [ 1820,     7]], dtype=int64)"
      ]
     },
     "execution_count": 2526,
     "metadata": {},
     "output_type": "execute_result"
    },
    {
     "data": {
      "image/png": "[encoded data removed]",
      "text/plain": [
       "<Figure size 432x432 with 2 Axes>"
      ]
     },
     "metadata": {
      "needs_background": "light"
     },
     "output_type": "display_data"
    }
   ],
   "source": [
    "fig = plt.figure(figsize=(6, 6))\n",
    "cm1 = confusion_matrix(y_test, y_pred_1)\n",
    "sns.heatmap(cm1, annot = True)\n",
    "plt.xlabel('Predicted')\n",
    "plt.ylabel('Actual')\n",
    "cm1"
   ]
  },
  {
   "cell_type": "markdown",
   "metadata": {},
   "source": [
    "# Займёмся подбором гиперпараметров"
   ]
  },
  {
   "cell_type": "code",
   "execution_count": 2527,
   "metadata": {
    "scrolled": true
   },
   "outputs": [
    {
     "name": "stderr",
     "output_type": "stream",
     "text": [
      "C:\\Users\\trigu\\Anaconda3\\lib\\site-packages\\sklearn\\linear_model\\_logistic.py:764: ConvergenceWarning: lbfgs failed to converge (status=1):\n",
      "STOP: TOTAL NO. of ITERATIONS REACHED LIMIT.\n",
      "\n",
      "Increase the number of iterations (max_iter) or scale the data as shown in:\n",
      "    https://scikit-learn.org/stable/modules/preprocessing.html\n",
      "Please also refer to the documentation for alternative solver options:\n",
      "    https://scikit-learn.org/stable/modules/linear_model.html#logistic-regression\n",
      "  extra_warning_msg=_LOGISTIC_SOLVER_CONVERGENCE_MSG)\n",
      "C:\\Users\\trigu\\Anaconda3\\lib\\site-packages\\sklearn\\model_selection\\_validation.py:552: FitFailedWarning: Estimator fit failed. The score on this train-test partition for these parameters will be set to nan. Details: \n",
      "Traceback (most recent call last):\n",
      "  File \"C:\\Users\\trigu\\Anaconda3\\lib\\site-packages\\sklearn\\model_selection\\_validation.py\", line 531, in _fit_and_score\n",
      "    estimator.fit(X_train, y_train, **fit_params)\n",
      "  File \"C:\\Users\\trigu\\Anaconda3\\lib\\site-packages\\sklearn\\linear_model\\_logistic.py\", line 1304, in fit\n",
      "    solver = _check_solver(self.solver, self.penalty, self.dual)\n",
      "  File \"C:\\Users\\trigu\\Anaconda3\\lib\\site-packages\\sklearn\\linear_model\\_logistic.py\", line 443, in _check_solver\n",
      "    \"got %s penalty.\" % (solver, penalty))\n",
      "ValueError: Solver lbfgs supports only 'l2' or 'none' penalties, got l1 penalty.\n",
      "\n",
      "  FitFailedWarning)\n",
      "C:\\Users\\trigu\\Anaconda3\\lib\\site-packages\\sklearn\\linear_model\\_logistic.py:764: ConvergenceWarning: lbfgs failed to converge (status=1):\n",
      "STOP: TOTAL NO. of ITERATIONS REACHED LIMIT.\n",
      "\n",
      "Increase the number of iterations (max_iter) or scale the data as shown in:\n",
      "    https://scikit-learn.org/stable/modules/preprocessing.html\n",
      "Please also refer to the documentation for alternative solver options:\n",
      "    https://scikit-learn.org/stable/modules/linear_model.html#logistic-regression\n",
      "  extra_warning_msg=_LOGISTIC_SOLVER_CONVERGENCE_MSG)\n",
      "C:\\Users\\trigu\\Anaconda3\\lib\\site-packages\\sklearn\\linear_model\\_logistic.py:764: ConvergenceWarning: lbfgs failed to converge (status=1):\n",
      "STOP: TOTAL NO. of ITERATIONS REACHED LIMIT.\n",
      "\n",
      "Increase the number of iterations (max_iter) or scale the data as shown in:\n",
      "    https://scikit-learn.org/stable/modules/preprocessing.html\n",
      "Please also refer to the documentation for alternative solver options:\n",
      "    https://scikit-learn.org/stable/modules/linear_model.html#logistic-regression\n",
      "  extra_warning_msg=_LOGISTIC_SOLVER_CONVERGENCE_MSG)\n",
      "C:\\Users\\trigu\\Anaconda3\\lib\\site-packages\\sklearn\\linear_model\\_logistic.py:764: ConvergenceWarning: lbfgs failed to converge (status=1):\n",
      "STOP: TOTAL NO. of ITERATIONS REACHED LIMIT.\n",
      "\n",
      "Increase the number of iterations (max_iter) or scale the data as shown in:\n",
      "    https://scikit-learn.org/stable/modules/preprocessing.html\n",
      "Please also refer to the documentation for alternative solver options:\n",
      "    https://scikit-learn.org/stable/modules/linear_model.html#logistic-regression\n",
      "  extra_warning_msg=_LOGISTIC_SOLVER_CONVERGENCE_MSG)\n",
      "C:\\Users\\trigu\\Anaconda3\\lib\\site-packages\\sklearn\\linear_model\\_logistic.py:764: ConvergenceWarning: lbfgs failed to converge (status=1):\n",
      "STOP: TOTAL NO. of ITERATIONS REACHED LIMIT.\n",
      "\n",
      "Increase the number of iterations (max_iter) or scale the data as shown in:\n",
      "    https://scikit-learn.org/stable/modules/preprocessing.html\n",
      "Please also refer to the documentation for alternative solver options:\n",
      "    https://scikit-learn.org/stable/modules/linear_model.html#logistic-regression\n",
      "  extra_warning_msg=_LOGISTIC_SOLVER_CONVERGENCE_MSG)\n",
      "C:\\Users\\trigu\\Anaconda3\\lib\\site-packages\\sklearn\\linear_model\\_logistic.py:764: ConvergenceWarning: lbfgs failed to converge (status=1):\n",
      "STOP: TOTAL NO. of ITERATIONS REACHED LIMIT.\n",
      "\n",
      "Increase the number of iterations (max_iter) or scale the data as shown in:\n",
      "    https://scikit-learn.org/stable/modules/preprocessing.html\n",
      "Please also refer to the documentation for alternative solver options:\n",
      "    https://scikit-learn.org/stable/modules/linear_model.html#logistic-regression\n",
      "  extra_warning_msg=_LOGISTIC_SOLVER_CONVERGENCE_MSG)\n",
      "C:\\Users\\trigu\\Anaconda3\\lib\\site-packages\\sklearn\\model_selection\\_validation.py:552: FitFailedWarning: Estimator fit failed. The score on this train-test partition for these parameters will be set to nan. Details: \n",
      "Traceback (most recent call last):\n",
      "  File \"C:\\Users\\trigu\\Anaconda3\\lib\\site-packages\\sklearn\\model_selection\\_validation.py\", line 531, in _fit_and_score\n",
      "    estimator.fit(X_train, y_train, **fit_params)\n",
      "  File \"C:\\Users\\trigu\\Anaconda3\\lib\\site-packages\\sklearn\\linear_model\\_logistic.py\", line 1304, in fit\n",
      "    solver = _check_solver(self.solver, self.penalty, self.dual)\n",
      "  File \"C:\\Users\\trigu\\Anaconda3\\lib\\site-packages\\sklearn\\linear_model\\_logistic.py\", line 443, in _check_solver\n",
      "    \"got %s penalty.\" % (solver, penalty))\n",
      "ValueError: Solver lbfgs supports only 'l2' or 'none' penalties, got l1 penalty.\n",
      "\n",
      "  FitFailedWarning)\n",
      "C:\\Users\\trigu\\Anaconda3\\lib\\site-packages\\sklearn\\model_selection\\_validation.py:552: FitFailedWarning: Estimator fit failed. The score on this train-test partition for these parameters will be set to nan. Details: \n",
      "Traceback (most recent call last):\n",
      "  File \"C:\\Users\\trigu\\Anaconda3\\lib\\site-packages\\sklearn\\model_selection\\_validation.py\", line 531, in _fit_and_score\n",
      "    estimator.fit(X_train, y_train, **fit_params)\n",
      "  File \"C:\\Users\\trigu\\Anaconda3\\lib\\site-packages\\sklearn\\linear_model\\_logistic.py\", line 1304, in fit\n",
      "    solver = _check_solver(self.solver, self.penalty, self.dual)\n",
      "  File \"C:\\Users\\trigu\\Anaconda3\\lib\\site-packages\\sklearn\\linear_model\\_logistic.py\", line 443, in _check_solver\n",
      "    \"got %s penalty.\" % (solver, penalty))\n",
      "ValueError: Solver lbfgs supports only 'l2' or 'none' penalties, got l1 penalty.\n",
      "\n",
      "  FitFailedWarning)\n",
      "C:\\Users\\trigu\\Anaconda3\\lib\\site-packages\\sklearn\\model_selection\\_validation.py:552: FitFailedWarning: Estimator fit failed. The score on this train-test partition for these parameters will be set to nan. Details: \n",
      "Traceback (most recent call last):\n",
      "  File \"C:\\Users\\trigu\\Anaconda3\\lib\\site-packages\\sklearn\\model_selection\\_validation.py\", line 531, in _fit_and_score\n",
      "    estimator.fit(X_train, y_train, **fit_params)\n",
      "  File \"C:\\Users\\trigu\\Anaconda3\\lib\\site-packages\\sklearn\\linear_model\\_logistic.py\", line 1304, in fit\n",
      "    solver = _check_solver(self.solver, self.penalty, self.dual)\n",
      "  File \"C:\\Users\\trigu\\Anaconda3\\lib\\site-packages\\sklearn\\linear_model\\_logistic.py\", line 443, in _check_solver\n",
      "    \"got %s penalty.\" % (solver, penalty))\n",
      "ValueError: Solver lbfgs supports only 'l2' or 'none' penalties, got l1 penalty.\n",
      "\n",
      "  FitFailedWarning)\n",
      "C:\\Users\\trigu\\Anaconda3\\lib\\site-packages\\sklearn\\model_selection\\_validation.py:552: FitFailedWarning: Estimator fit failed. The score on this train-test partition for these parameters will be set to nan. Details: \n",
      "Traceback (most recent call last):\n",
      "  File \"C:\\Users\\trigu\\Anaconda3\\lib\\site-packages\\sklearn\\model_selection\\_validation.py\", line 531, in _fit_and_score\n",
      "    estimator.fit(X_train, y_train, **fit_params)\n",
      "  File \"C:\\Users\\trigu\\Anaconda3\\lib\\site-packages\\sklearn\\linear_model\\_logistic.py\", line 1304, in fit\n",
      "    solver = _check_solver(self.solver, self.penalty, self.dual)\n",
      "  File \"C:\\Users\\trigu\\Anaconda3\\lib\\site-packages\\sklearn\\linear_model\\_logistic.py\", line 443, in _check_solver\n",
      "    \"got %s penalty.\" % (solver, penalty))\n",
      "ValueError: Solver lbfgs supports only 'l2' or 'none' penalties, got l1 penalty.\n",
      "\n",
      "  FitFailedWarning)\n",
      "C:\\Users\\trigu\\Anaconda3\\lib\\site-packages\\sklearn\\model_selection\\_validation.py:552: FitFailedWarning: Estimator fit failed. The score on this train-test partition for these parameters will be set to nan. Details: \n",
      "Traceback (most recent call last):\n",
      "  File \"C:\\Users\\trigu\\Anaconda3\\lib\\site-packages\\sklearn\\model_selection\\_validation.py\", line 531, in _fit_and_score\n",
      "    estimator.fit(X_train, y_train, **fit_params)\n",
      "  File \"C:\\Users\\trigu\\Anaconda3\\lib\\site-packages\\sklearn\\linear_model\\_logistic.py\", line 1304, in fit\n",
      "    solver = _check_solver(self.solver, self.penalty, self.dual)\n",
      "  File \"C:\\Users\\trigu\\Anaconda3\\lib\\site-packages\\sklearn\\linear_model\\_logistic.py\", line 443, in _check_solver\n",
      "    \"got %s penalty.\" % (solver, penalty))\n",
      "ValueError: Solver lbfgs supports only 'l2' or 'none' penalties, got l1 penalty.\n",
      "\n",
      "  FitFailedWarning)\n"
     ]
    },
    {
     "name": "stderr",
     "output_type": "stream",
     "text": [
      "C:\\Users\\trigu\\Anaconda3\\lib\\site-packages\\sklearn\\model_selection\\_validation.py:552: FitFailedWarning: Estimator fit failed. The score on this train-test partition for these parameters will be set to nan. Details: \n",
      "Traceback (most recent call last):\n",
      "  File \"C:\\Users\\trigu\\Anaconda3\\lib\\site-packages\\sklearn\\model_selection\\_validation.py\", line 531, in _fit_and_score\n",
      "    estimator.fit(X_train, y_train, **fit_params)\n",
      "  File \"C:\\Users\\trigu\\Anaconda3\\lib\\site-packages\\sklearn\\linear_model\\_logistic.py\", line 1304, in fit\n",
      "    solver = _check_solver(self.solver, self.penalty, self.dual)\n",
      "  File \"C:\\Users\\trigu\\Anaconda3\\lib\\site-packages\\sklearn\\linear_model\\_logistic.py\", line 443, in _check_solver\n",
      "    \"got %s penalty.\" % (solver, penalty))\n",
      "ValueError: Solver lbfgs supports only 'l2' or 'none' penalties, got l1 penalty.\n",
      "\n",
      "  FitFailedWarning)\n",
      "C:\\Users\\trigu\\Anaconda3\\lib\\site-packages\\sklearn\\model_selection\\_validation.py:552: FitFailedWarning: Estimator fit failed. The score on this train-test partition for these parameters will be set to nan. Details: \n",
      "Traceback (most recent call last):\n",
      "  File \"C:\\Users\\trigu\\Anaconda3\\lib\\site-packages\\sklearn\\model_selection\\_validation.py\", line 531, in _fit_and_score\n",
      "    estimator.fit(X_train, y_train, **fit_params)\n",
      "  File \"C:\\Users\\trigu\\Anaconda3\\lib\\site-packages\\sklearn\\linear_model\\_logistic.py\", line 1304, in fit\n",
      "    solver = _check_solver(self.solver, self.penalty, self.dual)\n",
      "  File \"C:\\Users\\trigu\\Anaconda3\\lib\\site-packages\\sklearn\\linear_model\\_logistic.py\", line 443, in _check_solver\n",
      "    \"got %s penalty.\" % (solver, penalty))\n",
      "ValueError: Solver lbfgs supports only 'l2' or 'none' penalties, got l1 penalty.\n",
      "\n",
      "  FitFailedWarning)\n",
      "C:\\Users\\trigu\\Anaconda3\\lib\\site-packages\\sklearn\\model_selection\\_validation.py:552: FitFailedWarning: Estimator fit failed. The score on this train-test partition for these parameters will be set to nan. Details: \n",
      "Traceback (most recent call last):\n",
      "  File \"C:\\Users\\trigu\\Anaconda3\\lib\\site-packages\\sklearn\\model_selection\\_validation.py\", line 531, in _fit_and_score\n",
      "    estimator.fit(X_train, y_train, **fit_params)\n",
      "  File \"C:\\Users\\trigu\\Anaconda3\\lib\\site-packages\\sklearn\\linear_model\\_logistic.py\", line 1304, in fit\n",
      "    solver = _check_solver(self.solver, self.penalty, self.dual)\n",
      "  File \"C:\\Users\\trigu\\Anaconda3\\lib\\site-packages\\sklearn\\linear_model\\_logistic.py\", line 443, in _check_solver\n",
      "    \"got %s penalty.\" % (solver, penalty))\n",
      "ValueError: Solver lbfgs supports only 'l2' or 'none' penalties, got l1 penalty.\n",
      "\n",
      "  FitFailedWarning)\n",
      "C:\\Users\\trigu\\Anaconda3\\lib\\site-packages\\sklearn\\model_selection\\_validation.py:552: FitFailedWarning: Estimator fit failed. The score on this train-test partition for these parameters will be set to nan. Details: \n",
      "Traceback (most recent call last):\n",
      "  File \"C:\\Users\\trigu\\Anaconda3\\lib\\site-packages\\sklearn\\model_selection\\_validation.py\", line 531, in _fit_and_score\n",
      "    estimator.fit(X_train, y_train, **fit_params)\n",
      "  File \"C:\\Users\\trigu\\Anaconda3\\lib\\site-packages\\sklearn\\linear_model\\_logistic.py\", line 1304, in fit\n",
      "    solver = _check_solver(self.solver, self.penalty, self.dual)\n",
      "  File \"C:\\Users\\trigu\\Anaconda3\\lib\\site-packages\\sklearn\\linear_model\\_logistic.py\", line 443, in _check_solver\n",
      "    \"got %s penalty.\" % (solver, penalty))\n",
      "ValueError: Solver lbfgs supports only 'l2' or 'none' penalties, got l1 penalty.\n",
      "\n",
      "  FitFailedWarning)\n"
     ]
    },
    {
     "name": "stdout",
     "output_type": "stream",
     "text": [
      "Лучшее Penalty: l2\n",
      "Лучшее C: 1.0\n"
     ]
    },
    {
     "name": "stderr",
     "output_type": "stream",
     "text": [
      "C:\\Users\\trigu\\Anaconda3\\lib\\site-packages\\sklearn\\linear_model\\_logistic.py:764: ConvergenceWarning: lbfgs failed to converge (status=1):\n",
      "STOP: TOTAL NO. of ITERATIONS REACHED LIMIT.\n",
      "\n",
      "Increase the number of iterations (max_iter) or scale the data as shown in:\n",
      "    https://scikit-learn.org/stable/modules/preprocessing.html\n",
      "Please also refer to the documentation for alternative solver options:\n",
      "    https://scikit-learn.org/stable/modules/linear_model.html#logistic-regression\n",
      "  extra_warning_msg=_LOGISTIC_SOLVER_CONVERGENCE_MSG)\n"
     ]
    }
   ],
   "source": [
    "from sklearn.model_selection import GridSearchCV\n",
    "\n",
    "# Добавим типы регуляризации\n",
    "penalty = ['l1', 'l2']\n",
    "\n",
    "iter_=50\n",
    "# Зададим ограничения для параметра регуляризации\n",
    "C = np.logspace(0, 4, 10, 20, 40 )\n",
    "\n",
    "# Создадим гиперпараметры\n",
    "hyperparameters = dict(C=C, penalty=penalty)\n",
    "\n",
    "model_0 = LogisticRegression()\n",
    "model_0.fit(X_train, y_train)\n",
    "\n",
    "# Создаем сетку поиска с использованием 5-кратной перекрестной проверки\n",
    "clf = GridSearchCV(model, hyperparameters, cv=5, verbose=0)\n",
    "\n",
    "best_model = clf.fit(X_train, y_train)\n",
    "\n",
    "# View best hyperparameters\n",
    "print('Лучшее Penalty:', best_model.best_estimator_.get_params()['penalty'])\n",
    "print('Лучшее C:', best_model.best_estimator_.get_params()['C'])\n"
   ]
  },
  {
   "cell_type": "code",
   "execution_count": null,
   "metadata": {},
   "outputs": [],
   "source": []
  },
  {
   "cell_type": "code",
   "execution_count": null,
   "metadata": {},
   "outputs": [],
   "source": []
  },
  {
   "cell_type": "code",
   "execution_count": 2528,
   "metadata": {},
   "outputs": [
    {
     "name": "stdout",
     "output_type": "stream",
     "text": [
      "Лучшие значения параметров:\n",
      "  C => 1.0\n",
      "  class_weight => None\n",
      "  dual => False\n",
      "  fit_intercept => True\n",
      "  intercept_scaling => 1\n",
      "  l1_ratio => None\n",
      "  max_iter => 100\n",
      "  multi_class => auto\n",
      "  n_jobs => None\n",
      "  penalty => l2\n",
      "  random_state => None\n",
      "  solver => lbfgs\n",
      "  tol => 0.0001\n",
      "  verbose => 0\n",
      "  warm_start => False\n"
     ]
    },
    {
     "name": "stderr",
     "output_type": "stream",
     "text": [
      "C:\\Users\\trigu\\Anaconda3\\lib\\site-packages\\sklearn\\linear_model\\_logistic.py:764: ConvergenceWarning: lbfgs failed to converge (status=1):\n",
      "STOP: TOTAL NO. of ITERATIONS REACHED LIMIT.\n",
      "\n",
      "Increase the number of iterations (max_iter) or scale the data as shown in:\n",
      "    https://scikit-learn.org/stable/modules/preprocessing.html\n",
      "Please also refer to the documentation for alternative solver options:\n",
      "    https://scikit-learn.org/stable/modules/linear_model.html#logistic-regression\n",
      "  extra_warning_msg=_LOGISTIC_SOLVER_CONVERGENCE_MSG)\n"
     ]
    }
   ],
   "source": [
    "gridsearch = GridSearchCV(model, hyperparameters, scoring='f1', n_jobs=-1, cv=5)\n",
    "gridsearch.fit(X_train, y_train)\n",
    "# Смотрим лучшие гиперпараметры\n",
    "model_0 = gridsearch.best_estimator_\n",
    "\n",
    "# Печатаем параметры\n",
    "best_parameters = model_0.get_params()\n",
    "print(f'Лучшие значения параметров:') \n",
    "for param_name in sorted(best_parameters.keys()):\n",
    "        print(f'  {param_name} => {best_parameters[param_name]}')\n",
    "\n",
    "# Предсказываем\n",
    "y_pred_prob = model_0.predict_proba(X_test)[:,1]\n",
    "y_pred = model_0.predict(X_test)"
   ]
  },
  {
   "cell_type": "code",
   "execution_count": null,
   "metadata": {},
   "outputs": [],
   "source": []
  },
  {
   "cell_type": "code",
   "execution_count": null,
   "metadata": {},
   "outputs": [],
   "source": []
  },
  {
   "cell_type": "code",
   "execution_count": 2529,
   "metadata": {},
   "outputs": [
    {
     "data": {
      "text/plain": [
       "LogisticRegression(max_iter=1000, random_state=42)"
      ]
     },
     "execution_count": 2529,
     "metadata": {},
     "output_type": "execute_result"
    }
   ],
   "source": [
    "model_2 = LogisticRegression(random_state=RANDOM_SEED, \n",
    "                           C=1.0, penalty= 'l2', class_weight =None,\n",
    "                           dual = False, fit_intercept =True, intercept_scaling = 1,\n",
    "                          l1_ratio = None, max_iter = 1000,  n_jobs = None, tol = 0.0001, verbose = 0,warm_start = False,)\n",
    "\n",
    "model_2.fit(X_train, y_train)"
   ]
  },
  {
   "cell_type": "code",
   "execution_count": 2530,
   "metadata": {},
   "outputs": [],
   "source": [
    "y_pred_2=model_2.predict(X_test)"
   ]
  },
  {
   "cell_type": "code",
   "execution_count": 2531,
   "metadata": {
    "scrolled": true
   },
   "outputs": [
    {
     "data": {
      "image/png": "[encoded data removed]",
      "text/plain": [
       "<Figure size 720x720 with 1 Axes>"
      ]
     },
     "metadata": {
      "needs_background": "light"
     },
     "output_type": "display_data"
    }
   ],
   "source": [
    "probs_2 = model_2.predict_proba(X_test)\n",
    "probs_2 = probs_2[:,1]\n",
    "\n",
    "\n",
    "fpr, tpr, threshold = metrics.roc_curve(y_test, probs_2)\n",
    "roc_auc = roc_auc_score(y_test, probs_2)\n",
    "\n",
    "plt.figure()\n",
    "plt.plot([0, 1], label='Baseline', linestyle='--')\n",
    "plt.plot(fpr, tpr, label = 'Regression')\n",
    "plt.title('Logistic Regression ROC AUC = %0.3f' % roc_auc)\n",
    "plt.ylabel('True Positive Rate')\n",
    "plt.xlabel('False Positive Rate')\n",
    "plt.legend(loc = 'lower right')\n",
    "plt.show()"
   ]
  },
  {
   "cell_type": "code",
   "execution_count": null,
   "metadata": {},
   "outputs": [],
   "source": []
  },
  {
   "cell_type": "code",
   "execution_count": 2532,
   "metadata": {},
   "outputs": [
    {
     "name": "stdout",
     "output_type": "stream",
     "text": [
      "Accuracy:0.8760840108401085\n",
      "Precision:0.4375\n",
      "Recall:0.0038314176245210726\n",
      "f1: 0.00759631036353771\n"
     ]
    }
   ],
   "source": [
    "print('Accuracy:'+str(accuracy_score(y_test, y_pred_2)))\n",
    "print('Precision:'+str(precision_score(y_test, y_pred_2)))\n",
    "print('Recall:'+str(recall_score(y_test, y_pred_2)))\n",
    "print('f1: ' + str(f1_score(y_test, y_pred_2)))"
   ]
  },
  {
   "cell_type": "code",
   "execution_count": null,
   "metadata": {},
   "outputs": [],
   "source": []
  },
  {
   "cell_type": "code",
   "execution_count": 2533,
   "metadata": {},
   "outputs": [
    {
     "data": {
      "text/plain": [
       "array([[12924,     9],\n",
       "       [ 1820,     7]], dtype=int64)"
      ]
     },
     "execution_count": 2533,
     "metadata": {},
     "output_type": "execute_result"
    },
    {
     "data": {
      "image/png": "[encoded data removed]",
      "text/plain": [
       "<Figure size 432x432 with 2 Axes>"
      ]
     },
     "metadata": {
      "needs_background": "light"
     },
     "output_type": "display_data"
    }
   ],
   "source": [
    "fig = plt.figure(figsize=(6, 6))\n",
    "cm2 = confusion_matrix(y_test, y_pred_2)\n",
    "sns.heatmap(cm2, annot = True)\n",
    "plt.xlabel('Predicted')\n",
    "plt.ylabel('Actual')\n",
    "cm2"
   ]
  },
  {
   "cell_type": "code",
   "execution_count": null,
   "metadata": {},
   "outputs": [],
   "source": []
  },
  {
   "cell_type": "markdown",
   "metadata": {},
   "source": [
    "Подстановка гиперпараметров не смогла улучшить ситуацию"
   ]
  },
  {
   "cell_type": "markdown",
   "metadata": {},
   "source": [
    "Возможно, проблемой является несбалансированность выборки по целевой переменной."
   ]
  },
  {
   "cell_type": "code",
   "execution_count": 2534,
   "metadata": {},
   "outputs": [
    {
     "data": {
      "text/plain": [
       "<matplotlib.axes._subplots.AxesSubplot at 0x15ddc2f7988>"
      ]
     },
     "execution_count": 2534,
     "metadata": {},
     "output_type": "execute_result"
    },
    {
     "data": {
      "image/png": "[encoded data removed]",
      "text/plain": [
       "<Figure size 720x720 with 1 Axes>"
      ]
     },
     "metadata": {
      "needs_background": "light"
     },
     "output_type": "display_data"
    }
   ],
   "source": [
    "sns.countplot(x=data_train['default'], data=data_train)"
   ]
  },
  {
   "cell_type": "markdown",
   "metadata": {},
   "source": [
    "Попробуем для тренировочной выборки сократить количество недефолтных клиентов, реализуя таким образом undersampling. "
   ]
  },
  {
   "cell_type": "code",
   "execution_count": 2535,
   "metadata": {},
   "outputs": [
    {
     "name": "stderr",
     "output_type": "stream",
     "text": [
      "C:\\Users\\trigu\\Anaconda3\\lib\\site-packages\\ipykernel_launcher.py:1: UserWarning: Boolean Series key will be reindexed to match DataFrame index.\n",
      "  \"\"\"Entry point for launching an IPython kernel.\n"
     ]
    },
    {
     "data": {
      "text/html": [
       "<div>\n",
       "<style scoped>\n",
       "    .dataframe tbody tr th:only-of-type {\n",
       "        vertical-align: middle;\n",
       "    }\n",
       "\n",
       "    .dataframe tbody tr th {\n",
       "        vertical-align: top;\n",
       "    }\n",
       "\n",
       "    .dataframe thead th {\n",
       "        text-align: right;\n",
       "    }\n",
       "</style>\n",
       "<table border=\"1\" class=\"dataframe\">\n",
       "  <thead>\n",
       "    <tr style=\"text-align: right;\">\n",
       "      <th></th>\n",
       "      <th>client_id</th>\n",
       "      <th>app_date</th>\n",
       "      <th>education</th>\n",
       "      <th>sex</th>\n",
       "      <th>age</th>\n",
       "      <th>car</th>\n",
       "      <th>car_type</th>\n",
       "      <th>decline_app_cnt</th>\n",
       "      <th>good_work</th>\n",
       "      <th>score_bki</th>\n",
       "      <th>...</th>\n",
       "      <th>region_rating</th>\n",
       "      <th>home_address</th>\n",
       "      <th>work_address</th>\n",
       "      <th>income</th>\n",
       "      <th>sna</th>\n",
       "      <th>first_time</th>\n",
       "      <th>foreign_passport</th>\n",
       "      <th>default</th>\n",
       "      <th>timedelta</th>\n",
       "      <th>education_label</th>\n",
       "    </tr>\n",
       "  </thead>\n",
       "  <tbody>\n",
       "    <tr>\n",
       "      <td>0</td>\n",
       "      <td>25905</td>\n",
       "      <td>2014-02-01</td>\n",
       "      <td>3</td>\n",
       "      <td>1</td>\n",
       "      <td>4.143135</td>\n",
       "      <td>1</td>\n",
       "      <td>1</td>\n",
       "      <td>0.000000</td>\n",
       "      <td>0</td>\n",
       "      <td>-2.008753</td>\n",
       "      <td>...</td>\n",
       "      <td>50</td>\n",
       "      <td>1</td>\n",
       "      <td>2</td>\n",
       "      <td>9.798183</td>\n",
       "      <td>4</td>\n",
       "      <td>1</td>\n",
       "      <td>0</td>\n",
       "      <td>0</td>\n",
       "      <td>9.990445</td>\n",
       "      <td>3</td>\n",
       "    </tr>\n",
       "    <tr>\n",
       "      <td>1</td>\n",
       "      <td>63161</td>\n",
       "      <td>2014-03-12</td>\n",
       "      <td>3</td>\n",
       "      <td>0</td>\n",
       "      <td>4.094345</td>\n",
       "      <td>0</td>\n",
       "      <td>0</td>\n",
       "      <td>0.000000</td>\n",
       "      <td>0</td>\n",
       "      <td>-1.532276</td>\n",
       "      <td>...</td>\n",
       "      <td>50</td>\n",
       "      <td>2</td>\n",
       "      <td>3</td>\n",
       "      <td>9.852247</td>\n",
       "      <td>4</td>\n",
       "      <td>1</td>\n",
       "      <td>0</td>\n",
       "      <td>0</td>\n",
       "      <td>9.974879</td>\n",
       "      <td>3</td>\n",
       "    </tr>\n",
       "    <tr>\n",
       "      <td>2</td>\n",
       "      <td>25887</td>\n",
       "      <td>2014-02-01</td>\n",
       "      <td>3</td>\n",
       "      <td>1</td>\n",
       "      <td>3.258097</td>\n",
       "      <td>1</td>\n",
       "      <td>0</td>\n",
       "      <td>1.098612</td>\n",
       "      <td>0</td>\n",
       "      <td>-1.408142</td>\n",
       "      <td>...</td>\n",
       "      <td>80</td>\n",
       "      <td>1</td>\n",
       "      <td>2</td>\n",
       "      <td>10.308986</td>\n",
       "      <td>1</td>\n",
       "      <td>4</td>\n",
       "      <td>1</td>\n",
       "      <td>0</td>\n",
       "      <td>9.990445</td>\n",
       "      <td>3</td>\n",
       "    </tr>\n",
       "  </tbody>\n",
       "</table>\n",
       "<p>3 rows × 21 columns</p>\n",
       "</div>"
      ],
      "text/plain": [
       "   client_id   app_date  education  sex       age  car  car_type  \\\n",
       "0      25905 2014-02-01          3    1  4.143135    1         1   \n",
       "1      63161 2014-03-12          3    0  4.094345    0         0   \n",
       "2      25887 2014-02-01          3    1  3.258097    1         0   \n",
       "\n",
       "   decline_app_cnt  good_work  score_bki  ...  region_rating  home_address  \\\n",
       "0         0.000000          0  -2.008753  ...             50             1   \n",
       "1         0.000000          0  -1.532276  ...             50             2   \n",
       "2         1.098612          0  -1.408142  ...             80             1   \n",
       "\n",
       "   work_address     income  sna  first_time  foreign_passport  default  \\\n",
       "0             2   9.798183    4           1                 0        0   \n",
       "1             3   9.852247    4           1                 0        0   \n",
       "2             2  10.308986    1           4                 1        0   \n",
       "\n",
       "   timedelta  education_label  \n",
       "0   9.990445                3  \n",
       "1   9.974879                3  \n",
       "2   9.990445                3  \n",
       "\n",
       "[3 rows x 21 columns]"
      ]
     },
     "execution_count": 2535,
     "metadata": {},
     "output_type": "execute_result"
    }
   ],
   "source": [
    "data_reduced_def_0=data_train[:15000][(data_train['default']==0)]\n",
    "data_reduced_def_0.head(3)\n"
   ]
  },
  {
   "cell_type": "code",
   "execution_count": 2536,
   "metadata": {
    "scrolled": true
   },
   "outputs": [
    {
     "data": {
      "text/html": [
       "<div>\n",
       "<style scoped>\n",
       "    .dataframe tbody tr th:only-of-type {\n",
       "        vertical-align: middle;\n",
       "    }\n",
       "\n",
       "    .dataframe tbody tr th {\n",
       "        vertical-align: top;\n",
       "    }\n",
       "\n",
       "    .dataframe thead th {\n",
       "        text-align: right;\n",
       "    }\n",
       "</style>\n",
       "<table border=\"1\" class=\"dataframe\">\n",
       "  <thead>\n",
       "    <tr style=\"text-align: right;\">\n",
       "      <th></th>\n",
       "      <th>client_id</th>\n",
       "      <th>app_date</th>\n",
       "      <th>education</th>\n",
       "      <th>sex</th>\n",
       "      <th>age</th>\n",
       "      <th>car</th>\n",
       "      <th>car_type</th>\n",
       "      <th>decline_app_cnt</th>\n",
       "      <th>good_work</th>\n",
       "      <th>score_bki</th>\n",
       "      <th>...</th>\n",
       "      <th>region_rating</th>\n",
       "      <th>home_address</th>\n",
       "      <th>work_address</th>\n",
       "      <th>income</th>\n",
       "      <th>sna</th>\n",
       "      <th>first_time</th>\n",
       "      <th>foreign_passport</th>\n",
       "      <th>default</th>\n",
       "      <th>timedelta</th>\n",
       "      <th>education_label</th>\n",
       "    </tr>\n",
       "  </thead>\n",
       "  <tbody>\n",
       "    <tr>\n",
       "      <td>18</td>\n",
       "      <td>26038</td>\n",
       "      <td>2014-02-02</td>\n",
       "      <td>1</td>\n",
       "      <td>0</td>\n",
       "      <td>3.610918</td>\n",
       "      <td>0</td>\n",
       "      <td>0</td>\n",
       "      <td>0.0</td>\n",
       "      <td>0</td>\n",
       "      <td>-1.971907</td>\n",
       "      <td>...</td>\n",
       "      <td>40</td>\n",
       "      <td>1</td>\n",
       "      <td>3</td>\n",
       "      <td>11.002117</td>\n",
       "      <td>4</td>\n",
       "      <td>1</td>\n",
       "      <td>0</td>\n",
       "      <td>1</td>\n",
       "      <td>9.990049</td>\n",
       "      <td>1</td>\n",
       "    </tr>\n",
       "    <tr>\n",
       "      <td>23</td>\n",
       "      <td>51615</td>\n",
       "      <td>2014-02-28</td>\n",
       "      <td>3</td>\n",
       "      <td>1</td>\n",
       "      <td>3.332205</td>\n",
       "      <td>1</td>\n",
       "      <td>1</td>\n",
       "      <td>0.0</td>\n",
       "      <td>0</td>\n",
       "      <td>-2.178540</td>\n",
       "      <td>...</td>\n",
       "      <td>50</td>\n",
       "      <td>2</td>\n",
       "      <td>3</td>\n",
       "      <td>10.915107</td>\n",
       "      <td>4</td>\n",
       "      <td>3</td>\n",
       "      <td>0</td>\n",
       "      <td>1</td>\n",
       "      <td>9.979695</td>\n",
       "      <td>3</td>\n",
       "    </tr>\n",
       "    <tr>\n",
       "      <td>24</td>\n",
       "      <td>35287</td>\n",
       "      <td>2014-02-11</td>\n",
       "      <td>3</td>\n",
       "      <td>0</td>\n",
       "      <td>3.295837</td>\n",
       "      <td>0</td>\n",
       "      <td>0</td>\n",
       "      <td>0.0</td>\n",
       "      <td>0</td>\n",
       "      <td>-1.436580</td>\n",
       "      <td>...</td>\n",
       "      <td>60</td>\n",
       "      <td>1</td>\n",
       "      <td>2</td>\n",
       "      <td>10.165890</td>\n",
       "      <td>1</td>\n",
       "      <td>2</td>\n",
       "      <td>0</td>\n",
       "      <td>1</td>\n",
       "      <td>9.986477</td>\n",
       "      <td>3</td>\n",
       "    </tr>\n",
       "  </tbody>\n",
       "</table>\n",
       "<p>3 rows × 21 columns</p>\n",
       "</div>"
      ],
      "text/plain": [
       "    client_id   app_date  education  sex       age  car  car_type  \\\n",
       "18      26038 2014-02-02          1    0  3.610918    0         0   \n",
       "23      51615 2014-02-28          3    1  3.332205    1         1   \n",
       "24      35287 2014-02-11          3    0  3.295837    0         0   \n",
       "\n",
       "    decline_app_cnt  good_work  score_bki  ...  region_rating  home_address  \\\n",
       "18              0.0          0  -1.971907  ...             40             1   \n",
       "23              0.0          0  -2.178540  ...             50             2   \n",
       "24              0.0          0  -1.436580  ...             60             1   \n",
       "\n",
       "    work_address     income  sna  first_time  foreign_passport  default  \\\n",
       "18             3  11.002117    4           1                 0        1   \n",
       "23             3  10.915107    4           3                 0        1   \n",
       "24             2  10.165890    1           2                 0        1   \n",
       "\n",
       "    timedelta  education_label  \n",
       "18   9.990049                1  \n",
       "23   9.979695                3  \n",
       "24   9.986477                3  \n",
       "\n",
       "[3 rows x 21 columns]"
      ]
     },
     "execution_count": 2536,
     "metadata": {},
     "output_type": "execute_result"
    }
   ],
   "source": [
    "data_reduced_def_1=data_train[(data_train['default']==1)]\n",
    "data_reduced_def_1.head(3)"
   ]
  },
  {
   "cell_type": "code",
   "execution_count": 2537,
   "metadata": {
    "scrolled": true
   },
   "outputs": [
    {
     "data": {
      "text/html": [
       "<div>\n",
       "<style scoped>\n",
       "    .dataframe tbody tr th:only-of-type {\n",
       "        vertical-align: middle;\n",
       "    }\n",
       "\n",
       "    .dataframe tbody tr th {\n",
       "        vertical-align: top;\n",
       "    }\n",
       "\n",
       "    .dataframe thead th {\n",
       "        text-align: right;\n",
       "    }\n",
       "</style>\n",
       "<table border=\"1\" class=\"dataframe\">\n",
       "  <thead>\n",
       "    <tr style=\"text-align: right;\">\n",
       "      <th></th>\n",
       "      <th>client_id</th>\n",
       "      <th>app_date</th>\n",
       "      <th>education</th>\n",
       "      <th>sex</th>\n",
       "      <th>age</th>\n",
       "      <th>car</th>\n",
       "      <th>car_type</th>\n",
       "      <th>decline_app_cnt</th>\n",
       "      <th>good_work</th>\n",
       "      <th>score_bki</th>\n",
       "      <th>...</th>\n",
       "      <th>region_rating</th>\n",
       "      <th>home_address</th>\n",
       "      <th>work_address</th>\n",
       "      <th>income</th>\n",
       "      <th>sna</th>\n",
       "      <th>first_time</th>\n",
       "      <th>foreign_passport</th>\n",
       "      <th>default</th>\n",
       "      <th>timedelta</th>\n",
       "      <th>education_label</th>\n",
       "    </tr>\n",
       "  </thead>\n",
       "  <tbody>\n",
       "    <tr>\n",
       "      <td>0</td>\n",
       "      <td>25905</td>\n",
       "      <td>2014-02-01</td>\n",
       "      <td>3</td>\n",
       "      <td>1</td>\n",
       "      <td>4.143135</td>\n",
       "      <td>1</td>\n",
       "      <td>1</td>\n",
       "      <td>0.000000</td>\n",
       "      <td>0</td>\n",
       "      <td>-2.008753</td>\n",
       "      <td>...</td>\n",
       "      <td>50</td>\n",
       "      <td>1</td>\n",
       "      <td>2</td>\n",
       "      <td>9.798183</td>\n",
       "      <td>4</td>\n",
       "      <td>1</td>\n",
       "      <td>0</td>\n",
       "      <td>0</td>\n",
       "      <td>9.990445</td>\n",
       "      <td>3</td>\n",
       "    </tr>\n",
       "    <tr>\n",
       "      <td>1</td>\n",
       "      <td>63161</td>\n",
       "      <td>2014-03-12</td>\n",
       "      <td>3</td>\n",
       "      <td>0</td>\n",
       "      <td>4.094345</td>\n",
       "      <td>0</td>\n",
       "      <td>0</td>\n",
       "      <td>0.000000</td>\n",
       "      <td>0</td>\n",
       "      <td>-1.532276</td>\n",
       "      <td>...</td>\n",
       "      <td>50</td>\n",
       "      <td>2</td>\n",
       "      <td>3</td>\n",
       "      <td>9.852247</td>\n",
       "      <td>4</td>\n",
       "      <td>1</td>\n",
       "      <td>0</td>\n",
       "      <td>0</td>\n",
       "      <td>9.974879</td>\n",
       "      <td>3</td>\n",
       "    </tr>\n",
       "    <tr>\n",
       "      <td>2</td>\n",
       "      <td>25887</td>\n",
       "      <td>2014-02-01</td>\n",
       "      <td>3</td>\n",
       "      <td>1</td>\n",
       "      <td>3.258097</td>\n",
       "      <td>1</td>\n",
       "      <td>0</td>\n",
       "      <td>1.098612</td>\n",
       "      <td>0</td>\n",
       "      <td>-1.408142</td>\n",
       "      <td>...</td>\n",
       "      <td>80</td>\n",
       "      <td>1</td>\n",
       "      <td>2</td>\n",
       "      <td>10.308986</td>\n",
       "      <td>1</td>\n",
       "      <td>4</td>\n",
       "      <td>1</td>\n",
       "      <td>0</td>\n",
       "      <td>9.990445</td>\n",
       "      <td>3</td>\n",
       "    </tr>\n",
       "  </tbody>\n",
       "</table>\n",
       "<p>3 rows × 21 columns</p>\n",
       "</div>"
      ],
      "text/plain": [
       "   client_id   app_date  education  sex       age  car  car_type  \\\n",
       "0      25905 2014-02-01          3    1  4.143135    1         1   \n",
       "1      63161 2014-03-12          3    0  4.094345    0         0   \n",
       "2      25887 2014-02-01          3    1  3.258097    1         0   \n",
       "\n",
       "   decline_app_cnt  good_work  score_bki  ...  region_rating  home_address  \\\n",
       "0         0.000000          0  -2.008753  ...             50             1   \n",
       "1         0.000000          0  -1.532276  ...             50             2   \n",
       "2         1.098612          0  -1.408142  ...             80             1   \n",
       "\n",
       "   work_address     income  sna  first_time  foreign_passport  default  \\\n",
       "0             2   9.798183    4           1                 0        0   \n",
       "1             3   9.852247    4           1                 0        0   \n",
       "2             2  10.308986    1           4                 1        0   \n",
       "\n",
       "   timedelta  education_label  \n",
       "0   9.990445                3  \n",
       "1   9.974879                3  \n",
       "2   9.990445                3  \n",
       "\n",
       "[3 rows x 21 columns]"
      ]
     },
     "execution_count": 2537,
     "metadata": {},
     "output_type": "execute_result"
    }
   ],
   "source": [
    "data_reduced=data_reduced_def_0.append(data_reduced_def_1)\n",
    "data_reduced.head(3)"
   ]
  },
  {
   "cell_type": "markdown",
   "metadata": {},
   "source": [
    "таким образом мы сократили выборку, но сделали ее более сбалансированной по целевой переменной."
   ]
  },
  {
   "cell_type": "code",
   "execution_count": 2538,
   "metadata": {
    "scrolled": true
   },
   "outputs": [
    {
     "data": {
      "text/plain": [
       "<matplotlib.axes._subplots.AxesSubplot at 0x15de984a308>"
      ]
     },
     "execution_count": 2538,
     "metadata": {},
     "output_type": "execute_result"
    },
    {
     "data": {
      "image/png": "[encoded data removed]",
      "text/plain": [
       "<Figure size 720x720 with 1 Axes>"
      ]
     },
     "metadata": {
      "needs_background": "light"
     },
     "output_type": "display_data"
    }
   ],
   "source": [
    "sns.countplot(x=data_reduced['default'], data=data_reduced)  \n"
   ]
  },
  {
   "cell_type": "code",
   "execution_count": null,
   "metadata": {},
   "outputs": [],
   "source": []
  },
  {
   "cell_type": "code",
   "execution_count": 2539,
   "metadata": {},
   "outputs": [],
   "source": [
    "\n",
    "#data_reduced=data_reduced.drop(['age', 'sex', 'client_id', 'app_date'], axis=1)\n"
   ]
  },
  {
   "cell_type": "markdown",
   "metadata": {},
   "source": [
    "Попробуем избавиться от выбросов для некоторых числовых признаков"
   ]
  },
  {
   "cell_type": "code",
   "execution_count": 2540,
   "metadata": {},
   "outputs": [
    {
     "name": "stdout",
     "output_type": "stream",
     "text": [
      "медиана:10.308985993422082, 25% персентиль:9.90353755128617, 75% персентиль:10.714439990727769, IQR:0.8109024394415982, границы выбросов: [8.687183892123773,11.930793649890166]\n"
     ]
    }
   ],
   "source": [
    "range_outliers(data_reduced['income'])"
   ]
  },
  {
   "cell_type": "code",
   "execution_count": 2541,
   "metadata": {
    "scrolled": true
   },
   "outputs": [],
   "source": [
    "\n",
    "#range_outliers(data_reduced['bki_request_cnt'])"
   ]
  },
  {
   "cell_type": "code",
   "execution_count": 2542,
   "metadata": {},
   "outputs": [],
   "source": [
    "#data_reduced=data_reduced[(data_reduced['income']<11.93)& (data_reduced['bki_request_cnt']<3.46)]\n",
    "#data_reduced.head(3)"
   ]
  },
  {
   "cell_type": "code",
   "execution_count": 2543,
   "metadata": {},
   "outputs": [],
   "source": [
    "#bin_cols=['car', 'car_type', 'foreign_passport', 'good_work'] #бинарные\n",
    "#cat_cols=['education', 'home_address', 'work_address'] # категориальные\n",
    "#num_cols=[ 'decline_app_cnt', 'income', 'bki_request_cnt', 'timedelta'] # числовые\n",
    "#time_cols = ['app_date'] # временнЫе"
   ]
  },
  {
   "cell_type": "code",
   "execution_count": 2544,
   "metadata": {
    "scrolled": false
   },
   "outputs": [],
   "source": [
    "for column in bin_cols:\n",
    "    data_reduced[column] = label_encoder.fit_transform(data_reduced[column])"
   ]
  },
  {
   "cell_type": "code",
   "execution_count": 2545,
   "metadata": {},
   "outputs": [
    {
     "data": {
      "text/html": [
       "<div>\n",
       "<style scoped>\n",
       "    .dataframe tbody tr th:only-of-type {\n",
       "        vertical-align: middle;\n",
       "    }\n",
       "\n",
       "    .dataframe tbody tr th {\n",
       "        vertical-align: top;\n",
       "    }\n",
       "\n",
       "    .dataframe thead th {\n",
       "        text-align: right;\n",
       "    }\n",
       "</style>\n",
       "<table border=\"1\" class=\"dataframe\">\n",
       "  <thead>\n",
       "    <tr style=\"text-align: right;\">\n",
       "      <th></th>\n",
       "      <th>client_id</th>\n",
       "      <th>app_date</th>\n",
       "      <th>education</th>\n",
       "      <th>sex</th>\n",
       "      <th>age</th>\n",
       "      <th>car</th>\n",
       "      <th>car_type</th>\n",
       "      <th>decline_app_cnt</th>\n",
       "      <th>good_work</th>\n",
       "      <th>score_bki</th>\n",
       "      <th>...</th>\n",
       "      <th>region_rating</th>\n",
       "      <th>home_address</th>\n",
       "      <th>work_address</th>\n",
       "      <th>income</th>\n",
       "      <th>sna</th>\n",
       "      <th>first_time</th>\n",
       "      <th>foreign_passport</th>\n",
       "      <th>default</th>\n",
       "      <th>timedelta</th>\n",
       "      <th>education_label</th>\n",
       "    </tr>\n",
       "  </thead>\n",
       "  <tbody>\n",
       "    <tr>\n",
       "      <td>0</td>\n",
       "      <td>25905</td>\n",
       "      <td>2014-02-01</td>\n",
       "      <td>3</td>\n",
       "      <td>1</td>\n",
       "      <td>1.637663</td>\n",
       "      <td>1</td>\n",
       "      <td>1</td>\n",
       "      <td>0.000000</td>\n",
       "      <td>0</td>\n",
       "      <td>-2.008753</td>\n",
       "      <td>...</td>\n",
       "      <td>50</td>\n",
       "      <td>1</td>\n",
       "      <td>2</td>\n",
       "      <td>2.379378</td>\n",
       "      <td>4</td>\n",
       "      <td>1</td>\n",
       "      <td>0</td>\n",
       "      <td>0</td>\n",
       "      <td>2.397026</td>\n",
       "      <td>3</td>\n",
       "    </tr>\n",
       "    <tr>\n",
       "      <td>1</td>\n",
       "      <td>63161</td>\n",
       "      <td>2014-03-12</td>\n",
       "      <td>3</td>\n",
       "      <td>0</td>\n",
       "      <td>1.628131</td>\n",
       "      <td>0</td>\n",
       "      <td>0</td>\n",
       "      <td>0.000000</td>\n",
       "      <td>0</td>\n",
       "      <td>-1.532276</td>\n",
       "      <td>...</td>\n",
       "      <td>50</td>\n",
       "      <td>2</td>\n",
       "      <td>3</td>\n",
       "      <td>2.384372</td>\n",
       "      <td>4</td>\n",
       "      <td>1</td>\n",
       "      <td>0</td>\n",
       "      <td>0</td>\n",
       "      <td>2.395609</td>\n",
       "      <td>3</td>\n",
       "    </tr>\n",
       "    <tr>\n",
       "      <td>2</td>\n",
       "      <td>25887</td>\n",
       "      <td>2014-02-01</td>\n",
       "      <td>3</td>\n",
       "      <td>1</td>\n",
       "      <td>1.448822</td>\n",
       "      <td>1</td>\n",
       "      <td>0</td>\n",
       "      <td>0.741276</td>\n",
       "      <td>0</td>\n",
       "      <td>-1.408142</td>\n",
       "      <td>...</td>\n",
       "      <td>80</td>\n",
       "      <td>1</td>\n",
       "      <td>2</td>\n",
       "      <td>2.425598</td>\n",
       "      <td>1</td>\n",
       "      <td>4</td>\n",
       "      <td>1</td>\n",
       "      <td>0</td>\n",
       "      <td>2.397026</td>\n",
       "      <td>3</td>\n",
       "    </tr>\n",
       "  </tbody>\n",
       "</table>\n",
       "<p>3 rows × 21 columns</p>\n",
       "</div>"
      ],
      "text/plain": [
       "   client_id   app_date  education  sex       age  car  car_type  \\\n",
       "0      25905 2014-02-01          3    1  1.637663    1         1   \n",
       "1      63161 2014-03-12          3    0  1.628131    0         0   \n",
       "2      25887 2014-02-01          3    1  1.448822    1         0   \n",
       "\n",
       "   decline_app_cnt  good_work  score_bki  ...  region_rating  home_address  \\\n",
       "0         0.000000          0  -2.008753  ...             50             1   \n",
       "1         0.000000          0  -1.532276  ...             50             2   \n",
       "2         0.741276          0  -1.408142  ...             80             1   \n",
       "\n",
       "   work_address    income  sna  first_time  foreign_passport  default  \\\n",
       "0             2  2.379378    4           1                 0        0   \n",
       "1             3  2.384372    4           1                 0        0   \n",
       "2             2  2.425598    1           4                 1        0   \n",
       "\n",
       "   timedelta  education_label  \n",
       "0   2.397026                3  \n",
       "1   2.395609                3  \n",
       "2   2.397026                3  \n",
       "\n",
       "[3 rows x 21 columns]"
      ]
     },
     "execution_count": 2545,
     "metadata": {},
     "output_type": "execute_result"
    }
   ],
   "source": [
    "for column in num_cols:\n",
    "    data_reduced[column] = np.log(data_reduced[column] + 1)\n",
    "data_reduced.head(3)   "
   ]
  },
  {
   "cell_type": "code",
   "execution_count": 2546,
   "metadata": {},
   "outputs": [],
   "source": [
    "X_cat_reduced = OneHotEncoder(sparse = False).fit_transform(data_reduced[cat_cols].values)"
   ]
  },
  {
   "cell_type": "code",
   "execution_count": 2547,
   "metadata": {},
   "outputs": [],
   "source": [
    "X_num_reduced =StandardScaler().fit_transform(data_reduced[num_cols].values)"
   ]
  },
  {
   "cell_type": "code",
   "execution_count": 2548,
   "metadata": {},
   "outputs": [
    {
     "data": {
      "text/plain": [
       "array([[ 1.67331693, -0.49083923, -0.73877587, -0.15994988,  0.90575825],\n",
       "       [ 1.51841669, -0.49083923, -0.6560104 ,  0.75111479, -0.31278506],\n",
       "       [-1.3955267 ,  2.2738177 ,  0.02717721, -0.15994988,  0.90575825],\n",
       "       ...,\n",
       "       [ 0.41934253, -0.49083923,  0.75929906,  0.75111479, -0.47051547],\n",
       "       [ 1.05539029, -0.49083923, -1.02095659,  0.98845215,  0.408344  ],\n",
       "       [-0.85836033, -0.49083923, -1.24584811,  0.75111479,  1.76801477]])"
      ]
     },
     "execution_count": 2548,
     "metadata": {},
     "output_type": "execute_result"
    }
   ],
   "source": [
    "X_num_reduced"
   ]
  },
  {
   "cell_type": "code",
   "execution_count": null,
   "metadata": {},
   "outputs": [],
   "source": []
  },
  {
   "cell_type": "code",
   "execution_count": 2549,
   "metadata": {},
   "outputs": [],
   "source": [
    "X_reduced=np.hstack([X_num_reduced, data_reduced[bin_cols].values, X_cat_reduced])\n",
    "\n",
    "\n",
    "y_reduced=data_reduced['default'].values"
   ]
  },
  {
   "cell_type": "code",
   "execution_count": 2550,
   "metadata": {},
   "outputs": [],
   "source": [
    "X_train, X_test, y_train, y_test = train_test_split(X_reduced, y_reduced, test_size=0.2, random_state=RANDOM_SEED)"
   ]
  },
  {
   "cell_type": "code",
   "execution_count": null,
   "metadata": {},
   "outputs": [],
   "source": []
  },
  {
   "cell_type": "code",
   "execution_count": 2551,
   "metadata": {},
   "outputs": [
    {
     "data": {
      "text/plain": [
       "LogisticRegression(max_iter=1000, random_state=42)"
      ]
     },
     "execution_count": 2551,
     "metadata": {},
     "output_type": "execute_result"
    }
   ],
   "source": [
    "model_3 = LogisticRegression(random_state=RANDOM_SEED, \n",
    "                           C=1.0, penalty= 'l2', class_weight =None,\n",
    "                           dual = False, fit_intercept =True, intercept_scaling = 1,\n",
    "                          l1_ratio = None, max_iter = 1000,  n_jobs = None, tol = 0.0001, verbose = 0,warm_start = False,)\n",
    "\n",
    "model_3.fit(X_train, y_train)"
   ]
  },
  {
   "cell_type": "code",
   "execution_count": 2552,
   "metadata": {},
   "outputs": [],
   "source": [
    "y_pred_reduced=model_3.predict(X_test)"
   ]
  },
  {
   "cell_type": "code",
   "execution_count": 2553,
   "metadata": {
    "scrolled": true
   },
   "outputs": [
    {
     "data": {
      "image/png": "[encoded data removed]",
      "text/plain": [
       "<Figure size 720x720 with 1 Axes>"
      ]
     },
     "metadata": {
      "needs_background": "light"
     },
     "output_type": "display_data"
    }
   ],
   "source": [
    "probs_3 = model_3.predict_proba(X_test)\n",
    "probs_3 = probs_3[:,1]\n",
    "\n",
    "\n",
    "fpr, tpr, threshold = metrics.roc_curve(y_test, probs_3)\n",
    "roc_auc = roc_auc_score(y_test, probs_3)\n",
    "\n",
    "plt.figure()\n",
    "plt.plot([0, 1], label='Baseline', linestyle='--')\n",
    "plt.plot(fpr, tpr, label = 'Regression')\n",
    "plt.title('Logistic Regression ROC AUC = %0.3f' % roc_auc)\n",
    "plt.ylabel('True Positive Rate')\n",
    "plt.xlabel('False Positive Rate')\n",
    "plt.legend(loc = 'lower right')\n",
    "plt.show()"
   ]
  },
  {
   "cell_type": "code",
   "execution_count": 2554,
   "metadata": {},
   "outputs": [
    {
     "name": "stdout",
     "output_type": "stream",
     "text": [
      "Accuracy:0.6387096774193548\n",
      "Precision:0.5861538461538461\n",
      "Recall:0.41233766233766234\n",
      "f1: 0.4841168996188056\n"
     ]
    }
   ],
   "source": [
    "print('Accuracy:'+str(accuracy_score(y_test, y_pred_reduced)))\n",
    "print('Precision:'+str(precision_score(y_test, y_pred_reduced)))\n",
    "print('Recall:'+str(recall_score(y_test, y_pred_reduced)))\n",
    "print('f1: ' + str(f1_score(y_test, y_pred_reduced)))"
   ]
  },
  {
   "cell_type": "code",
   "execution_count": 2555,
   "metadata": {},
   "outputs": [
    {
     "data": {
      "text/plain": [
       "array([[2109,  538],\n",
       "       [1086,  762]], dtype=int64)"
      ]
     },
     "execution_count": 2555,
     "metadata": {},
     "output_type": "execute_result"
    },
    {
     "data": {
      "image/png": "[encoded data removed]",
      "text/plain": [
       "<Figure size 432x432 with 2 Axes>"
      ]
     },
     "metadata": {
      "needs_background": "light"
     },
     "output_type": "display_data"
    }
   ],
   "source": [
    "fig = plt.figure(figsize=(6, 6))\n",
    "cm3 = confusion_matrix(y_test, y_pred_reduced)\n",
    "sns.heatmap(cm2, annot = True)\n",
    "plt.xlabel('Predicted')\n",
    "plt.ylabel('Actual')\n",
    "cm3"
   ]
  },
  {
   "cell_type": "markdown",
   "metadata": {},
   "source": [
    "В результате уменьшения выборки с целью её сбалансирования наша f1-score существенно увеличился. При чем чем сильнее я урезала выборку до более сбалансированной тем больше становился он становился. \n",
    "Площать под кривой всё равно ROC AUC уменшилась. "
   ]
  },
  {
   "cell_type": "markdown",
   "metadata": {},
   "source": [
    "Воспользуемся методом coef_ для определения значимости признаков"
   ]
  },
  {
   "cell_type": "code",
   "execution_count": 2556,
   "metadata": {},
   "outputs": [
    {
     "name": "stdout",
     "output_type": "stream",
     "text": [
      "Feature: 0, Score: -0.07685\n",
      "Feature: 1, Score: 0.29395\n",
      "Feature: 2, Score: -0.10070\n",
      "Feature: 3, Score: 0.23874\n",
      "Feature: 4, Score: 0.15114\n",
      "Feature: 5, Score: 0.21672\n",
      "Feature: 6, Score: -0.01358\n",
      "Feature: 7, Score: -0.26544\n",
      "Feature: 8, Score: -0.53104\n",
      "Feature: 9, Score: -0.20688\n",
      "Feature: 10, Score: -0.58521\n",
      "Feature: 11, Score: 0.03570\n",
      "Feature: 12, Score: -0.20072\n",
      "Feature: 13, Score: 0.45138\n",
      "Feature: 14, Score: 0.30870\n",
      "Feature: 15, Score: -0.22535\n",
      "Feature: 16, Score: 0.33715\n",
      "Feature: 17, Score: -0.10195\n",
      "Feature: 18, Score: -0.20891\n",
      "Feature: 19, Score: 0.09258\n",
      "Feature: 20, Score: 0.12618\n"
     ]
    },
    {
     "data": {
      "image/png": "[encoded data removed]",
      "text/plain": [
       "<Figure size 720x720 with 1 Axes>"
      ]
     },
     "metadata": {
      "needs_background": "light"
     },
     "output_type": "display_data"
    }
   ],
   "source": [
    "importance = model_3.coef_[0]\n",
    "for i,v in enumerate(importance):\n",
    "\tprint('Feature: %0d, Score: %.5f' % (i,v))\n",
    "# plot feature importance\n",
    "plt.bar([x for x in range(len(importance))], importance)\n",
    "plt.show()"
   ]
  },
  {
   "cell_type": "markdown",
   "metadata": {},
   "source": [
    "Исходя из этого мы можем попробовать убрать фичи с наименьшим влиянием"
   ]
  },
  {
   "cell_type": "code",
   "execution_count": 2557,
   "metadata": {},
   "outputs": [],
   "source": [
    "X_reduced_4=np.delete(X_reduced, [6, 19],1)"
   ]
  },
  {
   "cell_type": "code",
   "execution_count": 2558,
   "metadata": {},
   "outputs": [],
   "source": [
    "X_train, X_test, y_train, y_test = train_test_split(X_reduced_4, y_reduced, test_size=0.2, random_state=RANDOM_SEED)"
   ]
  },
  {
   "cell_type": "code",
   "execution_count": 2559,
   "metadata": {},
   "outputs": [
    {
     "data": {
      "text/plain": [
       "LogisticRegression(max_iter=1000, random_state=42)"
      ]
     },
     "execution_count": 2559,
     "metadata": {},
     "output_type": "execute_result"
    }
   ],
   "source": [
    "model_4 = LogisticRegression(random_state=RANDOM_SEED, \n",
    "                           C=1.0, penalty= 'l2', class_weight =None,\n",
    "                           dual = False, intercept_scaling = 1,\n",
    "                          l1_ratio = None, max_iter = 1000,  n_jobs = None, tol = 0.0001, verbose = 0,warm_start = False,)\n",
    "\n",
    "model_4.fit(X_train, y_train)"
   ]
  },
  {
   "cell_type": "code",
   "execution_count": 2560,
   "metadata": {},
   "outputs": [],
   "source": [
    "y_pred_4=model_4.predict(X_test)\n"
   ]
  },
  {
   "cell_type": "code",
   "execution_count": 2561,
   "metadata": {},
   "outputs": [
    {
     "data": {
      "image/png": "[encoded data removed]",
      "text/plain": [
       "<Figure size 720x720 with 1 Axes>"
      ]
     },
     "metadata": {
      "needs_background": "light"
     },
     "output_type": "display_data"
    }
   ],
   "source": [
    "probs_4 = model_4.predict_proba(X_test)\n",
    "probs_4 = probs_4[:,1]\n",
    "\n",
    "\n",
    "fpr, tpr, threshold = metrics.roc_curve(y_test, probs_4)\n",
    "roc_auc = roc_auc_score(y_test, probs_4)\n",
    "\n",
    "plt.figure()\n",
    "plt.plot([0, 1], label='Baseline', linestyle='--')\n",
    "plt.plot(fpr, tpr, label = 'Regression')\n",
    "plt.title('Logistic Regression ROC AUC = %0.3f' % roc_auc)\n",
    "plt.ylabel('True Positive Rate')\n",
    "plt.xlabel('False Positive Rate')\n",
    "plt.legend(loc = 'lower right')\n",
    "plt.show()"
   ]
  },
  {
   "cell_type": "code",
   "execution_count": 2562,
   "metadata": {},
   "outputs": [
    {
     "name": "stdout",
     "output_type": "stream",
     "text": [
      "Accuracy:0.6387096774193548\n",
      "Precision:0.5861538461538461\n",
      "Recall:0.41233766233766234\n",
      "f1: 0.4841168996188056\n"
     ]
    }
   ],
   "source": [
    "print('Accuracy:'+str(accuracy_score(y_test, y_pred_4)))\n",
    "print('Precision:'+str(precision_score(y_test, y_pred_4)))\n",
    "print('Recall:'+str(recall_score(y_test, y_pred_4)))\n",
    "print('f1: ' + str(f1_score(y_test, y_pred_4)))"
   ]
  },
  {
   "cell_type": "code",
   "execution_count": 2563,
   "metadata": {},
   "outputs": [
    {
     "data": {
      "text/plain": [
       "array([[2109,  538],\n",
       "       [1086,  762]], dtype=int64)"
      ]
     },
     "execution_count": 2563,
     "metadata": {},
     "output_type": "execute_result"
    },
    {
     "data": {
      "image/png": "[encoded data removed]",
      "text/plain": [
       "<Figure size 432x432 with 2 Axes>"
      ]
     },
     "metadata": {
      "needs_background": "light"
     },
     "output_type": "display_data"
    }
   ],
   "source": [
    "fig = plt.figure(figsize=(6, 6))\n",
    "cm4 = confusion_matrix(y_test, y_pred_4)\n",
    "sns.heatmap(cm2, annot = True)\n",
    "plt.xlabel('Predicted')\n",
    "plt.ylabel('Actual')\n",
    "cm4"
   ]
  },
  {
   "cell_type": "markdown",
   "metadata": {},
   "source": [
    " При удаление фич с наименьшим влиянием f1-score стал меньше"
   ]
  },
  {
   "cell_type": "code",
   "execution_count": 2564,
   "metadata": {},
   "outputs": [],
   "source": [
    "y_pred_prob = model_3.predict_proba(X_Test)[:,1]\n",
    "\n",
    "\n",
    "submit = pd.DataFrame(data_test.client_id)\n",
    "submit['default']=y_pred_prob\n",
    "submit.to_csv('submission.csv', index=False)"
   ]
  },
  {
   "cell_type": "code",
   "execution_count": 2565,
   "metadata": {
    "scrolled": true
   },
   "outputs": [],
   "source": [
    "#submission_pred_prob = model_3.predict_proba(X_Test)[:,1]\n",
    "#submission_predict = model_3.predict(X_Test)\n",
    "\n",
    "#submission = pd.DataFrame({'client_id': data_test['client_id'].values, \n",
    "                            #'default': submission_pred_prob})\n",
    "#submission.to_csv('submission.csv', index=False)\n",
    "\n",
    "#submission"
   ]
  },
  {
   "cell_type": "code",
   "execution_count": null,
   "metadata": {},
   "outputs": [],
   "source": []
  }
 ],
 "metadata": {
  "kernelspec": {
   "display_name": "Python 3",
   "language": "python",
   "name": "python3"
  },
  "language_info": {
   "codemirror_mode": {
    "name": "ipython",
    "version": 3
   },
   "file_extension": ".py",
   "mimetype": "text/x-python",
   "name": "python",
   "nbconvert_exporter": "python",
   "pygments_lexer": "ipython3",
   "version": "3.7.4"
  }
 },
 "nbformat": 4,
 "nbformat_minor": 2
}
