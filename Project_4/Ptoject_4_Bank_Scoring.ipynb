{
 "cells": [
  {
   "cell_type": "markdown",
   "metadata": {},
   "source": [
    "# Проект №4: Компьютер говорит \"Нет\""
   ]
  },
  {
   "cell_type": "markdown",
   "metadata": {},
   "source": [
    "Целью проекта является написание скоринговой модели предсказания дефолта клиентов банка"
   ]
  },
  {
   "cell_type": "markdown",
   "metadata": {},
   "source": [
    "Импортируем необходимые библиотеки"
   ]
  },
  {
   "cell_type": "code",
   "execution_count": 3330,
   "metadata": {},
   "outputs": [],
   "source": [
    "\n",
    "import numpy as np \n",
    "import pandas as pd \n",
    "\n",
    "\n",
    "\n",
    "from sklearn.feature_selection import SelectKBest, chi2, f_classif, mutual_info_classif\n",
    "from sklearn.feature_selection import SelectPercentile\n",
    "from sklearn.feature_selection import SelectFpr, SelectFdr, SelectFwe\n",
    "from sklearn.feature_selection import GenericUnivariateSelect\n",
    "from sklearn.feature_selection import SelectFromModel\n",
    "from sklearn import preprocessing\n",
    "from sklearn.preprocessing import OneHotEncoder\n",
    "from sklearn import metrics\n",
    "from sklearn.metrics import roc_auc_score\n",
    "from sklearn.metrics import precision_score, recall_score\n",
    "from sklearn.metrics import f1_score\n",
    "\n",
    "\n",
    "\n",
    "from sklearn.feature_extraction import DictVectorizer\n",
    "from sklearn.feature_extraction.text import CountVectorizer, TfidfVectorizer\n",
    "\n",
    "\n",
    "\n",
    "\n",
    "from sklearn.ensemble import RandomForestClassifier\n",
    "from sklearn.svm import SVC\n",
    "\n",
    "\n",
    "from sklearn.model_selection import train_test_split\n",
    "from sklearn.metrics import accuracy_score\n",
    "from sklearn.preprocessing import StandardScaler, LabelEncoder\n",
    "from sklearn.pipeline import Pipeline\n",
    "from sklearn.linear_model import LogisticRegression\n",
    "from sklearn.metrics import confusion_matrix\n",
    "from sklearn.metrics import f1_score, accuracy_score\n",
    "\n",
    "\n",
    "import matplotlib.pyplot as plt\n",
    "import seaborn as sns\n",
    "\n",
    "import os\n",
    "for dirname, _, filenames in os.walk('/kaggle/input'):\n",
    "    for filename in filenames:\n",
    "        print(os.path.join(dirname, filename))\n",
    "        \n",
    "import datetime \n",
    "from datetime import datetime, timedelta\n"
   ]
  },
  {
   "cell_type": "markdown",
   "metadata": {},
   "source": [
    "Сохраним состояние генератора псевдослучайных чисел"
   ]
  },
  {
   "cell_type": "code",
   "execution_count": 3331,
   "metadata": {},
   "outputs": [],
   "source": [
    "RANDOM_SEED = 42"
   ]
  },
  {
   "cell_type": "markdown",
   "metadata": {},
   "source": [
    "Загрузим тренировочный и тестовый датасеты "
   ]
  },
  {
   "cell_type": "code",
   "execution_count": 3332,
   "metadata": {},
   "outputs": [],
   "source": [
    "data_train = pd.read_csv('train.csv')\n",
    "data_test = pd.read_csv('test.csv')"
   ]
  },
  {
   "cell_type": "markdown",
   "metadata": {},
   "source": [
    "Сгенерируем столбец 'Train', значения которых помогут нам различать тренировочную и тестовую выборки"
   ]
  },
  {
   "cell_type": "code",
   "execution_count": 3333,
   "metadata": {},
   "outputs": [],
   "source": [
    "data_train['Train'] = 1\n",
    "data_test['Train'] = 0 \n"
   ]
  },
  {
   "cell_type": "markdown",
   "metadata": {},
   "source": [
    "Объеденим тестовую и тренировочную выборки"
   ]
  },
  {
   "cell_type": "code",
   "execution_count": 3334,
   "metadata": {
    "scrolled": true
   },
   "outputs": [
    {
     "data": {
      "text/html": [
       "<div>\n",
       "<style scoped>\n",
       "    .dataframe tbody tr th:only-of-type {\n",
       "        vertical-align: middle;\n",
       "    }\n",
       "\n",
       "    .dataframe tbody tr th {\n",
       "        vertical-align: top;\n",
       "    }\n",
       "\n",
       "    .dataframe thead th {\n",
       "        text-align: right;\n",
       "    }\n",
       "</style>\n",
       "<table border=\"1\" class=\"dataframe\">\n",
       "  <thead>\n",
       "    <tr style=\"text-align: right;\">\n",
       "      <th></th>\n",
       "      <th>client_id</th>\n",
       "      <th>app_date</th>\n",
       "      <th>education</th>\n",
       "      <th>sex</th>\n",
       "      <th>age</th>\n",
       "      <th>car</th>\n",
       "      <th>car_type</th>\n",
       "      <th>decline_app_cnt</th>\n",
       "      <th>good_work</th>\n",
       "      <th>score_bki</th>\n",
       "      <th>bki_request_cnt</th>\n",
       "      <th>region_rating</th>\n",
       "      <th>home_address</th>\n",
       "      <th>work_address</th>\n",
       "      <th>income</th>\n",
       "      <th>sna</th>\n",
       "      <th>first_time</th>\n",
       "      <th>foreign_passport</th>\n",
       "      <th>default</th>\n",
       "      <th>Train</th>\n",
       "    </tr>\n",
       "  </thead>\n",
       "  <tbody>\n",
       "    <tr>\n",
       "      <td>0</td>\n",
       "      <td>25905</td>\n",
       "      <td>01FEB2014</td>\n",
       "      <td>SCH</td>\n",
       "      <td>M</td>\n",
       "      <td>62</td>\n",
       "      <td>Y</td>\n",
       "      <td>Y</td>\n",
       "      <td>0</td>\n",
       "      <td>0</td>\n",
       "      <td>-2.008753</td>\n",
       "      <td>1</td>\n",
       "      <td>50</td>\n",
       "      <td>1</td>\n",
       "      <td>2</td>\n",
       "      <td>18000</td>\n",
       "      <td>4</td>\n",
       "      <td>1</td>\n",
       "      <td>N</td>\n",
       "      <td>0.0</td>\n",
       "      <td>1</td>\n",
       "    </tr>\n",
       "    <tr>\n",
       "      <td>1</td>\n",
       "      <td>63161</td>\n",
       "      <td>12MAR2014</td>\n",
       "      <td>SCH</td>\n",
       "      <td>F</td>\n",
       "      <td>59</td>\n",
       "      <td>N</td>\n",
       "      <td>N</td>\n",
       "      <td>0</td>\n",
       "      <td>0</td>\n",
       "      <td>-1.532276</td>\n",
       "      <td>3</td>\n",
       "      <td>50</td>\n",
       "      <td>2</td>\n",
       "      <td>3</td>\n",
       "      <td>19000</td>\n",
       "      <td>4</td>\n",
       "      <td>1</td>\n",
       "      <td>N</td>\n",
       "      <td>0.0</td>\n",
       "      <td>1</td>\n",
       "    </tr>\n",
       "    <tr>\n",
       "      <td>2</td>\n",
       "      <td>25887</td>\n",
       "      <td>01FEB2014</td>\n",
       "      <td>SCH</td>\n",
       "      <td>M</td>\n",
       "      <td>25</td>\n",
       "      <td>Y</td>\n",
       "      <td>N</td>\n",
       "      <td>2</td>\n",
       "      <td>0</td>\n",
       "      <td>-1.408142</td>\n",
       "      <td>1</td>\n",
       "      <td>80</td>\n",
       "      <td>1</td>\n",
       "      <td>2</td>\n",
       "      <td>30000</td>\n",
       "      <td>1</td>\n",
       "      <td>4</td>\n",
       "      <td>Y</td>\n",
       "      <td>0.0</td>\n",
       "      <td>1</td>\n",
       "    </tr>\n",
       "  </tbody>\n",
       "</table>\n",
       "</div>"
      ],
      "text/plain": [
       "   client_id   app_date education sex  age car car_type  decline_app_cnt  \\\n",
       "0      25905  01FEB2014       SCH   M   62   Y        Y                0   \n",
       "1      63161  12MAR2014       SCH   F   59   N        N                0   \n",
       "2      25887  01FEB2014       SCH   M   25   Y        N                2   \n",
       "\n",
       "   good_work  score_bki  bki_request_cnt  region_rating  home_address  \\\n",
       "0          0  -2.008753                1             50             1   \n",
       "1          0  -1.532276                3             50             2   \n",
       "2          0  -1.408142                1             80             1   \n",
       "\n",
       "   work_address  income  sna  first_time foreign_passport  default  Train  \n",
       "0             2   18000    4           1                N      0.0      1  \n",
       "1             3   19000    4           1                N      0.0      1  \n",
       "2             2   30000    1           4                Y      0.0      1  "
      ]
     },
     "execution_count": 3334,
     "metadata": {},
     "output_type": "execute_result"
    }
   ],
   "source": [
    "data = data_train.append(data_test, sort=False).reset_index(drop=True) \n",
    "data.head(3)"
   ]
  },
  {
   "cell_type": "markdown",
   "metadata": {},
   "source": [
    "основная информация о данных:"
   ]
  },
  {
   "cell_type": "code",
   "execution_count": 3335,
   "metadata": {
    "scrolled": true
   },
   "outputs": [
    {
     "name": "stdout",
     "output_type": "stream",
     "text": [
      "<class 'pandas.core.frame.DataFrame'>\n",
      "RangeIndex: 110148 entries, 0 to 110147\n",
      "Data columns (total 20 columns):\n",
      "client_id           110148 non-null int64\n",
      "app_date            110148 non-null object\n",
      "education           109670 non-null object\n",
      "sex                 110148 non-null object\n",
      "age                 110148 non-null int64\n",
      "car                 110148 non-null object\n",
      "car_type            110148 non-null object\n",
      "decline_app_cnt     110148 non-null int64\n",
      "good_work           110148 non-null int64\n",
      "score_bki           110148 non-null float64\n",
      "bki_request_cnt     110148 non-null int64\n",
      "region_rating       110148 non-null int64\n",
      "home_address        110148 non-null int64\n",
      "work_address        110148 non-null int64\n",
      "income              110148 non-null int64\n",
      "sna                 110148 non-null int64\n",
      "first_time          110148 non-null int64\n",
      "foreign_passport    110148 non-null object\n",
      "default             73799 non-null float64\n",
      "Train               110148 non-null int64\n",
      "dtypes: float64(2), int64(12), object(6)\n",
      "memory usage: 16.8+ MB\n"
     ]
    }
   ],
   "source": [
    "data.info()"
   ]
  },
  {
   "cell_type": "markdown",
   "metadata": {},
   "source": [
    "Объеденённый датасет содержит 110148 строк и 20 столбцов, из которых 14 имеют числовой тип, 6 - категориальный"
   ]
  },
  {
   "cell_type": "markdown",
   "metadata": {},
   "source": [
    "При более детальном рассмотрении стало понятно, что датасет состоит из набора бинпрных, категориальных, числовых и одного временного столбца. Соеденим названия столбцов в соответствующие группы"
   ]
  },
  {
   "cell_type": "code",
   "execution_count": 3336,
   "metadata": {},
   "outputs": [],
   "source": [
    "bin_cols=['sex','car', 'car_type', 'foreign_passport', 'good_work'] #бинарные\n",
    "cat_cols=['education', 'home_address', 'work_address'] # категориальные\n",
    "num_cols=['age', 'decline_app_cnt', 'income', 'bki_request_cnt', 'timedelta'] # числовые\n",
    "time_cols = ['app_date'] # временнЫе"
   ]
  },
  {
   "cell_type": "markdown",
   "metadata": {},
   "source": [
    "Проверим датасет на наличие пропусков:"
   ]
  },
  {
   "cell_type": "code",
   "execution_count": 3337,
   "metadata": {
    "scrolled": true
   },
   "outputs": [
    {
     "data": {
      "text/plain": [
       "client_id               0\n",
       "app_date                0\n",
       "education             478\n",
       "sex                     0\n",
       "age                     0\n",
       "car                     0\n",
       "car_type                0\n",
       "decline_app_cnt         0\n",
       "good_work               0\n",
       "score_bki               0\n",
       "bki_request_cnt         0\n",
       "region_rating           0\n",
       "home_address            0\n",
       "work_address            0\n",
       "income                  0\n",
       "sna                     0\n",
       "first_time              0\n",
       "foreign_passport        0\n",
       "default             36349\n",
       "Train                   0\n",
       "dtype: int64"
      ]
     },
     "execution_count": 3337,
     "metadata": {},
     "output_type": "execute_result"
    }
   ],
   "source": [
    "data.isnull().sum()"
   ]
  },
  {
   "cell_type": "markdown",
   "metadata": {},
   "source": [
    "Мы видим, что пропуски есть только в столбце data['education']. Позже вернёмся к заполнению этих пропусков."
   ]
  },
  {
   "cell_type": "markdown",
   "metadata": {},
   "source": [
    "# Анализ данных в столбцах"
   ]
  },
  {
   "cell_type": "markdown",
   "metadata": {},
   "source": [
    "В столбце data['app_date'] содержатся текстовые данные о дате. Преобразуем их в тип datetime и посчитаем временной интервал между каждым событием и константной датой. Временные интервалы преобразуем в числовой вид"
   ]
  },
  {
   "cell_type": "code",
   "execution_count": 3338,
   "metadata": {},
   "outputs": [],
   "source": [
    "#функция преобразует значения из текстового в формат datetime\n",
    "def datefunc(row):\n",
    "    da=datetime.strptime(row['app_date'], '%d%b%Y')\n",
    "    return da"
   ]
  },
  {
   "cell_type": "code",
   "execution_count": 3339,
   "metadata": {},
   "outputs": [],
   "source": [
    "#применим вышесозданную функцию к столбцу с данными о дате\n",
    "data['app_date']=data.apply(datefunc, axis=1)"
   ]
  },
  {
   "cell_type": "markdown",
   "metadata": {},
   "source": [
    "Зададим константную дату от которой будем отсчитывать промежутки времени для всех остальных дат"
   ]
  },
  {
   "cell_type": "code",
   "execution_count": 3340,
   "metadata": {},
   "outputs": [],
   "source": [
    "const_date=data['app_date'].max()"
   ]
  },
  {
   "cell_type": "code",
   "execution_count": 3341,
   "metadata": {},
   "outputs": [],
   "source": [
    "data['timedelta']=const_date-data['app_date']  #посчитаем временные промежутки и сохраним результат в отдельный столбец\n",
    "data['timedelta']=data.apply(lambda x: x['timedelta'].total_seconds()/10000,axis=1) #приобразуем значения в числовой формат, переведя значения в секунды и поделив  его на 10000"
   ]
  },
  {
   "cell_type": "markdown",
   "metadata": {},
   "source": [
    "Убедимся, что в результате преобразования у нас появился столбец с числовыми данными о временных промежутках"
   ]
  },
  {
   "cell_type": "code",
   "execution_count": 3342,
   "metadata": {
    "scrolled": true
   },
   "outputs": [
    {
     "data": {
      "text/html": [
       "<div>\n",
       "<style scoped>\n",
       "    .dataframe tbody tr th:only-of-type {\n",
       "        vertical-align: middle;\n",
       "    }\n",
       "\n",
       "    .dataframe tbody tr th {\n",
       "        vertical-align: top;\n",
       "    }\n",
       "\n",
       "    .dataframe thead th {\n",
       "        text-align: right;\n",
       "    }\n",
       "</style>\n",
       "<table border=\"1\" class=\"dataframe\">\n",
       "  <thead>\n",
       "    <tr style=\"text-align: right;\">\n",
       "      <th></th>\n",
       "      <th>client_id</th>\n",
       "      <th>app_date</th>\n",
       "      <th>education</th>\n",
       "      <th>sex</th>\n",
       "      <th>age</th>\n",
       "      <th>car</th>\n",
       "      <th>car_type</th>\n",
       "      <th>decline_app_cnt</th>\n",
       "      <th>good_work</th>\n",
       "      <th>score_bki</th>\n",
       "      <th>...</th>\n",
       "      <th>region_rating</th>\n",
       "      <th>home_address</th>\n",
       "      <th>work_address</th>\n",
       "      <th>income</th>\n",
       "      <th>sna</th>\n",
       "      <th>first_time</th>\n",
       "      <th>foreign_passport</th>\n",
       "      <th>default</th>\n",
       "      <th>Train</th>\n",
       "      <th>timedelta</th>\n",
       "    </tr>\n",
       "  </thead>\n",
       "  <tbody>\n",
       "    <tr>\n",
       "      <td>0</td>\n",
       "      <td>25905</td>\n",
       "      <td>2014-02-01</td>\n",
       "      <td>SCH</td>\n",
       "      <td>M</td>\n",
       "      <td>62</td>\n",
       "      <td>Y</td>\n",
       "      <td>Y</td>\n",
       "      <td>0</td>\n",
       "      <td>0</td>\n",
       "      <td>-2.008753</td>\n",
       "      <td>...</td>\n",
       "      <td>50</td>\n",
       "      <td>1</td>\n",
       "      <td>2</td>\n",
       "      <td>18000</td>\n",
       "      <td>4</td>\n",
       "      <td>1</td>\n",
       "      <td>N</td>\n",
       "      <td>0.0</td>\n",
       "      <td>1</td>\n",
       "      <td>760.32</td>\n",
       "    </tr>\n",
       "    <tr>\n",
       "      <td>1</td>\n",
       "      <td>63161</td>\n",
       "      <td>2014-03-12</td>\n",
       "      <td>SCH</td>\n",
       "      <td>F</td>\n",
       "      <td>59</td>\n",
       "      <td>N</td>\n",
       "      <td>N</td>\n",
       "      <td>0</td>\n",
       "      <td>0</td>\n",
       "      <td>-1.532276</td>\n",
       "      <td>...</td>\n",
       "      <td>50</td>\n",
       "      <td>2</td>\n",
       "      <td>3</td>\n",
       "      <td>19000</td>\n",
       "      <td>4</td>\n",
       "      <td>1</td>\n",
       "      <td>N</td>\n",
       "      <td>0.0</td>\n",
       "      <td>1</td>\n",
       "      <td>423.36</td>\n",
       "    </tr>\n",
       "    <tr>\n",
       "      <td>2</td>\n",
       "      <td>25887</td>\n",
       "      <td>2014-02-01</td>\n",
       "      <td>SCH</td>\n",
       "      <td>M</td>\n",
       "      <td>25</td>\n",
       "      <td>Y</td>\n",
       "      <td>N</td>\n",
       "      <td>2</td>\n",
       "      <td>0</td>\n",
       "      <td>-1.408142</td>\n",
       "      <td>...</td>\n",
       "      <td>80</td>\n",
       "      <td>1</td>\n",
       "      <td>2</td>\n",
       "      <td>30000</td>\n",
       "      <td>1</td>\n",
       "      <td>4</td>\n",
       "      <td>Y</td>\n",
       "      <td>0.0</td>\n",
       "      <td>1</td>\n",
       "      <td>760.32</td>\n",
       "    </tr>\n",
       "  </tbody>\n",
       "</table>\n",
       "<p>3 rows × 21 columns</p>\n",
       "</div>"
      ],
      "text/plain": [
       "   client_id   app_date education sex  age car car_type  decline_app_cnt  \\\n",
       "0      25905 2014-02-01       SCH   M   62   Y        Y                0   \n",
       "1      63161 2014-03-12       SCH   F   59   N        N                0   \n",
       "2      25887 2014-02-01       SCH   M   25   Y        N                2   \n",
       "\n",
       "   good_work  score_bki  ...  region_rating  home_address  work_address  \\\n",
       "0          0  -2.008753  ...             50             1             2   \n",
       "1          0  -1.532276  ...             50             2             3   \n",
       "2          0  -1.408142  ...             80             1             2   \n",
       "\n",
       "   income  sna  first_time  foreign_passport default  Train  timedelta  \n",
       "0   18000    4           1                 N     0.0      1     760.32  \n",
       "1   19000    4           1                 N     0.0      1     423.36  \n",
       "2   30000    1           4                 Y     0.0      1     760.32  \n",
       "\n",
       "[3 rows x 21 columns]"
      ]
     },
     "execution_count": 3342,
     "metadata": {},
     "output_type": "execute_result"
    }
   ],
   "source": [
    "data.head(3)"
   ]
  },
  {
   "cell_type": "markdown",
   "metadata": {},
   "source": [
    "# Заполним пропуски"
   ]
  },
  {
   "cell_type": "markdown",
   "metadata": {},
   "source": [
    "Как мы убедились выше столбец data['education'] содержит многочисленные пропуски.\n",
    "Давайте внимательнее изучим какие ещё значения он содержит"
   ]
  },
  {
   "cell_type": "code",
   "execution_count": 3343,
   "metadata": {
    "scrolled": true
   },
   "outputs": [
    {
     "data": {
      "text/plain": [
       "<matplotlib.axes._subplots.AxesSubplot at 0x15df2acdc08>"
      ]
     },
     "execution_count": 3343,
     "metadata": {},
     "output_type": "execute_result"
    },
    {
     "data": {
      "image/png": "[encoded data removed]",
      "text/plain": [
       "<Figure size 720x720 with 1 Axes>"
      ]
     },
     "metadata": {
      "needs_background": "light"
     },
     "output_type": "display_data"
    }
   ],
   "source": [
    "data['education'].astype('str').value_counts().plot(kind='bar', grid=True, title= 'Образование клиентов')"
   ]
  },
  {
   "cell_type": "markdown",
   "metadata": {},
   "source": [
    "Мы видим, что самым популярным значением в этом столбце является школьное образование. Но, поскольку людей с высшим образованием тоже много, предположем, что люди с более высоким уровнем дохода имеют высшее образование.\n",
    "Создадим фунцию, которая в пропусках людям с уровнем дохода высшим чем третий квантиль присваивает высшее образование, остальным школьное. Скорее всего это не повлияет на работу модэли, но является отличным поводом потренироваться решать подобные задачи.\n"
   ]
  },
  {
   "cell_type": "code",
   "execution_count": 3344,
   "metadata": {},
   "outputs": [],
   "source": [
    "from functools import partial # библиотека для более высокоупорядоченных функций\n",
    "\n",
    "def fill_edu(quan75, row):   # функция принимает 2 переменные\n",
    "    edu=row['education']\n",
    "    if type(edu) is not str:   # метод \"isna\" не срабатывал, поэтому просто выполняем для всех нестроковых значений\n",
    "        if row['income'] > quan75:  # если значение дохода больше переменной quan75, значеник которой мы определим при выполнении функции\n",
    "            return 'GRD' #назначаем высшее образование\n",
    "        else:\n",
    "            return 'SCH'# в остальных случаях школу\n",
    "        \n",
    "    else:\n",
    "        return edu\n",
    "    \n"
   ]
  },
  {
   "cell_type": "markdown",
   "metadata": {},
   "source": [
    "functools.partial(func[,*args][, **keywords]) принимает на вход функцию и значение для неё"
   ]
  },
  {
   "cell_type": "code",
   "execution_count": 3345,
   "metadata": {},
   "outputs": [],
   "source": [
    "data['education']=data.apply(partial(fill_edu, data['income'].quantile(0.75)), axis=1)"
   ]
  },
  {
   "cell_type": "markdown",
   "metadata": {},
   "source": [
    "Проверим не осталось ли пропусков"
   ]
  },
  {
   "cell_type": "code",
   "execution_count": 3346,
   "metadata": {
    "scrolled": true
   },
   "outputs": [
    {
     "data": {
      "text/plain": [
       "0"
      ]
     },
     "execution_count": 3346,
     "metadata": {},
     "output_type": "execute_result"
    }
   ],
   "source": [
    "data['education'].isnull().sum()"
   ]
  },
  {
   "cell_type": "markdown",
   "metadata": {},
   "source": [
    "Создадим функцию для определения основных статистических показателей"
   ]
  },
  {
   "cell_type": "code",
   "execution_count": 3347,
   "metadata": {},
   "outputs": [],
   "source": [
    "def range_outliers(x):\n",
    "    xmedian=x.median()\n",
    "    xperc25=x.quantile(0.25)\n",
    "    xperc75=x.quantile(0.75)\n",
    "    xIQR=xperc75-xperc25\n",
    "    print('медиана:{},'.format(xmedian),'25% персентиль:{},'.format(xperc25), '75% персентиль:{},'.format(xperc75), 'IQR:{},'.format(xIQR), 'границы выбросов: [{f},{l}]'.format(f=xperc25-1.5*xIQR, l=xperc75+1.5*xIQR))"
   ]
  },
  {
   "cell_type": "markdown",
   "metadata": {},
   "source": [
    "Посмотрим на распределение числовых признаков:"
   ]
  },
  {
   "cell_type": "code",
   "execution_count": 3348,
   "metadata": {},
   "outputs": [
    {
     "data": {
      "image/png": "[encoded data removed]",
      "text/plain": [
       "<Figure size 864x288 with 2 Axes>"
      ]
     },
     "metadata": {
      "needs_background": "light"
     },
     "output_type": "display_data"
    },
    {
     "name": "stdout",
     "output_type": "stream",
     "text": [
      "медиана:37.0, 25% персентиль:30.0, 75% персентиль:48.0, IQR:18.0, границы выбросов: [3.0,75.0]\n"
     ]
    },
    {
     "data": {
      "image/png": "[encoded data removed]",
      "text/plain": [
       "<Figure size 864x288 with 2 Axes>"
      ]
     },
     "metadata": {
      "needs_background": "light"
     },
     "output_type": "display_data"
    },
    {
     "name": "stdout",
     "output_type": "stream",
     "text": [
      "медиана:0.0, 25% персентиль:0.0, 75% персентиль:0.0, IQR:0.0, границы выбросов: [0.0,0.0]\n"
     ]
    },
    {
     "data": {
      "image/png": "[encoded data removed]",
      "text/plain": [
       "<Figure size 864x288 with 2 Axes>"
      ]
     },
     "metadata": {
      "needs_background": "light"
     },
     "output_type": "display_data"
    },
    {
     "name": "stdout",
     "output_type": "stream",
     "text": [
      "медиана:30000.0, 25% персентиль:20000.0, 75% персентиль:48000.0, IQR:28000.0, границы выбросов: [-22000.0,90000.0]\n"
     ]
    },
    {
     "data": {
      "image/png": "[encoded data removed]",
      "text/plain": [
       "<Figure size 864x288 with 2 Axes>"
      ]
     },
     "metadata": {
      "needs_background": "light"
     },
     "output_type": "display_data"
    },
    {
     "name": "stdout",
     "output_type": "stream",
     "text": [
      "медиана:1.0, 25% персентиль:0.0, 75% персентиль:3.0, IQR:3.0, границы выбросов: [-4.5,7.5]\n"
     ]
    },
    {
     "data": {
      "image/png": "[encoded data removed]",
      "text/plain": [
       "<Figure size 864x288 with 2 Axes>"
      ]
     },
     "metadata": {
      "needs_background": "light"
     },
     "output_type": "display_data"
    },
    {
     "name": "stdout",
     "output_type": "stream",
     "text": [
      "медиана:492.48, 25% персентиль:259.2, 75% персентиль:743.04, IQR:483.84, границы выбросов: [-466.56,1468.8]\n"
     ]
    }
   ],
   "source": [
    "for i in num_cols:\n",
    "    \n",
    "    fig,axes=plt.subplots(1,2, figsize=(12,4))\n",
    "    \n",
    "    axes[0].hist(data[i])\n",
    "    axes[0].set_title(i+ ' гистограмма')\n",
    "    axes[1].boxplot(data[i])\n",
    "    axes[1].set_title(i+ ' боксплот')\n",
    "    plt.show()\n",
    "    range_outliers(data[i])"
   ]
  },
  {
   "cell_type": "markdown",
   "metadata": {},
   "source": [
    "После построения гистограмм стало очевидно, что распределения всех числовых переменных, кроме 'timedelta' имеют тяжёлый правый хвост. Для ролучения более равномерного распределения логарифмируем признаки. И посмотрим как изменятся графики "
   ]
  },
  {
   "cell_type": "code",
   "execution_count": 3349,
   "metadata": {
    "scrolled": false
   },
   "outputs": [
    {
     "data": {
      "image/png": "[encoded data removed]",
      "text/plain": [
       "<Figure size 720x720 with 1 Axes>"
      ]
     },
     "metadata": {
      "needs_background": "light"
     },
     "output_type": "display_data"
    },
    {
     "data": {
      "image/png": "[encoded data removed]",
      "text/plain": [
       "<Figure size 720x720 with 1 Axes>"
      ]
     },
     "metadata": {
      "needs_background": "light"
     },
     "output_type": "display_data"
    },
    {
     "data": {
      "image/png": "[encoded data removed]",
      "text/plain": [
       "<Figure size 720x720 with 1 Axes>"
      ]
     },
     "metadata": {
      "needs_background": "light"
     },
     "output_type": "display_data"
    },
    {
     "data": {
      "image/png": "[encoded data removed]",
      "text/plain": [
       "<Figure size 720x720 with 1 Axes>"
      ]
     },
     "metadata": {
      "needs_background": "light"
     },
     "output_type": "display_data"
    },
    {
     "data": {
      "image/png": "[encoded data removed]",
      "text/plain": [
       "<Figure size 720x720 with 1 Axes>"
      ]
     },
     "metadata": {
      "needs_background": "light"
     },
     "output_type": "display_data"
    }
   ],
   "source": [
    "for i in num_cols:\n",
    "    data[i] = np.log(data[i] + 1)\n",
    "    plt.figure()\n",
    "    sns.distplot(data[i][data[i] > 0].dropna(), kde = False, rug=False, color='b')\n",
    "    plt.title(i)\n",
    "    plt.show()"
   ]
  },
  {
   "cell_type": "markdown",
   "metadata": {},
   "source": [
    "Посмотрим как теперь выглядят столбцы м числовыми значениями"
   ]
  },
  {
   "cell_type": "code",
   "execution_count": 3350,
   "metadata": {},
   "outputs": [
    {
     "data": {
      "text/html": [
       "<div>\n",
       "<style scoped>\n",
       "    .dataframe tbody tr th:only-of-type {\n",
       "        vertical-align: middle;\n",
       "    }\n",
       "\n",
       "    .dataframe tbody tr th {\n",
       "        vertical-align: top;\n",
       "    }\n",
       "\n",
       "    .dataframe thead th {\n",
       "        text-align: right;\n",
       "    }\n",
       "</style>\n",
       "<table border=\"1\" class=\"dataframe\">\n",
       "  <thead>\n",
       "    <tr style=\"text-align: right;\">\n",
       "      <th></th>\n",
       "      <th>age</th>\n",
       "      <th>decline_app_cnt</th>\n",
       "      <th>income</th>\n",
       "      <th>bki_request_cnt</th>\n",
       "      <th>timedelta</th>\n",
       "    </tr>\n",
       "  </thead>\n",
       "  <tbody>\n",
       "    <tr>\n",
       "      <td>0</td>\n",
       "      <td>4.143135</td>\n",
       "      <td>0.000000</td>\n",
       "      <td>9.798183</td>\n",
       "      <td>0.693147</td>\n",
       "      <td>6.635054</td>\n",
       "    </tr>\n",
       "    <tr>\n",
       "      <td>1</td>\n",
       "      <td>4.094345</td>\n",
       "      <td>0.000000</td>\n",
       "      <td>9.852247</td>\n",
       "      <td>1.386294</td>\n",
       "      <td>6.050582</td>\n",
       "    </tr>\n",
       "    <tr>\n",
       "      <td>2</td>\n",
       "      <td>3.258097</td>\n",
       "      <td>1.098612</td>\n",
       "      <td>10.308986</td>\n",
       "      <td>0.693147</td>\n",
       "      <td>6.635054</td>\n",
       "    </tr>\n",
       "  </tbody>\n",
       "</table>\n",
       "</div>"
      ],
      "text/plain": [
       "        age  decline_app_cnt     income  bki_request_cnt  timedelta\n",
       "0  4.143135         0.000000   9.798183         0.693147   6.635054\n",
       "1  4.094345         0.000000   9.852247         1.386294   6.050582\n",
       "2  3.258097         1.098612  10.308986         0.693147   6.635054"
      ]
     },
     "execution_count": 3350,
     "metadata": {},
     "output_type": "execute_result"
    }
   ],
   "source": [
    "data[num_cols].head(3)"
   ]
  },
  {
   "cell_type": "markdown",
   "metadata": {},
   "source": [
    "# Корреляция числовых признаков"
   ]
  },
  {
   "cell_type": "code",
   "execution_count": 3351,
   "metadata": {},
   "outputs": [
    {
     "data": {
      "text/html": [
       "<div>\n",
       "<style scoped>\n",
       "    .dataframe tbody tr th:only-of-type {\n",
       "        vertical-align: middle;\n",
       "    }\n",
       "\n",
       "    .dataframe tbody tr th {\n",
       "        vertical-align: top;\n",
       "    }\n",
       "\n",
       "    .dataframe thead th {\n",
       "        text-align: right;\n",
       "    }\n",
       "</style>\n",
       "<table border=\"1\" class=\"dataframe\">\n",
       "  <thead>\n",
       "    <tr style=\"text-align: right;\">\n",
       "      <th></th>\n",
       "      <th>age</th>\n",
       "      <th>decline_app_cnt</th>\n",
       "      <th>income</th>\n",
       "      <th>bki_request_cnt</th>\n",
       "      <th>timedelta</th>\n",
       "    </tr>\n",
       "  </thead>\n",
       "  <tbody>\n",
       "    <tr>\n",
       "      <td>age</td>\n",
       "      <td>1.000000</td>\n",
       "      <td>-0.128624</td>\n",
       "      <td>-0.090734</td>\n",
       "      <td>0.050241</td>\n",
       "      <td>-0.016174</td>\n",
       "    </tr>\n",
       "    <tr>\n",
       "      <td>decline_app_cnt</td>\n",
       "      <td>-0.128624</td>\n",
       "      <td>1.000000</td>\n",
       "      <td>-0.013959</td>\n",
       "      <td>0.127531</td>\n",
       "      <td>0.020797</td>\n",
       "    </tr>\n",
       "    <tr>\n",
       "      <td>income</td>\n",
       "      <td>-0.090734</td>\n",
       "      <td>-0.013959</td>\n",
       "      <td>1.000000</td>\n",
       "      <td>0.078649</td>\n",
       "      <td>-0.004006</td>\n",
       "    </tr>\n",
       "    <tr>\n",
       "      <td>bki_request_cnt</td>\n",
       "      <td>0.050241</td>\n",
       "      <td>0.127531</td>\n",
       "      <td>0.078649</td>\n",
       "      <td>1.000000</td>\n",
       "      <td>0.001212</td>\n",
       "    </tr>\n",
       "    <tr>\n",
       "      <td>timedelta</td>\n",
       "      <td>-0.016174</td>\n",
       "      <td>0.020797</td>\n",
       "      <td>-0.004006</td>\n",
       "      <td>0.001212</td>\n",
       "      <td>1.000000</td>\n",
       "    </tr>\n",
       "  </tbody>\n",
       "</table>\n",
       "</div>"
      ],
      "text/plain": [
       "                      age  decline_app_cnt    income  bki_request_cnt  \\\n",
       "age              1.000000        -0.128624 -0.090734         0.050241   \n",
       "decline_app_cnt -0.128624         1.000000 -0.013959         0.127531   \n",
       "income          -0.090734        -0.013959  1.000000         0.078649   \n",
       "bki_request_cnt  0.050241         0.127531  0.078649         1.000000   \n",
       "timedelta       -0.016174         0.020797 -0.004006         0.001212   \n",
       "\n",
       "                 timedelta  \n",
       "age              -0.016174  \n",
       "decline_app_cnt   0.020797  \n",
       "income           -0.004006  \n",
       "bki_request_cnt   0.001212  \n",
       "timedelta         1.000000  "
      ]
     },
     "execution_count": 3351,
     "metadata": {},
     "output_type": "execute_result"
    }
   ],
   "source": [
    "correlation=data[num_cols].corr()\n",
    "correlation"
   ]
  },
  {
   "cell_type": "code",
   "execution_count": 3352,
   "metadata": {},
   "outputs": [
    {
     "data": {
      "text/plain": [
       "<matplotlib.axes._subplots.AxesSubplot at 0x15debbfdac8>"
      ]
     },
     "execution_count": 3352,
     "metadata": {},
     "output_type": "execute_result"
    },
    {
     "data": {
      "image/png": "[encoded data removed]",
      "text/plain": [
       "<Figure size 720x720 with 2 Axes>"
      ]
     },
     "metadata": {
      "needs_background": "light"
     },
     "output_type": "display_data"
    }
   ],
   "source": [
    "sns.heatmap(correlation)"
   ]
  },
  {
   "cell_type": "markdown",
   "metadata": {},
   "source": [
    "Мы видим лишь слабую между 'decline_app_cnt' и 'bki_request_cnt'. Для дальнейшей оценки проверим значимость этих признаков."
   ]
  },
  {
   "cell_type": "markdown",
   "metadata": {},
   "source": [
    "# Оценка значимости числовых признаков"
   ]
  },
  {
   "cell_type": "markdown",
   "metadata": {},
   "source": [
    "Для оценки значимости числовых переменных будем использовать функцию f_classif из библиотеки sklearn."
   ]
  },
  {
   "cell_type": "code",
   "execution_count": 3353,
   "metadata": {},
   "outputs": [
    {
     "data": {
      "text/plain": [
       "(array([  50.3805738 , 1152.93731744,  214.7905274 ,  457.59176046,\n",
       "         105.25892221]),\n",
       " array([1.27778005e-012, 8.96214000e-251, 1.44923016e-048, 3.26668128e-101,\n",
       "        1.11349182e-024]))"
      ]
     },
     "execution_count": 3353,
     "metadata": {},
     "output_type": "execute_result"
    }
   ],
   "source": [
    "\n",
    "f_classif(data[num_cols][data['Train']==1], data['default'][data['Train']==1])"
   ]
  },
  {
   "cell_type": "code",
   "execution_count": 3354,
   "metadata": {},
   "outputs": [
    {
     "data": {
      "text/plain": [
       "<matplotlib.axes._subplots.AxesSubplot at 0x15e105c7748>"
      ]
     },
     "execution_count": 3354,
     "metadata": {},
     "output_type": "execute_result"
    },
    {
     "data": {
      "image/png": "[encoded data removed]",
      "text/plain": [
       "<Figure size 720x720 with 1 Axes>"
      ]
     },
     "metadata": {
      "needs_background": "light"
     },
     "output_type": "display_data"
    }
   ],
   "source": [
    "imp_num = pd.Series(f_classif(data[num_cols][data['Train']==1], data['default'][data['Train']==1])[0], index = num_cols)\n",
    "imp_num.sort_values(inplace = True)\n",
    "imp_num.plot(kind = 'barh', title='Значимость числовых переменных')"
   ]
  },
  {
   "cell_type": "markdown",
   "metadata": {},
   "source": [
    "Согласно методу  f_classif, decline_app_cnt - самый значимый признак, в то время, как возраст клиента  имеет наименьшую значимость"
   ]
  },
  {
   "cell_type": "markdown",
   "metadata": {},
   "source": [
    "# Бинарные признаки"
   ]
  },
  {
   "cell_type": "markdown",
   "metadata": {},
   "source": [
    "Преобразуем значения бинарных признаков в нули и единицы"
   ]
  },
  {
   "cell_type": "code",
   "execution_count": 3355,
   "metadata": {},
   "outputs": [],
   "source": [
    "label_encoder = LabelEncoder()\n",
    "\n",
    "for column in bin_cols:\n",
    "    data[column] = label_encoder.fit_transform(data[column])\n",
    "    data[column] = label_encoder.fit_transform(data[column])\n"
   ]
  },
  {
   "cell_type": "code",
   "execution_count": 3356,
   "metadata": {
    "scrolled": true
   },
   "outputs": [
    {
     "data": {
      "text/html": [
       "<div>\n",
       "<style scoped>\n",
       "    .dataframe tbody tr th:only-of-type {\n",
       "        vertical-align: middle;\n",
       "    }\n",
       "\n",
       "    .dataframe tbody tr th {\n",
       "        vertical-align: top;\n",
       "    }\n",
       "\n",
       "    .dataframe thead th {\n",
       "        text-align: right;\n",
       "    }\n",
       "</style>\n",
       "<table border=\"1\" class=\"dataframe\">\n",
       "  <thead>\n",
       "    <tr style=\"text-align: right;\">\n",
       "      <th></th>\n",
       "      <th>client_id</th>\n",
       "      <th>app_date</th>\n",
       "      <th>education</th>\n",
       "      <th>sex</th>\n",
       "      <th>age</th>\n",
       "      <th>car</th>\n",
       "      <th>car_type</th>\n",
       "      <th>decline_app_cnt</th>\n",
       "      <th>good_work</th>\n",
       "      <th>score_bki</th>\n",
       "      <th>...</th>\n",
       "      <th>region_rating</th>\n",
       "      <th>home_address</th>\n",
       "      <th>work_address</th>\n",
       "      <th>income</th>\n",
       "      <th>sna</th>\n",
       "      <th>first_time</th>\n",
       "      <th>foreign_passport</th>\n",
       "      <th>default</th>\n",
       "      <th>Train</th>\n",
       "      <th>timedelta</th>\n",
       "    </tr>\n",
       "  </thead>\n",
       "  <tbody>\n",
       "    <tr>\n",
       "      <td>0</td>\n",
       "      <td>25905</td>\n",
       "      <td>2014-02-01</td>\n",
       "      <td>SCH</td>\n",
       "      <td>1</td>\n",
       "      <td>4.143135</td>\n",
       "      <td>1</td>\n",
       "      <td>1</td>\n",
       "      <td>0.0</td>\n",
       "      <td>0</td>\n",
       "      <td>-2.008753</td>\n",
       "      <td>...</td>\n",
       "      <td>50</td>\n",
       "      <td>1</td>\n",
       "      <td>2</td>\n",
       "      <td>9.798183</td>\n",
       "      <td>4</td>\n",
       "      <td>1</td>\n",
       "      <td>0</td>\n",
       "      <td>0.0</td>\n",
       "      <td>1</td>\n",
       "      <td>6.635054</td>\n",
       "    </tr>\n",
       "    <tr>\n",
       "      <td>1</td>\n",
       "      <td>63161</td>\n",
       "      <td>2014-03-12</td>\n",
       "      <td>SCH</td>\n",
       "      <td>0</td>\n",
       "      <td>4.094345</td>\n",
       "      <td>0</td>\n",
       "      <td>0</td>\n",
       "      <td>0.0</td>\n",
       "      <td>0</td>\n",
       "      <td>-1.532276</td>\n",
       "      <td>...</td>\n",
       "      <td>50</td>\n",
       "      <td>2</td>\n",
       "      <td>3</td>\n",
       "      <td>9.852247</td>\n",
       "      <td>4</td>\n",
       "      <td>1</td>\n",
       "      <td>0</td>\n",
       "      <td>0.0</td>\n",
       "      <td>1</td>\n",
       "      <td>6.050582</td>\n",
       "    </tr>\n",
       "  </tbody>\n",
       "</table>\n",
       "<p>2 rows × 21 columns</p>\n",
       "</div>"
      ],
      "text/plain": [
       "   client_id   app_date education  sex       age  car  car_type  \\\n",
       "0      25905 2014-02-01       SCH    1  4.143135    1         1   \n",
       "1      63161 2014-03-12       SCH    0  4.094345    0         0   \n",
       "\n",
       "   decline_app_cnt  good_work  score_bki  ...  region_rating  home_address  \\\n",
       "0              0.0          0  -2.008753  ...             50             1   \n",
       "1              0.0          0  -1.532276  ...             50             2   \n",
       "\n",
       "   work_address    income  sna  first_time  foreign_passport  default  Train  \\\n",
       "0             2  9.798183    4           1                 0      0.0      1   \n",
       "1             3  9.852247    4           1                 0      0.0      1   \n",
       "\n",
       "   timedelta  \n",
       "0   6.635054  \n",
       "1   6.050582  \n",
       "\n",
       "[2 rows x 21 columns]"
      ]
     },
     "execution_count": 3356,
     "metadata": {},
     "output_type": "execute_result"
    }
   ],
   "source": [
    "data.head(2)"
   ]
  },
  {
   "cell_type": "markdown",
   "metadata": {},
   "source": [
    "Посмотрим на сколько сбалансированы бибинарные признаки"
   ]
  },
  {
   "cell_type": "code",
   "execution_count": 3357,
   "metadata": {},
   "outputs": [
    {
     "data": {
      "image/png": "[encoded data removed]",
      "text/plain": [
       "<Figure size 720x720 with 1 Axes>"
      ]
     },
     "metadata": {
      "needs_background": "light"
     },
     "output_type": "display_data"
    },
    {
     "data": {
      "image/png": "[encoded data removed]",
      "text/plain": [
       "<Figure size 720x720 with 1 Axes>"
      ]
     },
     "metadata": {
      "needs_background": "light"
     },
     "output_type": "display_data"
    },
    {
     "data": {
      "image/png": "[encoded data removed]",
      "text/plain": [
       "<Figure size 720x720 with 1 Axes>"
      ]
     },
     "metadata": {
      "needs_background": "light"
     },
     "output_type": "display_data"
    },
    {
     "data": {
      "image/png": "[encoded data removed]",
      "text/plain": [
       "<Figure size 720x720 with 1 Axes>"
      ]
     },
     "metadata": {
      "needs_background": "light"
     },
     "output_type": "display_data"
    },
    {
     "data": {
      "image/png": "[encoded data removed]",
      "text/plain": [
       "<Figure size 720x720 with 1 Axes>"
      ]
     },
     "metadata": {
      "needs_background": "light"
     },
     "output_type": "display_data"
    }
   ],
   "source": [
    "for column in data[bin_cols]:\n",
    "    bin_cal_val=data[column].value_counts()\n",
    "    #bin_cal_val.plot(kind='bar', title=column)\n",
    "    sns.countplot(x=data[column], data=data[bin_cols])\n",
    "    plt.show()\n",
    "    #sns.barplot(x=bin_cal_val, data=bin_cal_val)\n"
   ]
  },
  {
   "cell_type": "markdown",
   "metadata": {},
   "source": [
    "Мы видиим, что фича о дорогой машине и хорошей работе менее всего сбалансированы."
   ]
  },
  {
   "cell_type": "markdown",
   "metadata": {},
   "source": [
    "# Категориальные признаки"
   ]
  },
  {
   "cell_type": "markdown",
   "metadata": {},
   "source": [
    "Применим к столбцу образования LabelEncoder, чтоб преобразовать его значения в числовые"
   ]
  },
  {
   "cell_type": "code",
   "execution_count": 3358,
   "metadata": {},
   "outputs": [],
   "source": [
    "le =preprocessing.LabelEncoder()\n",
    "le.fit(list(data['education'].values) )\n",
    "data['education']=le.transform(list(data['education'].values))\n",
    "data['education_label']=data['education']\n"
   ]
  },
  {
   "cell_type": "code",
   "execution_count": 3359,
   "metadata": {
    "scrolled": true
   },
   "outputs": [
    {
     "data": {
      "text/html": [
       "<div>\n",
       "<style scoped>\n",
       "    .dataframe tbody tr th:only-of-type {\n",
       "        vertical-align: middle;\n",
       "    }\n",
       "\n",
       "    .dataframe tbody tr th {\n",
       "        vertical-align: top;\n",
       "    }\n",
       "\n",
       "    .dataframe thead th {\n",
       "        text-align: right;\n",
       "    }\n",
       "</style>\n",
       "<table border=\"1\" class=\"dataframe\">\n",
       "  <thead>\n",
       "    <tr style=\"text-align: right;\">\n",
       "      <th></th>\n",
       "      <th>client_id</th>\n",
       "      <th>app_date</th>\n",
       "      <th>education</th>\n",
       "      <th>sex</th>\n",
       "      <th>age</th>\n",
       "      <th>car</th>\n",
       "      <th>car_type</th>\n",
       "      <th>decline_app_cnt</th>\n",
       "      <th>good_work</th>\n",
       "      <th>score_bki</th>\n",
       "      <th>...</th>\n",
       "      <th>home_address</th>\n",
       "      <th>work_address</th>\n",
       "      <th>income</th>\n",
       "      <th>sna</th>\n",
       "      <th>first_time</th>\n",
       "      <th>foreign_passport</th>\n",
       "      <th>default</th>\n",
       "      <th>Train</th>\n",
       "      <th>timedelta</th>\n",
       "      <th>education_label</th>\n",
       "    </tr>\n",
       "  </thead>\n",
       "  <tbody>\n",
       "    <tr>\n",
       "      <td>0</td>\n",
       "      <td>25905</td>\n",
       "      <td>2014-02-01</td>\n",
       "      <td>3</td>\n",
       "      <td>1</td>\n",
       "      <td>4.143135</td>\n",
       "      <td>1</td>\n",
       "      <td>1</td>\n",
       "      <td>0.000000</td>\n",
       "      <td>0</td>\n",
       "      <td>-2.008753</td>\n",
       "      <td>...</td>\n",
       "      <td>1</td>\n",
       "      <td>2</td>\n",
       "      <td>9.798183</td>\n",
       "      <td>4</td>\n",
       "      <td>1</td>\n",
       "      <td>0</td>\n",
       "      <td>0.0</td>\n",
       "      <td>1</td>\n",
       "      <td>6.635054</td>\n",
       "      <td>3</td>\n",
       "    </tr>\n",
       "    <tr>\n",
       "      <td>1</td>\n",
       "      <td>63161</td>\n",
       "      <td>2014-03-12</td>\n",
       "      <td>3</td>\n",
       "      <td>0</td>\n",
       "      <td>4.094345</td>\n",
       "      <td>0</td>\n",
       "      <td>0</td>\n",
       "      <td>0.000000</td>\n",
       "      <td>0</td>\n",
       "      <td>-1.532276</td>\n",
       "      <td>...</td>\n",
       "      <td>2</td>\n",
       "      <td>3</td>\n",
       "      <td>9.852247</td>\n",
       "      <td>4</td>\n",
       "      <td>1</td>\n",
       "      <td>0</td>\n",
       "      <td>0.0</td>\n",
       "      <td>1</td>\n",
       "      <td>6.050582</td>\n",
       "      <td>3</td>\n",
       "    </tr>\n",
       "    <tr>\n",
       "      <td>2</td>\n",
       "      <td>25887</td>\n",
       "      <td>2014-02-01</td>\n",
       "      <td>3</td>\n",
       "      <td>1</td>\n",
       "      <td>3.258097</td>\n",
       "      <td>1</td>\n",
       "      <td>0</td>\n",
       "      <td>1.098612</td>\n",
       "      <td>0</td>\n",
       "      <td>-1.408142</td>\n",
       "      <td>...</td>\n",
       "      <td>1</td>\n",
       "      <td>2</td>\n",
       "      <td>10.308986</td>\n",
       "      <td>1</td>\n",
       "      <td>4</td>\n",
       "      <td>1</td>\n",
       "      <td>0.0</td>\n",
       "      <td>1</td>\n",
       "      <td>6.635054</td>\n",
       "      <td>3</td>\n",
       "    </tr>\n",
       "  </tbody>\n",
       "</table>\n",
       "<p>3 rows × 22 columns</p>\n",
       "</div>"
      ],
      "text/plain": [
       "   client_id   app_date  education  sex       age  car  car_type  \\\n",
       "0      25905 2014-02-01          3    1  4.143135    1         1   \n",
       "1      63161 2014-03-12          3    0  4.094345    0         0   \n",
       "2      25887 2014-02-01          3    1  3.258097    1         0   \n",
       "\n",
       "   decline_app_cnt  good_work  score_bki  ...  home_address  work_address  \\\n",
       "0         0.000000          0  -2.008753  ...             1             2   \n",
       "1         0.000000          0  -1.532276  ...             2             3   \n",
       "2         1.098612          0  -1.408142  ...             1             2   \n",
       "\n",
       "      income  sna  first_time  foreign_passport  default  Train  timedelta  \\\n",
       "0   9.798183    4           1                 0      0.0      1   6.635054   \n",
       "1   9.852247    4           1                 0      0.0      1   6.050582   \n",
       "2  10.308986    1           4                 1      0.0      1   6.635054   \n",
       "\n",
       "   education_label  \n",
       "0                3  \n",
       "1                3  \n",
       "2                3  \n",
       "\n",
       "[3 rows x 22 columns]"
      ]
     },
     "execution_count": 3359,
     "metadata": {},
     "output_type": "execute_result"
    }
   ],
   "source": [
    "data.head(3)"
   ]
  },
  {
   "cell_type": "markdown",
   "metadata": {},
   "source": [
    "Получим расшифровку того как метод LabelEncoder переназначил категориальные значения столбца education"
   ]
  },
  {
   "cell_type": "code",
   "execution_count": 3360,
   "metadata": {
    "scrolled": true
   },
   "outputs": [
    {
     "name": "stdout",
     "output_type": "stream",
     "text": [
      "{0: 'ACD', 1: 'GRD', 2: 'PGR', 3: 'SCH', 4: 'UGR'}\n"
     ]
    }
   ],
   "source": [
    "print(dict(enumerate(le.classes_)))"
   ]
  },
  {
   "cell_type": "markdown",
   "metadata": {},
   "source": [
    "Перед тем как преобразовать категориальный признаки в векторы OneHotEncoder, оценим их значимость."
   ]
  },
  {
   "cell_type": "code",
   "execution_count": 3361,
   "metadata": {},
   "outputs": [
    {
     "data": {
      "text/plain": [
       "<matplotlib.axes._subplots.AxesSubplot at 0x15e10d137c8>"
      ]
     },
     "execution_count": 3361,
     "metadata": {},
     "output_type": "execute_result"
    },
    {
     "data": {
      "image/png": "[encoded data removed]",
      "text/plain": [
       "<Figure size 720x720 with 1 Axes>"
      ]
     },
     "metadata": {
      "needs_background": "light"
     },
     "output_type": "display_data"
    }
   ],
   "source": [
    "mutal=pd.Series(mutual_info_classif(data[cat_cols+bin_cols][data['Train']==1], data['default'][data['Train']==1], discrete_features =True), index=cat_cols+bin_cols).sort_values()\n",
    "mutal.plot(kind = 'barh', title = 'Значимость бинарных и категориальных признаков')"
   ]
  },
  {
   "cell_type": "markdown",
   "metadata": {},
   "source": [
    "Мы видим, что наибольшее влияние на модель оказывают адресс и образование, в то время, как пол влияет минимально."
   ]
  },
  {
   "cell_type": "markdown",
   "metadata": {},
   "source": [
    "Применим OneHotEncoder к категориальным признакам"
   ]
  },
  {
   "cell_type": "code",
   "execution_count": 3362,
   "metadata": {},
   "outputs": [],
   "source": [
    "X_cat = OneHotEncoder(sparse = False).fit_transform(data[cat_cols][data['Train']==1].values)\n",
    "#подготовим также тестовый данные для тестового массива\n",
    "X_cat_test = OneHotEncoder(sparse = False).fit_transform(data[cat_cols][data['Train']==0].values)\n",
    "\n"
   ]
  },
  {
   "cell_type": "markdown",
   "metadata": {},
   "source": [
    "Стандартизируем числовые переменные"
   ]
  },
  {
   "cell_type": "code",
   "execution_count": 3363,
   "metadata": {
    "scrolled": false
   },
   "outputs": [],
   "source": [
    "X_num =StandardScaler().fit_transform(data[num_cols][data['Train']==1].values)\n",
    "#подготовим также тестовый данные для тестового массива\n",
    "X_num_test =StandardScaler().fit_transform(data[num_cols][data['Train']==0].values)\n"
   ]
  },
  {
   "cell_type": "markdown",
   "metadata": {},
   "source": [
    "Теперь числовые признаки имеют одинаковый масштаб, что даёт возможность применения метода градиентного спуска"
   ]
  },
  {
   "cell_type": "markdown",
   "metadata": {},
   "source": [
    "Соеденим подготовленные данные в массивы"
   ]
  },
  {
   "cell_type": "code",
   "execution_count": 3364,
   "metadata": {},
   "outputs": [],
   "source": [
    "X=np.hstack([X_num, data[bin_cols][data['Train']==1].values, X_cat])\n",
    "y=data['default'][data['Train']==1].values"
   ]
  },
  {
   "cell_type": "code",
   "execution_count": 3365,
   "metadata": {},
   "outputs": [],
   "source": [
    "#подготовим также тестовый массив\n",
    "X_Test=np.hstack([X_num_test, data[bin_cols][data['Train']==0].values, X_cat_test])"
   ]
  },
  {
   "cell_type": "markdown",
   "metadata": {},
   "source": [
    "Поделим выборку на тренировочную и тестовую "
   ]
  },
  {
   "cell_type": "code",
   "execution_count": 3366,
   "metadata": {},
   "outputs": [],
   "source": [
    "X_train, X_test, y_train, y_test = train_test_split(X, y, test_size=0.2, random_state=RANDOM_SEED)"
   ]
  },
  {
   "cell_type": "markdown",
   "metadata": {},
   "source": [
    "Применим модель"
   ]
  },
  {
   "cell_type": "code",
   "execution_count": 3367,
   "metadata": {},
   "outputs": [
    {
     "data": {
      "text/plain": [
       "LogisticRegression(max_iter=1000)"
      ]
     },
     "execution_count": 3367,
     "metadata": {},
     "output_type": "execute_result"
    }
   ],
   "source": [
    "model_1 = LogisticRegression(max_iter=1000)\n",
    "model_1.fit(X_train, y_train)"
   ]
  },
  {
   "cell_type": "markdown",
   "metadata": {},
   "source": [
    "Предскажем значения целевой переменной для оценки работы модели"
   ]
  },
  {
   "cell_type": "code",
   "execution_count": 3368,
   "metadata": {},
   "outputs": [],
   "source": [
    "y_pred_1=model_1.predict(X_test)"
   ]
  },
  {
   "cell_type": "markdown",
   "metadata": {},
   "source": [
    "Определим метрики"
   ]
  },
  {
   "cell_type": "code",
   "execution_count": 3369,
   "metadata": {},
   "outputs": [
    {
     "name": "stdout",
     "output_type": "stream",
     "text": [
      "Accuracy:0.876219512195122\n",
      "Precision:0.5\n",
      "Recall:0.003284072249589491\n",
      "f1: 0.006525285481239804\n"
     ]
    }
   ],
   "source": [
    "print('Accuracy:'+str(accuracy_score(y_test, y_pred_1)))\n",
    "print('Precision:'+str(precision_score(y_test, y_pred_1)))\n",
    "print('Recall:'+str(recall_score(y_test, y_pred_1)))\n",
    "print('f1: ' + str(f1_score(y_test, y_pred_1)))"
   ]
  },
  {
   "cell_type": "markdown",
   "metadata": {},
   "source": [
    "Определим кривую ROC AUC  "
   ]
  },
  {
   "cell_type": "code",
   "execution_count": 3370,
   "metadata": {
    "scrolled": false
   },
   "outputs": [
    {
     "data": {
      "image/png": "[encoded data removed]",
      "text/plain": [
       "<Figure size 720x720 with 1 Axes>"
      ]
     },
     "metadata": {
      "needs_background": "light"
     },
     "output_type": "display_data"
    }
   ],
   "source": [
    "\n",
    "probs_1 = model_1.predict_proba(X_test)\n",
    "probs_1 = probs_1[:,1]\n",
    "\n",
    "\n",
    "fpr, tpr, threshold = metrics.roc_curve(y_test, probs_1)\n",
    "roc_auc = roc_auc_score(y_test, probs_1)\n",
    "\n",
    "plt.figure()\n",
    "plt.plot([0, 1], label='Baseline', linestyle='--')\n",
    "plt.plot(fpr, tpr, label = 'Regression')\n",
    "plt.title('Logistic Regression ROC AUC = %0.3f' % roc_auc)\n",
    "plt.ylabel('True Positive Rate')\n",
    "plt.xlabel('False Positive Rate')\n",
    "plt.legend(loc = 'lower right')\n",
    "plt.show()"
   ]
  },
  {
   "cell_type": "markdown",
   "metadata": {},
   "source": [
    "Матрица ошибок:"
   ]
  },
  {
   "cell_type": "code",
   "execution_count": 3371,
   "metadata": {
    "scrolled": true
   },
   "outputs": [
    {
     "data": {
      "text/plain": [
       "array([[12927,     6],\n",
       "       [ 1821,     6]], dtype=int64)"
      ]
     },
     "execution_count": 3371,
     "metadata": {},
     "output_type": "execute_result"
    },
    {
     "data": {
      "image/png": "[encoded data removed]",
      "text/plain": [
       "<Figure size 432x432 with 2 Axes>"
      ]
     },
     "metadata": {
      "needs_background": "light"
     },
     "output_type": "display_data"
    }
   ],
   "source": [
    "fig = plt.figure(figsize=(6, 6))\n",
    "cm1 = confusion_matrix(y_test, y_pred_1)\n",
    "sns.heatmap(cm1, annot = True)\n",
    "plt.xlabel('Predicted')\n",
    "plt.ylabel('Actual')\n",
    "cm1"
   ]
  },
  {
   "cell_type": "markdown",
   "metadata": {},
   "source": [
    "Видим, что наша модель имеет очень слабую предсказательную способность и не способна выявлять дефолтных клиентов"
   ]
  },
  {
   "cell_type": "markdown",
   "metadata": {},
   "source": [
    "# Займёмся подбором гиперпараметров"
   ]
  },
  {
   "cell_type": "code",
   "execution_count": 3372,
   "metadata": {
    "scrolled": false
   },
   "outputs": [
    {
     "name": "stderr",
     "output_type": "stream",
     "text": [
      "C:\\Users\\trigu\\Anaconda3\\lib\\site-packages\\sklearn\\linear_model\\_logistic.py:764: ConvergenceWarning: lbfgs failed to converge (status=1):\n",
      "STOP: TOTAL NO. of ITERATIONS REACHED LIMIT.\n",
      "\n",
      "Increase the number of iterations (max_iter) or scale the data as shown in:\n",
      "    https://scikit-learn.org/stable/modules/preprocessing.html\n",
      "Please also refer to the documentation for alternative solver options:\n",
      "    https://scikit-learn.org/stable/modules/linear_model.html#logistic-regression\n",
      "  extra_warning_msg=_LOGISTIC_SOLVER_CONVERGENCE_MSG)\n",
      "C:\\Users\\trigu\\Anaconda3\\lib\\site-packages\\sklearn\\model_selection\\_validation.py:552: FitFailedWarning: Estimator fit failed. The score on this train-test partition for these parameters will be set to nan. Details: \n",
      "Traceback (most recent call last):\n",
      "  File \"C:\\Users\\trigu\\Anaconda3\\lib\\site-packages\\sklearn\\model_selection\\_validation.py\", line 531, in _fit_and_score\n",
      "    estimator.fit(X_train, y_train, **fit_params)\n",
      "  File \"C:\\Users\\trigu\\Anaconda3\\lib\\site-packages\\sklearn\\linear_model\\_logistic.py\", line 1304, in fit\n",
      "    solver = _check_solver(self.solver, self.penalty, self.dual)\n",
      "  File \"C:\\Users\\trigu\\Anaconda3\\lib\\site-packages\\sklearn\\linear_model\\_logistic.py\", line 443, in _check_solver\n",
      "    \"got %s penalty.\" % (solver, penalty))\n",
      "ValueError: Solver lbfgs supports only 'l2' or 'none' penalties, got l1 penalty.\n",
      "\n",
      "  FitFailedWarning)\n",
      "C:\\Users\\trigu\\Anaconda3\\lib\\site-packages\\sklearn\\linear_model\\_logistic.py:764: ConvergenceWarning: lbfgs failed to converge (status=1):\n",
      "STOP: TOTAL NO. of ITERATIONS REACHED LIMIT.\n",
      "\n",
      "Increase the number of iterations (max_iter) or scale the data as shown in:\n",
      "    https://scikit-learn.org/stable/modules/preprocessing.html\n",
      "Please also refer to the documentation for alternative solver options:\n",
      "    https://scikit-learn.org/stable/modules/linear_model.html#logistic-regression\n",
      "  extra_warning_msg=_LOGISTIC_SOLVER_CONVERGENCE_MSG)\n",
      "C:\\Users\\trigu\\Anaconda3\\lib\\site-packages\\sklearn\\linear_model\\_logistic.py:764: ConvergenceWarning: lbfgs failed to converge (status=1):\n",
      "STOP: TOTAL NO. of ITERATIONS REACHED LIMIT.\n",
      "\n",
      "Increase the number of iterations (max_iter) or scale the data as shown in:\n",
      "    https://scikit-learn.org/stable/modules/preprocessing.html\n",
      "Please also refer to the documentation for alternative solver options:\n",
      "    https://scikit-learn.org/stable/modules/linear_model.html#logistic-regression\n",
      "  extra_warning_msg=_LOGISTIC_SOLVER_CONVERGENCE_MSG)\n",
      "C:\\Users\\trigu\\Anaconda3\\lib\\site-packages\\sklearn\\linear_model\\_logistic.py:764: ConvergenceWarning: lbfgs failed to converge (status=1):\n",
      "STOP: TOTAL NO. of ITERATIONS REACHED LIMIT.\n",
      "\n",
      "Increase the number of iterations (max_iter) or scale the data as shown in:\n",
      "    https://scikit-learn.org/stable/modules/preprocessing.html\n",
      "Please also refer to the documentation for alternative solver options:\n",
      "    https://scikit-learn.org/stable/modules/linear_model.html#logistic-regression\n",
      "  extra_warning_msg=_LOGISTIC_SOLVER_CONVERGENCE_MSG)\n",
      "C:\\Users\\trigu\\Anaconda3\\lib\\site-packages\\sklearn\\linear_model\\_logistic.py:764: ConvergenceWarning: lbfgs failed to converge (status=1):\n",
      "STOP: TOTAL NO. of ITERATIONS REACHED LIMIT.\n",
      "\n",
      "Increase the number of iterations (max_iter) or scale the data as shown in:\n",
      "    https://scikit-learn.org/stable/modules/preprocessing.html\n",
      "Please also refer to the documentation for alternative solver options:\n",
      "    https://scikit-learn.org/stable/modules/linear_model.html#logistic-regression\n",
      "  extra_warning_msg=_LOGISTIC_SOLVER_CONVERGENCE_MSG)\n",
      "C:\\Users\\trigu\\Anaconda3\\lib\\site-packages\\sklearn\\linear_model\\_logistic.py:764: ConvergenceWarning: lbfgs failed to converge (status=1):\n",
      "STOP: TOTAL NO. of ITERATIONS REACHED LIMIT.\n",
      "\n",
      "Increase the number of iterations (max_iter) or scale the data as shown in:\n",
      "    https://scikit-learn.org/stable/modules/preprocessing.html\n",
      "Please also refer to the documentation for alternative solver options:\n",
      "    https://scikit-learn.org/stable/modules/linear_model.html#logistic-regression\n",
      "  extra_warning_msg=_LOGISTIC_SOLVER_CONVERGENCE_MSG)\n",
      "C:\\Users\\trigu\\Anaconda3\\lib\\site-packages\\sklearn\\model_selection\\_validation.py:552: FitFailedWarning: Estimator fit failed. The score on this train-test partition for these parameters will be set to nan. Details: \n",
      "Traceback (most recent call last):\n",
      "  File \"C:\\Users\\trigu\\Anaconda3\\lib\\site-packages\\sklearn\\model_selection\\_validation.py\", line 531, in _fit_and_score\n",
      "    estimator.fit(X_train, y_train, **fit_params)\n",
      "  File \"C:\\Users\\trigu\\Anaconda3\\lib\\site-packages\\sklearn\\linear_model\\_logistic.py\", line 1304, in fit\n",
      "    solver = _check_solver(self.solver, self.penalty, self.dual)\n",
      "  File \"C:\\Users\\trigu\\Anaconda3\\lib\\site-packages\\sklearn\\linear_model\\_logistic.py\", line 443, in _check_solver\n",
      "    \"got %s penalty.\" % (solver, penalty))\n",
      "ValueError: Solver lbfgs supports only 'l2' or 'none' penalties, got l1 penalty.\n",
      "\n",
      "  FitFailedWarning)\n",
      "C:\\Users\\trigu\\Anaconda3\\lib\\site-packages\\sklearn\\linear_model\\_logistic.py:764: ConvergenceWarning: lbfgs failed to converge (status=1):\n",
      "STOP: TOTAL NO. of ITERATIONS REACHED LIMIT.\n",
      "\n",
      "Increase the number of iterations (max_iter) or scale the data as shown in:\n",
      "    https://scikit-learn.org/stable/modules/preprocessing.html\n",
      "Please also refer to the documentation for alternative solver options:\n",
      "    https://scikit-learn.org/stable/modules/linear_model.html#logistic-regression\n",
      "  extra_warning_msg=_LOGISTIC_SOLVER_CONVERGENCE_MSG)\n",
      "C:\\Users\\trigu\\Anaconda3\\lib\\site-packages\\sklearn\\linear_model\\_logistic.py:764: ConvergenceWarning: lbfgs failed to converge (status=1):\n",
      "STOP: TOTAL NO. of ITERATIONS REACHED LIMIT.\n",
      "\n",
      "Increase the number of iterations (max_iter) or scale the data as shown in:\n",
      "    https://scikit-learn.org/stable/modules/preprocessing.html\n",
      "Please also refer to the documentation for alternative solver options:\n",
      "    https://scikit-learn.org/stable/modules/linear_model.html#logistic-regression\n",
      "  extra_warning_msg=_LOGISTIC_SOLVER_CONVERGENCE_MSG)\n",
      "C:\\Users\\trigu\\Anaconda3\\lib\\site-packages\\sklearn\\linear_model\\_logistic.py:764: ConvergenceWarning: lbfgs failed to converge (status=1):\n",
      "STOP: TOTAL NO. of ITERATIONS REACHED LIMIT.\n",
      "\n",
      "Increase the number of iterations (max_iter) or scale the data as shown in:\n",
      "    https://scikit-learn.org/stable/modules/preprocessing.html\n",
      "Please also refer to the documentation for alternative solver options:\n",
      "    https://scikit-learn.org/stable/modules/linear_model.html#logistic-regression\n",
      "  extra_warning_msg=_LOGISTIC_SOLVER_CONVERGENCE_MSG)\n",
      "C:\\Users\\trigu\\Anaconda3\\lib\\site-packages\\sklearn\\model_selection\\_validation.py:552: FitFailedWarning: Estimator fit failed. The score on this train-test partition for these parameters will be set to nan. Details: \n",
      "Traceback (most recent call last):\n",
      "  File \"C:\\Users\\trigu\\Anaconda3\\lib\\site-packages\\sklearn\\model_selection\\_validation.py\", line 531, in _fit_and_score\n",
      "    estimator.fit(X_train, y_train, **fit_params)\n",
      "  File \"C:\\Users\\trigu\\Anaconda3\\lib\\site-packages\\sklearn\\linear_model\\_logistic.py\", line 1304, in fit\n",
      "    solver = _check_solver(self.solver, self.penalty, self.dual)\n",
      "  File \"C:\\Users\\trigu\\Anaconda3\\lib\\site-packages\\sklearn\\linear_model\\_logistic.py\", line 443, in _check_solver\n",
      "    \"got %s penalty.\" % (solver, penalty))\n",
      "ValueError: Solver lbfgs supports only 'l2' or 'none' penalties, got l1 penalty.\n",
      "\n",
      "  FitFailedWarning)\n",
      "C:\\Users\\trigu\\Anaconda3\\lib\\site-packages\\sklearn\\model_selection\\_validation.py:552: FitFailedWarning: Estimator fit failed. The score on this train-test partition for these parameters will be set to nan. Details: \n",
      "Traceback (most recent call last):\n",
      "  File \"C:\\Users\\trigu\\Anaconda3\\lib\\site-packages\\sklearn\\model_selection\\_validation.py\", line 531, in _fit_and_score\n",
      "    estimator.fit(X_train, y_train, **fit_params)\n",
      "  File \"C:\\Users\\trigu\\Anaconda3\\lib\\site-packages\\sklearn\\linear_model\\_logistic.py\", line 1304, in fit\n",
      "    solver = _check_solver(self.solver, self.penalty, self.dual)\n",
      "  File \"C:\\Users\\trigu\\Anaconda3\\lib\\site-packages\\sklearn\\linear_model\\_logistic.py\", line 443, in _check_solver\n",
      "    \"got %s penalty.\" % (solver, penalty))\n",
      "ValueError: Solver lbfgs supports only 'l2' or 'none' penalties, got l1 penalty.\n",
      "\n",
      "  FitFailedWarning)\n",
      "C:\\Users\\trigu\\Anaconda3\\lib\\site-packages\\sklearn\\model_selection\\_validation.py:552: FitFailedWarning: Estimator fit failed. The score on this train-test partition for these parameters will be set to nan. Details: \n",
      "Traceback (most recent call last):\n",
      "  File \"C:\\Users\\trigu\\Anaconda3\\lib\\site-packages\\sklearn\\model_selection\\_validation.py\", line 531, in _fit_and_score\n",
      "    estimator.fit(X_train, y_train, **fit_params)\n",
      "  File \"C:\\Users\\trigu\\Anaconda3\\lib\\site-packages\\sklearn\\linear_model\\_logistic.py\", line 1304, in fit\n",
      "    solver = _check_solver(self.solver, self.penalty, self.dual)\n",
      "  File \"C:\\Users\\trigu\\Anaconda3\\lib\\site-packages\\sklearn\\linear_model\\_logistic.py\", line 443, in _check_solver\n",
      "    \"got %s penalty.\" % (solver, penalty))\n",
      "ValueError: Solver lbfgs supports only 'l2' or 'none' penalties, got l1 penalty.\n",
      "\n",
      "  FitFailedWarning)\n"
     ]
    },
    {
     "name": "stderr",
     "output_type": "stream",
     "text": [
      "C:\\Users\\trigu\\Anaconda3\\lib\\site-packages\\sklearn\\model_selection\\_validation.py:552: FitFailedWarning: Estimator fit failed. The score on this train-test partition for these parameters will be set to nan. Details: \n",
      "Traceback (most recent call last):\n",
      "  File \"C:\\Users\\trigu\\Anaconda3\\lib\\site-packages\\sklearn\\model_selection\\_validation.py\", line 531, in _fit_and_score\n",
      "    estimator.fit(X_train, y_train, **fit_params)\n",
      "  File \"C:\\Users\\trigu\\Anaconda3\\lib\\site-packages\\sklearn\\linear_model\\_logistic.py\", line 1304, in fit\n",
      "    solver = _check_solver(self.solver, self.penalty, self.dual)\n",
      "  File \"C:\\Users\\trigu\\Anaconda3\\lib\\site-packages\\sklearn\\linear_model\\_logistic.py\", line 443, in _check_solver\n",
      "    \"got %s penalty.\" % (solver, penalty))\n",
      "ValueError: Solver lbfgs supports only 'l2' or 'none' penalties, got l1 penalty.\n",
      "\n",
      "  FitFailedWarning)\n",
      "C:\\Users\\trigu\\Anaconda3\\lib\\site-packages\\sklearn\\model_selection\\_validation.py:552: FitFailedWarning: Estimator fit failed. The score on this train-test partition for these parameters will be set to nan. Details: \n",
      "Traceback (most recent call last):\n",
      "  File \"C:\\Users\\trigu\\Anaconda3\\lib\\site-packages\\sklearn\\model_selection\\_validation.py\", line 531, in _fit_and_score\n",
      "    estimator.fit(X_train, y_train, **fit_params)\n",
      "  File \"C:\\Users\\trigu\\Anaconda3\\lib\\site-packages\\sklearn\\linear_model\\_logistic.py\", line 1304, in fit\n",
      "    solver = _check_solver(self.solver, self.penalty, self.dual)\n",
      "  File \"C:\\Users\\trigu\\Anaconda3\\lib\\site-packages\\sklearn\\linear_model\\_logistic.py\", line 443, in _check_solver\n",
      "    \"got %s penalty.\" % (solver, penalty))\n",
      "ValueError: Solver lbfgs supports only 'l2' or 'none' penalties, got l1 penalty.\n",
      "\n",
      "  FitFailedWarning)\n",
      "C:\\Users\\trigu\\Anaconda3\\lib\\site-packages\\sklearn\\model_selection\\_validation.py:552: FitFailedWarning: Estimator fit failed. The score on this train-test partition for these parameters will be set to nan. Details: \n",
      "Traceback (most recent call last):\n",
      "  File \"C:\\Users\\trigu\\Anaconda3\\lib\\site-packages\\sklearn\\model_selection\\_validation.py\", line 531, in _fit_and_score\n",
      "    estimator.fit(X_train, y_train, **fit_params)\n",
      "  File \"C:\\Users\\trigu\\Anaconda3\\lib\\site-packages\\sklearn\\linear_model\\_logistic.py\", line 1304, in fit\n",
      "    solver = _check_solver(self.solver, self.penalty, self.dual)\n",
      "  File \"C:\\Users\\trigu\\Anaconda3\\lib\\site-packages\\sklearn\\linear_model\\_logistic.py\", line 443, in _check_solver\n",
      "    \"got %s penalty.\" % (solver, penalty))\n",
      "ValueError: Solver lbfgs supports only 'l2' or 'none' penalties, got l1 penalty.\n",
      "\n",
      "  FitFailedWarning)\n",
      "C:\\Users\\trigu\\Anaconda3\\lib\\site-packages\\sklearn\\model_selection\\_validation.py:552: FitFailedWarning: Estimator fit failed. The score on this train-test partition for these parameters will be set to nan. Details: \n",
      "Traceback (most recent call last):\n",
      "  File \"C:\\Users\\trigu\\Anaconda3\\lib\\site-packages\\sklearn\\model_selection\\_validation.py\", line 531, in _fit_and_score\n",
      "    estimator.fit(X_train, y_train, **fit_params)\n",
      "  File \"C:\\Users\\trigu\\Anaconda3\\lib\\site-packages\\sklearn\\linear_model\\_logistic.py\", line 1304, in fit\n",
      "    solver = _check_solver(self.solver, self.penalty, self.dual)\n",
      "  File \"C:\\Users\\trigu\\Anaconda3\\lib\\site-packages\\sklearn\\linear_model\\_logistic.py\", line 443, in _check_solver\n",
      "    \"got %s penalty.\" % (solver, penalty))\n",
      "ValueError: Solver lbfgs supports only 'l2' or 'none' penalties, got l1 penalty.\n",
      "\n",
      "  FitFailedWarning)\n",
      "C:\\Users\\trigu\\Anaconda3\\lib\\site-packages\\sklearn\\model_selection\\_validation.py:552: FitFailedWarning: Estimator fit failed. The score on this train-test partition for these parameters will be set to nan. Details: \n",
      "Traceback (most recent call last):\n",
      "  File \"C:\\Users\\trigu\\Anaconda3\\lib\\site-packages\\sklearn\\model_selection\\_validation.py\", line 531, in _fit_and_score\n",
      "    estimator.fit(X_train, y_train, **fit_params)\n",
      "  File \"C:\\Users\\trigu\\Anaconda3\\lib\\site-packages\\sklearn\\linear_model\\_logistic.py\", line 1304, in fit\n",
      "    solver = _check_solver(self.solver, self.penalty, self.dual)\n",
      "  File \"C:\\Users\\trigu\\Anaconda3\\lib\\site-packages\\sklearn\\linear_model\\_logistic.py\", line 443, in _check_solver\n",
      "    \"got %s penalty.\" % (solver, penalty))\n",
      "ValueError: Solver lbfgs supports only 'l2' or 'none' penalties, got l1 penalty.\n",
      "\n",
      "  FitFailedWarning)\n"
     ]
    },
    {
     "name": "stdout",
     "output_type": "stream",
     "text": [
      "Лучшее Penalty: l2\n",
      "Лучшее C: 1.0\n"
     ]
    },
    {
     "name": "stderr",
     "output_type": "stream",
     "text": [
      "C:\\Users\\trigu\\Anaconda3\\lib\\site-packages\\sklearn\\linear_model\\_logistic.py:764: ConvergenceWarning: lbfgs failed to converge (status=1):\n",
      "STOP: TOTAL NO. of ITERATIONS REACHED LIMIT.\n",
      "\n",
      "Increase the number of iterations (max_iter) or scale the data as shown in:\n",
      "    https://scikit-learn.org/stable/modules/preprocessing.html\n",
      "Please also refer to the documentation for alternative solver options:\n",
      "    https://scikit-learn.org/stable/modules/linear_model.html#logistic-regression\n",
      "  extra_warning_msg=_LOGISTIC_SOLVER_CONVERGENCE_MSG)\n"
     ]
    }
   ],
   "source": [
    "from sklearn.model_selection import GridSearchCV\n",
    "\n",
    "# Добавим типы регуляризации\n",
    "penalty = ['l1', 'l2']\n",
    "\n",
    "iter_=50\n",
    "# Зададим ограничения для параметра регуляризации\n",
    "C = np.logspace(0, 4, 10, 20, 40 )\n",
    "\n",
    "# Создадим гиперпараметры\n",
    "hyperparameters = dict(C=C, penalty=penalty)\n",
    "\n",
    "model_1 = LogisticRegression()\n",
    "model_1.fit(X_train, y_train)\n",
    "\n",
    "# Создаем сетку поиска с использованием 5-кратной перекрестной проверки\n",
    "clf = GridSearchCV(model, hyperparameters, cv=5, verbose=0)\n",
    "\n",
    "best_model = clf.fit(X_train, y_train)\n",
    "\n",
    "# View best hyperparameters\n",
    "print('Лучшее Penalty:', best_model.best_estimator_.get_params()['penalty'])\n",
    "print('Лучшее C:', best_model.best_estimator_.get_params()['C'])\n"
   ]
  },
  {
   "cell_type": "markdown",
   "metadata": {},
   "source": [
    "Не смотря на длинное сообщение об ошибке, мы выяснили, что лучшее Penalty: l2,\n",
    "лучшее C: 1.0"
   ]
  },
  {
   "cell_type": "markdown",
   "metadata": {},
   "source": [
    "Применим вышенайденные гиперпараметры к новой модели"
   ]
  },
  {
   "cell_type": "code",
   "execution_count": 3373,
   "metadata": {},
   "outputs": [
    {
     "data": {
      "text/plain": [
       "LogisticRegression(max_iter=1000, random_state=42)"
      ]
     },
     "execution_count": 3373,
     "metadata": {},
     "output_type": "execute_result"
    }
   ],
   "source": [
    "model_2 = LogisticRegression(random_state=RANDOM_SEED, \n",
    "                           C=1.0, penalty= 'l2',  max_iter = 1000)\n",
    "\n",
    "model_2.fit(X_train, y_train)"
   ]
  },
  {
   "cell_type": "code",
   "execution_count": 3374,
   "metadata": {},
   "outputs": [],
   "source": [
    "y_pred_2=model_2.predict(X_test)"
   ]
  },
  {
   "cell_type": "markdown",
   "metadata": {},
   "source": [
    "Определим снова метрики, кривую ROC AUC и матрицу ошибок"
   ]
  },
  {
   "cell_type": "code",
   "execution_count": 3375,
   "metadata": {
    "scrolled": true
   },
   "outputs": [
    {
     "data": {
      "image/png": "[encoded data removed]",
      "text/plain": [
       "<Figure size 720x720 with 1 Axes>"
      ]
     },
     "metadata": {
      "needs_background": "light"
     },
     "output_type": "display_data"
    }
   ],
   "source": [
    "probs_2 = model_2.predict_proba(X_test)\n",
    "probs_2 = probs_2[:,1]\n",
    "\n",
    "\n",
    "fpr, tpr, threshold = metrics.roc_curve(y_test, probs_2)\n",
    "roc_auc = roc_auc_score(y_test, probs_2)\n",
    "\n",
    "plt.figure()\n",
    "plt.plot([0, 1], label='Baseline', linestyle='--')\n",
    "plt.plot(fpr, tpr, label = 'Regression')\n",
    "plt.title('Logistic Regression ROC AUC = %0.3f' % roc_auc)\n",
    "plt.ylabel('True Positive Rate')\n",
    "plt.xlabel('False Positive Rate')\n",
    "plt.legend(loc = 'lower right')\n",
    "plt.show()"
   ]
  },
  {
   "cell_type": "code",
   "execution_count": 3376,
   "metadata": {},
   "outputs": [
    {
     "name": "stdout",
     "output_type": "stream",
     "text": [
      "Accuracy:0.876219512195122\n",
      "Precision:0.5\n",
      "Recall:0.003284072249589491\n",
      "f1: 0.006525285481239804\n"
     ]
    }
   ],
   "source": [
    "print('Accuracy:'+str(accuracy_score(y_test, y_pred_2)))\n",
    "print('Precision:'+str(precision_score(y_test, y_pred_2)))\n",
    "print('Recall:'+str(recall_score(y_test, y_pred_2)))\n",
    "print('f1: ' + str(f1_score(y_test, y_pred_2)))"
   ]
  },
  {
   "cell_type": "code",
   "execution_count": 3377,
   "metadata": {},
   "outputs": [
    {
     "data": {
      "text/plain": [
       "array([[12927,     6],\n",
       "       [ 1821,     6]], dtype=int64)"
      ]
     },
     "execution_count": 3377,
     "metadata": {},
     "output_type": "execute_result"
    },
    {
     "data": {
      "image/png": "[encoded data removed]",
      "text/plain": [
       "<Figure size 432x432 with 2 Axes>"
      ]
     },
     "metadata": {
      "needs_background": "light"
     },
     "output_type": "display_data"
    }
   ],
   "source": [
    "fig = plt.figure(figsize=(6, 6))\n",
    "cm2 = confusion_matrix(y_test, y_pred_2)\n",
    "sns.heatmap(cm2, annot = True)\n",
    "plt.xlabel('Predicted')\n",
    "plt.ylabel('Actual')\n",
    "cm2"
   ]
  },
  {
   "cell_type": "markdown",
   "metadata": {},
   "source": [
    "Подстановка гиперпараметров не смогла улучшить ситуацию"
   ]
  },
  {
   "cell_type": "markdown",
   "metadata": {},
   "source": [
    "Возможно, проблемой является несбалансированность выборки по целевой переменной."
   ]
  },
  {
   "cell_type": "code",
   "execution_count": 3378,
   "metadata": {
    "scrolled": true
   },
   "outputs": [
    {
     "data": {
      "text/plain": [
       "<matplotlib.axes._subplots.AxesSubplot at 0x15dde7a0d08>"
      ]
     },
     "execution_count": 3378,
     "metadata": {},
     "output_type": "execute_result"
    },
    {
     "data": {
      "image/png": "[encoded data removed]",
      "text/plain": [
       "<Figure size 720x720 with 1 Axes>"
      ]
     },
     "metadata": {
      "needs_background": "light"
     },
     "output_type": "display_data"
    }
   ],
   "source": [
    "sns.countplot(x=data['default'], data=data_train)"
   ]
  },
  {
   "cell_type": "markdown",
   "metadata": {},
   "source": [
    "Попробуем для тренировочной выборки сократить количество недефолтных клиентов, реализуя таким образом undersampling. "
   ]
  },
  {
   "cell_type": "code",
   "execution_count": 3379,
   "metadata": {
    "scrolled": true
   },
   "outputs": [
    {
     "name": "stderr",
     "output_type": "stream",
     "text": [
      "C:\\Users\\trigu\\Anaconda3\\lib\\site-packages\\ipykernel_launcher.py:1: UserWarning: Boolean Series key will be reindexed to match DataFrame index.\n",
      "  \"\"\"Entry point for launching an IPython kernel.\n"
     ]
    },
    {
     "data": {
      "text/html": [
       "<div>\n",
       "<style scoped>\n",
       "    .dataframe tbody tr th:only-of-type {\n",
       "        vertical-align: middle;\n",
       "    }\n",
       "\n",
       "    .dataframe tbody tr th {\n",
       "        vertical-align: top;\n",
       "    }\n",
       "\n",
       "    .dataframe thead th {\n",
       "        text-align: right;\n",
       "    }\n",
       "</style>\n",
       "<table border=\"1\" class=\"dataframe\">\n",
       "  <thead>\n",
       "    <tr style=\"text-align: right;\">\n",
       "      <th></th>\n",
       "      <th>client_id</th>\n",
       "      <th>app_date</th>\n",
       "      <th>education</th>\n",
       "      <th>sex</th>\n",
       "      <th>age</th>\n",
       "      <th>car</th>\n",
       "      <th>car_type</th>\n",
       "      <th>decline_app_cnt</th>\n",
       "      <th>good_work</th>\n",
       "      <th>score_bki</th>\n",
       "      <th>...</th>\n",
       "      <th>home_address</th>\n",
       "      <th>work_address</th>\n",
       "      <th>income</th>\n",
       "      <th>sna</th>\n",
       "      <th>first_time</th>\n",
       "      <th>foreign_passport</th>\n",
       "      <th>default</th>\n",
       "      <th>Train</th>\n",
       "      <th>timedelta</th>\n",
       "      <th>education_label</th>\n",
       "    </tr>\n",
       "  </thead>\n",
       "  <tbody>\n",
       "    <tr>\n",
       "      <td>0</td>\n",
       "      <td>25905</td>\n",
       "      <td>2014-02-01</td>\n",
       "      <td>3</td>\n",
       "      <td>1</td>\n",
       "      <td>4.143135</td>\n",
       "      <td>1</td>\n",
       "      <td>1</td>\n",
       "      <td>0.000000</td>\n",
       "      <td>0</td>\n",
       "      <td>-2.008753</td>\n",
       "      <td>...</td>\n",
       "      <td>1</td>\n",
       "      <td>2</td>\n",
       "      <td>9.798183</td>\n",
       "      <td>4</td>\n",
       "      <td>1</td>\n",
       "      <td>0</td>\n",
       "      <td>0.0</td>\n",
       "      <td>1</td>\n",
       "      <td>6.635054</td>\n",
       "      <td>3</td>\n",
       "    </tr>\n",
       "    <tr>\n",
       "      <td>1</td>\n",
       "      <td>63161</td>\n",
       "      <td>2014-03-12</td>\n",
       "      <td>3</td>\n",
       "      <td>0</td>\n",
       "      <td>4.094345</td>\n",
       "      <td>0</td>\n",
       "      <td>0</td>\n",
       "      <td>0.000000</td>\n",
       "      <td>0</td>\n",
       "      <td>-1.532276</td>\n",
       "      <td>...</td>\n",
       "      <td>2</td>\n",
       "      <td>3</td>\n",
       "      <td>9.852247</td>\n",
       "      <td>4</td>\n",
       "      <td>1</td>\n",
       "      <td>0</td>\n",
       "      <td>0.0</td>\n",
       "      <td>1</td>\n",
       "      <td>6.050582</td>\n",
       "      <td>3</td>\n",
       "    </tr>\n",
       "    <tr>\n",
       "      <td>2</td>\n",
       "      <td>25887</td>\n",
       "      <td>2014-02-01</td>\n",
       "      <td>3</td>\n",
       "      <td>1</td>\n",
       "      <td>3.258097</td>\n",
       "      <td>1</td>\n",
       "      <td>0</td>\n",
       "      <td>1.098612</td>\n",
       "      <td>0</td>\n",
       "      <td>-1.408142</td>\n",
       "      <td>...</td>\n",
       "      <td>1</td>\n",
       "      <td>2</td>\n",
       "      <td>10.308986</td>\n",
       "      <td>1</td>\n",
       "      <td>4</td>\n",
       "      <td>1</td>\n",
       "      <td>0.0</td>\n",
       "      <td>1</td>\n",
       "      <td>6.635054</td>\n",
       "      <td>3</td>\n",
       "    </tr>\n",
       "  </tbody>\n",
       "</table>\n",
       "<p>3 rows × 22 columns</p>\n",
       "</div>"
      ],
      "text/plain": [
       "   client_id   app_date  education  sex       age  car  car_type  \\\n",
       "0      25905 2014-02-01          3    1  4.143135    1         1   \n",
       "1      63161 2014-03-12          3    0  4.094345    0         0   \n",
       "2      25887 2014-02-01          3    1  3.258097    1         0   \n",
       "\n",
       "   decline_app_cnt  good_work  score_bki  ...  home_address  work_address  \\\n",
       "0         0.000000          0  -2.008753  ...             1             2   \n",
       "1         0.000000          0  -1.532276  ...             2             3   \n",
       "2         1.098612          0  -1.408142  ...             1             2   \n",
       "\n",
       "      income  sna  first_time  foreign_passport  default  Train  timedelta  \\\n",
       "0   9.798183    4           1                 0      0.0      1   6.635054   \n",
       "1   9.852247    4           1                 0      0.0      1   6.050582   \n",
       "2  10.308986    1           4                 1      0.0      1   6.635054   \n",
       "\n",
       "   education_label  \n",
       "0                3  \n",
       "1                3  \n",
       "2                3  \n",
       "\n",
       "[3 rows x 22 columns]"
      ]
     },
     "execution_count": 3379,
     "metadata": {},
     "output_type": "execute_result"
    }
   ],
   "source": [
    "data_reduced_def_0=data[:15000][(data['default']==0)&(data['Train']==1)]\n",
    "data_reduced_def_0.head(3)\n"
   ]
  },
  {
   "cell_type": "code",
   "execution_count": 3380,
   "metadata": {
    "scrolled": false
   },
   "outputs": [
    {
     "data": {
      "text/html": [
       "<div>\n",
       "<style scoped>\n",
       "    .dataframe tbody tr th:only-of-type {\n",
       "        vertical-align: middle;\n",
       "    }\n",
       "\n",
       "    .dataframe tbody tr th {\n",
       "        vertical-align: top;\n",
       "    }\n",
       "\n",
       "    .dataframe thead th {\n",
       "        text-align: right;\n",
       "    }\n",
       "</style>\n",
       "<table border=\"1\" class=\"dataframe\">\n",
       "  <thead>\n",
       "    <tr style=\"text-align: right;\">\n",
       "      <th></th>\n",
       "      <th>client_id</th>\n",
       "      <th>app_date</th>\n",
       "      <th>education</th>\n",
       "      <th>sex</th>\n",
       "      <th>age</th>\n",
       "      <th>car</th>\n",
       "      <th>car_type</th>\n",
       "      <th>decline_app_cnt</th>\n",
       "      <th>good_work</th>\n",
       "      <th>score_bki</th>\n",
       "      <th>...</th>\n",
       "      <th>home_address</th>\n",
       "      <th>work_address</th>\n",
       "      <th>income</th>\n",
       "      <th>sna</th>\n",
       "      <th>first_time</th>\n",
       "      <th>foreign_passport</th>\n",
       "      <th>default</th>\n",
       "      <th>Train</th>\n",
       "      <th>timedelta</th>\n",
       "      <th>education_label</th>\n",
       "    </tr>\n",
       "  </thead>\n",
       "  <tbody>\n",
       "    <tr>\n",
       "      <td>18</td>\n",
       "      <td>26038</td>\n",
       "      <td>2014-02-02</td>\n",
       "      <td>1</td>\n",
       "      <td>0</td>\n",
       "      <td>3.610918</td>\n",
       "      <td>0</td>\n",
       "      <td>0</td>\n",
       "      <td>0.0</td>\n",
       "      <td>0</td>\n",
       "      <td>-1.971907</td>\n",
       "      <td>...</td>\n",
       "      <td>1</td>\n",
       "      <td>3</td>\n",
       "      <td>11.002117</td>\n",
       "      <td>4</td>\n",
       "      <td>1</td>\n",
       "      <td>0</td>\n",
       "      <td>1.0</td>\n",
       "      <td>1</td>\n",
       "      <td>6.623640</td>\n",
       "      <td>1</td>\n",
       "    </tr>\n",
       "    <tr>\n",
       "      <td>23</td>\n",
       "      <td>51615</td>\n",
       "      <td>2014-02-28</td>\n",
       "      <td>3</td>\n",
       "      <td>1</td>\n",
       "      <td>3.332205</td>\n",
       "      <td>1</td>\n",
       "      <td>1</td>\n",
       "      <td>0.0</td>\n",
       "      <td>0</td>\n",
       "      <td>-2.178540</td>\n",
       "      <td>...</td>\n",
       "      <td>2</td>\n",
       "      <td>3</td>\n",
       "      <td>10.915107</td>\n",
       "      <td>4</td>\n",
       "      <td>3</td>\n",
       "      <td>0</td>\n",
       "      <td>1.0</td>\n",
       "      <td>1</td>\n",
       "      <td>6.269172</td>\n",
       "      <td>3</td>\n",
       "    </tr>\n",
       "    <tr>\n",
       "      <td>24</td>\n",
       "      <td>35287</td>\n",
       "      <td>2014-02-11</td>\n",
       "      <td>3</td>\n",
       "      <td>0</td>\n",
       "      <td>3.295837</td>\n",
       "      <td>0</td>\n",
       "      <td>0</td>\n",
       "      <td>0.0</td>\n",
       "      <td>0</td>\n",
       "      <td>-1.436580</td>\n",
       "      <td>...</td>\n",
       "      <td>1</td>\n",
       "      <td>2</td>\n",
       "      <td>10.165890</td>\n",
       "      <td>1</td>\n",
       "      <td>2</td>\n",
       "      <td>0</td>\n",
       "      <td>1.0</td>\n",
       "      <td>1</td>\n",
       "      <td>6.514594</td>\n",
       "      <td>3</td>\n",
       "    </tr>\n",
       "  </tbody>\n",
       "</table>\n",
       "<p>3 rows × 22 columns</p>\n",
       "</div>"
      ],
      "text/plain": [
       "    client_id   app_date  education  sex       age  car  car_type  \\\n",
       "18      26038 2014-02-02          1    0  3.610918    0         0   \n",
       "23      51615 2014-02-28          3    1  3.332205    1         1   \n",
       "24      35287 2014-02-11          3    0  3.295837    0         0   \n",
       "\n",
       "    decline_app_cnt  good_work  score_bki  ...  home_address  work_address  \\\n",
       "18              0.0          0  -1.971907  ...             1             3   \n",
       "23              0.0          0  -2.178540  ...             2             3   \n",
       "24              0.0          0  -1.436580  ...             1             2   \n",
       "\n",
       "       income  sna  first_time  foreign_passport  default  Train  timedelta  \\\n",
       "18  11.002117    4           1                 0      1.0      1   6.623640   \n",
       "23  10.915107    4           3                 0      1.0      1   6.269172   \n",
       "24  10.165890    1           2                 0      1.0      1   6.514594   \n",
       "\n",
       "    education_label  \n",
       "18                1  \n",
       "23                3  \n",
       "24                3  \n",
       "\n",
       "[3 rows x 22 columns]"
      ]
     },
     "execution_count": 3380,
     "metadata": {},
     "output_type": "execute_result"
    }
   ],
   "source": [
    "data_reduced_def_1=data[(data_train['default']==1)&(data['Train']==1)]\n",
    "data_reduced_def_1.head(3)"
   ]
  },
  {
   "cell_type": "code",
   "execution_count": 3381,
   "metadata": {
    "scrolled": true
   },
   "outputs": [
    {
     "data": {
      "text/html": [
       "<div>\n",
       "<style scoped>\n",
       "    .dataframe tbody tr th:only-of-type {\n",
       "        vertical-align: middle;\n",
       "    }\n",
       "\n",
       "    .dataframe tbody tr th {\n",
       "        vertical-align: top;\n",
       "    }\n",
       "\n",
       "    .dataframe thead th {\n",
       "        text-align: right;\n",
       "    }\n",
       "</style>\n",
       "<table border=\"1\" class=\"dataframe\">\n",
       "  <thead>\n",
       "    <tr style=\"text-align: right;\">\n",
       "      <th></th>\n",
       "      <th>client_id</th>\n",
       "      <th>app_date</th>\n",
       "      <th>education</th>\n",
       "      <th>sex</th>\n",
       "      <th>age</th>\n",
       "      <th>car</th>\n",
       "      <th>car_type</th>\n",
       "      <th>decline_app_cnt</th>\n",
       "      <th>good_work</th>\n",
       "      <th>score_bki</th>\n",
       "      <th>...</th>\n",
       "      <th>home_address</th>\n",
       "      <th>work_address</th>\n",
       "      <th>income</th>\n",
       "      <th>sna</th>\n",
       "      <th>first_time</th>\n",
       "      <th>foreign_passport</th>\n",
       "      <th>default</th>\n",
       "      <th>Train</th>\n",
       "      <th>timedelta</th>\n",
       "      <th>education_label</th>\n",
       "    </tr>\n",
       "  </thead>\n",
       "  <tbody>\n",
       "    <tr>\n",
       "      <td>0</td>\n",
       "      <td>25905</td>\n",
       "      <td>2014-02-01</td>\n",
       "      <td>3</td>\n",
       "      <td>1</td>\n",
       "      <td>4.143135</td>\n",
       "      <td>1</td>\n",
       "      <td>1</td>\n",
       "      <td>0.000000</td>\n",
       "      <td>0</td>\n",
       "      <td>-2.008753</td>\n",
       "      <td>...</td>\n",
       "      <td>1</td>\n",
       "      <td>2</td>\n",
       "      <td>9.798183</td>\n",
       "      <td>4</td>\n",
       "      <td>1</td>\n",
       "      <td>0</td>\n",
       "      <td>0.0</td>\n",
       "      <td>1</td>\n",
       "      <td>6.635054</td>\n",
       "      <td>3</td>\n",
       "    </tr>\n",
       "    <tr>\n",
       "      <td>1</td>\n",
       "      <td>63161</td>\n",
       "      <td>2014-03-12</td>\n",
       "      <td>3</td>\n",
       "      <td>0</td>\n",
       "      <td>4.094345</td>\n",
       "      <td>0</td>\n",
       "      <td>0</td>\n",
       "      <td>0.000000</td>\n",
       "      <td>0</td>\n",
       "      <td>-1.532276</td>\n",
       "      <td>...</td>\n",
       "      <td>2</td>\n",
       "      <td>3</td>\n",
       "      <td>9.852247</td>\n",
       "      <td>4</td>\n",
       "      <td>1</td>\n",
       "      <td>0</td>\n",
       "      <td>0.0</td>\n",
       "      <td>1</td>\n",
       "      <td>6.050582</td>\n",
       "      <td>3</td>\n",
       "    </tr>\n",
       "    <tr>\n",
       "      <td>2</td>\n",
       "      <td>25887</td>\n",
       "      <td>2014-02-01</td>\n",
       "      <td>3</td>\n",
       "      <td>1</td>\n",
       "      <td>3.258097</td>\n",
       "      <td>1</td>\n",
       "      <td>0</td>\n",
       "      <td>1.098612</td>\n",
       "      <td>0</td>\n",
       "      <td>-1.408142</td>\n",
       "      <td>...</td>\n",
       "      <td>1</td>\n",
       "      <td>2</td>\n",
       "      <td>10.308986</td>\n",
       "      <td>1</td>\n",
       "      <td>4</td>\n",
       "      <td>1</td>\n",
       "      <td>0.0</td>\n",
       "      <td>1</td>\n",
       "      <td>6.635054</td>\n",
       "      <td>3</td>\n",
       "    </tr>\n",
       "  </tbody>\n",
       "</table>\n",
       "<p>3 rows × 22 columns</p>\n",
       "</div>"
      ],
      "text/plain": [
       "   client_id   app_date  education  sex       age  car  car_type  \\\n",
       "0      25905 2014-02-01          3    1  4.143135    1         1   \n",
       "1      63161 2014-03-12          3    0  4.094345    0         0   \n",
       "2      25887 2014-02-01          3    1  3.258097    1         0   \n",
       "\n",
       "   decline_app_cnt  good_work  score_bki  ...  home_address  work_address  \\\n",
       "0         0.000000          0  -2.008753  ...             1             2   \n",
       "1         0.000000          0  -1.532276  ...             2             3   \n",
       "2         1.098612          0  -1.408142  ...             1             2   \n",
       "\n",
       "      income  sna  first_time  foreign_passport  default  Train  timedelta  \\\n",
       "0   9.798183    4           1                 0      0.0      1   6.635054   \n",
       "1   9.852247    4           1                 0      0.0      1   6.050582   \n",
       "2  10.308986    1           4                 1      0.0      1   6.635054   \n",
       "\n",
       "   education_label  \n",
       "0                3  \n",
       "1                3  \n",
       "2                3  \n",
       "\n",
       "[3 rows x 22 columns]"
      ]
     },
     "execution_count": 3381,
     "metadata": {},
     "output_type": "execute_result"
    }
   ],
   "source": [
    "data_reduced=data_reduced_def_0.append(data_reduced_def_1)\n",
    "data_reduced.head(3)"
   ]
  },
  {
   "cell_type": "markdown",
   "metadata": {},
   "source": [
    "таким образом мы сократили выборку, но сделали ее более сбалансированной по целевой переменной."
   ]
  },
  {
   "cell_type": "code",
   "execution_count": 3382,
   "metadata": {
    "scrolled": true
   },
   "outputs": [
    {
     "data": {
      "text/plain": [
       "<matplotlib.axes._subplots.AxesSubplot at 0x15dd5acc988>"
      ]
     },
     "execution_count": 3382,
     "metadata": {},
     "output_type": "execute_result"
    },
    {
     "data": {
      "image/png": "[encoded data removed]",
      "text/plain": [
       "<Figure size 720x720 with 1 Axes>"
      ]
     },
     "metadata": {
      "needs_background": "light"
     },
     "output_type": "display_data"
    }
   ],
   "source": [
    "sns.countplot(x=data_reduced['default'], data=data_reduced)  \n"
   ]
  },
  {
   "cell_type": "code",
   "execution_count": 3383,
   "metadata": {},
   "outputs": [],
   "source": [
    "\n",
    "#data_reduced=data_reduced.drop(['age', 'sex', 'client_id', 'app_date'], axis=1)\n"
   ]
  },
  {
   "cell_type": "markdown",
   "metadata": {},
   "source": [
    "Попробуем избавиться от выбросов для некоторых числовых признаков"
   ]
  },
  {
   "cell_type": "markdown",
   "metadata": {},
   "source": [
    "Сначала определим выбросы"
   ]
  },
  {
   "cell_type": "code",
   "execution_count": 3384,
   "metadata": {},
   "outputs": [
    {
     "name": "stdout",
     "output_type": "stream",
     "text": [
      "медиана:10.308985993422082, 25% персентиль:9.90353755128617, 75% персентиль:10.714439990727769, IQR:0.8109024394415982, границы выбросов: [8.687183892123773,11.930793649890166]\n"
     ]
    }
   ],
   "source": [
    "range_outliers(data_reduced['income'])"
   ]
  },
  {
   "cell_type": "code",
   "execution_count": 3385,
   "metadata": {
    "scrolled": false
   },
   "outputs": [
    {
     "name": "stdout",
     "output_type": "stream",
     "text": [
      "медиана:1.0986122886681098, 25% персентиль:0.6931471805599453, 75% персентиль:1.3862943611198906, IQR:0.6931471805599453, границы выбросов: [-0.3465735902799726,2.4260151319598084]\n"
     ]
    }
   ],
   "source": [
    "range_outliers(data_reduced['bki_request_cnt'])"
   ]
  },
  {
   "cell_type": "markdown",
   "metadata": {},
   "source": [
    "Отфильтруем значения 'income' и 'bki_request_cnt' превышающие границы выбросов"
   ]
  },
  {
   "cell_type": "code",
   "execution_count": 3386,
   "metadata": {
    "scrolled": true
   },
   "outputs": [
    {
     "data": {
      "text/html": [
       "<div>\n",
       "<style scoped>\n",
       "    .dataframe tbody tr th:only-of-type {\n",
       "        vertical-align: middle;\n",
       "    }\n",
       "\n",
       "    .dataframe tbody tr th {\n",
       "        vertical-align: top;\n",
       "    }\n",
       "\n",
       "    .dataframe thead th {\n",
       "        text-align: right;\n",
       "    }\n",
       "</style>\n",
       "<table border=\"1\" class=\"dataframe\">\n",
       "  <thead>\n",
       "    <tr style=\"text-align: right;\">\n",
       "      <th></th>\n",
       "      <th>client_id</th>\n",
       "      <th>app_date</th>\n",
       "      <th>education</th>\n",
       "      <th>sex</th>\n",
       "      <th>age</th>\n",
       "      <th>car</th>\n",
       "      <th>car_type</th>\n",
       "      <th>decline_app_cnt</th>\n",
       "      <th>good_work</th>\n",
       "      <th>score_bki</th>\n",
       "      <th>...</th>\n",
       "      <th>home_address</th>\n",
       "      <th>work_address</th>\n",
       "      <th>income</th>\n",
       "      <th>sna</th>\n",
       "      <th>first_time</th>\n",
       "      <th>foreign_passport</th>\n",
       "      <th>default</th>\n",
       "      <th>Train</th>\n",
       "      <th>timedelta</th>\n",
       "      <th>education_label</th>\n",
       "    </tr>\n",
       "  </thead>\n",
       "  <tbody>\n",
       "    <tr>\n",
       "      <td>0</td>\n",
       "      <td>25905</td>\n",
       "      <td>2014-02-01</td>\n",
       "      <td>3</td>\n",
       "      <td>1</td>\n",
       "      <td>4.143135</td>\n",
       "      <td>1</td>\n",
       "      <td>1</td>\n",
       "      <td>0.000000</td>\n",
       "      <td>0</td>\n",
       "      <td>-2.008753</td>\n",
       "      <td>...</td>\n",
       "      <td>1</td>\n",
       "      <td>2</td>\n",
       "      <td>9.798183</td>\n",
       "      <td>4</td>\n",
       "      <td>1</td>\n",
       "      <td>0</td>\n",
       "      <td>0.0</td>\n",
       "      <td>1</td>\n",
       "      <td>6.635054</td>\n",
       "      <td>3</td>\n",
       "    </tr>\n",
       "    <tr>\n",
       "      <td>1</td>\n",
       "      <td>63161</td>\n",
       "      <td>2014-03-12</td>\n",
       "      <td>3</td>\n",
       "      <td>0</td>\n",
       "      <td>4.094345</td>\n",
       "      <td>0</td>\n",
       "      <td>0</td>\n",
       "      <td>0.000000</td>\n",
       "      <td>0</td>\n",
       "      <td>-1.532276</td>\n",
       "      <td>...</td>\n",
       "      <td>2</td>\n",
       "      <td>3</td>\n",
       "      <td>9.852247</td>\n",
       "      <td>4</td>\n",
       "      <td>1</td>\n",
       "      <td>0</td>\n",
       "      <td>0.0</td>\n",
       "      <td>1</td>\n",
       "      <td>6.050582</td>\n",
       "      <td>3</td>\n",
       "    </tr>\n",
       "    <tr>\n",
       "      <td>2</td>\n",
       "      <td>25887</td>\n",
       "      <td>2014-02-01</td>\n",
       "      <td>3</td>\n",
       "      <td>1</td>\n",
       "      <td>3.258097</td>\n",
       "      <td>1</td>\n",
       "      <td>0</td>\n",
       "      <td>1.098612</td>\n",
       "      <td>0</td>\n",
       "      <td>-1.408142</td>\n",
       "      <td>...</td>\n",
       "      <td>1</td>\n",
       "      <td>2</td>\n",
       "      <td>10.308986</td>\n",
       "      <td>1</td>\n",
       "      <td>4</td>\n",
       "      <td>1</td>\n",
       "      <td>0.0</td>\n",
       "      <td>1</td>\n",
       "      <td>6.635054</td>\n",
       "      <td>3</td>\n",
       "    </tr>\n",
       "  </tbody>\n",
       "</table>\n",
       "<p>3 rows × 22 columns</p>\n",
       "</div>"
      ],
      "text/plain": [
       "   client_id   app_date  education  sex       age  car  car_type  \\\n",
       "0      25905 2014-02-01          3    1  4.143135    1         1   \n",
       "1      63161 2014-03-12          3    0  4.094345    0         0   \n",
       "2      25887 2014-02-01          3    1  3.258097    1         0   \n",
       "\n",
       "   decline_app_cnt  good_work  score_bki  ...  home_address  work_address  \\\n",
       "0         0.000000          0  -2.008753  ...             1             2   \n",
       "1         0.000000          0  -1.532276  ...             2             3   \n",
       "2         1.098612          0  -1.408142  ...             1             2   \n",
       "\n",
       "      income  sna  first_time  foreign_passport  default  Train  timedelta  \\\n",
       "0   9.798183    4           1                 0      0.0      1   6.635054   \n",
       "1   9.852247    4           1                 0      0.0      1   6.050582   \n",
       "2  10.308986    1           4                 1      0.0      1   6.635054   \n",
       "\n",
       "   education_label  \n",
       "0                3  \n",
       "1                3  \n",
       "2                3  \n",
       "\n",
       "[3 rows x 22 columns]"
      ]
     },
     "execution_count": 3386,
     "metadata": {},
     "output_type": "execute_result"
    }
   ],
   "source": [
    "data_reduced=data_reduced[(data_reduced['income']<62484.64)& (data_reduced['bki_request_cnt']<3.96)]\n",
    "data_reduced.head(3)"
   ]
  },
  {
   "cell_type": "markdown",
   "metadata": {},
   "source": [
    "Применем всё те же преобразования данных"
   ]
  },
  {
   "cell_type": "code",
   "execution_count": 3387,
   "metadata": {
    "scrolled": false
   },
   "outputs": [],
   "source": [
    "for column in bin_cols:\n",
    "    \n",
    "    data_reduced[column] = label_encoder.fit_transform(data_reduced[column][data['Train']==1])"
   ]
  },
  {
   "cell_type": "code",
   "execution_count": 3388,
   "metadata": {},
   "outputs": [
    {
     "data": {
      "text/html": [
       "<div>\n",
       "<style scoped>\n",
       "    .dataframe tbody tr th:only-of-type {\n",
       "        vertical-align: middle;\n",
       "    }\n",
       "\n",
       "    .dataframe tbody tr th {\n",
       "        vertical-align: top;\n",
       "    }\n",
       "\n",
       "    .dataframe thead th {\n",
       "        text-align: right;\n",
       "    }\n",
       "</style>\n",
       "<table border=\"1\" class=\"dataframe\">\n",
       "  <thead>\n",
       "    <tr style=\"text-align: right;\">\n",
       "      <th></th>\n",
       "      <th>client_id</th>\n",
       "      <th>app_date</th>\n",
       "      <th>education</th>\n",
       "      <th>sex</th>\n",
       "      <th>age</th>\n",
       "      <th>car</th>\n",
       "      <th>car_type</th>\n",
       "      <th>decline_app_cnt</th>\n",
       "      <th>good_work</th>\n",
       "      <th>score_bki</th>\n",
       "      <th>...</th>\n",
       "      <th>home_address</th>\n",
       "      <th>work_address</th>\n",
       "      <th>income</th>\n",
       "      <th>sna</th>\n",
       "      <th>first_time</th>\n",
       "      <th>foreign_passport</th>\n",
       "      <th>default</th>\n",
       "      <th>Train</th>\n",
       "      <th>timedelta</th>\n",
       "      <th>education_label</th>\n",
       "    </tr>\n",
       "  </thead>\n",
       "  <tbody>\n",
       "    <tr>\n",
       "      <td>0</td>\n",
       "      <td>25905</td>\n",
       "      <td>2014-02-01</td>\n",
       "      <td>3</td>\n",
       "      <td>1</td>\n",
       "      <td>1.637663</td>\n",
       "      <td>1</td>\n",
       "      <td>1</td>\n",
       "      <td>0.000000</td>\n",
       "      <td>0</td>\n",
       "      <td>-2.008753</td>\n",
       "      <td>...</td>\n",
       "      <td>1</td>\n",
       "      <td>2</td>\n",
       "      <td>2.379378</td>\n",
       "      <td>4</td>\n",
       "      <td>1</td>\n",
       "      <td>0</td>\n",
       "      <td>0.0</td>\n",
       "      <td>1</td>\n",
       "      <td>2.03275</td>\n",
       "      <td>3</td>\n",
       "    </tr>\n",
       "    <tr>\n",
       "      <td>1</td>\n",
       "      <td>63161</td>\n",
       "      <td>2014-03-12</td>\n",
       "      <td>3</td>\n",
       "      <td>0</td>\n",
       "      <td>1.628131</td>\n",
       "      <td>0</td>\n",
       "      <td>0</td>\n",
       "      <td>0.000000</td>\n",
       "      <td>0</td>\n",
       "      <td>-1.532276</td>\n",
       "      <td>...</td>\n",
       "      <td>2</td>\n",
       "      <td>3</td>\n",
       "      <td>2.384372</td>\n",
       "      <td>4</td>\n",
       "      <td>1</td>\n",
       "      <td>0</td>\n",
       "      <td>0.0</td>\n",
       "      <td>1</td>\n",
       "      <td>1.95311</td>\n",
       "      <td>3</td>\n",
       "    </tr>\n",
       "    <tr>\n",
       "      <td>2</td>\n",
       "      <td>25887</td>\n",
       "      <td>2014-02-01</td>\n",
       "      <td>3</td>\n",
       "      <td>1</td>\n",
       "      <td>1.448822</td>\n",
       "      <td>1</td>\n",
       "      <td>0</td>\n",
       "      <td>0.741276</td>\n",
       "      <td>0</td>\n",
       "      <td>-1.408142</td>\n",
       "      <td>...</td>\n",
       "      <td>1</td>\n",
       "      <td>2</td>\n",
       "      <td>2.425598</td>\n",
       "      <td>1</td>\n",
       "      <td>4</td>\n",
       "      <td>1</td>\n",
       "      <td>0.0</td>\n",
       "      <td>1</td>\n",
       "      <td>2.03275</td>\n",
       "      <td>3</td>\n",
       "    </tr>\n",
       "  </tbody>\n",
       "</table>\n",
       "<p>3 rows × 22 columns</p>\n",
       "</div>"
      ],
      "text/plain": [
       "   client_id   app_date  education  sex       age  car  car_type  \\\n",
       "0      25905 2014-02-01          3    1  1.637663    1         1   \n",
       "1      63161 2014-03-12          3    0  1.628131    0         0   \n",
       "2      25887 2014-02-01          3    1  1.448822    1         0   \n",
       "\n",
       "   decline_app_cnt  good_work  score_bki  ...  home_address  work_address  \\\n",
       "0         0.000000          0  -2.008753  ...             1             2   \n",
       "1         0.000000          0  -1.532276  ...             2             3   \n",
       "2         0.741276          0  -1.408142  ...             1             2   \n",
       "\n",
       "     income  sna  first_time  foreign_passport  default  Train  timedelta  \\\n",
       "0  2.379378    4           1                 0      0.0      1    2.03275   \n",
       "1  2.384372    4           1                 0      0.0      1    1.95311   \n",
       "2  2.425598    1           4                 1      0.0      1    2.03275   \n",
       "\n",
       "   education_label  \n",
       "0                3  \n",
       "1                3  \n",
       "2                3  \n",
       "\n",
       "[3 rows x 22 columns]"
      ]
     },
     "execution_count": 3388,
     "metadata": {},
     "output_type": "execute_result"
    }
   ],
   "source": [
    "for column in num_cols:\n",
    "    data_reduced[column] = np.log(data_reduced[column] + 1)\n",
    "data_reduced.head(3)   "
   ]
  },
  {
   "cell_type": "code",
   "execution_count": 3389,
   "metadata": {},
   "outputs": [],
   "source": [
    "X_cat_reduced = OneHotEncoder(sparse = False).fit_transform(data_reduced[cat_cols].values)"
   ]
  },
  {
   "cell_type": "code",
   "execution_count": 3390,
   "metadata": {},
   "outputs": [],
   "source": [
    "X_num_reduced =StandardScaler().fit_transform(data_reduced[num_cols].values)"
   ]
  },
  {
   "cell_type": "markdown",
   "metadata": {},
   "source": [
    "Объеденим новый тренировочный массив и вектор целевой переменной"
   ]
  },
  {
   "cell_type": "code",
   "execution_count": 3391,
   "metadata": {},
   "outputs": [],
   "source": [
    "X_reduced=np.hstack([X_num_reduced, data_reduced[bin_cols].values, X_cat_reduced])\n",
    "y_reduced=data_reduced['default'].values"
   ]
  },
  {
   "cell_type": "markdown",
   "metadata": {},
   "source": [
    "Разделим массивы на тренировочный и тестовый сет"
   ]
  },
  {
   "cell_type": "code",
   "execution_count": 3392,
   "metadata": {},
   "outputs": [],
   "source": [
    "X_train, X_test, y_train, y_test = train_test_split(X_reduced, y_reduced, test_size=0.2, random_state=RANDOM_SEED)"
   ]
  },
  {
   "cell_type": "markdown",
   "metadata": {},
   "source": [
    "создадим и применим модель"
   ]
  },
  {
   "cell_type": "code",
   "execution_count": 3393,
   "metadata": {},
   "outputs": [
    {
     "data": {
      "text/plain": [
       "LogisticRegression(max_iter=1000, random_state=42)"
      ]
     },
     "execution_count": 3393,
     "metadata": {},
     "output_type": "execute_result"
    }
   ],
   "source": [
    "model_3 = LogisticRegression(random_state=RANDOM_SEED, \n",
    "                           C=1.0, penalty= 'l2', class_weight =None,\n",
    "                           dual = False, fit_intercept =True, intercept_scaling = 1,\n",
    "                          l1_ratio = None, max_iter = 1000,  n_jobs = None, tol = 0.0001, verbose = 0,warm_start = False,)\n",
    "\n",
    "model_3.fit(X_train, y_train)"
   ]
  },
  {
   "cell_type": "markdown",
   "metadata": {},
   "source": [
    "предскажем значения "
   ]
  },
  {
   "cell_type": "code",
   "execution_count": 3394,
   "metadata": {},
   "outputs": [],
   "source": [
    "y_pred_reduced=model_3.predict(X_test)"
   ]
  },
  {
   "cell_type": "markdown",
   "metadata": {},
   "source": [
    "Определим снова метрики, кривую ROC AUC и матрицу ошибок"
   ]
  },
  {
   "cell_type": "code",
   "execution_count": 3395,
   "metadata": {
    "scrolled": true
   },
   "outputs": [
    {
     "data": {
      "image/png": "[encoded data removed]",
      "text/plain": [
       "<Figure size 720x720 with 1 Axes>"
      ]
     },
     "metadata": {
      "needs_background": "light"
     },
     "output_type": "display_data"
    }
   ],
   "source": [
    "probs_3 = model_3.predict_proba(X_test)\n",
    "probs_3 = probs_3[:,1]\n",
    "\n",
    "\n",
    "fpr, tpr, threshold = metrics.roc_curve(y_test, probs_3)\n",
    "roc_auc = roc_auc_score(y_test, probs_3)\n",
    "\n",
    "plt.figure()\n",
    "plt.plot([0, 1], label='Baseline', linestyle='--')\n",
    "plt.plot(fpr, tpr, label = 'Regression')\n",
    "plt.title('Logistic Regression ROC AUC = %0.3f' % roc_auc)\n",
    "plt.ylabel('True Positive Rate')\n",
    "plt.xlabel('False Positive Rate')\n",
    "plt.legend(loc = 'lower right')\n",
    "plt.show()"
   ]
  },
  {
   "cell_type": "code",
   "execution_count": 3396,
   "metadata": {},
   "outputs": [
    {
     "name": "stdout",
     "output_type": "stream",
     "text": [
      "Accuracy:0.6402669632925473\n",
      "Precision:0.5873015873015873\n",
      "Recall:0.42045454545454547\n",
      "f1: 0.4900662251655629\n"
     ]
    }
   ],
   "source": [
    "print('Accuracy:'+str(accuracy_score(y_test, y_pred_reduced)))\n",
    "print('Precision:'+str(precision_score(y_test, y_pred_reduced)))\n",
    "print('Recall:'+str(recall_score(y_test, y_pred_reduced)))\n",
    "print('f1: ' + str(f1_score(y_test, y_pred_reduced)))"
   ]
  },
  {
   "cell_type": "code",
   "execution_count": 3407,
   "metadata": {},
   "outputs": [
    {
     "data": {
      "text/plain": [
       "array([[2101,  546],\n",
       "       [1071,  777]], dtype=int64)"
      ]
     },
     "execution_count": 3407,
     "metadata": {},
     "output_type": "execute_result"
    },
    {
     "data": {
      "image/png": "[encoded data removed]",
      "text/plain": [
       "<Figure size 432x432 with 2 Axes>"
      ]
     },
     "metadata": {
      "needs_background": "light"
     },
     "output_type": "display_data"
    }
   ],
   "source": [
    "fig = plt.figure(figsize=(6, 6))\n",
    "cm3 = confusion_matrix(y_test, y_pred_reduced)\n",
    "sns.heatmap(cm3, annot = True)\n",
    "plt.xlabel('Predicted')\n",
    "plt.ylabel('Actual')\n",
    "cm3"
   ]
  },
  {
   "cell_type": "markdown",
   "metadata": {},
   "source": [
    "В результате уменьшения выборки с целью её сбалансирования метрики и матрица ошибок существенно улучшились. При чем чем сильнее я урезала выборку до более сбалансированной тем больше становился он становился. \n",
    "Площать под кривой всё равно ROC AUC уменшилась. "
   ]
  },
  {
   "cell_type": "markdown",
   "metadata": {},
   "source": [
    "Воспользуемся методом coef_ для определения значимости признаков"
   ]
  },
  {
   "cell_type": "code",
   "execution_count": 3398,
   "metadata": {
    "scrolled": true
   },
   "outputs": [
    {
     "name": "stdout",
     "output_type": "stream",
     "text": [
      "Feature: 0, Score: -0.07793\n",
      "Feature: 1, Score: 0.29458\n",
      "Feature: 2, Score: -0.10305\n",
      "Feature: 3, Score: 0.23948\n",
      "Feature: 4, Score: 0.13081\n",
      "Feature: 5, Score: 0.22253\n",
      "Feature: 6, Score: -0.01533\n",
      "Feature: 7, Score: -0.25747\n",
      "Feature: 8, Score: -0.52217\n",
      "Feature: 9, Score: -0.20816\n",
      "Feature: 10, Score: -0.57355\n",
      "Feature: 11, Score: 0.03342\n",
      "Feature: 12, Score: -0.21771\n",
      "Feature: 13, Score: 0.45238\n",
      "Feature: 14, Score: 0.29940\n",
      "Feature: 15, Score: -0.23363\n",
      "Feature: 16, Score: 0.32280\n",
      "Feature: 17, Score: -0.09523\n",
      "Feature: 18, Score: -0.20831\n",
      "Feature: 19, Score: 0.08748\n",
      "Feature: 20, Score: 0.11477\n"
     ]
    },
    {
     "data": {
      "image/png": "[encoded data removed]",
      "text/plain": [
       "<Figure size 720x720 with 1 Axes>"
      ]
     },
     "metadata": {
      "needs_background": "light"
     },
     "output_type": "display_data"
    }
   ],
   "source": [
    "importance = model_3.coef_[0]\n",
    "for i,v in enumerate(importance):\n",
    "\tprint('Feature: %0d, Score: %.5f' % (i,v))\n",
    "# plot feature importance\n",
    "plt.bar([x for x in range(len(importance))], importance)\n",
    "plt.show()"
   ]
  },
  {
   "cell_type": "markdown",
   "metadata": {},
   "source": [
    "Исходя из этого мы можем попробовать убрать фичи с наименьшим влиянием"
   ]
  },
  {
   "cell_type": "code",
   "execution_count": 3399,
   "metadata": {},
   "outputs": [],
   "source": [
    "X_reduced_4=np.delete(X_reduced, [6, 19],1)"
   ]
  },
  {
   "cell_type": "code",
   "execution_count": 3400,
   "metadata": {},
   "outputs": [],
   "source": [
    "X_train, X_test, y_train, y_test = train_test_split(X_reduced_4, y_reduced, test_size=0.2, random_state=RANDOM_SEED)"
   ]
  },
  {
   "cell_type": "code",
   "execution_count": 3401,
   "metadata": {},
   "outputs": [
    {
     "data": {
      "text/plain": [
       "LogisticRegression(max_iter=1000, random_state=42)"
      ]
     },
     "execution_count": 3401,
     "metadata": {},
     "output_type": "execute_result"
    }
   ],
   "source": [
    "model_4 = LogisticRegression(random_state=RANDOM_SEED, \n",
    "                           C=1.0, penalty= 'l2', class_weight =None,\n",
    "                           dual = False, intercept_scaling = 1,\n",
    "                          l1_ratio = None, max_iter = 1000,  n_jobs = None, tol = 0.0001, verbose = 0,warm_start = False,)\n",
    "\n",
    "model_4.fit(X_train, y_train)"
   ]
  },
  {
   "cell_type": "code",
   "execution_count": 3402,
   "metadata": {},
   "outputs": [],
   "source": [
    "y_pred_4=model_4.predict(X_test)\n"
   ]
  },
  {
   "cell_type": "code",
   "execution_count": 3403,
   "metadata": {},
   "outputs": [
    {
     "data": {
      "image/png": "[encoded data removed]",
      "text/plain": [
       "<Figure size 720x720 with 1 Axes>"
      ]
     },
     "metadata": {
      "needs_background": "light"
     },
     "output_type": "display_data"
    }
   ],
   "source": [
    "probs_4 = model_4.predict_proba(X_test)\n",
    "probs_4 = probs_4[:,1]\n",
    "\n",
    "\n",
    "fpr, tpr, threshold = metrics.roc_curve(y_test, probs_4)\n",
    "roc_auc = roc_auc_score(y_test, probs_4)\n",
    "\n",
    "plt.figure()\n",
    "plt.plot([0, 1], label='Baseline', linestyle='--')\n",
    "plt.plot(fpr, tpr, label = 'Regression')\n",
    "plt.title('Logistic Regression ROC AUC = %0.3f' % roc_auc)\n",
    "plt.ylabel('True Positive Rate')\n",
    "plt.xlabel('False Positive Rate')\n",
    "plt.legend(loc = 'lower right')\n",
    "plt.show()"
   ]
  },
  {
   "cell_type": "code",
   "execution_count": 3404,
   "metadata": {},
   "outputs": [
    {
     "name": "stdout",
     "output_type": "stream",
     "text": [
      "Accuracy:0.639377085650723\n",
      "Precision:0.5859197577592733\n",
      "Recall:0.41883116883116883\n",
      "f1: 0.4884821710318712\n"
     ]
    }
   ],
   "source": [
    "print('Accuracy:'+str(accuracy_score(y_test, y_pred_4)))\n",
    "print('Precision:'+str(precision_score(y_test, y_pred_4)))\n",
    "print('Recall:'+str(recall_score(y_test, y_pred_4)))\n",
    "print('f1: ' + str(f1_score(y_test, y_pred_4)))"
   ]
  },
  {
   "cell_type": "code",
   "execution_count": 3406,
   "metadata": {},
   "outputs": [
    {
     "data": {
      "text/plain": [
       "array([[2100,  547],\n",
       "       [1074,  774]], dtype=int64)"
      ]
     },
     "execution_count": 3406,
     "metadata": {},
     "output_type": "execute_result"
    },
    {
     "data": {
      "image/png": "[encoded data removed]",
      "text/plain": [
       "<Figure size 432x432 with 2 Axes>"
      ]
     },
     "metadata": {
      "needs_background": "light"
     },
     "output_type": "display_data"
    }
   ],
   "source": [
    "fig = plt.figure(figsize=(6, 6))\n",
    "cm4 = confusion_matrix(y_test, y_pred_4)\n",
    "sns.heatmap(cm4, annot = True)\n",
    "plt.xlabel('Predicted')\n",
    "plt.ylabel('Actual')\n",
    "cm4"
   ]
  },
  {
   "cell_type": "markdown",
   "metadata": {},
   "source": [
    "При удалении фич с наименьшим влиянием f1-score, Recall и Accuracy стал меньше. Поэтому приймем предидущую model_3 за оптимальную"
   ]
  },
  {
   "cell_type": "code",
   "execution_count": null,
   "metadata": {},
   "outputs": [],
   "source": [
    "submission_pred_prob = model_4.predict_proba(X_Test)[:,1]\n",
    "submission_predict = model_4.predict(X_Test)\n",
    "\n",
    "submission = pd.DataFrame({'client_id': data_test['client_id'].values, \n",
    "                            'default': submission_pred_prob})\n",
    "submission.to_csv('submission.csv', index=False)\n",
    "\n"
   ]
  },
  {
   "cell_type": "code",
   "execution_count": null,
   "metadata": {},
   "outputs": [],
   "source": []
  }
 ],
 "metadata": {
  "kernelspec": {
   "display_name": "Python 3",
   "language": "python",
   "name": "python3"
  },
  "language_info": {
   "codemirror_mode": {
    "name": "ipython",
    "version": 3
   },
   "file_extension": ".py",
   "mimetype": "text/x-python",
   "name": "python",
   "nbconvert_exporter": "python",
   "pygments_lexer": "ipython3",
   "version": "3.7.4"
  }
 },
 "nbformat": 4,
 "nbformat_minor": 2
}
