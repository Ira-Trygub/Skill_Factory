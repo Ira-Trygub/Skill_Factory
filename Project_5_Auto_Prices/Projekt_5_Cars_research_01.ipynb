{
 "cells": [
  {
   "cell_type": "code",
   "execution_count": 21,
   "metadata": {},
   "outputs": [],
   "source": [
    "import requests \n",
    "from bs4 import BeautifulSoup   \n",
    "import numpy as np \n",
    "import pandas as pd\n",
    "\n"
   ]
  },
  {
   "cell_type": "code",
   "execution_count": 22,
   "metadata": {},
   "outputs": [],
   "source": [
    "RANDOM_SEED = 42"
   ]
  },
  {
   "cell_type": "code",
   "execution_count": 23,
   "metadata": {
    "scrolled": true
   },
   "outputs": [],
   "source": [
    "test_cars=pd.read_csv('test_cars.csv')\n"
   ]
  },
  {
   "cell_type": "code",
   "execution_count": 24,
   "metadata": {
    "scrolled": true
   },
   "outputs": [
    {
     "name": "stdout",
     "output_type": "stream",
     "text": [
      "<class 'pandas.core.frame.DataFrame'>\n",
      "RangeIndex: 34686 entries, 0 to 34685\n",
      "Data columns (total 39 columns):\n",
      "bodyType                34686 non-null object\n",
      "brand                   34686 non-null object\n",
      "car_url                 34686 non-null object\n",
      "color                   34686 non-null object\n",
      "complectation_dict      6418 non-null object\n",
      "description             34686 non-null object\n",
      "engineDisplacement      34686 non-null object\n",
      "enginePower             34686 non-null object\n",
      "equipment_dict          24694 non-null object\n",
      "fuelType                34683 non-null object\n",
      "image                   34686 non-null object\n",
      "mileage                 34686 non-null object\n",
      "modelDate               34686 non-null object\n",
      "model_info              34686 non-null object\n",
      "model_name              34686 non-null object\n",
      "name                    34685 non-null object\n",
      "numberOfDoors           34686 non-null object\n",
      "parsing_unixtime        34686 non-null object\n",
      "priceCurrency           34686 non-null object\n",
      "productionDate          34686 non-null object\n",
      "sell_id                 34686 non-null object\n",
      "super_gen               34686 non-null object\n",
      "vehicleConfiguration    34686 non-null object\n",
      "vehicleTransmission     34686 non-null object\n",
      "vendor                  34686 non-null object\n",
      "Владельцы               34686 non-null object\n",
      "Владение                12000 non-null object\n",
      "ПТС                     34681 non-null object\n",
      "Привод                  34686 non-null object\n",
      "Руль                    34686 non-null object\n",
      "Состояние               34686 non-null object\n",
      "Таможня                 34686 non-null object\n",
      "Unnamed: 32             7 non-null object\n",
      "Unnamed: 33             0 non-null float64\n",
      "Unnamed: 34             1 non-null object\n",
      "Unnamed: 35             1 non-null object\n",
      "Unnamed: 36             1 non-null object\n",
      "Unnamed: 37             1 non-null object\n",
      "Unnamed: 38             1 non-null object\n",
      "dtypes: float64(1), object(38)\n",
      "memory usage: 10.3+ MB\n"
     ]
    }
   ],
   "source": [
    "test_cars.info()"
   ]
  },
  {
   "cell_type": "code",
   "execution_count": 25,
   "metadata": {
    "scrolled": true
   },
   "outputs": [
    {
     "data": {
      "text/html": [
       "<div>\n",
       "<style scoped>\n",
       "    .dataframe tbody tr th:only-of-type {\n",
       "        vertical-align: middle;\n",
       "    }\n",
       "\n",
       "    .dataframe tbody tr th {\n",
       "        vertical-align: top;\n",
       "    }\n",
       "\n",
       "    .dataframe thead th {\n",
       "        text-align: right;\n",
       "    }\n",
       "</style>\n",
       "<table border=\"1\" class=\"dataframe\">\n",
       "  <thead>\n",
       "    <tr style=\"text-align: right;\">\n",
       "      <th></th>\n",
       "      <th>bodyType</th>\n",
       "      <th>brand</th>\n",
       "      <th>car_url</th>\n",
       "      <th>color</th>\n",
       "      <th>complectation_dict</th>\n",
       "      <th>description</th>\n",
       "      <th>engineDisplacement</th>\n",
       "      <th>enginePower</th>\n",
       "      <th>equipment_dict</th>\n",
       "      <th>fuelType</th>\n",
       "      <th>...</th>\n",
       "      <th>vehicleConfiguration</th>\n",
       "      <th>vehicleTransmission</th>\n",
       "      <th>vendor</th>\n",
       "      <th>Владельцы</th>\n",
       "      <th>Владение</th>\n",
       "      <th>ПТС</th>\n",
       "      <th>Привод</th>\n",
       "      <th>Руль</th>\n",
       "      <th>Состояние</th>\n",
       "      <th>Таможня</th>\n",
       "    </tr>\n",
       "  </thead>\n",
       "  <tbody>\n",
       "    <tr>\n",
       "      <td>0</td>\n",
       "      <td>лифтбек</td>\n",
       "      <td>SKODA</td>\n",
       "      <td>https://auto.ru/cars/used/sale/skoda/octavia/1...</td>\n",
       "      <td>синий</td>\n",
       "      <td>NaN</td>\n",
       "      <td>Все автомобили, представленные в продаже, прох...</td>\n",
       "      <td>1.2 LTR</td>\n",
       "      <td>105 N12</td>\n",
       "      <td>{\"engine-proof\":true,\"tinted-glass\":true,\"airb...</td>\n",
       "      <td>бензин</td>\n",
       "      <td>...</td>\n",
       "      <td>LIFTBACK ROBOT 1.2</td>\n",
       "      <td>роботизированная</td>\n",
       "      <td>EUROPEAN</td>\n",
       "      <td>3 или более</td>\n",
       "      <td>NaN</td>\n",
       "      <td>Оригинал</td>\n",
       "      <td>передний</td>\n",
       "      <td>Левый</td>\n",
       "      <td>Не требует ремонта</td>\n",
       "      <td>Растаможен</td>\n",
       "    </tr>\n",
       "    <tr>\n",
       "      <td>1</td>\n",
       "      <td>лифтбек</td>\n",
       "      <td>SKODA</td>\n",
       "      <td>https://auto.ru/cars/used/sale/skoda/octavia/1...</td>\n",
       "      <td>чёрный</td>\n",
       "      <td>NaN</td>\n",
       "      <td>ЛОТ: 01217195\\nАвтопрага Север\\nДанный автомоб...</td>\n",
       "      <td>1.6 LTR</td>\n",
       "      <td>110 N12</td>\n",
       "      <td>{\"cruise-control\":true,\"asr\":true,\"esp\":true,\"...</td>\n",
       "      <td>бензин</td>\n",
       "      <td>...</td>\n",
       "      <td>LIFTBACK MECHANICAL 1.6</td>\n",
       "      <td>механическая</td>\n",
       "      <td>EUROPEAN</td>\n",
       "      <td>1 владелец</td>\n",
       "      <td>NaN</td>\n",
       "      <td>Оригинал</td>\n",
       "      <td>передний</td>\n",
       "      <td>Левый</td>\n",
       "      <td>Не требует ремонта</td>\n",
       "      <td>Растаможен</td>\n",
       "    </tr>\n",
       "    <tr>\n",
       "      <td>2</td>\n",
       "      <td>лифтбек</td>\n",
       "      <td>SKODA</td>\n",
       "      <td>https://auto.ru/cars/used/sale/skoda/superb/11...</td>\n",
       "      <td>серый</td>\n",
       "      <td>{\"id\":\"20026336\",\"name\":\"Ambition\",\"available_...</td>\n",
       "      <td>Все автомобили, представленные в продаже, прох...</td>\n",
       "      <td>1.8 LTR</td>\n",
       "      <td>152 N12</td>\n",
       "      <td>{\"cruise-control\":true,\"tinted-glass\":true,\"es...</td>\n",
       "      <td>бензин</td>\n",
       "      <td>...</td>\n",
       "      <td>LIFTBACK ROBOT 1.8</td>\n",
       "      <td>роботизированная</td>\n",
       "      <td>EUROPEAN</td>\n",
       "      <td>1 владелец</td>\n",
       "      <td>NaN</td>\n",
       "      <td>Оригинал</td>\n",
       "      <td>передний</td>\n",
       "      <td>Левый</td>\n",
       "      <td>Не требует ремонта</td>\n",
       "      <td>Растаможен</td>\n",
       "    </tr>\n",
       "  </tbody>\n",
       "</table>\n",
       "<p>3 rows × 32 columns</p>\n",
       "</div>"
      ],
      "text/plain": [
       "  bodyType  brand                                            car_url   color  \\\n",
       "0  лифтбек  SKODA  https://auto.ru/cars/used/sale/skoda/octavia/1...   синий   \n",
       "1  лифтбек  SKODA  https://auto.ru/cars/used/sale/skoda/octavia/1...  чёрный   \n",
       "2  лифтбек  SKODA  https://auto.ru/cars/used/sale/skoda/superb/11...   серый   \n",
       "\n",
       "                                  complectation_dict  \\\n",
       "0                                                NaN   \n",
       "1                                                NaN   \n",
       "2  {\"id\":\"20026336\",\"name\":\"Ambition\",\"available_...   \n",
       "\n",
       "                                         description engineDisplacement  \\\n",
       "0  Все автомобили, представленные в продаже, прох...            1.2 LTR   \n",
       "1  ЛОТ: 01217195\\nАвтопрага Север\\nДанный автомоб...            1.6 LTR   \n",
       "2  Все автомобили, представленные в продаже, прох...            1.8 LTR   \n",
       "\n",
       "  enginePower                                     equipment_dict fuelType  \\\n",
       "0     105 N12  {\"engine-proof\":true,\"tinted-glass\":true,\"airb...   бензин   \n",
       "1     110 N12  {\"cruise-control\":true,\"asr\":true,\"esp\":true,\"...   бензин   \n",
       "2     152 N12  {\"cruise-control\":true,\"tinted-glass\":true,\"es...   бензин   \n",
       "\n",
       "   ...     vehicleConfiguration vehicleTransmission    vendor    Владельцы  \\\n",
       "0  ...       LIFTBACK ROBOT 1.2    роботизированная  EUROPEAN  3 или более   \n",
       "1  ...  LIFTBACK MECHANICAL 1.6        механическая  EUROPEAN   1 владелец   \n",
       "2  ...       LIFTBACK ROBOT 1.8    роботизированная  EUROPEAN   1 владелец   \n",
       "\n",
       "  Владение       ПТС    Привод   Руль           Состояние     Таможня  \n",
       "0      NaN  Оригинал  передний  Левый  Не требует ремонта  Растаможен  \n",
       "1      NaN  Оригинал  передний  Левый  Не требует ремонта  Растаможен  \n",
       "2      NaN  Оригинал  передний  Левый  Не требует ремонта  Растаможен  \n",
       "\n",
       "[3 rows x 32 columns]"
      ]
     },
     "execution_count": 25,
     "metadata": {},
     "output_type": "execute_result"
    }
   ],
   "source": [
    "test_cars=test_cars.drop(['Unnamed: 32', 'Unnamed: 33', 'Unnamed: 34', 'Unnamed: 35', 'Unnamed: 36', 'Unnamed: 37', 'Unnamed: 38'], axis=1)\n",
    "test_cars.head(3)"
   ]
  },
  {
   "cell_type": "markdown",
   "metadata": {},
   "source": [
    "Задаём пустой дата сет, чтоб в него сохранять данные, которые напарсим с сайта"
   ]
  },
  {
   "cell_type": "code",
   "execution_count": 27,
   "metadata": {},
   "outputs": [],
   "source": [
    "#df_marks_and_models = pd.read_csv ('parcing_from_autoru.csv')\n"
   ]
  },
  {
   "cell_type": "markdown",
   "metadata": {},
   "source": [
    "Парсинг"
   ]
  },
  {
   "cell_type": "markdown",
   "metadata": {},
   "source": [
    "Адрес страницы, которую будем парсить"
   ]
  },
  {
   "cell_type": "code",
   "execution_count": null,
   "metadata": {},
   "outputs": [],
   "source": [
    "url='https://auto.ru/-/ajax/desktop/listing/'"
   ]
  },
  {
   "cell_type": "markdown",
   "metadata": {},
   "source": [
    "HEADERS - HTML - элемент, представляет собой вводный контент, обычно группу вводных или навигационных средств. Он может содержать другие элементы-заголовки, а также логотип, форму поиска, имя автора и другие элементы.\n"
   ]
  },
  {
   "cell_type": "code",
   "execution_count": null,
   "metadata": {},
   "outputs": [],
   "source": [
    "HEADERS = {\n",
    "    'Accept': '*/*',\n",
    "    'Accept-Encoding': 'gzip, deflate, br',\n",
    "    'Accept-Language': 'ru-RU,ru;q=0.8,en-US;q=0.5,en;q=0.3',\n",
    "    'Connection': 'keep-alive',\n",
    "    \n",
    "    'content-type': 'application/json',\n",
    "    'Cookie': '_csrf_token=d8029e40b7e75f491e05b9191bce2b0854cb8560d32b9010; autoru_sid=a%3Ag5fcbae7b2rh31h6p5i54qkso13bmhrs.d64fdb1048094ade6653bb8d77bfc82f%7C1607183995440.604800.lS7lenbdJu7TVJgQ9a2fBw.M4uhYka1yjkPXI7TXYAIHoc1bAMl16bHMa5Rel1JyiM; autoruuid=g5fcbae7b2rh31h6p5i54qkso13bmhrs.d64fdb1048094ade6653bb8d77bfc82f; autoru_gdpr=1; suid=bc138c1d5a6554d5f028f6fec11a91da.a9ca18211fb27ebefea2fe04a11546b6; from=direct; yuidcs=1; crookie=aAs/ROiBsnuk/909OZNBhxIcXPqhyXpNRRJ0N6Sk1kI/Eaknz7W1f3rW2MUp05I5lp/zbVBPKBkNgTKZqk8ULF8Q0Vg=; cmtchd=MTYwNzI1MDk3ODU4MQ==; popup_new_user=new; proven_owner_popup=1; bltsr=1; yuidlt=1; yandexuid=1370723801540629363; X-Vertis-DC=vla; listing_view_session={}; listing_view=%7B%22output_type%22%3A%22models_list%22%2C%22version%22%3A1%7D; new-controls-notify-hidden=true; from_lifetime=1607289350518',\n",
    "    'Host': 'auto.ru',\n",
    "    'origin': 'https://auto.ru/cars/all/',\n",
    "    'Referer': 'https://auto.ru/cars/all/',\n",
    "    'User-Agent': 'Mozilla/5.0 (Windows NT 10.0; Win64; x64; rv:72.0) Gecko/20100101 Firefox/72.0',\n",
    "    'x-client-app-version': '202012.04.170215',\n",
    "    'x-client-date': '1607289359144',\n",
    "    'x-csrf-token': 'd8029e40b7e75f491e05b9191bce2b0854cb8560d32b9010',\n",
    "    'x-page-request-id': '52d78c631a6cdbf362cebe6be367d327',\n",
    "    'x-requested-with': 'fetch'\n",
    "}"
   ]
  },
  {
   "cell_type": "code",
   "execution_count": null,
   "metadata": {},
   "outputs": [],
   "source": []
  },
  {
   "cell_type": "code",
   "execution_count": null,
   "metadata": {},
   "outputs": [],
   "source": [
    "# сделаем тестовый вызов запроса для BMW модели M6 и выведем его на экран, чтобы по нему можно было сделать функцию для создания 23 необходимых столбцов\n",
    "\n",
    "\n",
    "# но сначала установим главные параметры запроса\n",
    "mark = 'BMW'  # марка\n",
    "model = 'M6'  # модель\n",
    "geo_radius = 200  # радиус вокруг москвы = 200 км\n",
    "geo_id = [213]  # Москва\n",
    "top_days = \"1\"  # кол-во дней от текущей даты назад за которые запрашиваем объявления \n",
    "\n",
    "req_body = {\n",
    "                'catalog_filter' : [{\"mark\": mark, \"model\": model}],\n",
    "                'section': \"all\",\n",
    "                'category': \"cars\",\n",
    "                'sort': \"fresh_relevance_1-desc\",\n",
    "                \"top_days\": \"900\",\n",
    "                \"geo_radius\":geo_radius,\n",
    "                \"geo_id\":geo_id,\n",
    "                'page': 1\n",
    "            }\n",
    "\n",
    "response = requests.post(url, json=req_body, headers = HEADERS)\n",
    "data = response.json()\n",
    "for elem in data['offers']:\n",
    "    print(elem)\n",
    "    break"
   ]
  },
  {
   "cell_type": "code",
   "execution_count": null,
   "metadata": {},
   "outputs": [],
   "source": []
  },
  {
   "cell_type": "code",
   "execution_count": null,
   "metadata": {},
   "outputs": [],
   "source": [
    "dict_of_num_cars_of_models ={'AC':2, 'Acura':94, 'Alfa Romeo':65, 'Alpina':10, \n",
    "                             'AMC':2, 'Ariel':1, 'Asia':1, 'Aston Martin':25, \n",
    "                             'Audi':4093, 'Austin Healey':1, 'Bajaj':3, \n",
    "                             'Bentley':104, 'BMW':7423, 'Borgward':1, \n",
    "                             'Brilliance':10, 'Buick':17, 'BYD':22, \n",
    "                             'Cadillac':321, 'Changan':100, 'Chery':593, \n",
    "                             'Chevrolet':3670, 'Chrysler':316, 'Citroen':1142, \n",
    "                             'Dacia':9, 'Daewoo':1024, 'Daihatsu':47, \n",
    "                             'Daimler':5, 'Datsun':212, 'Delage':1, 'Derways':2, \n",
    "                             'DKW':1, 'Dodge':413, 'DongFeng':25, 'Doninvest':2, \n",
    "                             'DS':3, 'DW Hower':8, 'Eagle':1, 'Excalibur':1, \n",
    "                             'FAW':66, 'Ferrari':29, 'Fiat':206, 'Ford':4812, \n",
    "                             'Foton':2, 'GAC':14, 'Geely':302, 'Genesis':54, \n",
    "                             'GMC':26, 'Great Wall':420, 'Hafei':6, 'Haima':12, \n",
    "                             'Haval':110, 'Hawtai':4, 'Heinkel':1, 'Honda':1179, \n",
    "                             'HuangHai':1, 'Hummer':70, 'Hyundai':5712, \n",
    "                             'Infiniti':1041, 'Innocenti':1, 'Iran Khodro':21, \n",
    "                             'Isuzu':43, 'JAC':8, 'Jaguar':308, 'Jeep':466, 'JMC':1, \n",
    "                             'Kia':5595, 'LADA (ВАЗ)':8935, 'Lamborghini':14, \n",
    "                             'Lancia':8, 'Land Rover':1616, 'Lexus':985, \n",
    "                             'Lifan':295, 'Lincoln':62, 'Lotus':1, 'Luxgen':9, \n",
    "                             'Mahindra':1, 'Maserati':54, 'Maybach':7, \n",
    "                             'Mazda':2311, 'McLaren':5, 'Mercedes-Benz':8005, \n",
    "                             'Mercury':16, 'Metrocab':2, 'MG':10, 'MINI':313, \n",
    "                             'Mitsubishi':3935, 'Mitsuoka':3, 'Nissan':5776, \n",
    "                             'Oldsmobile':10, 'Opel':3131, 'Packard':2, \n",
    "                             'Peugeot':1636, 'Plymouth':13, 'Pontiac':38, \n",
    "                             'Porsche':714, 'Proton':3, 'PUCH':1, 'Ravon':112, \n",
    "                             'Renault':2771, 'Rolls-Royce':55, 'Rover':69, \n",
    "                             'Saab':147, 'Saturn':9, 'Scion':9, 'SEAT':77, \n",
    "                             'Shanghai Maple':1, 'Skoda':2810, 'Smart':89, \n",
    "                             'SsangYong':718, 'Subaru':934, 'Suzuki':878, \n",
    "                             'Tatra':5, 'Tesla':43, 'Tianma':2, 'Toyota':4648, \n",
    "                             'Triumph':1, 'Vauxhall':1, 'Volkswagen':7109, \n",
    "                             'Volvo':2069, 'Vortex':91, 'Wartburg':1, 'Willys':2, \n",
    "                             'Zotye':15, 'ZX':4, 'ГАЗ':935, 'Гоночный болид':2, \n",
    "                             'ЗАЗ':231, 'ЗИЛ':2, 'ИЖ':129, 'ЛуАЗ':45, \n",
    "                             'Москвич':198, 'СМЗ':4, 'ТагАЗ':68, 'УАЗ':1107}"
   ]
  },
  {
   "cell_type": "code",
   "execution_count": null,
   "metadata": {},
   "outputs": [],
   "source": [
    "#list_of_relevant_marks = list(dict_of_num_cars_of_models.keys())"
   ]
  },
  {
   "cell_type": "code",
   "execution_count": null,
   "metadata": {},
   "outputs": [],
   "source": []
  }
 ],
 "metadata": {
  "kernelspec": {
   "display_name": "Python 3",
   "language": "python",
   "name": "python3"
  },
  "language_info": {
   "codemirror_mode": {
    "name": "ipython",
    "version": 3
   },
   "file_extension": ".py",
   "mimetype": "text/x-python",
   "name": "python",
   "nbconvert_exporter": "python",
   "pygments_lexer": "ipython3",
   "version": "3.7.4"
  }
 },
 "nbformat": 4,
 "nbformat_minor": 2
}
