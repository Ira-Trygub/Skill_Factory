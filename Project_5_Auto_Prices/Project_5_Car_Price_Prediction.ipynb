{
 "cells": [
  {
   "cell_type": "code",
   "execution_count": 1350,
   "metadata": {},
   "outputs": [],
   "source": [
    "import math\n",
    "import requests, json\n",
    "#from bs4 import BeautifulSoup   \n",
    "import numpy as np \n",
    "import pandas as pd\n",
    "from sklearn import preprocessing\n",
    "from sklearn.preprocessing import StandardScaler, LabelEncoder\n",
    "import re\n",
    "import matplotlib.pyplot as plt\n",
    "import seaborn as sns\n",
    "from sklearn import preprocessing\n",
    "from sklearn.preprocessing import OneHotEncoder\n",
    "from pandas.api.types import CategoricalDtype\n",
    "#from sklearn.metrics import mean_absolute_percentage_error\n",
    "#from sklearn.model_selection import train_test_split\n",
    "from sklearn.metrics import auc, roc_auc_score, roc_curve\n",
    "from sklearn.model_selection import train_test_split, KFold\n",
    "from sklearn.linear_model import LinearRegression\n",
    "from sklearn.ensemble import RandomForestRegressor\n",
    "from pprint import pprint\n",
    "from sklearn import datasets, linear_model\n",
    "from sklearn.tree import DecisionTreeRegressor\n",
    "from sklearn.ensemble import GradientBoostingRegressor\n",
    "from catboost import Pool, CatBoostRegressor\n",
    "from tqdm import tqdm\n",
    "from sklearn.base import clone\n",
    "from sklearn.neighbors._regression import KNeighborsRegressor\n",
    "from sklearn.svm._classes import SVR\n",
    "from sklearn.metrics import mean_absolute_error\n",
    "from sklearn.feature_selection import SelectKBest, chi2, f_classif, mutual_info_classif\n",
    "from random import randrange\n",
    "from sklearn.model_selection import GridSearchCV\n"
   ]
  },
  {
   "cell_type": "markdown",
   "source": [
    "for reproducible results"
   ],
   "metadata": {
    "collapsed": false,
    "pycharm": {
     "name": "#%% md\n"
    }
   }
  },
  {
   "cell_type": "code",
   "execution_count": 1351,
   "metadata": {},
   "outputs": [],
   "source": [
    "RANDOM_SEED = 42\n"
   ]
  },
  {
   "cell_type": "markdown",
   "source": [
    "provided data (w/o price)"
   ],
   "metadata": {
    "collapsed": false,
    "pycharm": {
     "name": "#%% md\n"
    }
   }
  },
  {
   "cell_type": "code",
   "execution_count": 1352,
   "metadata": {
    "scrolled": true
   },
   "outputs": [
    {
     "name": "stderr",
     "output_type": "stream",
     "text": [
      "/Users/do/git/Skill_Factory/Project_5_Auto_Prices/venv/lib/python3.9/site-packages/IPython/core/interactiveshell.py:3146: DtypeWarning: Columns (11,12,16,17,19,20,32,34,35,36,37,38) have mixed types.Specify dtype option on import or set low_memory=False.\n",
      "  has_raised = await self.run_ast_nodes(code_ast.body, cell_name,\n"
     ]
    }
   ],
   "source": [
    "test_cars = pd.read_csv('test_cars.csv')\n",
    "test_cars['sample'] = 1"
   ]
  },
  {
   "cell_type": "markdown",
   "source": [
    "drop columns we cannot download"
   ],
   "metadata": {
    "collapsed": false,
    "pycharm": {
     "name": "#%% md\n"
    }
   }
  },
  {
   "cell_type": "code",
   "execution_count": 1353,
   "outputs": [
    {
     "data": {
      "text/plain": "25"
     },
     "execution_count": 1353,
     "metadata": {},
     "output_type": "execute_result"
    }
   ],
   "source": [
    "test_cars=test_cars.drop(['car_url', 'sell_id', 'image', 'model_info',\n",
    "                          'parsing_unixtime', 'priceCurrency', 'super_gen', 'vendor', 'Unnamed: 32', 'Unnamed: 33', 'Unnamed: 34', 'Unnamed: 35', 'Unnamed: 36', 'Unnamed: 37', 'Unnamed: 38'], axis=1)\n",
    "len(test_cars.columns)"
   ],
   "metadata": {
    "collapsed": false,
    "pycharm": {
     "name": "#%%\n"
    }
   }
  },
  {
   "cell_type": "code",
   "execution_count": 1354,
   "outputs": [
    {
     "data": {
      "text/plain": "Index(['bodyType', 'brand', 'color', 'complectation_dict', 'description',\n       'engineDisplacement', 'enginePower', 'equipment_dict', 'fuelType',\n       'mileage', 'modelDate', 'model_name', 'name', 'numberOfDoors',\n       'productionDate', 'vehicleConfiguration', 'vehicleTransmission',\n       'Владельцы', 'Владение', 'ПТС', 'Привод', 'Руль', 'Состояние',\n       'Таможня', 'sample'],\n      dtype='object')"
     },
     "execution_count": 1354,
     "metadata": {},
     "output_type": "execute_result"
    }
   ],
   "source": [
    "test_cars.columns"
   ],
   "metadata": {
    "collapsed": false,
    "pycharm": {
     "name": "#%%\n"
    }
   }
  },
  {
   "cell_type": "markdown",
   "source": [
    "pre-downloaded latest data with price"
   ],
   "metadata": {
    "collapsed": false,
    "pycharm": {
     "name": "#%% md\n"
    }
   }
  },
  {
   "cell_type": "code",
   "execution_count": 1355,
   "outputs": [
    {
     "data": {
      "text/plain": "26"
     },
     "execution_count": 1355,
     "metadata": {},
     "output_type": "execute_result"
    }
   ],
   "source": [
    "data_par = pd.read_csv('all_auto_ru_07_12_2020-11.csv')\n",
    "data_par.drop_duplicates(inplace = True)\n",
    "data_par['sample']=0\n",
    "\n",
    "data_par=data_par.drop(['start_date', 'hidden'], axis=1)\n",
    "len(data_par.columns)"
   ],
   "metadata": {
    "collapsed": false,
    "pycharm": {
     "name": "#%%\n"
    }
   }
  },
  {
   "cell_type": "code",
   "execution_count": 1356,
   "outputs": [
    {
     "data": {
      "text/plain": "Index(['bodyType', 'brand', 'color', 'fuelType', 'modelDate', 'name',\n       'numberOfDoors', 'productionDate', 'vehicleTransmission',\n       'engineDisplacement', 'vehicleConfiguration', 'enginePower',\n       'description', 'mileage', 'complectation_dict', 'Привод', 'Руль',\n       'Владельцы', 'ПТС', 'Таможня', 'Владение', 'price', 'Состояние',\n       'equipment_dict', 'model_name', 'sample'],\n      dtype='object')"
     },
     "execution_count": 1356,
     "metadata": {},
     "output_type": "execute_result"
    }
   ],
   "source": [
    "data_par.columns"
   ],
   "metadata": {
    "collapsed": false,
    "pycharm": {
     "name": "#%%\n"
    }
   }
  },
  {
   "cell_type": "code",
   "execution_count": 1357,
   "outputs": [
    {
     "data": {
      "text/plain": "bodyType                    0\nbrand                       0\ncolor                       0\nfuelType                    0\nmodelDate                   0\nname                        1\nnumberOfDoors               0\nproductionDate              0\nvehicleTransmission         1\nengineDisplacement          1\nvehicleConfiguration        1\nenginePower                 1\ndescription               763\nmileage                     0\ncomplectation_dict          0\nПривод                      1\nРуль                        0\nВладельцы                   3\nПТС                         3\nТаможня                     0\nВладение                14279\nprice                       1\nСостояние               20635\nequipment_dict              0\nmodel_name                  0\nsample                      0\ndtype: int64"
     },
     "execution_count": 1357,
     "metadata": {},
     "output_type": "execute_result"
    }
   ],
   "source": [
    "data_par.isnull().sum()"
   ],
   "metadata": {
    "collapsed": false,
    "pycharm": {
     "name": "#%%\n"
    }
   }
  },
  {
   "cell_type": "code",
   "execution_count": 1358,
   "outputs": [],
   "source": [
    "data_par = data_par[data_par['name'].notna()]\n",
    "data_par = data_par[data_par['Владельцы'].notna()]\n",
    "data_par = data_par[data_par['ПТС'].notna()]\n",
    "data_par = data_par[data_par['price'].notna()]\n",
    "data_par = data_par[data_par['enginePower'] > 33]   # drop a few strange vehicles\n"
   ],
   "metadata": {
    "collapsed": false,
    "pycharm": {
     "name": "#%%\n"
    }
   }
  },
  {
   "cell_type": "code",
   "execution_count": 1359,
   "outputs": [
    {
     "data": {
      "text/plain": "bodyType                    0\nbrand                       0\ncolor                       0\nfuelType                    0\nmodelDate                   0\nname                        0\nnumberOfDoors               0\nproductionDate              0\nvehicleTransmission         0\nengineDisplacement          0\nvehicleConfiguration        0\nenginePower                 0\ndescription               761\nmileage                     0\ncomplectation_dict          0\nПривод                      0\nРуль                        0\nВладельцы                   0\nПТС                         0\nТаможня                     0\nВладение                14220\nprice                       0\nСостояние               20566\nequipment_dict              0\nmodel_name                  0\nsample                      0\ndtype: int64"
     },
     "execution_count": 1359,
     "metadata": {},
     "output_type": "execute_result"
    }
   ],
   "source": [
    "data_par.isnull().sum()"
   ],
   "metadata": {
    "collapsed": false,
    "pycharm": {
     "name": "#%%\n"
    }
   }
  },
  {
   "cell_type": "code",
   "execution_count": 1360,
   "outputs": [
    {
     "data": {
      "text/plain": "bodyType                    0\nbrand                       0\ncolor                       0\nfuelType                    0\nmodelDate                   0\nname                        0\nnumberOfDoors               0\nproductionDate              0\nvehicleTransmission         0\nengineDisplacement          0\nvehicleConfiguration        0\nenginePower                 0\ndescription               761\nmileage                     0\ncomplectation_dict          0\nПривод                      0\nРуль                        0\nВладельцы                   0\nПТС                         0\nТаможня                     0\nВладение                14220\nprice                       0\nСостояние               20566\nequipment_dict              0\nmodel_name                  0\nsample                      0\ndtype: int64"
     },
     "execution_count": 1360,
     "metadata": {},
     "output_type": "execute_result"
    }
   ],
   "source": [
    "data_par.isnull().sum()"
   ],
   "metadata": {
    "collapsed": false,
    "pycharm": {
     "name": "#%%\n"
    }
   }
  },
  {
   "cell_type": "code",
   "execution_count": 1361,
   "outputs": [
    {
     "data": {
      "text/plain": "\"\\ne = data_par['enginePower'].value_counts()\\nfor k, v in dict(e).items():\\n    print(k, v)\\n\""
     },
     "execution_count": 1361,
     "metadata": {},
     "output_type": "execute_result"
    }
   ],
   "source": [
    "\"\"\"\n",
    "e = data_par['enginePower'].value_counts()\n",
    "for k, v in dict(e).items():\n",
    "    print(k, v)\n",
    "\"\"\""
   ],
   "metadata": {
    "collapsed": false,
    "pycharm": {
     "name": "#%%\n"
    }
   }
  },
  {
   "cell_type": "code",
   "execution_count": 1362,
   "outputs": [],
   "source": [
    "data = test_cars.append(data_par, sort=False).reset_index(drop=True)\n",
    "data = data.drop(['Состояние'], axis=1)\n",
    "data = data.drop(['name'], axis=1) # DSG 1.8 AMT (152 л.с.)"
   ],
   "metadata": {
    "collapsed": false,
    "pycharm": {
     "name": "#%%\n"
    }
   }
  },
  {
   "cell_type": "code",
   "execution_count": 1363,
   "outputs": [
    {
     "data": {
      "text/plain": "  bodyType  brand   color                                 complectation_dict  \\\n0  лифтбек  SKODA   синий                                                NaN   \n1  лифтбек  SKODA  чёрный                                                NaN   \n2  лифтбек  SKODA   серый  {\"id\":\"20026336\",\"name\":\"Ambition\",\"available_...   \n\n                                         description engineDisplacement  \\\n0  Все автомобили, представленные в продаже, прох...            1.2 LTR   \n1  ЛОТ: 01217195\\nАвтопрага Север\\nДанный автомоб...            1.6 LTR   \n2  Все автомобили, представленные в продаже, прох...            1.8 LTR   \n\n  enginePower                                     equipment_dict fuelType  \\\n0     105 N12  {\"engine-proof\":true,\"tinted-glass\":true,\"airb...   бензин   \n1     110 N12  {\"cruise-control\":true,\"asr\":true,\"esp\":true,\"...   бензин   \n2     152 N12  {\"cruise-control\":true,\"tinted-glass\":true,\"es...   бензин   \n\n  mileage  ...     vehicleConfiguration vehicleTransmission       owners  \\\n0   74000  ...       LIFTBACK ROBOT 1.2    роботизированная  3 или более   \n1   60563  ...  LIFTBACK MECHANICAL 1.6        механическая   1 владелец   \n2   88000  ...       LIFTBACK ROBOT 1.8    роботизированная   1 владелец   \n\n  Possession       PTS drive_unit rudder       choky sample price  \n0        NaN  Оригинал   передний  Левый  Растаможен      1   NaN  \n1        NaN  Оригинал   передний  Левый  Растаможен      1   NaN  \n2        NaN  Оригинал   передний  Левый  Растаможен      1   NaN  \n\n[3 rows x 24 columns]",
      "text/html": "<div>\n<style scoped>\n    .dataframe tbody tr th:only-of-type {\n        vertical-align: middle;\n    }\n\n    .dataframe tbody tr th {\n        vertical-align: top;\n    }\n\n    .dataframe thead th {\n        text-align: right;\n    }\n</style>\n<table border=\"1\" class=\"dataframe\">\n  <thead>\n    <tr style=\"text-align: right;\">\n      <th></th>\n      <th>bodyType</th>\n      <th>brand</th>\n      <th>color</th>\n      <th>complectation_dict</th>\n      <th>description</th>\n      <th>engineDisplacement</th>\n      <th>enginePower</th>\n      <th>equipment_dict</th>\n      <th>fuelType</th>\n      <th>mileage</th>\n      <th>...</th>\n      <th>vehicleConfiguration</th>\n      <th>vehicleTransmission</th>\n      <th>owners</th>\n      <th>Possession</th>\n      <th>PTS</th>\n      <th>drive_unit</th>\n      <th>rudder</th>\n      <th>choky</th>\n      <th>sample</th>\n      <th>price</th>\n    </tr>\n  </thead>\n  <tbody>\n    <tr>\n      <th>0</th>\n      <td>лифтбек</td>\n      <td>SKODA</td>\n      <td>синий</td>\n      <td>NaN</td>\n      <td>Все автомобили, представленные в продаже, прох...</td>\n      <td>1.2 LTR</td>\n      <td>105 N12</td>\n      <td>{\"engine-proof\":true,\"tinted-glass\":true,\"airb...</td>\n      <td>бензин</td>\n      <td>74000</td>\n      <td>...</td>\n      <td>LIFTBACK ROBOT 1.2</td>\n      <td>роботизированная</td>\n      <td>3 или более</td>\n      <td>NaN</td>\n      <td>Оригинал</td>\n      <td>передний</td>\n      <td>Левый</td>\n      <td>Растаможен</td>\n      <td>1</td>\n      <td>NaN</td>\n    </tr>\n    <tr>\n      <th>1</th>\n      <td>лифтбек</td>\n      <td>SKODA</td>\n      <td>чёрный</td>\n      <td>NaN</td>\n      <td>ЛОТ: 01217195\\nАвтопрага Север\\nДанный автомоб...</td>\n      <td>1.6 LTR</td>\n      <td>110 N12</td>\n      <td>{\"cruise-control\":true,\"asr\":true,\"esp\":true,\"...</td>\n      <td>бензин</td>\n      <td>60563</td>\n      <td>...</td>\n      <td>LIFTBACK MECHANICAL 1.6</td>\n      <td>механическая</td>\n      <td>1 владелец</td>\n      <td>NaN</td>\n      <td>Оригинал</td>\n      <td>передний</td>\n      <td>Левый</td>\n      <td>Растаможен</td>\n      <td>1</td>\n      <td>NaN</td>\n    </tr>\n    <tr>\n      <th>2</th>\n      <td>лифтбек</td>\n      <td>SKODA</td>\n      <td>серый</td>\n      <td>{\"id\":\"20026336\",\"name\":\"Ambition\",\"available_...</td>\n      <td>Все автомобили, представленные в продаже, прох...</td>\n      <td>1.8 LTR</td>\n      <td>152 N12</td>\n      <td>{\"cruise-control\":true,\"tinted-glass\":true,\"es...</td>\n      <td>бензин</td>\n      <td>88000</td>\n      <td>...</td>\n      <td>LIFTBACK ROBOT 1.8</td>\n      <td>роботизированная</td>\n      <td>1 владелец</td>\n      <td>NaN</td>\n      <td>Оригинал</td>\n      <td>передний</td>\n      <td>Левый</td>\n      <td>Растаможен</td>\n      <td>1</td>\n      <td>NaN</td>\n    </tr>\n  </tbody>\n</table>\n<p>3 rows × 24 columns</p>\n</div>"
     },
     "execution_count": 1363,
     "metadata": {},
     "output_type": "execute_result"
    }
   ],
   "source": [
    "data.columns =  ['bodyType', 'brand', 'color', 'complectation_dict', 'description',\n",
    "       'engineDisplacement', 'enginePower', 'equipment_dict', 'fuelType',\n",
    "       'mileage', 'modelDate', 'model_name', 'numberOfDoors',\n",
    "       'productionDate', 'vehicleConfiguration', 'vehicleTransmission',\n",
    "       'owners', 'Possession', 'PTS', 'drive_unit', 'rudder',\n",
    "       'choky', 'sample', 'price']\n",
    "data.head(3)"
   ],
   "metadata": {
    "collapsed": false,
    "pycharm": {
     "name": "#%%\n"
    }
   }
  },
  {
   "cell_type": "markdown",
   "metadata": {},
   "source": [
    "# Тут мы парсим сайт"
   ]
  },
  {
   "cell_type": "code",
   "execution_count": 1363,
   "metadata": {},
   "outputs": [],
   "source": []
  },
  {
   "cell_type": "code",
   "execution_count": 1363,
   "metadata": {},
   "outputs": [],
   "source": []
  },
  {
   "cell_type": "code",
   "execution_count": 1363,
   "metadata": {},
   "outputs": [],
   "source": []
  },
  {
   "cell_type": "code",
   "execution_count": 1363,
   "metadata": {},
   "outputs": [],
   "source": []
  },
  {
   "cell_type": "markdown",
   "metadata": {},
   "source": [
    "# Проверим датасет на наличие пропусков:"
   ]
  },
  {
   "cell_type": "code",
   "execution_count": 1364,
   "metadata": {},
   "outputs": [
    {
     "data": {
      "text/plain": "bodyType                    0\nbrand                       0\ncolor                       0\ncomplectation_dict      28268\ndescription               761\nengineDisplacement          0\nenginePower                 0\nequipment_dict           9992\nfuelType                    3\nmileage                     0\nmodelDate                   0\nmodel_name                  0\nnumberOfDoors               0\nproductionDate              0\nvehicleConfiguration        0\nvehicleTransmission         0\nowners                      0\nPossession              36906\nPTS                         5\ndrive_unit                  0\nrudder                      0\nchoky                       0\nsample                      0\nprice                   34686\ndtype: int64"
     },
     "execution_count": 1364,
     "metadata": {},
     "output_type": "execute_result"
    }
   ],
   "source": [
    "data.isnull().sum()"
   ]
  },
  {
   "cell_type": "markdown",
   "metadata": {},
   "source": [
    "Заполним наны наиболее распостраненным значением или введём значение 'unknown' для случаев где очень много данных отсутствуют"
   ]
  },
  {
   "cell_type": "code",
   "execution_count": 1365,
   "outputs": [
    {
     "data": {
      "text/plain": "  bodyType  brand   color                                 complectation_dict  \\\n0  лифтбек  SKODA   синий                                                NaN   \n1  лифтбек  SKODA  чёрный                                                NaN   \n2  лифтбек  SKODA   серый  {\"id\":\"20026336\",\"name\":\"Ambition\",\"available_...   \n\n                                         description engineDisplacement  \\\n0  Все автомобили, представленные в продаже, прох...            1.2 LTR   \n1  ЛОТ: 01217195\\nАвтопрага Север\\nДанный автомоб...            1.6 LTR   \n2  Все автомобили, представленные в продаже, прох...            1.8 LTR   \n\n  enginePower                                     equipment_dict fuelType  \\\n0     105 N12  {\"engine-proof\":true,\"tinted-glass\":true,\"airb...   бензин   \n1     110 N12  {\"cruise-control\":true,\"asr\":true,\"esp\":true,\"...   бензин   \n2     152 N12  {\"cruise-control\":true,\"tinted-glass\":true,\"es...   бензин   \n\n  mileage  ...     vehicleConfiguration vehicleTransmission       owners  \\\n0   74000  ...       LIFTBACK ROBOT 1.2    роботизированная  3 или более   \n1   60563  ...  LIFTBACK MECHANICAL 1.6        механическая   1 владелец   \n2   88000  ...       LIFTBACK ROBOT 1.8    роботизированная   1 владелец   \n\n  Possession       PTS drive_unit rudder       choky sample price  \n0        NaN  Оригинал   передний  Левый  Растаможен      1   NaN  \n1        NaN  Оригинал   передний  Левый  Растаможен      1   NaN  \n2        NaN  Оригинал   передний  Левый  Растаможен      1   NaN  \n\n[3 rows x 24 columns]",
      "text/html": "<div>\n<style scoped>\n    .dataframe tbody tr th:only-of-type {\n        vertical-align: middle;\n    }\n\n    .dataframe tbody tr th {\n        vertical-align: top;\n    }\n\n    .dataframe thead th {\n        text-align: right;\n    }\n</style>\n<table border=\"1\" class=\"dataframe\">\n  <thead>\n    <tr style=\"text-align: right;\">\n      <th></th>\n      <th>bodyType</th>\n      <th>brand</th>\n      <th>color</th>\n      <th>complectation_dict</th>\n      <th>description</th>\n      <th>engineDisplacement</th>\n      <th>enginePower</th>\n      <th>equipment_dict</th>\n      <th>fuelType</th>\n      <th>mileage</th>\n      <th>...</th>\n      <th>vehicleConfiguration</th>\n      <th>vehicleTransmission</th>\n      <th>owners</th>\n      <th>Possession</th>\n      <th>PTS</th>\n      <th>drive_unit</th>\n      <th>rudder</th>\n      <th>choky</th>\n      <th>sample</th>\n      <th>price</th>\n    </tr>\n  </thead>\n  <tbody>\n    <tr>\n      <th>0</th>\n      <td>лифтбек</td>\n      <td>SKODA</td>\n      <td>синий</td>\n      <td>NaN</td>\n      <td>Все автомобили, представленные в продаже, прох...</td>\n      <td>1.2 LTR</td>\n      <td>105 N12</td>\n      <td>{\"engine-proof\":true,\"tinted-glass\":true,\"airb...</td>\n      <td>бензин</td>\n      <td>74000</td>\n      <td>...</td>\n      <td>LIFTBACK ROBOT 1.2</td>\n      <td>роботизированная</td>\n      <td>3 или более</td>\n      <td>NaN</td>\n      <td>Оригинал</td>\n      <td>передний</td>\n      <td>Левый</td>\n      <td>Растаможен</td>\n      <td>1</td>\n      <td>NaN</td>\n    </tr>\n    <tr>\n      <th>1</th>\n      <td>лифтбек</td>\n      <td>SKODA</td>\n      <td>чёрный</td>\n      <td>NaN</td>\n      <td>ЛОТ: 01217195\\nАвтопрага Север\\nДанный автомоб...</td>\n      <td>1.6 LTR</td>\n      <td>110 N12</td>\n      <td>{\"cruise-control\":true,\"asr\":true,\"esp\":true,\"...</td>\n      <td>бензин</td>\n      <td>60563</td>\n      <td>...</td>\n      <td>LIFTBACK MECHANICAL 1.6</td>\n      <td>механическая</td>\n      <td>1 владелец</td>\n      <td>NaN</td>\n      <td>Оригинал</td>\n      <td>передний</td>\n      <td>Левый</td>\n      <td>Растаможен</td>\n      <td>1</td>\n      <td>NaN</td>\n    </tr>\n    <tr>\n      <th>2</th>\n      <td>лифтбек</td>\n      <td>SKODA</td>\n      <td>серый</td>\n      <td>{\"id\":\"20026336\",\"name\":\"Ambition\",\"available_...</td>\n      <td>Все автомобили, представленные в продаже, прох...</td>\n      <td>1.8 LTR</td>\n      <td>152 N12</td>\n      <td>{\"cruise-control\":true,\"tinted-glass\":true,\"es...</td>\n      <td>бензин</td>\n      <td>88000</td>\n      <td>...</td>\n      <td>LIFTBACK ROBOT 1.8</td>\n      <td>роботизированная</td>\n      <td>1 владелец</td>\n      <td>NaN</td>\n      <td>Оригинал</td>\n      <td>передний</td>\n      <td>Левый</td>\n      <td>Растаможен</td>\n      <td>1</td>\n      <td>NaN</td>\n    </tr>\n  </tbody>\n</table>\n<p>3 rows × 24 columns</p>\n</div>"
     },
     "execution_count": 1365,
     "metadata": {},
     "output_type": "execute_result"
    }
   ],
   "source": [
    "data.head(3)\n"
   ],
   "metadata": {
    "collapsed": false,
    "pycharm": {
     "name": "#%%\n"
    }
   }
  },
  {
   "cell_type": "code",
   "execution_count": 1366,
   "metadata": {},
   "outputs": [],
   "source": [
    "nul_col=['fuelType', 'PTS']\n",
    "for col in data[nul_col]:\n",
    "    ch=data[col].value_counts().index[0]\n",
    "    data[col]=data[col].fillna(ch)\n",
    "unkn_col=['description', 'Possession']\n",
    "for col in data[unkn_col]:\n",
    "    data[col]=data[col].fillna('unknown')\n",
    "    "
   ]
  },
  {
   "cell_type": "code",
   "execution_count": 1367,
   "metadata": {
    "scrolled": true
   },
   "outputs": [
    {
     "data": {
      "text/plain": "bodyType                    0\nbrand                       0\ncolor                       0\ncomplectation_dict      28268\ndescription                 0\nengineDisplacement          0\nenginePower                 0\nequipment_dict           9992\nfuelType                    0\nmileage                     0\nmodelDate                   0\nmodel_name                  0\nnumberOfDoors               0\nproductionDate              0\nvehicleConfiguration        0\nvehicleTransmission         0\nowners                      0\nPossession                  0\nPTS                         0\ndrive_unit                  0\nrudder                      0\nchoky                       0\nsample                      0\nprice                   34686\ndtype: int64"
     },
     "execution_count": 1367,
     "metadata": {},
     "output_type": "execute_result"
    }
   ],
   "source": [
    "data.isnull().sum()"
   ]
  },
  {
   "cell_type": "markdown",
   "metadata": {},
   "source": [
    "В некоторых столбцах часто попадаются некорректно внесённые значения. Они, как правило не повторяются, поэтому можем отфильтровать их"
   ]
  },
  {
   "cell_type": "code",
   "execution_count": 1367,
   "metadata": {},
   "outputs": [],
   "source": []
  },
  {
   "cell_type": "code",
   "execution_count": 1368,
   "metadata": {
    "scrolled": false
   },
   "outputs": [
    {
     "data": {
      "text/plain": "\"\\ncolumns_to_clean=['bodyType', 'brand',  'engineDisplacement',\\n       'enginePower',  'fuelType', 'modelDate',\\n       'model_name',  'numberOfDoors', 'productionDate',\\n       'vehicleConfiguration', 'vehicleTransmission', 'owners', 'Possession',\\n       'PTS', 'drive_unit', 'rudder',  'choky' ]\\nfor col in columns_to_clean:\\n    \\n    #data_sub=data[data['sample']==1]\\n    data = data[data[col].isin(data[col].value_counts()[data[col].value_counts()>5].index)]\\n\\ndata.head(3)\\n\""
     },
     "execution_count": 1368,
     "metadata": {},
     "output_type": "execute_result"
    }
   ],
   "source": [
    "'''\n",
    "columns_to_clean=['bodyType', 'brand',  'engineDisplacement',\n",
    "       'enginePower',  'fuelType', 'modelDate',\n",
    "       'model_name',  'numberOfDoors', 'productionDate',\n",
    "       'vehicleConfiguration', 'vehicleTransmission', 'owners', 'Possession',\n",
    "       'PTS', 'drive_unit', 'rudder',  'choky' ]\n",
    "for col in columns_to_clean:\n",
    "    \n",
    "    #data_sub=data[data['sample']==1]\n",
    "    data = data[data[col].isin(data[col].value_counts()[data[col].value_counts()>5].index)]\n",
    "\n",
    "data.head(3)\n",
    "'''"
   ]
  },
  {
   "cell_type": "code",
   "execution_count": 1369,
   "metadata": {},
   "outputs": [
    {
     "data": {
      "text/plain": "\"\\ncolumns_to_clean_sample=['bodyType', 'brand',  'engineDisplacement',\\n       'enginePower',  'fuelType', 'modelDate',\\n       'model_name',  'numberOfDoors', 'productionDate',\\n       'vehicleConfiguration', 'vehicleTransmission', 'Владельцы', 'Владение', 'ПТС',\\n       'Привод', 'Руль', 'Состояние', 'Таможня' ]\\n\""
     },
     "execution_count": 1369,
     "metadata": {},
     "output_type": "execute_result"
    }
   ],
   "source": [
    "'''\n",
    "columns_to_clean_sample=['bodyType', 'brand',  'engineDisplacement',\n",
    "       'enginePower',  'fuelType', 'modelDate',\n",
    "       'model_name',  'numberOfDoors', 'productionDate',\n",
    "       'vehicleConfiguration', 'vehicleTransmission', 'Владельцы', 'Владение', 'ПТС',\n",
    "       'Привод', 'Руль', 'Состояние', 'Таможня' ]\n",
    "'''       "
   ]
  },
  {
   "cell_type": "code",
   "execution_count": 1370,
   "metadata": {},
   "outputs": [
    {
     "data": {
      "text/plain": "'\\nfor col in columns_to_clean_sample:\\n    sample_submission = sample_submission[sample_submission[col].isin(sample_submission[col].value_counts()[sample_submission[col].value_counts()>5].index)]\\nsample_submission.shape  \\n'"
     },
     "execution_count": 1370,
     "metadata": {},
     "output_type": "execute_result"
    }
   ],
   "source": [
    "'''\n",
    "for col in columns_to_clean_sample:\n",
    "    sample_submission = sample_submission[sample_submission[col].isin(sample_submission[col].value_counts()[sample_submission[col].value_counts()>5].index)]\n",
    "sample_submission.shape  \n",
    "'''"
   ]
  },
  {
   "cell_type": "markdown",
   "metadata": {},
   "source": [
    "# Обработаем числовые признаки"
   ]
  },
  {
   "cell_type": "markdown",
   "metadata": {},
   "source": [
    "Столбцы \"enginePower\", 'engineDisplacement', 'owners' помимо нужных нам числовых знвчений содержат ненужные текстовые. Начнём с чистки этих столбцов."
   ]
  },
  {
   "cell_type": "code",
   "execution_count": 1371,
   "outputs": [
    {
     "data": {
      "text/plain": "249 N12    1708\n150 N12    1698\n150.0      1112\n110 N12    1039\n170 N12     976\n           ... \n603.0         1\n626 N12       1\n66 N12        1\n2.5 LTR       1\n324 N12       1\nName: enginePower, Length: 725, dtype: int64"
     },
     "execution_count": 1371,
     "metadata": {},
     "output_type": "execute_result"
    }
   ],
   "source": [
    "data[\"enginePower\"].value_counts()"
   ],
   "metadata": {
    "collapsed": false,
    "pycharm": {
     "name": "#%%\n"
    }
   }
  },
  {
   "cell_type": "code",
   "execution_count": 1372,
   "metadata": {
    "scrolled": true
   },
   "outputs": [],
   "source": [
    "def take_head(s):\n",
    "    return str(s).split(\" \")[0]\n",
    "\n",
    "data[\"enginePower\"]=data[\"enginePower\"].map(lambda s: take_head(s))\n",
    "data['engineDisplacement'] = data['engineDisplacement'].map(lambda s: take_head(s))\n",
    "data['owners'] = data['owners'].map(lambda s: take_head(s))\n",
    "#data['owners'].apply(splitting)"
   ]
  },
  {
   "cell_type": "markdown",
   "metadata": {},
   "source": [
    "Некоторые признаки хоть и выглядят как числовые имеют тип стринг. Выполним преобразование. "
   ]
  },
  {
   "cell_type": "code",
   "execution_count": 1373,
   "metadata": {},
   "outputs": [],
   "source": [
    "def convert_to_int(col):\n",
    "    def reg_clien(stringa):\n",
    "        stringa=str(stringa).strip()\n",
    "        try:\n",
    "            res=re.findall('\\d+\\.?\\d+', string=str(stringa))[0]\n",
    "        except: \n",
    "            res = '0'\n",
    "        return res\n",
    "    \n",
    "    data[col] = data[col].fillna('0')\n",
    "    data[col] = data[col].map(lambda a: reg_clien(a))\n",
    "    data[col] = data[col].astype(np.float64)\n",
    "    #data[col].astype(np.int32, inplace=True)\n",
    "        \n",
    "\n",
    "\n",
    "for col in ['mileage', \"productionDate\", \"enginePower\", 'engineDisplacement', 'modelDate', 'owners' ]:\n",
    "    convert_to_int(col)\n",
    "\n",
    "\n"
   ]
  },
  {
   "cell_type": "code",
   "execution_count": 1374,
   "outputs": [
    {
     "data": {
      "text/plain": "5                         17631\n4                         13339\n5                         12609\n4                          7666\n2                          1242\n2                          1172\n3                           958\n3                           618\n0                             9\nбензин                        1\n1.6 AT (98 л.с.)              1\n2.0 CVT (144 л.с.)            1\n523i 2.5 AT (170 л.с.)        1\n18i 2.0 AT (150 л.с.)         1\n0                             1\n320i 2.0 AT (156 л.с.)        1\n1.8 AT (152 л.с.)             1\nName: numberOfDoors, dtype: int64"
     },
     "execution_count": 1374,
     "metadata": {},
     "output_type": "execute_result"
    }
   ],
   "source": [
    "data['numberOfDoors'].value_counts()"
   ],
   "metadata": {
    "collapsed": false,
    "pycharm": {
     "name": "#%%\n"
    }
   }
  },
  {
   "cell_type": "code",
   "execution_count": 1375,
   "metadata": {},
   "outputs": [],
   "source": [
    "def doors(row):\n",
    "    try:\n",
    "        return int(row['numberOfDoors'].strip())\n",
    "    except:\n",
    "        return 5\n",
    "data['numberOfDoors']=data.apply(lambda row:  doors(row), axis=1 )"
   ]
  },
  {
   "cell_type": "markdown",
   "metadata": {},
   "source": [
    "Убедимся, что преобразование сработало:"
   ]
  },
  {
   "cell_type": "code",
   "execution_count": 1376,
   "metadata": {},
   "outputs": [
    {
     "name": "stdout",
     "output_type": "stream",
     "text": [
      "float64\n",
      "float64\n",
      "float64\n",
      "float64\n",
      "float64\n",
      "float64\n",
      "int64\n"
     ]
    }
   ],
   "source": [
    "for col in ['mileage', \"productionDate\", \"enginePower\", 'engineDisplacement', 'modelDate', 'owners', 'numberOfDoors' ]:\n",
    "    print(data[col].dtypes)"
   ]
  },
  {
   "cell_type": "code",
   "execution_count": 1377,
   "metadata": {},
   "outputs": [
    {
     "name": "stderr",
     "output_type": "stream",
     "text": [
      "/Users/do/git/Skill_Factory/Project_5_Auto_Prices/venv/lib/python3.9/site-packages/seaborn/distributions.py:2557: FutureWarning: `distplot` is a deprecated function and will be removed in a future version. Please adapt your code to use either `displot` (a figure-level function with similar flexibility) or `histplot` (an axes-level function for histograms).\n",
      "  warnings.warn(msg, FutureWarning)\n"
     ]
    },
    {
     "data": {
      "text/plain": "<Figure size 432x288 with 1 Axes>",
      "image/png": "[encoded data removed]"
     },
     "metadata": {
      "needs_background": "light"
     },
     "output_type": "display_data"
    }
   ],
   "source": [
    "plt.figure()\n",
    "sns.distplot(data['mileage'])\n",
    "plt.title(col)\n",
    "plt.show()\n",
    "    "
   ]
  },
  {
   "cell_type": "code",
   "execution_count": 1378,
   "metadata": {},
   "outputs": [],
   "source": [
    "X_num = data[['mileage', \"productionDate\", \"enginePower\", 'engineDisplacement', 'modelDate', 'owners', 'numberOfDoors']][data['sample']==0]\n",
    "X_num_sub = data[['mileage', \"productionDate\", \"enginePower\", 'engineDisplacement', 'modelDate', 'owners', 'numberOfDoors']][data['sample']==1]"
   ]
  },
  {
   "cell_type": "markdown",
   "metadata": {},
   "source": [
    "# Бинарные признаки"
   ]
  },
  {
   "cell_type": "markdown",
   "metadata": {},
   "source": [
    "Столбцы 'drive_unit','rudder','choky' относятся к бинарным.\n",
    "Над столбцом 'PTS' нужно произвести некоторые преобразования:"
   ]
  },
  {
   "cell_type": "code",
   "execution_count": 1379,
   "metadata": {},
   "outputs": [
    {
     "data": {
      "text/plain": "Оригинал              30098\nORIGINAL              18018\nДубликат               4585\nDUPLICATE              2548\n1085512260                1\n9 лет и 10 месяцев        1\n3 года и 6 месяцев        1\nName: PTS, dtype: int64"
     },
     "execution_count": 1379,
     "metadata": {},
     "output_type": "execute_result"
    }
   ],
   "source": [
    "data['PTS'].value_counts()"
   ]
  },
  {
   "cell_type": "code",
   "execution_count": 1380,
   "metadata": {},
   "outputs": [
    {
     "data": {
      "text/plain": "ORIGINAL              48116\nDUPLICATE              7133\n1085512260                1\n9 лет и 10 месяцев        1\n3 года и 6 месяцев        1\nName: PTS, dtype: int64"
     },
     "execution_count": 1380,
     "metadata": {},
     "output_type": "execute_result"
    }
   ],
   "source": [
    "data['PTS'] = data['PTS'].str.replace('Оригинал', 'ORIGINAL')\n",
    "data['PTS'] = data['PTS'].str.replace('Дубликат', 'DUPLICATE')\n",
    "data['PTS'].value_counts()"
   ]
  },
  {
   "cell_type": "code",
   "execution_count": 1381,
   "metadata": {},
   "outputs": [
    {
     "data": {
      "text/plain": "LEFT                             52760\nRIGHT                             2485\nпередний                             3\nзадний                               3\nALLROAD_5_DOORS AUTOMATIC 4.6        1\nName: rudder, dtype: int64"
     },
     "execution_count": 1381,
     "metadata": {},
     "output_type": "execute_result"
    }
   ],
   "source": [
    "data['rudder'] = data['rudder'].str.replace('Левый', 'LEFT')\n",
    "data['rudder'] = data['rudder'].str.replace('Правый', 'RIGHT')\n",
    "data['rudder'].value_counts()"
   ]
  },
  {
   "cell_type": "code",
   "execution_count": 1382,
   "metadata": {},
   "outputs": [],
   "source": [
    "data['choky']=data['choky'].astype('str')"
   ]
  },
  {
   "cell_type": "code",
   "execution_count": 1383,
   "metadata": {
    "scrolled": true
   },
   "outputs": [],
   "source": [
    "X_bin = data[['drive_unit','rudder','PTS','choky']]\n",
    "#bin_cols = ['drive_unit','rudder','PTS','choky']\n"
   ]
  },
  {
   "cell_type": "code",
   "execution_count": 1384,
   "metadata": {},
   "outputs": [
    {
     "name": "stderr",
     "output_type": "stream",
     "text": [
      "<ipython-input-1384-6e75c4ece4d0>:4: SettingWithCopyWarning: \n",
      "A value is trying to be set on a copy of a slice from a DataFrame.\n",
      "Try using .loc[row_indexer,col_indexer] = value instead\n",
      "\n",
      "See the caveats in the documentation: https://pandas.pydata.org/pandas-docs/stable/user_guide/indexing.html#returning-a-view-versus-a-copy\n",
      "  X_bin[column] = label_encoder.fit_transform(X_bin[column])\n"
     ]
    },
    {
     "data": {
      "text/plain": "   drive_unit  rudder  PTS  choky\n0           4       1    4      3\n1           4       1    4      3\n2           4       1    4      3",
      "text/html": "<div>\n<style scoped>\n    .dataframe tbody tr th:only-of-type {\n        vertical-align: middle;\n    }\n\n    .dataframe tbody tr th {\n        vertical-align: top;\n    }\n\n    .dataframe thead th {\n        text-align: right;\n    }\n</style>\n<table border=\"1\" class=\"dataframe\">\n  <thead>\n    <tr style=\"text-align: right;\">\n      <th></th>\n      <th>drive_unit</th>\n      <th>rudder</th>\n      <th>PTS</th>\n      <th>choky</th>\n    </tr>\n  </thead>\n  <tbody>\n    <tr>\n      <th>0</th>\n      <td>4</td>\n      <td>1</td>\n      <td>4</td>\n      <td>3</td>\n    </tr>\n    <tr>\n      <th>1</th>\n      <td>4</td>\n      <td>1</td>\n      <td>4</td>\n      <td>3</td>\n    </tr>\n    <tr>\n      <th>2</th>\n      <td>4</td>\n      <td>1</td>\n      <td>4</td>\n      <td>3</td>\n    </tr>\n  </tbody>\n</table>\n</div>"
     },
     "execution_count": 1384,
     "metadata": {},
     "output_type": "execute_result"
    }
   ],
   "source": [
    "label_encoder = LabelEncoder()\n",
    "\n",
    "for column in X_bin.columns:\n",
    "    X_bin[column] = label_encoder.fit_transform(X_bin[column])\n",
    "X_bin.head(3)"
   ]
  },
  {
   "cell_type": "markdown",
   "metadata": {},
   "source": [
    "# Категориальные и бинарные признаки"
   ]
  },
  {
   "cell_type": "code",
   "execution_count": 1385,
   "outputs": [],
   "source": [
    "data[\"bodyType\"]=data[\"bodyType\"].map(lambda s: s.lower().strip())"
   ],
   "metadata": {
    "collapsed": false,
    "pycharm": {
     "name": "#%%\n"
    }
   }
  },
  {
   "cell_type": "code",
   "execution_count": 1386,
   "metadata": {},
   "outputs": [
    {
     "data": {
      "text/plain": "\"\\nfor col in ['bodyType', 'brand', 'color',   'fuelType',\\n       'model_name',   'vehicleTransmission']:\\n    col_to_show=data[col].value_counts()\\n    col_to_show.plot(kind='bar', title=col)\\n    #sns.countplot(x=data[column], data=data[bin_cols])\\n    plt.show()\\n\""
     },
     "execution_count": 1386,
     "metadata": {},
     "output_type": "execute_result"
    }
   ],
   "source": [
    "\"\"\"\n",
    "for col in ['bodyType', 'brand', 'color',   'fuelType',\n",
    "       'model_name',   'vehicleTransmission']:\n",
    "    col_to_show=data[col].value_counts()\n",
    "    col_to_show.plot(kind='bar', title=col)\n",
    "    #sns.countplot(x=data[column], data=data[bin_cols])\n",
    "    plt.show()\n",
    "\"\"\""
   ]
  },
  {
   "cell_type": "code",
   "execution_count": 1387,
   "metadata": {
    "scrolled": false
   },
   "outputs": [
    {
     "data": {
      "text/plain": "\"\\nfor col in ['bodyType', 'brand', 'color',   'fuelType', \\n       'model_name',   'vehicleTransmission']:\\n    print('________________________')\\n    print(col)\\n    print('________________________')\\n    print(data[col].value_counts())\\n\""
     },
     "execution_count": 1387,
     "metadata": {},
     "output_type": "execute_result"
    }
   ],
   "source": [
    "\"\"\"\n",
    "for col in ['bodyType', 'brand', 'color',   'fuelType', \n",
    "       'model_name',   'vehicleTransmission']:\n",
    "    print('________________________')\n",
    "    print(col)\n",
    "    print('________________________')\n",
    "    print(data[col].value_counts())\n",
    "\"\"\""
   ]
  },
  {
   "cell_type": "markdown",
   "metadata": {},
   "source": [
    "Признаки, имеющие не очень большое количество разных значений кодируем OneHotEncoder"
   ]
  },
  {
   "cell_type": "code",
   "execution_count": 1388,
   "outputs": [
    {
     "data": {
      "text/plain": "{'ACURA',\n 'ALFA_ROMEO',\n 'AUDI',\n 'BENTLEY',\n 'BMW',\n 'CADILLAC',\n 'CHERY',\n 'CHEVROLET',\n 'CHRYSLER',\n 'CITROEN',\n 'DAEWOO',\n 'DATSUN',\n 'DODGE',\n 'FIAT',\n 'FORD',\n 'GAZ',\n 'GEELY',\n 'GREAT_WALL',\n 'HAVAL',\n 'HONDA',\n 'HUMMER',\n 'HYUNDAI',\n 'IG',\n 'INFINITI',\n 'JAGUAR',\n 'JEEP',\n 'KIA',\n 'LAND_ROVER',\n 'LEXUS',\n 'LIFAN',\n 'LINCOLN',\n 'LUAZ',\n 'MASERATI',\n 'MAZDA',\n 'MERCEDES',\n 'MINI',\n 'MITSUBISHI',\n 'MOSCVICH',\n 'NISSAN',\n 'OPEL',\n 'PEUGEOT',\n 'PORSCHE',\n 'RAVON',\n 'RENAULT',\n 'ROLLS_ROYCE',\n 'ROVER',\n 'SAAB',\n 'SEAT',\n 'SKODA',\n 'SMART',\n 'SSANG_YONG',\n 'SUBARU',\n 'SUZUKI',\n 'TAGAZ',\n 'TOYOTA',\n 'UAZ',\n 'VAZ',\n 'VOLKSWAGEN',\n 'VOLVO',\n 'VORTEX',\n 'ZAZ'}"
     },
     "execution_count": 1388,
     "metadata": {},
     "output_type": "execute_result"
    }
   ],
   "source": [
    "d = data['brand'].value_counts()\n",
    "brand_pop = data['brand'].value_counts()[d > 34].keys()\n",
    "set(brand_pop)"
   ],
   "metadata": {
    "collapsed": false,
    "pycharm": {
     "name": "#%%\n"
    }
   }
  },
  {
   "cell_type": "code",
   "execution_count": 1389,
   "outputs": [],
   "source": [
    "def ffffdfgdg(e):\n",
    "    if e in brand_pop:\n",
    "        res = e\n",
    "    else:\n",
    "        res = 'other'\n",
    "    return res\n",
    "\n",
    "data['brand_pop'] = data['brand'].apply(lambda x: ffffdfgdg(x))\n"
   ],
   "metadata": {
    "collapsed": false,
    "pycharm": {
     "name": "#%%\n"
    }
   }
  },
  {
   "cell_type": "code",
   "execution_count": 1390,
   "outputs": [
    {
     "data": {
      "text/plain": "array([[0., 0., 0., ..., 0., 0., 0.],\n       [0., 0., 0., ..., 0., 0., 0.],\n       [0., 0., 0., ..., 0., 0., 0.],\n       ...,\n       [0., 0., 0., ..., 0., 0., 0.],\n       [0., 0., 0., ..., 0., 0., 0.],\n       [0., 0., 0., ..., 0., 0., 0.]])"
     },
     "execution_count": 1390,
     "metadata": {},
     "output_type": "execute_result"
    }
   ],
   "source": [
    "X_cat_1 = OneHotEncoder(sparse = False).fit_transform(data[['fuelType', 'vehicleTransmission', 'brand_pop']])\n",
    "X_cat_1"
   ],
   "metadata": {
    "collapsed": false,
    "pycharm": {
     "name": "#%%\n"
    }
   }
  },
  {
   "cell_type": "markdown",
   "metadata": {},
   "source": [
    "Значения остальных категориальных признаков заменим количеством их повторений в датасете."
   ]
  },
  {
   "cell_type": "code",
   "execution_count": 1391,
   "outputs": [
    {
     "data": {
      "text/plain": "128"
     },
     "execution_count": 1391,
     "metadata": {},
     "output_type": "execute_result"
    }
   ],
   "source": [
    "len(data['brand'].value_counts())"
   ],
   "metadata": {
    "collapsed": false,
    "pycharm": {
     "name": "#%%\n"
    }
   }
  },
  {
   "cell_type": "code",
   "execution_count": 1392,
   "outputs": [
    {
     "data": {
      "text/plain": "82"
     },
     "execution_count": 1392,
     "metadata": {},
     "output_type": "execute_result"
    }
   ],
   "source": [
    "len(data['brand'].value_counts().unique())"
   ],
   "metadata": {
    "collapsed": false,
    "pycharm": {
     "name": "#%%\n"
    }
   }
  },
  {
   "cell_type": "code",
   "execution_count": 1393,
   "outputs": [
    {
     "data": {
      "text/plain": "128"
     },
     "execution_count": 1393,
     "metadata": {},
     "output_type": "execute_result"
    }
   ],
   "source": [
    "def f(e):\n",
    "    return e + randrange(100000)\n",
    "\n",
    "len(set({k: f(v) for k, v in dict(data['brand'].value_counts()).items()}.values()))"
   ],
   "metadata": {
    "collapsed": false,
    "pycharm": {
     "name": "#%%\n"
    }
   }
  },
  {
   "cell_type": "code",
   "execution_count": 1394,
   "metadata": {},
   "outputs": [
    {
     "name": "stderr",
     "output_type": "stream",
     "text": [
      "<ipython-input-1394-96e43f0886ac>:9: SettingWithCopyWarning: \n",
      "A value is trying to be set on a copy of a slice from a DataFrame.\n",
      "Try using .loc[row_indexer,col_indexer] = value instead\n",
      "\n",
      "See the caveats in the documentation: https://pandas.pydata.org/pandas-docs/stable/user_guide/indexing.html#returning-a-view-versus-a-copy\n",
      "  X_cat[c]=data.apply(lambda row: encoder_cat(row, c, vc), axis=1)\n"
     ]
    }
   ],
   "source": [
    "def clean_cat(data, cats):\n",
    "    def encoder_cat(row, cat, vc):\n",
    "        br = row[cat]\n",
    "        return vc[br]\n",
    "\n",
    "    X_cat = data[cats]\n",
    "    for c in cats:\n",
    "        vc = data[c].value_counts()\n",
    "        X_cat[c]=data.apply(lambda row: encoder_cat(row, c, vc), axis=1)\n",
    "\n",
    "    return X_cat\n",
    "\n",
    "X_cat_2 = clean_cat(data, ['bodyType', 'color', 'model_name', 'brand'])"
   ]
  },
  {
   "cell_type": "markdown",
   "metadata": {},
   "source": [
    "# Превратим длинные строковые значения в столбце 'equipment_dict' в списки."
   ]
  },
  {
   "cell_type": "code",
   "execution_count": 1395,
   "outputs": [],
   "source": [
    "def eq_fix(row, col):\n",
    "    try:\n",
    "        res= list(json.loads(row[col]).keys())\n",
    "    except:\n",
    "        res=[]\n",
    "\n",
    "    return res\n",
    "data['equipment_dict'] = data.apply(lambda row: eq_fix(row, 'equipment_dict'), axis=1)"
   ],
   "metadata": {
    "collapsed": false,
    "pycharm": {
     "name": "#%%\n"
    }
   }
  },
  {
   "cell_type": "markdown",
   "metadata": {},
   "source": [
    "Из столбца 'complectation_dict' выгрузим значения 'available_options' в json"
   ]
  },
  {
   "cell_type": "code",
   "execution_count": 1396,
   "metadata": {},
   "outputs": [],
   "source": [
    "def comp_fix(row, col):\n",
    "    try:\n",
    "        res= json.loads(row[col].replace(\"'\", '\"'))['available_options']\n",
    "    except:\n",
    "        res=[]\n",
    "\n",
    "    return res\n",
    "\n",
    "data['complectation_dict'] = data.apply(lambda row: comp_fix(row, 'complectation_dict'), axis=1)"
   ]
  },
  {
   "cell_type": "markdown",
   "metadata": {},
   "source": [
    "Теперь в столбцах `equipment_dict` и `complectation_dict` расположениы списки укомплектации для каждой машины. Посмотрим какие элементы комплектации встречаются чаще всего, чтоб создать отдельные признаки опираясь на наличие этих элементов"
   ]
  },
  {
   "cell_type": "code",
   "execution_count": 1397,
   "metadata": {},
   "outputs": [
    {
     "data": {
      "text/plain": "151"
     },
     "execution_count": 1397,
     "metadata": {},
     "output_type": "execute_result"
    }
   ],
   "source": [
    "equip=[]\n",
    "for car in data[data['sample'] == 0]['equipment_dict']:\n",
    "    try:\n",
    "        for eq in car:\n",
    "            equip.append(eq)\n",
    "    except:\n",
    "        continue\n",
    "\n",
    "for car in data[data['sample'] == 0]['complectation_dict']:\n",
    "    try:\n",
    "        for eq in car:\n",
    "            equip.append(eq)\n",
    "    except:\n",
    "        continue\n",
    "\n",
    "equipment=pd.Series(equip)\n",
    "equipment=equipment.value_counts()\n",
    "len(equipment)"
   ]
  },
  {
   "cell_type": "code",
   "execution_count": 1398,
   "outputs": [],
   "source": [
    "# equipment=equipment[equipment.values > 20]\n",
    "# len(equipment)"
   ],
   "metadata": {
    "collapsed": false,
    "pycharm": {
     "name": "#%%\n"
    }
   }
  },
  {
   "cell_type": "code",
   "execution_count": 1399,
   "outputs": [
    {
     "data": {
      "text/plain": "electro-window-front    1832\nlock                    1830\nairbag-driver           1821\naudiopreparation        1813\nwheel-configuration1    1784\n                        ... \ne-adjustment-wheel         3\nremote-engine-start        2\nmassage-seats              2\nprojection-display         2\nfront-camera               1\nLength: 151, dtype: int64"
     },
     "execution_count": 1399,
     "metadata": {},
     "output_type": "execute_result"
    }
   ],
   "source": [
    "equipment"
   ],
   "metadata": {
    "collapsed": false,
    "pycharm": {
     "name": "#%%\n"
    }
   }
  },
  {
   "cell_type": "code",
   "execution_count": 1400,
   "metadata": {
    "scrolled": true
   },
   "outputs": [],
   "source": [
    "X_cat_3 = pd.DataFrame(data['sample'])\n",
    "for col in equipment.index:\n",
    "    def eq_col(row):\n",
    "        return int((col in row['equipment_dict']) or (col in row['complectation_dict']) )\n",
    "    \n",
    "    X_cat_3[col]=data.apply(lambda row: eq_col(row), axis=1)\n",
    "X_cat_3_sub=pd.DataFrame(X_cat_3)\n",
    "X_cat_3 = X_cat_3[X_cat_3['sample']==0]\n",
    "X_cat_3_sub = X_cat_3_sub[X_cat_3_sub['sample']==1]"
   ]
  },
  {
   "cell_type": "markdown",
   "source": [
    "#### Объединяем"
   ],
   "metadata": {
    "collapsed": false,
    "pycharm": {
     "name": "#%% md\n"
    }
   }
  },
  {
   "cell_type": "code",
   "execution_count": 1401,
   "metadata": {},
   "outputs": [
    {
     "data": {
      "text/plain": "(34686, 253)"
     },
     "execution_count": 1401,
     "metadata": {},
     "output_type": "execute_result"
    }
   ],
   "source": [
    "X = np.hstack([X_num, X_bin[data['sample'] == 0], X_cat_1[data['sample'] == 0], X_cat_2[data['sample']==0], X_cat_3])\n",
    "\n",
    "X_sub = np.hstack([X_num_sub, X_bin[data['sample'] == 1], X_cat_1[data['sample'] == 1], X_cat_2[data['sample']==1], X_cat_3_sub])\n",
    "X_sub.shape"
   ]
  },
  {
   "cell_type": "markdown",
   "source": [
    "Стандартизируем признаки:"
   ],
   "metadata": {
    "collapsed": false,
    "pycharm": {
     "name": "#%% md\n"
    }
   }
  },
  {
   "cell_type": "code",
   "execution_count": 1402,
   "outputs": [],
   "source": [
    "X = StandardScaler().fit_transform(X)\n",
    "X_sub = StandardScaler().fit_transform(X_sub)\n"
   ],
   "metadata": {
    "collapsed": false,
    "pycharm": {
     "name": "#%%\n"
    }
   }
  },
  {
   "cell_type": "code",
   "execution_count": 1403,
   "metadata": {
    "scrolled": true
   },
   "outputs": [
    {
     "data": {
      "text/plain": "34686    199000.0\n34687    550000.0\n34688    250000.0\n34689    400000.0\n34690    400000.0\n           ...   \n55247    740000.0\n55248    690000.0\n55249    650000.0\n55250    780000.0\n55251     45000.0\nName: price, Length: 20566, dtype: float64"
     },
     "execution_count": 1403,
     "metadata": {},
     "output_type": "execute_result"
    }
   ],
   "source": [
    "y = data['price'][data['sample']==0]\n",
    "y"
   ]
  },
  {
   "cell_type": "markdown",
   "metadata": {},
   "source": [
    "Поделим выборку на тренировочную и тестовую"
   ]
  },
  {
   "cell_type": "code",
   "execution_count": 1404,
   "metadata": {},
   "outputs": [],
   "source": [
    "X_train, X_test, y_train, y_test = train_test_split(X, y, test_size=0.2, random_state=RANDOM_SEED)"
   ]
  },
  {
   "cell_type": "markdown",
   "metadata": {},
   "source": [
    "# Подберём модели:¶"
   ]
  },
  {
   "cell_type": "markdown",
   "metadata": {},
   "source": [
    "Пробуя применять различные модели машинного обучения, я с толкнулась с тем, что получившийся датасет оказался черезчур большим и пришлось использовать его срез."
   ]
  },
  {
   "cell_type": "code",
   "execution_count": 1405,
   "outputs": [],
   "source": [
    "def split_factor(factor, X_train, y_train, X_test, y_test):\n",
    "    _, X_train2, _, y_train2 = train_test_split(X_train, y_train, test_size=factor, random_state=RANDOM_SEED)\n",
    "    _, X_test2, _, y_test2 = train_test_split(X_test, y_test, test_size=factor, random_state=RANDOM_SEED)\n",
    "    return X_train2, y_train2, X_test2, y_test2"
   ],
   "metadata": {
    "collapsed": false,
    "pycharm": {
     "name": "#%%\n"
    }
   }
  },
  {
   "cell_type": "markdown",
   "source": [
    "Оценим уровень влияния каждой из наших фич на целевую переменную и удалим бесполезные фичи"
   ],
   "metadata": {
    "collapsed": false,
    "pycharm": {
     "name": "#%% md\n",
     "is_executing": true
    }
   }
  },
  {
   "cell_type": "code",
   "execution_count": 1406,
   "outputs": [
    {
     "name": "stderr",
     "output_type": "stream",
     "text": [
      "/Users/do/git/Skill_Factory/Project_5_Auto_Prices/venv/lib/python3.9/site-packages/sklearn/feature_selection/_univariate_selection.py:114: UserWarning: Features [  6  10  11  12  13  14  20  21  22  24  27  28  29  31  32  33  34 101\n",
      " 211 231 234 235 239 240 243 245 246 249 250 251] are constant.\n",
      "  warnings.warn(\"Features %s are constant.\" % constant_features_idx,\n",
      "/Users/do/git/Skill_Factory/Project_5_Auto_Prices/venv/lib/python3.9/site-packages/sklearn/feature_selection/_univariate_selection.py:116: RuntimeWarning: divide by zero encountered in true_divide\n",
      "  f = msb / msw\n",
      "/Users/do/git/Skill_Factory/Project_5_Auto_Prices/venv/lib/python3.9/site-packages/sklearn/feature_selection/_univariate_selection.py:116: RuntimeWarning: invalid value encountered in true_divide\n",
      "  f = msb / msw\n"
     ]
    },
    {
     "data": {
      "text/plain": "[101, 34, 33, 32, 31, 29, 28, 27, 24, 22, 21, 20, 14, 13, 12, 11, 10, 6]"
     },
     "execution_count": 1406,
     "metadata": {},
     "output_type": "execute_result"
    }
   ],
   "source": [
    "def f_classif_fix(factor, X, y):\n",
    "    _, X_small, _, y_small = train_test_split(X, y, test_size=factor, random_state=RANDOM_SEED)\n",
    "    imp_num = pd.Series(f_classif(X_small, y_small)[0])\n",
    "    res = list()\n",
    "    for idx, e in enumerate(np.array(imp_num)):\n",
    "        if math.isnan(e):\n",
    "            res.append(idx)\n",
    "    res.reverse()\n",
    "    return res\n",
    "\n",
    "nan_idx = f_classif_fix(0.2, X, y)\n",
    "nan_idx"
   ],
   "metadata": {
    "collapsed": false,
    "pycharm": {
     "name": "#%%\n"
    }
   }
  },
  {
   "cell_type": "code",
   "execution_count": 1407,
   "outputs": [],
   "source": [
    "for idx in nan_idx:\n",
    "    def delete(x):\n",
    "        np.delete(x, idx, 1)\n",
    "    delete(X_test)\n",
    "    delete(X_train)\n",
    "    delete(X_sub)"
   ],
   "metadata": {
    "collapsed": false,
    "pycharm": {
     "name": "#%%\n"
    }
   }
  },
  {
   "cell_type": "markdown",
   "source": [
    "Создадим универсальную функцию, с помощью которой будем создавать и тренировать данные, уменьшать датасет с заданным фактором и выводить МАPE"
   ],
   "metadata": {
    "collapsed": false
   }
  },
  {
   "cell_type": "code",
   "source": [
    "def trait_regressor(X_train, y_train, X_test, y_test, model):\n",
    "    model.fit(X_train, y_train)\n",
    "    y_pred = model.predict(X_test)\n",
    "    print('MAPE:', np.mean(np.abs((y_test - y_pred) / y_test)) * 100)\n",
    "    return model"
   ],
   "metadata": {
    "collapsed": false,
    "pycharm": {
     "name": "#%%\n"
    }
   },
   "execution_count": 1408,
   "outputs": []
  },
  {
   "cell_type": "markdown",
   "metadata": {
    "pycharm": {
     "name": "#%% md\n"
    }
   },
   "source": [
    "Линейнай регрессия _иногда_ не работает, выдавая ошибку \"LinAlgError: SVD did not converge in Linear Least Squares\""
   ]
  },
  {
   "cell_type": "code",
   "execution_count": 1409,
   "metadata": {},
   "outputs": [
    {
     "name": "stdout",
     "output_type": "stream",
     "text": [
      "MAPE: 548749751680.88306\n"
     ]
    }
   ],
   "source": [
    "# 173\n",
    "lr_model = trait_regressor(X_train, y_train, X_test, y_test,\n",
    "                              LinearRegression()\n",
    "                           )"
   ]
  },
  {
   "cell_type": "code",
   "execution_count": 1410,
   "metadata": {},
   "outputs": [
    {
     "name": "stdout",
     "output_type": "stream",
     "text": [
      "MAPE: 26.621711196234337\n",
      "{'bootstrap': True,\n",
      " 'ccp_alpha': 0.0,\n",
      " 'criterion': 'mse',\n",
      " 'max_depth': None,\n",
      " 'max_features': 'auto',\n",
      " 'max_leaf_nodes': None,\n",
      " 'max_samples': None,\n",
      " 'min_impurity_decrease': 0.0,\n",
      " 'min_impurity_split': None,\n",
      " 'min_samples_leaf': 1,\n",
      " 'min_samples_split': 2,\n",
      " 'min_weight_fraction_leaf': 0.0,\n",
      " 'n_estimators': 100,\n",
      " 'n_jobs': None,\n",
      " 'oob_score': False,\n",
      " 'random_state': 42,\n",
      " 'verbose': 0,\n",
      " 'warm_start': False}\n"
     ]
    }
   ],
   "source": [
    "# 26.58\n",
    "rf_1 = trait_regressor(X_train, y_train, X_test, y_test,\n",
    "                            RandomForestRegressor(random_state = RANDOM_SEED)\n",
    "                       )\n",
    "# Look at parameters used by our current forest\n",
    "# print('Параметры по умолчанию:\\n')\n",
    "pprint(rf_1.get_params())"
   ]
  },
  {
   "cell_type": "markdown",
   "metadata": {},
   "source": [
    "Подберём параметры для рандом фореста"
   ]
  },
  {
   "cell_type": "code",
   "execution_count": 1411,
   "metadata": {},
   "outputs": [
    {
     "data": {
      "text/plain": "\"\\n# MAPE: 27.06830268352361\\n# {'n_estimators': 50}\\nparam_grid = {\\n    'n_estimators': [50, 100, 200, 500, 1000]\\n}\\nrf_best = trait_regressor(X_train, y_train, X_test, y_test,\\n                       GridSearchCV(estimator = RandomForestRegressor(), param_grid = param_grid, n_jobs = 6)\\n                       )\\nprint(rf_best.best_params_)\\n\""
     },
     "execution_count": 1411,
     "metadata": {},
     "output_type": "execute_result"
    }
   ],
   "source": [
    "\"\"\"\n",
    "# MAPE: 27.06830268352361\n",
    "# {'n_estimators': 50}\n",
    "param_grid = {\n",
    "    'n_estimators': [50, 100, 200, 500, 1000]\n",
    "}\n",
    "rf_best = trait_regressor(X_train, y_train, X_test, y_test,\n",
    "                       GridSearchCV(estimator = RandomForestRegressor(), param_grid = param_grid, n_jobs = 6)\n",
    "                       )\n",
    "print(rf_best.best_params_)\n",
    "\"\"\""
   ]
  },
  {
   "cell_type": "code",
   "execution_count": 1412,
   "outputs": [
    {
     "name": "stdout",
     "output_type": "stream",
     "text": [
      "MAPE: 33.36544321701362\n"
     ]
    }
   ],
   "source": [
    "# 34\n",
    "ftree_def = trait_regressor(X_train, y_train, X_test, y_test,\n",
    "                            DecisionTreeRegressor(random_state = RANDOM_SEED)\n",
    "                            )"
   ],
   "metadata": {
    "collapsed": false,
    "pycharm": {
     "name": "#%%\n"
    }
   }
  },
  {
   "cell_type": "code",
   "execution_count": 1413,
   "outputs": [
    {
     "name": "stdout",
     "output_type": "stream",
     "text": [
      "MAPE: 50.18408336750817\n"
     ]
    }
   ],
   "source": [
    "# 50\n",
    "gb_def = trait_regressor(X_train, y_train, X_test, y_test,\n",
    "                         GradientBoostingRegressor(random_state = RANDOM_SEED)\n",
    "                         )"
   ],
   "metadata": {
    "collapsed": false,
    "pycharm": {
     "name": "#%%\n"
    }
   }
  },
  {
   "cell_type": "code",
   "execution_count": 1415,
   "metadata": {},
   "outputs": [
    {
     "data": {
      "text/plain": "'\\n# 25.88\\ngb = trait_regressor(X_train, y_train, X_test, y_test,\\n               GradientBoostingRegressor(\\n                    random_state = RANDOM_SEED,\\n                    max_depth = 6,\\n                    n_estimators = 800,\\n                )\\n               )\\n'"
     },
     "execution_count": 1415,
     "metadata": {},
     "output_type": "execute_result"
    }
   ],
   "source": [
    "\"\"\"\n",
    "# 25.88\n",
    "gb = trait_regressor(X_train, y_train, X_test, y_test,\n",
    "               GradientBoostingRegressor(\n",
    "                    random_state = RANDOM_SEED,\n",
    "                    max_depth = 6,\n",
    "                    n_estimators = 800,\n",
    "                )\n",
    "               )\n",
    "\"\"\""
   ]
  },
  {
   "cell_type": "markdown",
   "source": [
    "Подберём параметры для градиентного бустинга"
   ],
   "metadata": {
    "collapsed": false
   }
  },
  {
   "cell_type": "code",
   "execution_count": 1416,
   "outputs": [
    {
     "data": {
      "text/plain": "\"\\n# MAPE: 26.558947258074717\\n# {'max_depth': 7, 'n_estimators': 1000}\\nparam_grid = {\\n    'n_estimators': [800, 1000, 1500],\\n    # 'max_features': ['auto', 'sqrt', 'log2'],\\n    'max_depth' : [6, 7, 8]\\n}\\ngb_2 = trait_regressor(X_train, y_train, X_test, y_test,\\n                       GridSearchCV(estimator = GradientBoostingRegressor(), param_grid = param_grid, n_jobs = 6)\\n                       )\\nprint(gb_2.best_params_)\\n\""
     },
     "execution_count": 1416,
     "metadata": {},
     "output_type": "execute_result"
    }
   ],
   "source": [
    "\"\"\"\n",
    "# MAPE: 26.558947258074717\n",
    "# {'max_depth': 7, 'n_estimators': 1000}\n",
    "param_grid = {\n",
    "    'n_estimators': [800, 1000, 1500],\n",
    "    # 'max_features': ['auto', 'sqrt', 'log2'],\n",
    "    'max_depth' : [6, 7, 8]\n",
    "}\n",
    "gb_2 = trait_regressor(X_train, y_train, X_test, y_test,\n",
    "                       GridSearchCV(estimator = GradientBoostingRegressor(), param_grid = param_grid, n_jobs = 6)\n",
    "                       )\n",
    "print(gb_2.best_params_)\n",
    "\"\"\""
   ],
   "metadata": {
    "collapsed": false,
    "pycharm": {
     "name": "#%%\n"
    }
   }
  },
  {
   "cell_type": "code",
   "execution_count": null,
   "outputs": [],
   "source": [
    "# 137\n",
    "svr = trait_regressor(X_train, y_train, X_test, y_test,\n",
    "               SVR()\n",
    "                )"
   ],
   "metadata": {
    "collapsed": false,
    "pycharm": {
     "name": "#%%\n",
     "is_executing": true
    }
   }
  },
  {
   "cell_type": "code",
   "execution_count": null,
   "outputs": [],
   "source": [
    "# 39\n",
    "knn = trait_regressor(X_train, y_train, X_test, y_test,\n",
    "               KNeighborsRegressor()\n",
    "               )"
   ],
   "metadata": {
    "collapsed": false,
    "pycharm": {
     "name": "#%%\n",
     "is_executing": true
    }
   }
  },
  {
   "cell_type": "markdown",
   "source": [
    "Catboost"
   ],
   "metadata": {
    "collapsed": false
   }
  },
  {
   "cell_type": "code",
   "execution_count": null,
   "outputs": [],
   "source": [
    "# 33\n",
    "cbr = trait_regressor(X_train, y_train, X_test, y_test,\n",
    "                       CatBoostRegressor(\n",
    "                            random_seed = RANDOM_SEED,\n",
    "                            metric_period=100\n",
    "                            # learning_rate = 0.05,\n",
    "                            # depth=9,\n",
    "                            # iterations = 1000,\n",
    "                            # custom_metric=['R2', 'MAE']\n",
    "                       )\n",
    "                      )"
   ],
   "metadata": {
    "collapsed": false,
    "pycharm": {
     "name": "#%%\n",
     "is_executing": true
    }
   }
  },
  {
   "cell_type": "markdown",
   "source": [
    "# Применим Stacking"
   ],
   "metadata": {
    "collapsed": false
   }
  },
  {
   "cell_type": "code",
   "execution_count": null,
   "metadata": {
    "pycharm": {
     "is_executing": true
    }
   },
   "outputs": [],
   "source": [
    "def compute_meta_feature(model, X_train, y_train, cv):\n",
    "    X_meta_train = np.zeros(len(y_train), dtype=np.float32)\n",
    "    X_train = np.array(X_train)\n",
    "    y_train = np.array(y_train)\n",
    "    splits = cv.split(X_train)\n",
    "    for train_fold_index, predict_fold_index in splits:\n",
    "        X_fold_train = X_train[train_fold_index]\n",
    "        X_fold_predict = X_train[predict_fold_index]\n",
    "        y_fold_train = y_train[train_fold_index]\n",
    "        \n",
    "        folded_model = clone(model)\n",
    "        folded_model.fit(X_fold_train, y_fold_train)\n",
    "\n",
    "        X_meta_train[predict_fold_index] = folded_model.predict(X_fold_predict)\n",
    "\n",
    "    meta_model = clone(model)\n",
    "    meta_model.fit(X_train, y_train)\n",
    "    \n",
    "    return X_meta_train, meta_model"
   ]
  },
  {
   "cell_type": "code",
   "execution_count": null,
   "metadata": {
    "pycharm": {
     "is_executing": true
    }
   },
   "outputs": [],
   "source": [
    "def generate_meta_features(models, X_train, y_train, cv):\n",
    "   \n",
    "    features = [\n",
    "        compute_meta_feature(model, X_train, y_train, cv)\n",
    "        for model in tqdm(models)\n",
    "    ]\n",
    "\n",
    "    stacked_features_train = np.column_stack([\n",
    "        X_meta_train for X_meta_train, _ in features\n",
    "    ])\n",
    "\n",
    "    meta_models = [\n",
    "        meta_model for _, meta_model in features\n",
    "    ]\n",
    "\n",
    "    return stacked_features_train, meta_models"
   ]
  },
  {
   "cell_type": "code",
   "execution_count": null,
   "outputs": [],
   "source": [
    "def stack2(X_train, y_train):\n",
    "    cv = KFold(n_splits = 10, shuffle=True, random_state=RANDOM_SEED)\n",
    "    stacked_features_train, meta_models = generate_meta_features([\n",
    "        RandomForestRegressor(random_state = RANDOM_SEED),\n",
    "        DecisionTreeRegressor(random_state = RANDOM_SEED),\n",
    "        GradientBoostingRegressor(\n",
    "                        random_state = RANDOM_SEED,\n",
    "                        max_depth = 6,\n",
    "                        n_estimators = 800\n",
    "                    )\n",
    "    ], X_train, y_train, cv)\n",
    "    blender2 = LinearRegression()\n",
    "    blender2.fit(stacked_features_train, y_train)\n",
    "    return blender2, meta_models\n",
    "\n",
    "blender2, meta_models = stack2(X_train, y_train)"
   ],
   "metadata": {
    "collapsed": false,
    "pycharm": {
     "name": "#%%\n",
     "is_executing": true
    }
   }
  },
  {
   "cell_type": "code",
   "execution_count": null,
   "metadata": {
    "scrolled": true,
    "pycharm": {
     "is_executing": true
    }
   },
   "outputs": [],
   "source": [
    "def stack2_predict(X_test):\n",
    "    meta_X = np.column_stack([\n",
    "        model.predict(X_test)\n",
    "        for model in meta_models\n",
    "    ])\n",
    "    res = blender2.predict(meta_X)\n",
    "    return res"
   ]
  },
  {
   "cell_type": "code",
   "execution_count": null,
   "outputs": [],
   "source": [
    "# 26.37\n",
    "y_pred_stack2 = stack2_predict(X_test)\n",
    "\n",
    "print('MAPE:', np.mean(np.abs((y_test - y_pred_stack2) / y_test)) * 100)"
   ],
   "metadata": {
    "collapsed": false,
    "pycharm": {
     "name": "#%%\n",
     "is_executing": true
    }
   }
  },
  {
   "cell_type": "markdown",
   "source": [
    "Попробуем, для сравнения, ещё один вариант стекинга"
   ],
   "metadata": {
    "collapsed": false,
    "pycharm": {
     "name": "#%% md\n"
    }
   }
  },
  {
   "cell_type": "code",
   "source": [
    "# get a list of base models\n",
    "def get_models():\n",
    "\tmodels = list()\n",
    "\tmodels.append(('rf', RandomForestRegressor(random_state = RANDOM_SEED)))\n",
    "\tmodels.append(('dt', DecisionTreeRegressor(random_state = RANDOM_SEED)))\n",
    "\tmodels.append(('gb', GradientBoostingRegressor(\n",
    "                    random_state = RANDOM_SEED,\n",
    "                    max_depth = 6,\n",
    "                    n_estimators = 800\n",
    "                )))\n",
    "\treturn models"
   ],
   "metadata": {
    "collapsed": false,
    "pycharm": {
     "name": "#%%\n",
     "is_executing": true
    }
   },
   "execution_count": null,
   "outputs": []
  },
  {
   "cell_type": "code",
   "execution_count": null,
   "outputs": [],
   "source": [
    "# fit the blending ensemble\n",
    "def fit_ensemble(X_tr, y_tr):\n",
    "    # split training set into train and validation sets\n",
    "    X_train, X_val, y_train, y_val = train_test_split(X_tr, y_tr, test_size=0.5, random_state=RANDOM_SEED)\n",
    "    models = get_models()\n",
    "    # fit all models on the training set and predict on hold out set\n",
    "    meta_X = list()\n",
    "    for name, model in models:\n",
    "        # fit in training set\n",
    "        model.fit(X_train, y_train)\n",
    "        # predict on hold out set\n",
    "        yhat = model.predict(X_val)\n",
    "        # reshape predictions into a matrix with one column\n",
    "        yhat = yhat.reshape(len(yhat), 1)\n",
    "        # store predictions as input for blending\n",
    "        meta_X.append(yhat)\n",
    "    # create 2d array from predictions, each set is an input feature\n",
    "    meta_X = np.hstack(meta_X)\n",
    "    # define blending model\n",
    "    blender = LinearRegression()\n",
    "    # fit on predictions from base models\n",
    "    blender.fit(meta_X, y_val)\n",
    "    return (blender, models)"
   ],
   "metadata": {
    "collapsed": false,
    "pycharm": {
     "name": "#%%\n",
     "is_executing": true
    }
   }
  },
  {
   "cell_type": "code",
   "execution_count": null,
   "outputs": [],
   "source": [
    "# make a prediction with the blending ensemble\n",
    "def create_meta_x(models, X_test):\n",
    "\t# make predictions with base models\n",
    "\tmeta_X = list()\n",
    "\tfor name, model in models:\n",
    "\t\t# predict with base model\n",
    "\t\tyhat = model.predict(X_test)\n",
    "\t\t# reshape predictions into a matrix with one column\n",
    "\t\tyhat = yhat.reshape(len(yhat), 1)\n",
    "\t\t# store prediction\n",
    "\t\tmeta_X.append(yhat)\n",
    "\t# create 2d array from predictions, each set is an input feature\n",
    "\tmeta_X = np.hstack(meta_X)\n",
    "\t# predict\n",
    "\treturn meta_X"
   ],
   "metadata": {
    "collapsed": false,
    "pycharm": {
     "name": "#%%\n",
     "is_executing": true
    }
   }
  },
  {
   "cell_type": "code",
   "execution_count": null,
   "outputs": [],
   "source": [
    "def stack(X, y):\n",
    "    # split dataset into train and test sets\n",
    "    X_train, X_test, y_train, y_test = train_test_split(X, y, test_size=0.2, random_state=RANDOM_SEED)\n",
    "    # create the base models\n",
    "    # train the blending ensemble\n",
    "    blender, models = fit_ensemble(X_train, y_train)\n",
    "    # make predictions on test set\n",
    "    yhat = stack_predict(X_test)\n",
    "\n",
    "    # evaluate predictions\n",
    "    score = mean_absolute_error(y_test, yhat)\n",
    "    print('Blending MAE: %.3f' % score)\n",
    "\n",
    "    # 26.8 mape\n",
    "    # 244899 mae\n",
    "    print('MAPE:', np.mean(np.abs((y_test - yhat) / y_test)) * 100)\n",
    "    return blender, models\n",
    "\n",
    "blender, models = stack(X, y)\n",
    "\n",
    "def stack_predict(X_test):\n",
    "    meta_X = create_meta_x(models, X_test)\n",
    "    res = blender.predict(meta_X)\n",
    "    return res"
   ],
   "metadata": {
    "collapsed": false,
    "pycharm": {
     "name": "#%%\n",
     "is_executing": true
    }
   }
  },
  {
   "cell_type": "markdown",
   "metadata": {},
   "source": [
    "# Submission"
   ]
  },
  {
   "cell_type": "code",
   "execution_count": null,
   "metadata": {
    "pycharm": {
     "is_executing": true
    }
   },
   "outputs": [],
   "source": [
    "predict_submission = stack_predict(X_sub)\n",
    "predict_submission"
   ]
  },
  {
   "cell_type": "code",
   "execution_count": null,
   "metadata": {
    "pycharm": {
     "is_executing": true
    }
   },
   "outputs": [],
   "source": [
    "predict_submission"
   ]
  },
  {
   "cell_type": "code",
   "execution_count": null,
   "metadata": {
    "pycharm": {
     "is_executing": true
    }
   },
   "outputs": [],
   "source": [
    "sample_submission=pd.read_csv('submission00.csv')\n",
    "sample_submission.shape"
   ]
  },
  {
   "cell_type": "code",
   "execution_count": null,
   "metadata": {
    "pycharm": {
     "name": "#%%\n",
     "is_executing": true
    }
   },
   "outputs": [],
   "source": [
    "sample_submission['price'] = predict_submission\n",
    "sample_submission['price'] = sample_submission['price'] * 0.75\n",
    "sample_submission.to_csv(f'submission.csv', index=False)\n",
    "sample_submission.head(10)"
   ]
  }
 ],
 "metadata": {
  "kernelspec": {
   "display_name": "Python 3",
   "language": "python",
   "name": "python3"
  },
  "language_info": {
   "codemirror_mode": {
    "name": "ipython",
    "version": 3
   },
   "file_extension": ".py",
   "mimetype": "text/x-python",
   "name": "python",
   "nbconvert_exporter": "python",
   "pygments_lexer": "ipython3",
   "version": "3.9.1"
  }
 },
 "nbformat": 4,
 "nbformat_minor": 2
}