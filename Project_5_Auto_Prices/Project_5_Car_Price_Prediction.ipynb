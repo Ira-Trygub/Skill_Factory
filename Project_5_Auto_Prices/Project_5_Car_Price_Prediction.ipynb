{
 "cells": [
  {
   "cell_type": "code",
   "execution_count": 274,
   "metadata": {},
   "outputs": [],
   "source": [
    "import math\n",
    "import requests, json\n",
    "#from bs4 import BeautifulSoup   \n",
    "import numpy as np \n",
    "import pandas as pd\n",
    "from sklearn import preprocessing\n",
    "from sklearn.preprocessing import StandardScaler, LabelEncoder\n",
    "import re\n",
    "import matplotlib.pyplot as plt\n",
    "import seaborn as sns\n",
    "from sklearn import preprocessing\n",
    "from sklearn.preprocessing import OneHotEncoder\n",
    "from pandas.api.types import CategoricalDtype\n",
    "#from sklearn.metrics import mean_absolute_percentage_error\n",
    "#from sklearn.model_selection import train_test_split\n",
    "from sklearn.metrics import auc, roc_auc_score, roc_curve\n",
    "from sklearn.model_selection import train_test_split, KFold\n",
    "from sklearn.linear_model import LinearRegression\n",
    "from sklearn.ensemble import RandomForestRegressor\n",
    "from pprint import pprint\n",
    "from sklearn import datasets, linear_model\n",
    "from sklearn.tree import DecisionTreeRegressor\n",
    "from sklearn.ensemble import GradientBoostingRegressor\n",
    "from catboost import Pool, CatBoostRegressor\n",
    "from tqdm import tqdm\n",
    "from sklearn.base import clone\n",
    "from sklearn.neighbors._regression import KNeighborsRegressor\n",
    "from sklearn.svm._classes import SVR\n",
    "from sklearn.metrics import mean_absolute_error\n",
    "from sklearn.feature_selection import SelectKBest, chi2, f_classif, mutual_info_classif"
   ]
  },
  {
   "cell_type": "code",
   "execution_count": 275,
   "metadata": {},
   "outputs": [],
   "source": [
    "RANDOM_SEED = 42\n"
   ]
  },
  {
   "cell_type": "code",
   "execution_count": 276,
   "metadata": {
    "scrolled": true
   },
   "outputs": [
    {
     "name": "stderr",
     "output_type": "stream",
     "text": [
      "c:\\users\\trigu\\_skillfactory_projekts\\skill_factory\\project_5_auto_prices\\venv\\lib\\site-packages\\IPython\\core\\interactiveshell.py:3146: DtypeWarning: Columns (11,12,16,17,19,20,32,34,35,36,37,38) have mixed types.Specify dtype option on import or set low_memory=False.\n",
      "  has_raised = await self.run_ast_nodes(code_ast.body, cell_name,\n"
     ]
    }
   ],
   "source": [
    "test_cars = pd.read_csv('test_cars.csv')\n",
    "test_cars['sample'] = 1\n"
   ]
  },
  {
   "cell_type": "code",
   "execution_count": 277,
   "outputs": [
    {
     "data": {
      "text/plain": "25"
     },
     "execution_count": 277,
     "metadata": {},
     "output_type": "execute_result"
    }
   ],
   "source": [
    "test_cars=test_cars.drop(['car_url', 'sell_id', 'image', 'model_info',\n",
    "                          'parsing_unixtime', 'priceCurrency', 'super_gen', 'vendor', 'Unnamed: 32', 'Unnamed: 33', 'Unnamed: 34', 'Unnamed: 35', 'Unnamed: 36', 'Unnamed: 37', 'Unnamed: 38'], axis=1)\n",
    "len(test_cars.columns)"
   ],
   "metadata": {
    "collapsed": false,
    "pycharm": {
     "name": "#%%\n"
    }
   }
  },
  {
   "cell_type": "code",
   "execution_count": 278,
   "outputs": [
    {
     "data": {
      "text/plain": "Index(['bodyType', 'brand', 'color', 'complectation_dict', 'description',\n       'engineDisplacement', 'enginePower', 'equipment_dict', 'fuelType',\n       'mileage', 'modelDate', 'model_name', 'name', 'numberOfDoors',\n       'productionDate', 'vehicleConfiguration', 'vehicleTransmission',\n       'Владельцы', 'Владение', 'ПТС', 'Привод', 'Руль', 'Состояние',\n       'Таможня', 'sample'],\n      dtype='object')"
     },
     "execution_count": 278,
     "metadata": {},
     "output_type": "execute_result"
    }
   ],
   "source": [
    "test_cars.columns"
   ],
   "metadata": {
    "collapsed": false,
    "pycharm": {
     "name": "#%%\n"
    }
   }
  },
  {
   "cell_type": "code",
   "execution_count": 279,
   "outputs": [
    {
     "data": {
      "text/plain": "26"
     },
     "execution_count": 279,
     "metadata": {},
     "output_type": "execute_result"
    }
   ],
   "source": [
    "data_par = pd.read_csv('all_auto_ru_07_12_2020-11.csv')\n",
    "data_par['sample']=0\n",
    "\n",
    "data_par=data_par.drop(['start_date', 'hidden'], axis=1)\n",
    "len(data_par.columns)"
   ],
   "metadata": {
    "collapsed": false,
    "pycharm": {
     "name": "#%%\n"
    }
   }
  },
  {
   "cell_type": "code",
   "execution_count": 280,
   "outputs": [
    {
     "data": {
      "text/plain": "Index(['bodyType', 'brand', 'color', 'fuelType', 'modelDate', 'name',\n       'numberOfDoors', 'productionDate', 'vehicleTransmission',\n       'engineDisplacement', 'vehicleConfiguration', 'enginePower',\n       'description', 'mileage', 'complectation_dict', 'Привод', 'Руль',\n       'Владельцы', 'ПТС', 'Таможня', 'Владение', 'price', 'Состояние',\n       'equipment_dict', 'model_name', 'sample'],\n      dtype='object')"
     },
     "execution_count": 280,
     "metadata": {},
     "output_type": "execute_result"
    }
   ],
   "source": [
    "data_par.columns"
   ],
   "metadata": {
    "collapsed": false,
    "pycharm": {
     "name": "#%%\n"
    }
   }
  },
  {
   "cell_type": "code",
   "execution_count": 281,
   "outputs": [],
   "source": [
    "data = test_cars.append(data_par, sort=False).reset_index(drop=True)\n"
   ],
   "metadata": {
    "collapsed": false,
    "pycharm": {
     "name": "#%%\n"
    }
   }
  },
  {
   "cell_type": "code",
   "execution_count": 282,
   "outputs": [
    {
     "data": {
      "text/plain": "  bodyType  brand   color                                 complectation_dict  \\\n0  лифтбек  SKODA   синий                                                NaN   \n1  лифтбек  SKODA  чёрный                                                NaN   \n2  лифтбек  SKODA   серый  {\"id\":\"20026336\",\"name\":\"Ambition\",\"available_...   \n\n                                         description engineDisplacement  \\\n0  Все автомобили, представленные в продаже, прох...            1.2 LTR   \n1  ЛОТ: 01217195\\nАвтопрага Север\\nДанный автомоб...            1.6 LTR   \n2  Все автомобили, представленные в продаже, прох...            1.8 LTR   \n\n  enginePower                                     equipment_dict fuelType  \\\n0     105 N12  {\"engine-proof\":true,\"tinted-glass\":true,\"airb...   бензин   \n1     110 N12  {\"cruise-control\":true,\"asr\":true,\"esp\":true,\"...   бензин   \n2     152 N12  {\"cruise-control\":true,\"tinted-glass\":true,\"es...   бензин   \n\n  mileage  ... vehicleTransmission       owners Possession       PTS  \\\n0   74000  ...    роботизированная  3 или более        NaN  Оригинал   \n1   60563  ...        механическая   1 владелец        NaN  Оригинал   \n2   88000  ...    роботизированная   1 владелец        NaN  Оригинал   \n\n  drive_unit rudder               state       choky sample price  \n0   передний  Левый  Не требует ремонта  Растаможен      1   NaN  \n1   передний  Левый  Не требует ремонта  Растаможен      1   NaN  \n2   передний  Левый  Не требует ремонта  Растаможен      1   NaN  \n\n[3 rows x 26 columns]",
      "text/html": "<div>\n<style scoped>\n    .dataframe tbody tr th:only-of-type {\n        vertical-align: middle;\n    }\n\n    .dataframe tbody tr th {\n        vertical-align: top;\n    }\n\n    .dataframe thead th {\n        text-align: right;\n    }\n</style>\n<table border=\"1\" class=\"dataframe\">\n  <thead>\n    <tr style=\"text-align: right;\">\n      <th></th>\n      <th>bodyType</th>\n      <th>brand</th>\n      <th>color</th>\n      <th>complectation_dict</th>\n      <th>description</th>\n      <th>engineDisplacement</th>\n      <th>enginePower</th>\n      <th>equipment_dict</th>\n      <th>fuelType</th>\n      <th>mileage</th>\n      <th>...</th>\n      <th>vehicleTransmission</th>\n      <th>owners</th>\n      <th>Possession</th>\n      <th>PTS</th>\n      <th>drive_unit</th>\n      <th>rudder</th>\n      <th>state</th>\n      <th>choky</th>\n      <th>sample</th>\n      <th>price</th>\n    </tr>\n  </thead>\n  <tbody>\n    <tr>\n      <th>0</th>\n      <td>лифтбек</td>\n      <td>SKODA</td>\n      <td>синий</td>\n      <td>NaN</td>\n      <td>Все автомобили, представленные в продаже, прох...</td>\n      <td>1.2 LTR</td>\n      <td>105 N12</td>\n      <td>{\"engine-proof\":true,\"tinted-glass\":true,\"airb...</td>\n      <td>бензин</td>\n      <td>74000</td>\n      <td>...</td>\n      <td>роботизированная</td>\n      <td>3 или более</td>\n      <td>NaN</td>\n      <td>Оригинал</td>\n      <td>передний</td>\n      <td>Левый</td>\n      <td>Не требует ремонта</td>\n      <td>Растаможен</td>\n      <td>1</td>\n      <td>NaN</td>\n    </tr>\n    <tr>\n      <th>1</th>\n      <td>лифтбек</td>\n      <td>SKODA</td>\n      <td>чёрный</td>\n      <td>NaN</td>\n      <td>ЛОТ: 01217195\\nАвтопрага Север\\nДанный автомоб...</td>\n      <td>1.6 LTR</td>\n      <td>110 N12</td>\n      <td>{\"cruise-control\":true,\"asr\":true,\"esp\":true,\"...</td>\n      <td>бензин</td>\n      <td>60563</td>\n      <td>...</td>\n      <td>механическая</td>\n      <td>1 владелец</td>\n      <td>NaN</td>\n      <td>Оригинал</td>\n      <td>передний</td>\n      <td>Левый</td>\n      <td>Не требует ремонта</td>\n      <td>Растаможен</td>\n      <td>1</td>\n      <td>NaN</td>\n    </tr>\n    <tr>\n      <th>2</th>\n      <td>лифтбек</td>\n      <td>SKODA</td>\n      <td>серый</td>\n      <td>{\"id\":\"20026336\",\"name\":\"Ambition\",\"available_...</td>\n      <td>Все автомобили, представленные в продаже, прох...</td>\n      <td>1.8 LTR</td>\n      <td>152 N12</td>\n      <td>{\"cruise-control\":true,\"tinted-glass\":true,\"es...</td>\n      <td>бензин</td>\n      <td>88000</td>\n      <td>...</td>\n      <td>роботизированная</td>\n      <td>1 владелец</td>\n      <td>NaN</td>\n      <td>Оригинал</td>\n      <td>передний</td>\n      <td>Левый</td>\n      <td>Не требует ремонта</td>\n      <td>Растаможен</td>\n      <td>1</td>\n      <td>NaN</td>\n    </tr>\n  </tbody>\n</table>\n<p>3 rows × 26 columns</p>\n</div>"
     },
     "execution_count": 282,
     "metadata": {},
     "output_type": "execute_result"
    }
   ],
   "source": [
    "data.columns =  ['bodyType', 'brand', 'color', 'complectation_dict', 'description',\n",
    "       'engineDisplacement', 'enginePower', 'equipment_dict', 'fuelType',\n",
    "       'mileage', 'modelDate', 'model_name', 'name', 'numberOfDoors',\n",
    "       'productionDate', 'vehicleConfiguration', 'vehicleTransmission',\n",
    "       'owners', 'Possession', 'PTS', 'drive_unit', 'rudder',\n",
    "       'state', 'choky', 'sample', 'price']\n",
    "data.head(3)"
   ],
   "metadata": {
    "collapsed": false,
    "pycharm": {
     "name": "#%%\n"
    }
   }
  },
  {
   "cell_type": "markdown",
   "metadata": {},
   "source": [
    "# Тут мы парсим сайт"
   ]
  },
  {
   "cell_type": "code",
   "execution_count": 282,
   "metadata": {},
   "outputs": [],
   "source": []
  },
  {
   "cell_type": "code",
   "execution_count": 282,
   "metadata": {},
   "outputs": [],
   "source": []
  },
  {
   "cell_type": "code",
   "execution_count": 282,
   "metadata": {},
   "outputs": [],
   "source": []
  },
  {
   "cell_type": "code",
   "execution_count": 282,
   "metadata": {},
   "outputs": [],
   "source": []
  },
  {
   "cell_type": "markdown",
   "metadata": {},
   "source": [
    "# Проверим датасет на наличие пропусков:"
   ]
  },
  {
   "cell_type": "code",
   "execution_count": 283,
   "metadata": {},
   "outputs": [
    {
     "data": {
      "text/plain": "bodyType                     0\nbrand                        0\ncolor                        0\ncomplectation_dict       28268\ndescription               7212\nengineDisplacement          10\nenginePower                 10\nequipment_dict            9992\nfuelType                     3\nmileage                      0\nmodelDate                    0\nmodel_name                   0\nname                        11\nnumberOfDoors                0\nproductionDate               0\nvehicleConfiguration        10\nvehicleTransmission         10\nowners                      30\nPossession              155240\nPTS                         35\ndrive_unit                  10\nrudder                       0\nstate                   192333\nchoky                        0\nsample                       0\nprice                    34690\ndtype: int64"
     },
     "execution_count": 283,
     "metadata": {},
     "output_type": "execute_result"
    }
   ],
   "source": [
    "data.isnull().sum()"
   ]
  },
  {
   "cell_type": "markdown",
   "metadata": {},
   "source": [
    "Заполним наны наиболее распостраненным значением или введём значение 'unknown' для случаев где очень много данных отсутствуют"
   ]
  },
  {
   "cell_type": "code",
   "execution_count": 284,
   "metadata": {},
   "outputs": [],
   "source": [
    "nul_col=['engineDisplacement', 'enginePower', 'fuelType', 'name', 'vehicleConfiguration', 'vehicleTransmission', 'drive_unit', 'PTS', \"owners\" ]\n",
    "for col in data[nul_col]:\n",
    "    ch=data[col].value_counts().index[0]\n",
    "    data[col]=data[col].fillna(ch)\n",
    "unkn_col=['description', 'Possession', 'state']\n",
    "for col in data[unkn_col]:\n",
    "    data[col]=data[col].fillna('unknown')\n",
    "    "
   ]
  },
  {
   "cell_type": "code",
   "execution_count": 285,
   "metadata": {
    "scrolled": true
   },
   "outputs": [
    {
     "data": {
      "text/plain": "bodyType                    0\nbrand                       0\ncolor                       0\ncomplectation_dict      28268\ndescription                 0\nengineDisplacement          0\nenginePower                 0\nequipment_dict           9992\nfuelType                    0\nmileage                     0\nmodelDate                   0\nmodel_name                  0\nname                        0\nnumberOfDoors               0\nproductionDate              0\nvehicleConfiguration        0\nvehicleTransmission         0\nowners                      0\nPossession                  0\nPTS                         0\ndrive_unit                  0\nrudder                      0\nstate                       0\nchoky                       0\nsample                      0\nprice                   34690\ndtype: int64"
     },
     "execution_count": 285,
     "metadata": {},
     "output_type": "execute_result"
    }
   ],
   "source": [
    "data.isnull().sum()"
   ]
  },
  {
   "cell_type": "markdown",
   "metadata": {},
   "source": [
    "В некоторых столбцах часто попадаются некорректно внесённые значения. Они, как правило не повторяются, поэтому можем отфильтровать их"
   ]
  },
  {
   "cell_type": "code",
   "execution_count": 286,
   "metadata": {
    "scrolled": false
   },
   "outputs": [
    {
     "data": {
      "text/plain": "  bodyType  brand   color                                 complectation_dict  \\\n0  лифтбек  SKODA   синий                                                NaN   \n1  лифтбек  SKODA  чёрный                                                NaN   \n2  лифтбек  SKODA   серый  {\"id\":\"20026336\",\"name\":\"Ambition\",\"available_...   \n\n                                         description engineDisplacement  \\\n0  Все автомобили, представленные в продаже, прох...            1.2 LTR   \n1  ЛОТ: 01217195\\nАвтопрага Север\\nДанный автомоб...            1.6 LTR   \n2  Все автомобили, представленные в продаже, прох...            1.8 LTR   \n\n  enginePower                                     equipment_dict fuelType  \\\n0     105 N12  {\"engine-proof\":true,\"tinted-glass\":true,\"airb...   бензин   \n1     110 N12  {\"cruise-control\":true,\"asr\":true,\"esp\":true,\"...   бензин   \n2     152 N12  {\"cruise-control\":true,\"tinted-glass\":true,\"es...   бензин   \n\n  mileage  ... vehicleTransmission       owners Possession       PTS  \\\n0   74000  ...    роботизированная  3 или более    unknown  Оригинал   \n1   60563  ...        механическая   1 владелец    unknown  Оригинал   \n2   88000  ...    роботизированная   1 владелец    unknown  Оригинал   \n\n  drive_unit rudder               state       choky sample price  \n0   передний  Левый  Не требует ремонта  Растаможен      1   NaN  \n1   передний  Левый  Не требует ремонта  Растаможен      1   NaN  \n2   передний  Левый  Не требует ремонта  Растаможен      1   NaN  \n\n[3 rows x 26 columns]",
      "text/html": "<div>\n<style scoped>\n    .dataframe tbody tr th:only-of-type {\n        vertical-align: middle;\n    }\n\n    .dataframe tbody tr th {\n        vertical-align: top;\n    }\n\n    .dataframe thead th {\n        text-align: right;\n    }\n</style>\n<table border=\"1\" class=\"dataframe\">\n  <thead>\n    <tr style=\"text-align: right;\">\n      <th></th>\n      <th>bodyType</th>\n      <th>brand</th>\n      <th>color</th>\n      <th>complectation_dict</th>\n      <th>description</th>\n      <th>engineDisplacement</th>\n      <th>enginePower</th>\n      <th>equipment_dict</th>\n      <th>fuelType</th>\n      <th>mileage</th>\n      <th>...</th>\n      <th>vehicleTransmission</th>\n      <th>owners</th>\n      <th>Possession</th>\n      <th>PTS</th>\n      <th>drive_unit</th>\n      <th>rudder</th>\n      <th>state</th>\n      <th>choky</th>\n      <th>sample</th>\n      <th>price</th>\n    </tr>\n  </thead>\n  <tbody>\n    <tr>\n      <th>0</th>\n      <td>лифтбек</td>\n      <td>SKODA</td>\n      <td>синий</td>\n      <td>NaN</td>\n      <td>Все автомобили, представленные в продаже, прох...</td>\n      <td>1.2 LTR</td>\n      <td>105 N12</td>\n      <td>{\"engine-proof\":true,\"tinted-glass\":true,\"airb...</td>\n      <td>бензин</td>\n      <td>74000</td>\n      <td>...</td>\n      <td>роботизированная</td>\n      <td>3 или более</td>\n      <td>unknown</td>\n      <td>Оригинал</td>\n      <td>передний</td>\n      <td>Левый</td>\n      <td>Не требует ремонта</td>\n      <td>Растаможен</td>\n      <td>1</td>\n      <td>NaN</td>\n    </tr>\n    <tr>\n      <th>1</th>\n      <td>лифтбек</td>\n      <td>SKODA</td>\n      <td>чёрный</td>\n      <td>NaN</td>\n      <td>ЛОТ: 01217195\\nАвтопрага Север\\nДанный автомоб...</td>\n      <td>1.6 LTR</td>\n      <td>110 N12</td>\n      <td>{\"cruise-control\":true,\"asr\":true,\"esp\":true,\"...</td>\n      <td>бензин</td>\n      <td>60563</td>\n      <td>...</td>\n      <td>механическая</td>\n      <td>1 владелец</td>\n      <td>unknown</td>\n      <td>Оригинал</td>\n      <td>передний</td>\n      <td>Левый</td>\n      <td>Не требует ремонта</td>\n      <td>Растаможен</td>\n      <td>1</td>\n      <td>NaN</td>\n    </tr>\n    <tr>\n      <th>2</th>\n      <td>лифтбек</td>\n      <td>SKODA</td>\n      <td>серый</td>\n      <td>{\"id\":\"20026336\",\"name\":\"Ambition\",\"available_...</td>\n      <td>Все автомобили, представленные в продаже, прох...</td>\n      <td>1.8 LTR</td>\n      <td>152 N12</td>\n      <td>{\"cruise-control\":true,\"tinted-glass\":true,\"es...</td>\n      <td>бензин</td>\n      <td>88000</td>\n      <td>...</td>\n      <td>роботизированная</td>\n      <td>1 владелец</td>\n      <td>unknown</td>\n      <td>Оригинал</td>\n      <td>передний</td>\n      <td>Левый</td>\n      <td>Не требует ремонта</td>\n      <td>Растаможен</td>\n      <td>1</td>\n      <td>NaN</td>\n    </tr>\n  </tbody>\n</table>\n<p>3 rows × 26 columns</p>\n</div>"
     },
     "execution_count": 286,
     "metadata": {},
     "output_type": "execute_result"
    }
   ],
   "source": [
    "columns_to_clean=['bodyType', 'brand',  'engineDisplacement',\n",
    "       'enginePower',  'fuelType', 'modelDate',\n",
    "       'model_name',  'numberOfDoors', 'productionDate',\n",
    "       'vehicleConfiguration', 'vehicleTransmission', 'owners', 'Possession',\n",
    "       'PTS', 'drive_unit', 'rudder',  'choky' ]\n",
    "for col in columns_to_clean:\n",
    "    \n",
    "    #data_sub=data[data['sample']==1]\n",
    "    data = data[data[col].isin(data[col].value_counts()[data[col].value_counts()>5].index)]\n",
    "\n",
    "data.head(3)\n"
   ]
  },
  {
   "cell_type": "code",
   "execution_count": 287,
   "metadata": {},
   "outputs": [
    {
     "data": {
      "text/plain": "\"\\ncolumns_to_clean_sample=['bodyType', 'brand',  'engineDisplacement',\\n       'enginePower',  'fuelType', 'modelDate',\\n       'model_name',  'numberOfDoors', 'productionDate',\\n       'vehicleConfiguration', 'vehicleTransmission', 'Владельцы', 'Владение', 'ПТС',\\n       'Привод', 'Руль', 'Состояние', 'Таможня' ]\\n\""
     },
     "execution_count": 287,
     "metadata": {},
     "output_type": "execute_result"
    }
   ],
   "source": [
    "'''\n",
    "columns_to_clean_sample=['bodyType', 'brand',  'engineDisplacement',\n",
    "       'enginePower',  'fuelType', 'modelDate',\n",
    "       'model_name',  'numberOfDoors', 'productionDate',\n",
    "       'vehicleConfiguration', 'vehicleTransmission', 'Владельцы', 'Владение', 'ПТС',\n",
    "       'Привод', 'Руль', 'Состояние', 'Таможня' ]\n",
    "'''       "
   ]
  },
  {
   "cell_type": "code",
   "execution_count": 288,
   "metadata": {},
   "outputs": [
    {
     "data": {
      "text/plain": "'\\nfor col in columns_to_clean_sample:\\n    sample_submission = sample_submission[sample_submission[col].isin(sample_submission[col].value_counts()[sample_submission[col].value_counts()>5].index)]\\nsample_submission.shape  \\n'"
     },
     "execution_count": 288,
     "metadata": {},
     "output_type": "execute_result"
    }
   ],
   "source": [
    "'''\n",
    "for col in columns_to_clean_sample:\n",
    "    sample_submission = sample_submission[sample_submission[col].isin(sample_submission[col].value_counts()[sample_submission[col].value_counts()>5].index)]\n",
    "sample_submission.shape  \n",
    "'''"
   ]
  },
  {
   "cell_type": "markdown",
   "metadata": {},
   "source": [
    "# Обработаем числовые признаки"
   ]
  },
  {
   "cell_type": "markdown",
   "metadata": {},
   "source": [
    "Столбцы \"enginePower\" , 'name', 'engineDisplacement', 'owners' помимо нужных нам числовых знвчений содержат ненужные текстовые. Начнём с чистки этих столбцов."
   ]
  },
  {
   "cell_type": "code",
   "execution_count": 289,
   "metadata": {
    "scrolled": true
   },
   "outputs": [],
   "source": [
    "def splitting(s):\n",
    "    return str(s).split(\" \")[0]\n",
    "data[\"enginePower\"]=data[\"enginePower\"].map(lambda s: splitting(s))\n",
    "data['name']=data['name'].map(lambda s: splitting(s))\n",
    "data['engineDisplacement'] = data['engineDisplacement'].map(lambda s: splitting(s))\n",
    "data['owners'] = data['owners'].map(lambda s: splitting(s))\n",
    "#data['owners'].apply(splitting)"
   ]
  },
  {
   "cell_type": "markdown",
   "metadata": {},
   "source": [
    "Некоторые признаки хоть и выглядят как числовые имеют тип стринг. Выполним преобразование. "
   ]
  },
  {
   "cell_type": "code",
   "execution_count": 290,
   "metadata": {},
   "outputs": [],
   "source": [
    "def convert_to_int(col):\n",
    "    def reg_clien(stringa):\n",
    "        stringa=str(stringa).strip()\n",
    "        try:\n",
    "            res=re.findall('\\d+\\.?\\d+', string=str(stringa))[0]\n",
    "        except: \n",
    "            res = '0'\n",
    "        return res\n",
    "    \n",
    "    data[col] = data[col].fillna('0')\n",
    "    data[col] = data[col].map(lambda a: reg_clien(a))\n",
    "    data[col] = data[col].astype(np.float64)\n",
    "    #data[col].astype(np.int32, inplace=True)\n",
    "        \n",
    "\n",
    "\n",
    "for col in ['mileage', \"productionDate\", \"enginePower\", 'name', 'engineDisplacement', 'modelDate', 'owners' ]:\n",
    "    convert_to_int(col)\n",
    "\n",
    "\n"
   ]
  },
  {
   "cell_type": "code",
   "execution_count": 291,
   "metadata": {},
   "outputs": [],
   "source": [
    "def doors(row):\n",
    "    try:\n",
    "        return int(row['numberOfDoors'].strip())\n",
    "    except:\n",
    "        return 5\n",
    "data['numberOfDoors']=data.apply(lambda row:  doors(row), axis=1 )"
   ]
  },
  {
   "cell_type": "markdown",
   "metadata": {},
   "source": [
    "Убедимся, что преобразование сработало:"
   ]
  },
  {
   "cell_type": "code",
   "execution_count": 292,
   "metadata": {},
   "outputs": [
    {
     "name": "stdout",
     "output_type": "stream",
     "text": [
      "float64\n",
      "float64\n",
      "float64\n",
      "float64\n",
      "float64\n",
      "float64\n",
      "float64\n",
      "int64\n"
     ]
    }
   ],
   "source": [
    "for col in ['mileage', \"productionDate\", \"enginePower\", 'name', 'engineDisplacement', 'modelDate', 'owners', 'numberOfDoors' ]:\n",
    "    print(data[col].dtypes)"
   ]
  },
  {
   "cell_type": "code",
   "execution_count": 293,
   "metadata": {},
   "outputs": [
    {
     "name": "stderr",
     "output_type": "stream",
     "text": [
      "c:\\users\\trigu\\_skillfactory_projekts\\skill_factory\\project_5_auto_prices\\venv\\lib\\site-packages\\seaborn\\distributions.py:2557: FutureWarning: `distplot` is a deprecated function and will be removed in a future version. Please adapt your code to use either `displot` (a figure-level function with similar flexibility) or `histplot` (an axes-level function for histograms).\n",
      "  warnings.warn(msg, FutureWarning)\n"
     ]
    },
    {
     "data": {
      "text/plain": "<Figure size 432x288 with 1 Axes>",
      "image/png": "[encoded data removed]"
     },
     "metadata": {
      "needs_background": "light"
     },
     "output_type": "display_data"
    }
   ],
   "source": [
    "plt.figure()\n",
    "sns.distplot(data['mileage'])\n",
    "plt.title(col)\n",
    "plt.show()\n",
    "    "
   ]
  },
  {
   "cell_type": "code",
   "execution_count": 294,
   "metadata": {},
   "outputs": [
    {
     "data": {
      "text/plain": "5    211556\n4     13087\n2      1033\n3       553\nName: numberOfDoors, dtype: int64"
     },
     "execution_count": 294,
     "metadata": {},
     "output_type": "execute_result"
    }
   ],
   "source": [
    "data['numberOfDoors'].value_counts()"
   ]
  },
  {
   "cell_type": "code",
   "execution_count": 295,
   "metadata": {},
   "outputs": [],
   "source": [
    "X_num = data[['mileage', \"productionDate\", \"enginePower\", 'name', 'engineDisplacement', 'modelDate', 'owners', 'numberOfDoors']][data['sample']==0]\n",
    "X_num_sub = data[['mileage', \"productionDate\", \"enginePower\", 'name', 'engineDisplacement', 'modelDate', 'owners', 'numberOfDoors']][data['sample']==1]"
   ]
  },
  {
   "cell_type": "markdown",
   "metadata": {},
   "source": [
    "# Бинарные признаки"
   ]
  },
  {
   "cell_type": "markdown",
   "metadata": {},
   "source": [
    "Столбцы 'drive_unit','rudder','state', 'choky' относятся к бинарным.\n",
    "Над столбцом 'PTS' нужно произвести некоторые преобразования:\n",
    "    "
   ]
  },
  {
   "cell_type": "code",
   "execution_count": 296,
   "metadata": {},
   "outputs": [
    {
     "data": {
      "text/plain": "ORIGINAL     168105\nОригинал      29462\nDUPLICATE     24188\nДубликат       4474\nName: PTS, dtype: int64"
     },
     "execution_count": 296,
     "metadata": {},
     "output_type": "execute_result"
    }
   ],
   "source": [
    "data['PTS'].value_counts()"
   ]
  },
  {
   "cell_type": "code",
   "execution_count": 297,
   "metadata": {},
   "outputs": [
    {
     "data": {
      "text/plain": "ORIGINAL     197567\nDUPLICATE     28662\nName: PTS, dtype: int64"
     },
     "execution_count": 297,
     "metadata": {},
     "output_type": "execute_result"
    }
   ],
   "source": [
    "data['PTS'] = data['PTS'].str.replace('Оригинал', 'ORIGINAL')\n",
    "data['PTS'] = data['PTS'].str.replace('Дубликат', 'DUPLICATE')\n",
    "data['PTS'].value_counts()"
   ]
  },
  {
   "cell_type": "code",
   "execution_count": 298,
   "metadata": {},
   "outputs": [],
   "source": [
    "data['rudder'] = data['rudder'].str.replace('Левый', 'LEFT')\n",
    "data['rudder'] = data['rudder'].str.replace('Правый', 'RIGHT')"
   ]
  },
  {
   "cell_type": "code",
   "execution_count": 299,
   "metadata": {},
   "outputs": [],
   "source": [
    "data['choky']=data['choky'].astype('str')"
   ]
  },
  {
   "cell_type": "code",
   "execution_count": 300,
   "metadata": {
    "scrolled": true
   },
   "outputs": [],
   "source": [
    "X_bin = data[['drive_unit','rudder','state',  'PTS','choky']]\n",
    "#bin_cols = ['drive_unit','rudder','state',  'PTS','choky']\n"
   ]
  },
  {
   "cell_type": "code",
   "execution_count": 301,
   "metadata": {},
   "outputs": [
    {
     "name": "stderr",
     "output_type": "stream",
     "text": [
      "<ipython-input-301-6e75c4ece4d0>:4: SettingWithCopyWarning: \n",
      "A value is trying to be set on a copy of a slice from a DataFrame.\n",
      "Try using .loc[row_indexer,col_indexer] = value instead\n",
      "\n",
      "See the caveats in the documentation: https://pandas.pydata.org/pandas-docs/stable/user_guide/indexing.html#returning-a-view-versus-a-copy\n",
      "  X_bin[column] = label_encoder.fit_transform(X_bin[column])\n"
     ]
    },
    {
     "data": {
      "text/plain": "   drive_unit  rudder  state  PTS  choky\n0           1       0      1    1      1\n1           1       0      1    1      1\n2           1       0      1    1      1",
      "text/html": "<div>\n<style scoped>\n    .dataframe tbody tr th:only-of-type {\n        vertical-align: middle;\n    }\n\n    .dataframe tbody tr th {\n        vertical-align: top;\n    }\n\n    .dataframe thead th {\n        text-align: right;\n    }\n</style>\n<table border=\"1\" class=\"dataframe\">\n  <thead>\n    <tr style=\"text-align: right;\">\n      <th></th>\n      <th>drive_unit</th>\n      <th>rudder</th>\n      <th>state</th>\n      <th>PTS</th>\n      <th>choky</th>\n    </tr>\n  </thead>\n  <tbody>\n    <tr>\n      <th>0</th>\n      <td>1</td>\n      <td>0</td>\n      <td>1</td>\n      <td>1</td>\n      <td>1</td>\n    </tr>\n    <tr>\n      <th>1</th>\n      <td>1</td>\n      <td>0</td>\n      <td>1</td>\n      <td>1</td>\n      <td>1</td>\n    </tr>\n    <tr>\n      <th>2</th>\n      <td>1</td>\n      <td>0</td>\n      <td>1</td>\n      <td>1</td>\n      <td>1</td>\n    </tr>\n  </tbody>\n</table>\n</div>"
     },
     "execution_count": 301,
     "metadata": {},
     "output_type": "execute_result"
    }
   ],
   "source": [
    "label_encoder = LabelEncoder()\n",
    "\n",
    "for column in X_bin.columns:\n",
    "    X_bin[column] = label_encoder.fit_transform(X_bin[column])\n",
    "X_bin.head(3)"
   ]
  },
  {
   "cell_type": "markdown",
   "metadata": {},
   "source": [
    "# Категориальные и бинарные признаки"
   ]
  },
  {
   "cell_type": "code",
   "execution_count": 302,
   "metadata": {},
   "outputs": [
    {
     "data": {
      "text/plain": "<Figure size 432x288 with 1 Axes>",
      "image/png": "[encoded data removed]"
     },
     "metadata": {
      "needs_background": "light"
     },
     "output_type": "display_data"
    },
    {
     "data": {
      "text/plain": "<Figure size 432x288 with 1 Axes>",
      "image/png": "[encoded data removed]"
     },
     "metadata": {
      "needs_background": "light"
     },
     "output_type": "display_data"
    },
    {
     "data": {
      "text/plain": "<Figure size 432x288 with 1 Axes>",
      "image/png": "[encoded data removed]"
     },
     "metadata": {
      "needs_background": "light"
     },
     "output_type": "display_data"
    },
    {
     "data": {
      "text/plain": "<Figure size 432x288 with 1 Axes>",
      "image/png": "[encoded data removed]"
     },
     "metadata": {
      "needs_background": "light"
     },
     "output_type": "display_data"
    },
    {
     "data": {
      "text/plain": "<Figure size 432x288 with 1 Axes>",
      "image/png": "[encoded data removed]"
     },
     "metadata": {
      "needs_background": "light"
     },
     "output_type": "display_data"
    },
    {
     "data": {
      "text/plain": "<Figure size 432x288 with 1 Axes>",
      "image/png": "[encoded data removed]"
     },
     "metadata": {
      "needs_background": "light"
     },
     "output_type": "display_data"
    }
   ],
   "source": [
    "for col in ['bodyType', 'brand', 'color',   'fuelType', \n",
    "       'model_name',   'vehicleTransmission']:\n",
    "    col_to_show=data[col].value_counts()\n",
    "    col_to_show.plot(kind='bar', title=col)\n",
    "    #sns.countplot(x=data[column], data=data[bin_cols])\n",
    "    plt.show()"
   ]
  },
  {
   "cell_type": "code",
   "execution_count": 303,
   "metadata": {
    "scrolled": false
   },
   "outputs": [
    {
     "name": "stdout",
     "output_type": "stream",
     "text": [
      "________________________\n",
      "bodyType\n",
      "________________________\n",
      "Седан                              54909\n",
      "Внедорожник 5 дв.                  52676\n",
      "Хэтчбек 5 дв.                      21507\n",
      "седан                              12929\n",
      "внедорожник 5 дв.                  12122\n",
      "                                   ...  \n",
      "Универсал 5 дв. All-Terrain           10\n",
      "Кабриолет Abarth                      10\n",
      "Внедорожник 5 дв. 4x4                  9\n",
      "Внедорожник 5 дв. Arctic Trucks        9\n",
      "микровэн                               5\n",
      "Name: bodyType, Length: 191, dtype: int64\n",
      "________________________\n",
      "brand\n",
      "________________________\n",
      "MERCEDES          17719\n",
      "TOYOTA            14670\n",
      "NISSAN            13919\n",
      "VOLKSWAGEN        11521\n",
      "BMW               10996\n",
      "                  ...  \n",
      "ARIEL                10\n",
      "GAC                  10\n",
      "SHANGHAI_MAPLE       10\n",
      "ASIA                 10\n",
      "HUANGHAI             10\n",
      "Name: brand, Length: 130, dtype: int64\n",
      "________________________\n",
      "color\n",
      "________________________\n",
      "040001         48414\n",
      "FAFBFB         31663\n",
      "97948F         23725\n",
      "CACECB         21550\n",
      "0000CC         18753\n",
      "EE1D19         12861\n",
      "чёрный         10809\n",
      "007F00         10166\n",
      "200204          7707\n",
      "белый           6035\n",
      "C49648          4424\n",
      "серебристый     4002\n",
      "серый           3922\n",
      "22A0F8          3881\n",
      "синий           3196\n",
      "660099          2075\n",
      "FFD600          1949\n",
      "DEA522          1826\n",
      "FF8649          1731\n",
      "коричневый      1487\n",
      "красный         1482\n",
      "4A2197          1427\n",
      "зелёный          901\n",
      "бежевый          623\n",
      "голубой          442\n",
      "золотистый       256\n",
      "пурпурный        242\n",
      "фиолетовый       215\n",
      "жёлтый           190\n",
      "FFC0CB           140\n",
      "оранжевый        124\n",
      "розовый           11\n",
      "Name: color, dtype: int64\n",
      "________________________\n",
      "fuelType\n",
      "________________________\n",
      "бензин         191883\n",
      "дизель          31953\n",
      "гибрид           1542\n",
      "электро           794\n",
      "газ                47\n",
      "внедорожник        10\n",
      "Name: fuelType, dtype: int64\n",
      "________________________\n",
      "model_name\n",
      "________________________\n",
      "OCTAVIA              1668\n",
      "5ER                  1373\n",
      "LANCER               1220\n",
      "E_KLASSE             1169\n",
      "PASSAT               1144\n",
      "                     ... \n",
      "Q3_SPORTBACK           10\n",
      "INCA                   10\n",
      "300_LETTER_SERIES      10\n",
      "C5_AIRCROSS            10\n",
      "PRIUS_ALPHA             6\n",
      "Name: model_name, Length: 1361, dtype: int64\n",
      "________________________\n",
      "vehicleTransmission\n",
      "________________________\n",
      "AUTOMATIC           96982\n",
      "MECHANICAL          70087\n",
      "автоматическая      19190\n",
      "ROBOT               15161\n",
      "VARIATOR            10062\n",
      "механическая         6977\n",
      "вариатор             3934\n",
      "роботизированная     3836\n",
      "Name: vehicleTransmission, dtype: int64\n"
     ]
    }
   ],
   "source": [
    "for col in ['bodyType', 'brand', 'color',   'fuelType', \n",
    "       'model_name',   'vehicleTransmission']:\n",
    "    print('________________________')\n",
    "    print(col)\n",
    "    print('________________________')\n",
    "    print(data[col].value_counts())"
   ]
  },
  {
   "cell_type": "markdown",
   "metadata": {},
   "source": [
    "Признаки, имеющие не очень большое количество разных значений кодируем OneHotEncoder"
   ]
  },
  {
   "cell_type": "code",
   "execution_count": 304,
   "metadata": {},
   "outputs": [],
   "source": [
    "X_cat_1=[['fuelType', 'vehicleTransmission']]"
   ]
  },
  {
   "cell_type": "code",
   "execution_count": 305,
   "metadata": {},
   "outputs": [
    {
     "data": {
      "text/plain": "array([[1., 0., 0., ..., 0., 0., 1.],\n       [1., 0., 0., ..., 0., 1., 0.],\n       [1., 0., 0., ..., 0., 0., 1.],\n       ...,\n       [1., 0., 0., ..., 0., 0., 0.],\n       [1., 0., 0., ..., 0., 0., 0.],\n       [1., 0., 0., ..., 0., 0., 0.]])"
     },
     "execution_count": 305,
     "metadata": {},
     "output_type": "execute_result"
    }
   ],
   "source": [
    "X_cat_1= OneHotEncoder(sparse = False).fit_transform(data[['fuelType', 'vehicleTransmission']])\n",
    "X_cat_1"
   ]
  },
  {
   "cell_type": "markdown",
   "metadata": {},
   "source": [
    "Значения остальных категориальных признаков заменим количеством их повторений в датасете."
   ]
  },
  {
   "cell_type": "code",
   "execution_count": 306,
   "metadata": {},
   "outputs": [
    {
     "name": "stderr",
     "output_type": "stream",
     "text": [
      "<ipython-input-306-9d0792174984>:25: SettingWithCopyWarning: \n",
      "A value is trying to be set on a copy of a slice from a DataFrame.\n",
      "Try using .loc[row_indexer,col_indexer] = value instead\n",
      "\n",
      "See the caveats in the documentation: https://pandas.pydata.org/pandas-docs/stable/user_guide/indexing.html#returning-a-view-versus-a-copy\n",
      "  X_cat_2['brand']=data.apply(lambda row: encoder_br(row), axis=1)\n",
      "<ipython-input-306-9d0792174984>:26: SettingWithCopyWarning: \n",
      "A value is trying to be set on a copy of a slice from a DataFrame.\n",
      "Try using .loc[row_indexer,col_indexer] = value instead\n",
      "\n",
      "See the caveats in the documentation: https://pandas.pydata.org/pandas-docs/stable/user_guide/indexing.html#returning-a-view-versus-a-copy\n",
      "  X_cat_2['bodyType']=data.apply(lambda row: encoder_body(row), axis=1)\n",
      "<ipython-input-306-9d0792174984>:27: SettingWithCopyWarning: \n",
      "A value is trying to be set on a copy of a slice from a DataFrame.\n",
      "Try using .loc[row_indexer,col_indexer] = value instead\n",
      "\n",
      "See the caveats in the documentation: https://pandas.pydata.org/pandas-docs/stable/user_guide/indexing.html#returning-a-view-versus-a-copy\n",
      "  X_cat_2['color']=data.apply(lambda row: encoder_color(row), axis=1)\n",
      "<ipython-input-306-9d0792174984>:28: SettingWithCopyWarning: \n",
      "A value is trying to be set on a copy of a slice from a DataFrame.\n",
      "Try using .loc[row_indexer,col_indexer] = value instead\n",
      "\n",
      "See the caveats in the documentation: https://pandas.pydata.org/pandas-docs/stable/user_guide/indexing.html#returning-a-view-versus-a-copy\n",
      "  X_cat_2['model_name']=data.apply(lambda row: encoder_model(row), axis=1)\n"
     ]
    }
   ],
   "source": [
    "X_cat_2 = data[['brand','bodyType','color','model_name']]\n",
    "vc_brands = data['brand'].value_counts()\n",
    "vc_body = data['bodyType'].value_counts()\n",
    "vc_color = data['color'].value_counts()\n",
    "vc_model =  data['model_name'].value_counts()\n",
    "\n",
    "def encoder_br(row):\n",
    "    br=row['brand']\n",
    "    return vc_brands[br]\n",
    "\n",
    "def encoder_body(row):\n",
    "    bo=row['bodyType']\n",
    "    return vc_body[bo]\n",
    "\n",
    "def encoder_color(row):\n",
    "    co=row['color']\n",
    "    return vc_color[co]\n",
    "\n",
    "def encoder_model(row):\n",
    "    mo=row['model_name']\n",
    "    return vc_model[mo]\n",
    "\n",
    "\n",
    "    \n",
    "X_cat_2['brand']=data.apply(lambda row: encoder_br(row), axis=1)\n",
    "X_cat_2['bodyType']=data.apply(lambda row: encoder_body(row), axis=1)\n",
    "X_cat_2['color']=data.apply(lambda row: encoder_color(row), axis=1)\n",
    "X_cat_2['model_name']=data.apply(lambda row: encoder_model(row), axis=1)\n",
    "\n",
    "\n",
    "\n"
   ]
  },
  {
   "cell_type": "code",
   "execution_count": 307,
   "metadata": {},
   "outputs": [
    {
     "data": {
      "text/plain": "        brand  bodyType  color  model_name\n0        5447      2208   3196        1668\n1        5447      2208  10809        1668\n2        5447      2208   3922         611\n3        5447      2208   1487        1668\n4        5447      2208   6035        1668\n...       ...       ...    ...         ...\n227014   2338     54909  31663          10\n227015   2338     54909  31663          10\n227016   2338     54909  31663          10\n227017   2338     54909  31663          10\n227018   2338     54909  31663          10\n\n[226229 rows x 4 columns]",
      "text/html": "<div>\n<style scoped>\n    .dataframe tbody tr th:only-of-type {\n        vertical-align: middle;\n    }\n\n    .dataframe tbody tr th {\n        vertical-align: top;\n    }\n\n    .dataframe thead th {\n        text-align: right;\n    }\n</style>\n<table border=\"1\" class=\"dataframe\">\n  <thead>\n    <tr style=\"text-align: right;\">\n      <th></th>\n      <th>brand</th>\n      <th>bodyType</th>\n      <th>color</th>\n      <th>model_name</th>\n    </tr>\n  </thead>\n  <tbody>\n    <tr>\n      <th>0</th>\n      <td>5447</td>\n      <td>2208</td>\n      <td>3196</td>\n      <td>1668</td>\n    </tr>\n    <tr>\n      <th>1</th>\n      <td>5447</td>\n      <td>2208</td>\n      <td>10809</td>\n      <td>1668</td>\n    </tr>\n    <tr>\n      <th>2</th>\n      <td>5447</td>\n      <td>2208</td>\n      <td>3922</td>\n      <td>611</td>\n    </tr>\n    <tr>\n      <th>3</th>\n      <td>5447</td>\n      <td>2208</td>\n      <td>1487</td>\n      <td>1668</td>\n    </tr>\n    <tr>\n      <th>4</th>\n      <td>5447</td>\n      <td>2208</td>\n      <td>6035</td>\n      <td>1668</td>\n    </tr>\n    <tr>\n      <th>...</th>\n      <td>...</td>\n      <td>...</td>\n      <td>...</td>\n      <td>...</td>\n    </tr>\n    <tr>\n      <th>227014</th>\n      <td>2338</td>\n      <td>54909</td>\n      <td>31663</td>\n      <td>10</td>\n    </tr>\n    <tr>\n      <th>227015</th>\n      <td>2338</td>\n      <td>54909</td>\n      <td>31663</td>\n      <td>10</td>\n    </tr>\n    <tr>\n      <th>227016</th>\n      <td>2338</td>\n      <td>54909</td>\n      <td>31663</td>\n      <td>10</td>\n    </tr>\n    <tr>\n      <th>227017</th>\n      <td>2338</td>\n      <td>54909</td>\n      <td>31663</td>\n      <td>10</td>\n    </tr>\n    <tr>\n      <th>227018</th>\n      <td>2338</td>\n      <td>54909</td>\n      <td>31663</td>\n      <td>10</td>\n    </tr>\n  </tbody>\n</table>\n<p>226229 rows × 4 columns</p>\n</div>"
     },
     "execution_count": 307,
     "metadata": {},
     "output_type": "execute_result"
    }
   ],
   "source": [
    "X_cat_2"
   ]
  },
  {
   "cell_type": "markdown",
   "metadata": {},
   "source": [
    "# Превратим длинные строковые значения в столбце 'equipment_dict' в списки."
   ]
  },
  {
   "cell_type": "code",
   "execution_count": 308,
   "outputs": [],
   "source": [
    "def eq_fix(row, col):\n",
    "    try:\n",
    "        res= list(json.loads(row[col]).keys())\n",
    "    except:\n",
    "        res=[]\n",
    "\n",
    "    return res\n",
    "data['equipment_dict'] = data.apply(lambda row: eq_fix(row, 'equipment_dict'), axis=1)\n"
   ],
   "metadata": {
    "collapsed": false,
    "pycharm": {
     "name": "#%%\n"
    }
   }
  },
  {
   "cell_type": "markdown",
   "metadata": {},
   "source": [
    "Из столбца 'complectation_dict' выгрузим значения 'available_options' в json"
   ]
  },
  {
   "cell_type": "code",
   "execution_count": 309,
   "metadata": {},
   "outputs": [],
   "source": [
    "def comp_fix(row, col):\n",
    "    try:\n",
    "        res= json.loads(row[col].replace(\"'\", '\"'))['available_options']\n",
    "    except:\n",
    "        res=[]\n",
    "\n",
    "    return res\n",
    "\n",
    "data['complectation_dict'] = data.apply(lambda row: comp_fix(row, 'complectation_dict'), axis=1)"
   ]
  },
  {
   "cell_type": "markdown",
   "metadata": {},
   "source": [
    "Теперь в столбцах `equipment_dict` и `complectation_dict` расположениы списки укомплектации для каждой машины. Посмотрим какие элементы комплектации встречаются чаще всего, чтоб создать отдельные признаки опираясь на наличие этих элементов"
   ]
  },
  {
   "cell_type": "code",
   "execution_count": 310,
   "metadata": {},
   "outputs": [
    {
     "data": {
      "text/plain": "lock                             43804\nabs                              42969\nelectro-mirrors                  40539\nairbag-driver                    40349\nelectro-window-front             40195\nairbag-passenger                 39223\nimmo                             38254\ncomputer                         37382\nfront-seats-heat                 36031\nmirrors-heat                     35395\nwheel-configuration1             34996\nelectro-window-back              33954\nptf                              33485\nairbag-side                      33414\nesp                              31731\nwheel-power                      31447\nseat-transformation              29163\nwheel-configuration2             28275\naudiosystem-cd                   27646\nwheel-leather                    26442\nmulti-wheel                      25471\naux                              25464\ncruise-control                   24822\naudiopreparation                 24717\nisofix                           24326\nfront-centre-armrest             22628\nrain-sensor                      22421\ncondition                        22397\nlight-sensor                     22371\nclimate-control-1                22168\nusb                              21990\nairbag-curtain                   21004\nleather                          20764\nbluetooth                        20569\nlight-cleaner                    20045\n12v-socket                       19580\nalarm                            19428\npark-assist-r                    19073\nfabric-seats                     18793\npassenger-seat-electric          18293\nthird-rear-headrest              17985\nauto-mirrors                     17110\nxenon                            15501\nleather-gear-stick               15330\nautomatic-lighting-control       14417\ntinted-glass                     14321\nhcc                              13424\nashtray-and-cigarette-lighter    12706\ntyre-pressure                    12235\nstart-button                     12229\npark-assist-f                    12203\npaint-metallic                   11728\nservo                            11709\nnavigation                       11497\nroof-rails                       11333\npower-child-locks-rear-doors     10862\nmusic-super                      10788\nalloy-wheel-disks                10209\nkeyless-entry                    10173\ndtype: int64"
     },
     "execution_count": 310,
     "metadata": {},
     "output_type": "execute_result"
    }
   ],
   "source": [
    "equip=[]\n",
    "for car in data['equipment_dict']:\n",
    "    try:\n",
    "        for eq in car:\n",
    "            equip.append(eq)\n",
    "    except:\n",
    "        continue\n",
    "\n",
    "for car in data['complectation_dict']:\n",
    "    try:\n",
    "        for eq in car:\n",
    "            equip.append(eq)\n",
    "    except:\n",
    "        continue\n",
    "\n",
    "equipment=pd.Series(equip)\n",
    "equipment=equipment.value_counts()\n",
    "equipment=equipment[equipment.values>10000]\n",
    "equipment"
   ]
  },
  {
   "cell_type": "code",
   "execution_count": 311,
   "metadata": {
    "scrolled": true
   },
   "outputs": [],
   "source": [
    "X_cat_3=pd.DataFrame(data['sample'])\n",
    "for col in equipment.index:\n",
    "    def eq_col(row):\n",
    "        return int((col in row['equipment_dict']) or (col in row['complectation_dict']) )\n",
    "    \n",
    "    X_cat_3[col]=data.apply(lambda row: eq_col(row), axis=1)\n",
    "X_cat_3_sub=pd.DataFrame(X_cat_3)\n",
    "X_cat_3 = X_cat_3[X_cat_3['sample']==0]\n",
    "X_cat_3_sub = X_cat_3_sub[X_cat_3_sub['sample']==1]"
   ]
  },
  {
   "cell_type": "markdown",
   "source": [
    "#### Объединяем"
   ],
   "metadata": {
    "collapsed": false,
    "pycharm": {
     "name": "#%% md\n"
    }
   }
  },
  {
   "cell_type": "code",
   "execution_count": 312,
   "metadata": {},
   "outputs": [
    {
     "data": {
      "text/plain": "(33937, 91)"
     },
     "execution_count": 312,
     "metadata": {},
     "output_type": "execute_result"
    }
   ],
   "source": [
    "X = np.hstack([X_num, X_bin[data['sample'] == 0], X_cat_1[data['sample'] == 0], X_cat_2[data['sample']==0], X_cat_3])\n",
    "\n",
    "X_sub = np.hstack([X_num_sub, X_bin[data['sample'] == 1], X_cat_1[data['sample'] == 1], X_cat_2[data['sample']==1], X_cat_3_sub])\n",
    "X_sub.shape"
   ]
  },
  {
   "cell_type": "markdown",
   "source": [
    "Стандартизируем признаки:"
   ],
   "metadata": {
    "collapsed": false,
    "pycharm": {
     "name": "#%% md\n"
    }
   }
  },
  {
   "cell_type": "code",
   "execution_count": 313,
   "outputs": [],
   "source": [
    "X = StandardScaler().fit_transform(X)\n",
    "X_sub = StandardScaler().fit_transform(X_sub)\n"
   ],
   "metadata": {
    "collapsed": false,
    "pycharm": {
     "name": "#%%\n"
    }
   }
  },
  {
   "cell_type": "code",
   "execution_count": 314,
   "metadata": {
    "scrolled": true
   },
   "outputs": [
    {
     "data": {
      "text/plain": "34686     199000.0\n34687     199000.0\n34688     199000.0\n34689     199000.0\n34690     199000.0\n            ...   \n227014     45000.0\n227015     45000.0\n227016     45000.0\n227017     45000.0\n227018     45000.0\nName: price, Length: 192292, dtype: float64"
     },
     "execution_count": 314,
     "metadata": {},
     "output_type": "execute_result"
    }
   ],
   "source": [
    "y = data['price'][data['sample']==0]\n",
    "y"
   ]
  },
  {
   "cell_type": "markdown",
   "metadata": {},
   "source": [
    "Поделим выборку на тренировочную и тестовую"
   ]
  },
  {
   "cell_type": "code",
   "execution_count": 315,
   "metadata": {},
   "outputs": [],
   "source": [
    "X_train, X_test, y_train, y_test = train_test_split(X, y, test_size=0.2, random_state=RANDOM_SEED)"
   ]
  },
  {
   "cell_type": "markdown",
   "metadata": {},
   "source": [
    "# Подберём модели:¶"
   ]
  },
  {
   "cell_type": "markdown",
   "metadata": {},
   "source": [
    "Пробуя применять различные модели машинного обучения, я с толкнулась с тем, что получившийся датасет оказался черезчур большим и пришлось использовать его срез."
   ]
  },
  {
   "cell_type": "code",
   "execution_count": 316,
   "outputs": [],
   "source": [
    "def split_factor(factor, X_train, y_train, X_test, y_test):\n",
    "    _, X_train2, _, y_train2 = train_test_split(X_train, y_train, test_size=factor, random_state=RANDOM_SEED)\n",
    "    _, X_test2, _, y_test2 = train_test_split(X_test, y_test, test_size=factor, random_state=RANDOM_SEED)\n",
    "    return X_train2, y_train2, X_test2, y_test2\n",
    "\n",
    "X_train2, y_train2, X_test2, y_test2 = split_factor(0.2, X_train, y_train, X_test, y_test)"
   ],
   "metadata": {
    "collapsed": false,
    "pycharm": {
     "name": "#%%\n"
    }
   }
  },
  {
   "cell_type": "code",
   "execution_count": 317,
   "outputs": [
    {
     "ename": "SyntaxError",
     "evalue": "invalid syntax (<ipython-input-317-fb5b7f7d0756>, line 1)",
     "output_type": "error",
     "traceback": [
      "\u001B[1;36m  File \u001B[1;32m\"<ipython-input-317-fb5b7f7d0756>\"\u001B[1;36m, line \u001B[1;32m1\u001B[0m\n\u001B[1;33m    Оценим уровень влияния каждой из наших фич на целевую переменную и удалим бесполезные фичи\u001B[0m\n\u001B[1;37m           ^\u001B[0m\n\u001B[1;31mSyntaxError\u001B[0m\u001B[1;31m:\u001B[0m invalid syntax\n"
     ]
    }
   ],
   "source": [
    "Оценим уровень влияния каждой из наших фич на целевую переменную и удалим бесполезные фичи"
   ],
   "metadata": {
    "collapsed": false,
    "pycharm": {
     "name": "#%%md\n"
    }
   }
  },
  {
   "cell_type": "code",
   "execution_count": null,
   "outputs": [],
   "source": [
    "f_classif(X_train2, y_train2)\n",
    "imp_num = pd.Series(f_classif(X_train2, y_train2)[0])\n",
    "indexes = list()\n",
    "for idx, e in enumerate(np.array(imp_num)):\n",
    "    if math.isnan(e):\n",
    "        indexes.append(idx)\n",
    "indexes.reverse()\n",
    "indexes"
   ],
   "metadata": {
    "collapsed": false,
    "pycharm": {
     "name": "#%%\n"
    }
   }
  },
  {
   "cell_type": "code",
   "execution_count": null,
   "outputs": [],
   "source": [
    "for idx in indexes:\n",
    "    X_test2 = np.delete(X_test2, idx, 1)\n",
    "    X_test = np.delete(X_test, idx, 1)\n",
    "    X_train2 = np.delete(X_train2, idx, 1)\n",
    "    X_train = np.delete(X_train, idx, 1)\n",
    "    X_sub = np.delete(X_sub, idx, 1)\n",
    "\n"
   ],
   "metadata": {
    "collapsed": false,
    "pycharm": {
     "name": "#%%\n"
    }
   }
  },
  {
   "cell_type": "markdown",
   "source": [
    "Создадим универсальную функцию, с помощью которой будем создавать и тренировать данные, уменьшать датасет с заданным фактором и выводить МАPE"
   ],
   "metadata": {
    "collapsed": false
   }
  },
  {
   "cell_type": "code",
   "source": [
    "def trait_regressor(factor, X_train, y_train, X_test, y_test, model):\n",
    "    X_train_small, y_train_small, X_test_small, y_test_small = split_factor(factor, X_train, y_train, X_test, y_test)\n",
    "    model.fit(X_train_small, y_train_small)\n",
    "    y_pred = model.predict(X_test_small)\n",
    "    print('MAPE:', np.mean(np.abs((y_test_small - y_pred) / y_test_small)) * 100)\n",
    "    return model"
   ],
   "metadata": {
    "collapsed": false,
    "pycharm": {
     "name": "#%%\n"
    }
   },
   "execution_count": null,
   "outputs": []
  },
  {
   "cell_type": "markdown",
   "metadata": {
    "pycharm": {
     "name": "#%% md\n"
    }
   },
   "source": [
    "Линейнай регрессия _иногда_ не работает, выдавая ошибку \"LinAlgError: SVD did not converge in Linear Least Squares\""
   ]
  },
  {
   "cell_type": "code",
   "execution_count": null,
   "metadata": {},
   "outputs": [],
   "source": [
    "lr_model = trait_regressor(0.26, X_train, y_train, X_test, y_test,\n",
    "                              LinearRegression()\n",
    "                           )"
   ]
  },
  {
   "cell_type": "code",
   "execution_count": null,
   "metadata": {},
   "outputs": [],
   "source": [
    "rf_1 = trait_regressor(0.26, X_train, y_train, X_test, y_test,\n",
    "                              RandomForestRegressor(random_state = RANDOM_SEED)\n",
    "                           )\n",
    "\n",
    "# Look at parameters used by our current forest\n",
    "print('Параметры по умолчанию:\\n')\n",
    "pprint(rf_1.get_params())"
   ]
  },
  {
   "cell_type": "markdown",
   "metadata": {},
   "source": [
    "Подберём параметры для рандом фореста"
   ]
  },
  {
   "cell_type": "code",
   "execution_count": null,
   "metadata": {},
   "outputs": [],
   "source": [
    "from sklearn.model_selection import GridSearchCV\n",
    "param_grid = { \n",
    "    'n_estimators': [200, 500, 1000],\n",
    "    'max_features': ['auto', 'sqrt', 'log2'],\n",
    "    'max_depth' : [4,6,8]\n",
    "}\n",
    "\n",
    "\n",
    "\n",
    "gridCV = GridSearchCV(estimator=rf_1, param_grid=param_grid, cv= 5)\n",
    "rf_2=gridCV.fit(X_train2, y_train2)\n",
    "\n",
    "print(gridCV.best_params_)"
   ]
  },
  {
   "cell_type": "code",
   "execution_count": null,
   "metadata": {},
   "outputs": [],
   "source": [
    "rf_2.fit(X_train2, y_train2)\n",
    "y_pred_rf_2=rf_2.predict(X_test)\n",
    "print('MAPE:', np.mean(np.abs((y_test - y_pred_rf_2) / y_test)) * 100)\n"
   ]
  },
  {
   "cell_type": "code",
   "execution_count": null,
   "metadata": {},
   "outputs": [],
   "source": [
    "tree = trait_regressor(0.26, X_train, y_train, X_test, y_test,\n",
    "                              DecisionTreeRegressor(max_features = int(X_train2.shape[1]/3), max_depth=50)\n",
    "                           )\n"
   ]
  },
  {
   "cell_type": "code",
   "execution_count": null,
   "metadata": {},
   "outputs": [],
   "source": [
    "gb = trait_regressor(0.26, X_train, y_train, X_test, y_test,\n",
    "               GradientBoostingRegressor( # 47.8\n",
    "                    random_state = RANDOM_SEED,\n",
    "                    max_depth = 11,    # 15.2\n",
    "                    n_estimators = 1000 # 4.197\n",
    "                )\n",
    "               )"
   ]
  },
  {
   "cell_type": "markdown",
   "source": [
    "Подберём параметры для градиентного бустинга"
   ],
   "metadata": {
    "collapsed": false
   }
  },
  {
   "cell_type": "code",
   "execution_count": null,
   "outputs": [],
   "source": [
    "from sklearn.model_selection import GridSearchCV\n",
    "param_grid = {\n",
    "    'n_estimators': [800б 1000, 1200],\n",
    "    'max_features': ['auto', 'sqrt', 'log2'],\n",
    "    'max_depth' : [10,11,12]\n",
    "}\n",
    "\n",
    "\n",
    "gridCV = GridSearchCV(estimator = gb, param_grid = param_grid, cv = 5)\n",
    "gb_2 = gridCV.fit(X_train2, y_train2)\n",
    "print(gridCV.best_params_)\n"
   ],
   "metadata": {
    "collapsed": false,
    "pycharm": {
     "name": "#%%\n"
    }
   }
  },
  {
   "cell_type": "code",
   "execution_count": null,
   "outputs": [],
   "source": [
    "gb_2.fit(X_train2, y_train2)\n",
    "y_pred_gb_2 = gb_2.predict(X_test2)\n",
    "print('MAPE:', np.mean(np.abs((y_test2 - y_pred_gb_2) / y_test2)) * 100)\n",
    "\n",
    "\n",
    "\n"
   ],
   "metadata": {
    "collapsed": false,
    "pycharm": {
     "name": "#%%\n"
    }
   }
  },
  {
   "cell_type": "code",
   "execution_count": null,
   "outputs": [],
   "source": [
    "svr = trait_regressor(0.26, X_train, y_train, X_test, y_test,\n",
    "               SVR()\n",
    "                )"
   ],
   "metadata": {
    "collapsed": false,
    "pycharm": {
     "name": "#%%\n"
    }
   }
  },
  {
   "cell_type": "code",
   "execution_count": null,
   "outputs": [],
   "source": [
    "knn = trait_regressor(0.26, X_train, y_train, X_test, y_test,\n",
    "               KNeighborsRegressor()\n",
    "               )\n",
    "\n"
   ],
   "metadata": {
    "collapsed": false,
    "pycharm": {
     "name": "#%%\n"
    }
   }
  },
  {
   "cell_type": "markdown",
   "metadata": {},
   "source": []
  },
  {
   "cell_type": "markdown",
   "source": [
    "Catboost"
   ],
   "metadata": {
    "collapsed": false
   }
  },
  {
   "cell_type": "code",
   "execution_count": null,
   "outputs": [],
   "source": [
    "cbr = trait_regressor(0.26, X_train, y_train, X_test, y_test,\n",
    "               CatBoostRegressor(\n",
    "                        random_seed = RANDOM_SEED,\n",
    "                        learning_rate = 0.05,\n",
    "                        depth=9\n",
    "    # iterations = 1000,\n",
    "    #                      eval_metric='MAPE',\n",
    "    #                      custom_metric=['R2', 'MAE']\n",
    "                        )\n",
    "               )"
   ],
   "metadata": {
    "collapsed": false,
    "pycharm": {
     "name": "#%%\n"
    }
   }
  },
  {
   "cell_type": "markdown",
   "source": [
    "# Применим Stacking"
   ],
   "metadata": {
    "collapsed": false
   }
  },
  {
   "cell_type": "code",
   "execution_count": null,
   "metadata": {},
   "outputs": [],
   "source": [
    "def compute_meta_feature(model, X_train, X_test, y_train, cv):\n",
    "    X_meta_train = np.zeros(len(y_train), dtype=np.float32)\n",
    "    X_train = np.array(X_train)\n",
    "    y_train = np.array(y_train)\n",
    "    splits = cv.split(X_train)\n",
    "    for train_fold_index, predict_fold_index in splits:\n",
    "       # print(\"X_train.shape:\", X_train.shape)\n",
    "       # print(\"len(train_fold_index):\",len(train_fold_index))\n",
    "       # print(\"len(predict_fold_index):\",len(predict_fold_index))\n",
    "       # print(\"X_train.shape:\", X_train.shape)\n",
    "        #print('X_train[train_fold_index]', X_train[train_fold_index])\n",
    "        #print('X_train[predict_fold_index]', X_train[predict_fold_index])\n",
    "        \n",
    "       # print(\"X_train:\",X_train)\n",
    "       # print(\"train_fold_index:\",train_fold_index)\n",
    "       # print(\"predict_fold_index:\",predict_fold_index)\n",
    "        \n",
    "#X_fold_train = X_train[train_fold_index] #здесь происходит ошибка\n",
    "        X_fold_train = X_train[train_fold_index]\n",
    "        X_fold_predict = X_train[predict_fold_index]\n",
    "        y_fold_train = y_train[train_fold_index]\n",
    "        \n",
    "        folded_model = clone(model)\n",
    "        folded_model.fit(X_fold_train, y_fold_train)\n",
    "\n",
    "        X_meta_train[predict_fold_index] = folded_model.predict(X_fold_predict)\n",
    "        # print('X_meta_train', X_meta_train)\n",
    "    \n",
    "    meta_model = clone(model)\n",
    "    meta_model.fit(X_train, y_train)\n",
    "    \n",
    "    X_meta_test = meta_model.predict(X_test)\n",
    "    \n",
    "    return X_meta_train, X_meta_test"
   ]
  },
  {
   "cell_type": "code",
   "execution_count": null,
   "metadata": {},
   "outputs": [],
   "source": [
    "def generate_meta_features(models, X_train, X_test, y_train, cv):\n",
    "   \n",
    "    features = [\n",
    "        compute_meta_feature(model, X_train, X_test, y_train, cv)\n",
    "        for model in tqdm(models)\n",
    "    ]\n",
    "\n",
    "    stacked_features_train = np.column_stack([\n",
    "        features_train for features_train, features_test in features\n",
    "    ])\n",
    "\n",
    "    stacked_features_test = np.column_stack([\n",
    "        features_test for features_train, features_test in features\n",
    "    ])\n",
    "    \n",
    "    return stacked_features_train, stacked_features_test"
   ]
  },
  {
   "cell_type": "code",
   "execution_count": null,
   "metadata": {},
   "outputs": [],
   "source": [
    "cv = KFold(n_splits = 10, shuffle=True, random_state=RANDOM_SEED)"
   ]
  },
  {
   "cell_type": "code",
   "execution_count": null,
   "metadata": {
    "scrolled": true
   },
   "outputs": [],
   "source": [
    "stacked_features_train, stacked_features_test = generate_meta_features([\n",
    "    RandomForestRegressor(random_state = RANDOM_SEED),\n",
    "    #DecisionTreeRegressor(),\n",
    "    GradientBoostingRegressor(max_depth=7,n_estimators=1000,learning_rate=0.1,random_state=RANDOM_SEED)\n",
    "], X_train2, X_test2, y_train2, cv)"
   ]
  },
  {
   "cell_type": "code",
   "execution_count": null,
   "metadata": {},
   "outputs": [],
   "source": [
    "st_stacked_features_train = stacked_features_train\n",
    "# st_stacked_features_train = StandardScaler().fit_transform(stacked_features_train)\n",
    "# pd.DataFrame(st_stacked_features_train).plot()\n",
    "pd.DataFrame(st_stacked_features_train).plot()"
   ]
  },
  {
   "cell_type": "code",
   "execution_count": null,
   "outputs": [],
   "source": [
    "meta_GR = GradientBoostingRegressor()\n",
    "meta_GR.fit(st_stacked_features_train, y_train2)\n",
    "y_pred_meta_GR = meta_GR.predict(stacked_features_test)\n",
    "print('MAPE:', np.mean(np.abs((y_test2 - y_pred_meta_GR) / y_test2)) * 100)"
   ],
   "metadata": {
    "collapsed": false,
    "pycharm": {
     "name": "#%%\n"
    }
   }
  },
  {
   "cell_type": "markdown",
   "source": [
    "Попробуем, для сравнения, ещё один вариант стекинга"
   ],
   "metadata": {
    "collapsed": false,
    "pycharm": {
     "name": "#%% md\n"
    }
   }
  },
  {
   "cell_type": "code",
   "source": [
    "# get a list of base models\n",
    "def get_models():\n",
    "\tmodels = list()\n",
    "\tmodels.append(('lr', LinearRegression()))\n",
    "\tmodels.append(('knn', KNeighborsRegressor()))\n",
    "\tmodels.append(('cart', DecisionTreeRegressor()))\n",
    "\tmodels.append(('svm', SVR()))\n",
    "\treturn models"
   ],
   "metadata": {
    "collapsed": false,
    "pycharm": {
     "name": "#%%\n"
    }
   },
   "execution_count": null,
   "outputs": []
  },
  {
   "cell_type": "code",
   "execution_count": null,
   "outputs": [],
   "source": [
    "# fit the blending ensemble\n",
    "def fit_ensemble(models, X_train, X_val, y_train, y_val):\n",
    "\t# fit all models on the training set and predict on hold out set\n",
    "\tmeta_X = list()\n",
    "\tfor name, model in models:\n",
    "\t\t# fit in training set\n",
    "\t\tmodel.fit(X_train, y_train)\n",
    "\t\t# predict on hold out set\n",
    "\t\tyhat = model.predict(X_val)\n",
    "\t\t# reshape predictions into a matrix with one column\n",
    "\t\tyhat = yhat.reshape(len(yhat), 1)\n",
    "\t\t# store predictions as input for blending\n",
    "\t\tmeta_X.append(yhat)\n",
    "\t# create 2d array from predictions, each set is an input feature\n",
    "\tmeta_X = np.hstack(meta_X)\n",
    "\t# define blending model\n",
    "\tblender = LinearRegression()\n",
    "\t# fit on predictions from base models\n",
    "\tblender.fit(meta_X, y_val)\n",
    "\treturn blender"
   ],
   "metadata": {
    "collapsed": false,
    "pycharm": {
     "name": "#%%\n"
    }
   }
  },
  {
   "cell_type": "code",
   "execution_count": null,
   "outputs": [],
   "source": [
    "# make a prediction with the blending ensemble\n",
    "def predict_ensemble(models, blender, X_test):\n",
    "\t# make predictions with base models\n",
    "\tmeta_X = list()\n",
    "\tfor name, model in models:\n",
    "\t\t# predict with base model\n",
    "\t\tyhat = model.predict(X_test)\n",
    "\t\t# reshape predictions into a matrix with one column\n",
    "\t\tyhat = yhat.reshape(len(yhat), 1)\n",
    "\t\t# store prediction\n",
    "\t\tmeta_X.append(yhat)\n",
    "\t# create 2d array from predictions, each set is an input feature\n",
    "\tmeta_X = np.hstack(meta_X)\n",
    "\t# predict\n",
    "\treturn blender.predict(meta_X)"
   ],
   "metadata": {
    "collapsed": false,
    "pycharm": {
     "name": "#%%\n"
    }
   }
  },
  {
   "cell_type": "code",
   "execution_count": null,
   "outputs": [],
   "source": [
    "# split dataset into train and test sets\n",
    "X_train_full, X_test, y_train_full, y_test = train_test_split(X_train2, y_train2, test_size=0.5, random_state=1)\n",
    "# split training set into train and validation sets\n",
    "X_train, X_val, y_train, y_val = train_test_split(X_train_full, y_train_full, test_size=0.33, random_state=1)\n",
    "# summarize data split\n",
    "print('Train: %s, Val: %s, Test: %s' % (X_train.shape, X_val.shape, X_test.shape))\n",
    "# create the base models\n",
    "models = get_models()\n",
    "# train the blending ensemble\n",
    "blender = fit_ensemble(models, X_train, X_val, y_train, y_val)\n",
    "# make predictions on test set\n",
    "yhat = predict_ensemble(models, blender, X_test)"
   ],
   "metadata": {
    "collapsed": false,
    "pycharm": {
     "name": "#%%\n"
    }
   }
  },
  {
   "cell_type": "code",
   "execution_count": null,
   "outputs": [],
   "source": [
    "# evaluate predictions\n",
    "score = mean_absolute_error(y_test, yhat)\n",
    "print('Blending MAE: %.3f' % score)"
   ],
   "metadata": {
    "collapsed": false,
    "pycharm": {
     "name": "#%%\n"
    }
   }
  },
  {
   "cell_type": "code",
   "execution_count": null,
   "outputs": [],
   "source": [
    "print('MAPE:', np.mean(np.abs((y_test - yhat) / y_test)) * 100)\n"
   ],
   "metadata": {
    "collapsed": false,
    "pycharm": {
     "name": "#%%\n"
    }
   }
  },
  {
   "cell_type": "code",
   "execution_count": null,
   "metadata": {},
   "outputs": [],
   "source": [
    "X_test"
   ]
  },
  {
   "cell_type": "code",
   "execution_count": null,
   "metadata": {},
   "outputs": [],
   "source": [
    "X_sub"
   ]
  },
  {
   "cell_type": "markdown",
   "metadata": {},
   "source": [
    "# Submission"
   ]
  },
  {
   "cell_type": "code",
   "execution_count": null,
   "metadata": {},
   "outputs": [],
   "source": [
    "predict_submission = gb.predict(X_sub)\n",
    "predict_submission"
   ]
  },
  {
   "cell_type": "code",
   "execution_count": null,
   "metadata": {},
   "outputs": [],
   "source": [
    "predict_submission"
   ]
  },
  {
   "cell_type": "code",
   "execution_count": null,
   "metadata": {},
   "outputs": [],
   "source": [
    "sample_submission=pd.read_csv('submission00.csv')\n",
    "sample_submission.shape"
   ]
  },
  {
   "cell_type": "code",
   "execution_count": null,
   "metadata": {
    "pycharm": {
     "name": "#%%\n"
    }
   },
   "outputs": [],
   "source": [
    "sample_submission['price'] = predict_submission\n",
    "# sample_submission['price'] = sample_submission['price'] * 0.75\n",
    "sample_submission.to_csv(f'submission.csv', index=False)\n",
    "sample_submission.head(10)\n"
   ]
  }
 ],
 "metadata": {
  "kernelspec": {
   "display_name": "Python 3",
   "language": "python",
   "name": "python3"
  },
  "language_info": {
   "codemirror_mode": {
    "name": "ipython",
    "version": 3
   },
   "file_extension": ".py",
   "mimetype": "text/x-python",
   "name": "python",
   "nbconvert_exporter": "python",
   "pygments_lexer": "ipython3",
   "version": "3.9.1"
  }
 },
 "nbformat": 4,
 "nbformat_minor": 2
}