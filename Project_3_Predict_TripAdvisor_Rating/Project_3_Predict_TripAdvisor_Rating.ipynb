{
 "cells": [
  {
   "cell_type": "markdown",
   "metadata": {},
   "source": [
    "# Predict TripAdvisor Rating"
   ]
  },
  {
   "cell_type": "markdown",
   "metadata": {},
   "source": [
    "This Dataset gives us information about 40000 European restaurants. Using this data I will make a prediction of the restaurant's TripAdvisor rating depend on their different characteristic."
   ]
  },
  {
   "cell_type": "code",
   "execution_count": 869,
   "metadata": {},
   "outputs": [],
   "source": [
    "import pandas as pd\n",
    "import numpy as np\n",
    "import math\n",
    "import re\n",
    "import datetime\n",
    "from datetime import datetime, timedelta\n",
    "import collections\n",
    "import matplotlib.pyplot as plt\n",
    "import random\n",
    "import seaborn as sns\n",
    "from itertools import combinations\n",
    "from scipy.stats import ttest_ind\n",
    "pd.set_option('display.max_rows', 50) #to show more rows\n",
    "pd.set_option('display.max_columns', 50) #to show more columns\n",
    "#Let's import some more libraries for Machine learning:\n",
    "from sklearn.model_selection import train_test_split #tool for spliting to Data set for training of the model and the target value \n",
    "from sklearn.ensemble import RandomForestRegressor #tool to create and learn a model\n",
    "from sklearn import metrics #tool for model accuracy estimation"
   ]
  },
  {
   "cell_type": "code",
   "execution_count": 870,
   "metadata": {},
   "outputs": [],
   "source": [
    "RANDOM_SEED = 42 #to reproduce the data given by a pseudo-random number generator"
   ]
  },
  {
   "cell_type": "code",
   "execution_count": 871,
   "metadata": {},
   "outputs": [],
   "source": [
    "!pip freeze > requirements.txt"
   ]
  },
  {
   "cell_type": "code",
   "execution_count": 872,
   "metadata": {},
   "outputs": [
    {
     "data": {
      "text/html": [
       "<div>\n",
       "<style scoped>\n",
       "    .dataframe tbody tr th:only-of-type {\n",
       "        vertical-align: middle;\n",
       "    }\n",
       "\n",
       "    .dataframe tbody tr th {\n",
       "        vertical-align: top;\n",
       "    }\n",
       "\n",
       "    .dataframe thead th {\n",
       "        text-align: right;\n",
       "    }\n",
       "</style>\n",
       "<table border=\"1\" class=\"dataframe\">\n",
       "  <thead>\n",
       "    <tr style=\"text-align: right;\">\n",
       "      <th></th>\n",
       "      <th>Restaurant_id</th>\n",
       "      <th>City</th>\n",
       "      <th>Cuisine Style</th>\n",
       "      <th>Ranking</th>\n",
       "      <th>Rating</th>\n",
       "      <th>Price Range</th>\n",
       "      <th>Number of Reviews</th>\n",
       "      <th>Reviews</th>\n",
       "      <th>URL_TA</th>\n",
       "      <th>ID_TA</th>\n",
       "    </tr>\n",
       "  </thead>\n",
       "  <tbody>\n",
       "    <tr>\n",
       "      <td>0</td>\n",
       "      <td>id_5569</td>\n",
       "      <td>Paris</td>\n",
       "      <td>['European', 'French', 'International']</td>\n",
       "      <td>5570.0</td>\n",
       "      <td>3.5</td>\n",
       "      <td>$$ - $$$</td>\n",
       "      <td>194.0</td>\n",
       "      <td>[['Good food at your doorstep', 'A good hotel ...</td>\n",
       "      <td>/Restaurant_Review-g187147-d1912643-Reviews-R_...</td>\n",
       "      <td>d1912643</td>\n",
       "    </tr>\n",
       "    <tr>\n",
       "      <td>1</td>\n",
       "      <td>id_1535</td>\n",
       "      <td>Stockholm</td>\n",
       "      <td>NaN</td>\n",
       "      <td>1537.0</td>\n",
       "      <td>4.0</td>\n",
       "      <td>NaN</td>\n",
       "      <td>10.0</td>\n",
       "      <td>[['Unique cuisine', 'Delicious Nepalese food']...</td>\n",
       "      <td>/Restaurant_Review-g189852-d7992032-Reviews-Bu...</td>\n",
       "      <td>d7992032</td>\n",
       "    </tr>\n",
       "    <tr>\n",
       "      <td>2</td>\n",
       "      <td>id_352</td>\n",
       "      <td>London</td>\n",
       "      <td>['Japanese', 'Sushi', 'Asian', 'Grill', 'Veget...</td>\n",
       "      <td>353.0</td>\n",
       "      <td>4.5</td>\n",
       "      <td>$$$$</td>\n",
       "      <td>688.0</td>\n",
       "      <td>[['Catch up with friends', 'Not exceptional'],...</td>\n",
       "      <td>/Restaurant_Review-g186338-d8632781-Reviews-RO...</td>\n",
       "      <td>d8632781</td>\n",
       "    </tr>\n",
       "    <tr>\n",
       "      <td>3</td>\n",
       "      <td>id_3456</td>\n",
       "      <td>Berlin</td>\n",
       "      <td>NaN</td>\n",
       "      <td>3458.0</td>\n",
       "      <td>5.0</td>\n",
       "      <td>NaN</td>\n",
       "      <td>3.0</td>\n",
       "      <td>[[], []]</td>\n",
       "      <td>/Restaurant_Review-g187323-d1358776-Reviews-Es...</td>\n",
       "      <td>d1358776</td>\n",
       "    </tr>\n",
       "    <tr>\n",
       "      <td>4</td>\n",
       "      <td>id_615</td>\n",
       "      <td>Munich</td>\n",
       "      <td>['German', 'Central European', 'Vegetarian Fri...</td>\n",
       "      <td>621.0</td>\n",
       "      <td>4.0</td>\n",
       "      <td>$$ - $$$</td>\n",
       "      <td>84.0</td>\n",
       "      <td>[['Best place to try a Bavarian food', 'Nice b...</td>\n",
       "      <td>/Restaurant_Review-g187309-d6864963-Reviews-Au...</td>\n",
       "      <td>d6864963</td>\n",
       "    </tr>\n",
       "  </tbody>\n",
       "</table>\n",
       "</div>"
      ],
      "text/plain": [
       "  Restaurant_id       City                                      Cuisine Style  \\\n",
       "0       id_5569      Paris            ['European', 'French', 'International']   \n",
       "1       id_1535  Stockholm                                                NaN   \n",
       "2        id_352     London  ['Japanese', 'Sushi', 'Asian', 'Grill', 'Veget...   \n",
       "3       id_3456     Berlin                                                NaN   \n",
       "4        id_615     Munich  ['German', 'Central European', 'Vegetarian Fri...   \n",
       "\n",
       "   Ranking  Rating Price Range  Number of Reviews  \\\n",
       "0   5570.0     3.5    $$ - $$$              194.0   \n",
       "1   1537.0     4.0         NaN               10.0   \n",
       "2    353.0     4.5        $$$$              688.0   \n",
       "3   3458.0     5.0         NaN                3.0   \n",
       "4    621.0     4.0    $$ - $$$               84.0   \n",
       "\n",
       "                                             Reviews  \\\n",
       "0  [['Good food at your doorstep', 'A good hotel ...   \n",
       "1  [['Unique cuisine', 'Delicious Nepalese food']...   \n",
       "2  [['Catch up with friends', 'Not exceptional'],...   \n",
       "3                                           [[], []]   \n",
       "4  [['Best place to try a Bavarian food', 'Nice b...   \n",
       "\n",
       "                                              URL_TA     ID_TA  \n",
       "0  /Restaurant_Review-g187147-d1912643-Reviews-R_...  d1912643  \n",
       "1  /Restaurant_Review-g189852-d7992032-Reviews-Bu...  d7992032  \n",
       "2  /Restaurant_Review-g186338-d8632781-Reviews-RO...  d8632781  \n",
       "3  /Restaurant_Review-g187323-d1358776-Reviews-Es...  d1358776  \n",
       "4  /Restaurant_Review-g187309-d6864963-Reviews-Au...  d6864963  "
      ]
     },
     "execution_count": 872,
     "metadata": {},
     "output_type": "execute_result"
    }
   ],
   "source": [
    "df = pd.read_csv('main_task.csv')\n",
    "df.head()"
   ]
  },
  {
   "cell_type": "code",
   "execution_count": 873,
   "metadata": {
    "scrolled": true
   },
   "outputs": [
    {
     "name": "stdout",
     "output_type": "stream",
     "text": [
      "<class 'pandas.core.frame.DataFrame'>\n",
      "RangeIndex: 40000 entries, 0 to 39999\n",
      "Data columns (total 10 columns):\n",
      "Restaurant_id        40000 non-null object\n",
      "City                 40000 non-null object\n",
      "Cuisine Style        30717 non-null object\n",
      "Ranking              40000 non-null float64\n",
      "Rating               40000 non-null float64\n",
      "Price Range          26114 non-null object\n",
      "Number of Reviews    37457 non-null float64\n",
      "Reviews              40000 non-null object\n",
      "URL_TA               40000 non-null object\n",
      "ID_TA                40000 non-null object\n",
      "dtypes: float64(3), object(7)\n",
      "memory usage: 3.1+ MB\n"
     ]
    }
   ],
   "source": [
    "df.info()"
   ]
  },
  {
   "cell_type": "markdown",
   "metadata": {},
   "source": [
    "## Cleaning and Prepping Data"
   ]
  },
  {
   "cell_type": "markdown",
   "metadata": {},
   "source": [
    "Let's check whether we have some None data:"
   ]
  },
  {
   "cell_type": "code",
   "execution_count": 874,
   "metadata": {},
   "outputs": [
    {
     "data": {
      "text/plain": [
       "Restaurant_id            0\n",
       "City                     0\n",
       "Cuisine Style         9283\n",
       "Ranking                  0\n",
       "Rating                   0\n",
       "Price Range          13886\n",
       "Number of Reviews     2543\n",
       "Reviews                  0\n",
       "URL_TA                   0\n",
       "ID_TA                    0\n",
       "dtype: int64"
      ]
     },
     "execution_count": 874,
     "metadata": {},
     "output_type": "execute_result"
    }
   ],
   "source": [
    "df.isnull().sum()"
   ]
  },
  {
   "cell_type": "markdown",
   "metadata": {},
   "source": [
    "There is failing information in 'Cuisine Style', 'Price Range', 'Number of Reviews'. Let's see each of these columns more exactly to see how we can fix them."
   ]
  },
  {
   "cell_type": "markdown",
   "metadata": {},
   "source": [
    "For 'Cuisine Style' we can find the most popular style and use it for blanks"
   ]
  },
  {
   "cell_type": "code",
   "execution_count": 875,
   "metadata": {},
   "outputs": [],
   "source": [
    "styles=df['Cuisine Style'].str.replace('[', '')\n",
    "styles=styles.str.replace(']', '')\n",
    "styles=styles.str.replace(\"'\", \"\")\n",
    "styles=styles.str.replace(\" \", \"\")\n",
    "styles=styles.str.split(',')"
   ]
  },
  {
   "cell_type": "code",
   "execution_count": 876,
   "metadata": {},
   "outputs": [],
   "source": [
    "c=collections.Counter()"
   ]
  },
  {
   "cell_type": "code",
   "execution_count": 877,
   "metadata": {},
   "outputs": [
    {
     "data": {
      "text/plain": [
       "VegetarianFriendly    11189\n",
       "European              10060\n",
       "Mediterranean          6277\n",
       "Italian                5964\n",
       "VeganOptions           4486\n",
       "                      ...  \n",
       "Salvadoran                1\n",
       "Yunnan                    1\n",
       "Xinjiang                  1\n",
       "Burmese                   1\n",
       "Latvian                   1\n",
       "Length: 125, dtype: int64"
      ]
     },
     "metadata": {},
     "output_type": "display_data"
    }
   ],
   "source": [
    "\n",
    "for i in styles:\n",
    "    if str(i)!=\"nan\" and str(i)!=\"None\":\n",
    "        \n",
    "        for j in i:\n",
    "            \n",
    "            c[j]+=1\n",
    "        \n",
    "           \n",
    "    else:\n",
    "        continue\n",
    "\n",
    "styles_counted_df=pd.Series(c)\n",
    "        \n",
    "\n",
    "display(styles_counted_df.sort_values(ascending=False))"
   ]
  },
  {
   "cell_type": "markdown",
   "metadata": {},
   "source": [
    "We counted that the most frequent cuisine style is \"Vegetarian Friendly\". However, it does not seem like an independent style. That's why for None filling I prepare to take the next most common option - \"European\". Furthermore \"European\" concludes more other widespread styles."
   ]
  },
  {
   "cell_type": "code",
   "execution_count": 878,
   "metadata": {},
   "outputs": [],
   "source": [
    "df['Cuisine Style'].fillna(value=\"European\", inplace=True)"
   ]
  },
  {
   "cell_type": "markdown",
   "metadata": {},
   "source": [
    "For the better readability I suggest to rename values of 'Price Range' to \"1\", \"2\", \"3\""
   ]
  },
  {
   "cell_type": "code",
   "execution_count": 879,
   "metadata": {},
   "outputs": [],
   "source": [
    "df['Price Range']=df['Price Range'].replace('$', 1)\n",
    "df['Price Range']=df['Price Range'].replace('$$ - $$$', 2)\n",
    "df['Price Range']=df['Price Range'].replace('$$$$', 3)\n"
   ]
  },
  {
   "cell_type": "markdown",
   "metadata": {},
   "source": [
    "Let's check the ratio of different values compare to None amount:"
   ]
  },
  {
   "cell_type": "code",
   "execution_count": 880,
   "metadata": {},
   "outputs": [
    {
     "name": "stdout",
     "output_type": "stream",
     "text": [
      "2.0    18412\n",
      "nan    13886\n",
      "1.0     6279\n",
      "3.0     1423\n",
      "Name: Price Range, dtype: int64\n"
     ]
    },
    {
     "data": {
      "text/plain": [
       "<matplotlib.axes._subplots.AxesSubplot at 0x26822eeff88>"
      ]
     },
     "execution_count": 880,
     "metadata": {},
     "output_type": "execute_result"
    },
    {
     "data": {
      "image/png": "[encoded data removed]",
      "text/plain": [
       "<Figure size 720x720 with 1 Axes>"
      ]
     },
     "metadata": {
      "needs_background": "light"
     },
     "output_type": "display_data"
    }
   ],
   "source": [
    "print(df['Price Range'].astype(str).value_counts())\n",
    "df['Price Range'].astype(str).hist()"
   ]
  },
  {
   "cell_type": "markdown",
   "metadata": {},
   "source": [
    "I suggest to fill the blanks with \"0\"."
   ]
  },
  {
   "cell_type": "code",
   "execution_count": 881,
   "metadata": {},
   "outputs": [
    {
     "data": {
      "text/plain": [
       "<matplotlib.axes._subplots.AxesSubplot at 0x26827396148>"
      ]
     },
     "execution_count": 881,
     "metadata": {},
     "output_type": "execute_result"
    },
    {
     "data": {
      "image/png": "[encoded data removed]",
      "text/plain": [
       "<Figure size 720x720 with 1 Axes>"
      ]
     },
     "metadata": {
      "needs_background": "light"
     },
     "output_type": "display_data"
    }
   ],
   "source": [
    "df['Price Range'].fillna(0, inplace=True)\n",
    "df['Price Range'].hist()"
   ]
  },
  {
   "cell_type": "markdown",
   "metadata": {},
   "source": [
    "The next column with None values is \"Number of Reviews\". It contains numeric values. To make a decision which value fit more for filling blanks, let's see mean and median values:"
   ]
  },
  {
   "cell_type": "code",
   "execution_count": 882,
   "metadata": {},
   "outputs": [
    {
     "name": "stdout",
     "output_type": "stream",
     "text": [
      "mean: 124.82547988359985 median: 33.0\n"
     ]
    }
   ],
   "source": [
    "print('mean:', df[\"Number of Reviews\"].mean(), 'median:', df[\"Number of Reviews\"].median())"
   ]
  },
  {
   "cell_type": "markdown",
   "metadata": {},
   "source": [
    "We see a huge difference between mean and median values. This means that\n",
    "we have a non normal distribution. The histogram will confirm it: "
   ]
  },
  {
   "cell_type": "code",
   "execution_count": 883,
   "metadata": {},
   "outputs": [
    {
     "data": {
      "text/plain": [
       "<matplotlib.axes._subplots.AxesSubplot at 0x26827b75448>"
      ]
     },
     "execution_count": 883,
     "metadata": {},
     "output_type": "execute_result"
    },
    {
     "data": {
      "image/png": "[encoded data removed]",
      "text/plain": [
       "<Figure size 720x720 with 1 Axes>"
      ]
     },
     "metadata": {
      "needs_background": "light"
     },
     "output_type": "display_data"
    }
   ],
   "source": [
    "df[\"Number of Reviews\"].hist()"
   ]
  },
  {
   "cell_type": "markdown",
   "metadata": {},
   "source": [
    "Let's take squares of values for better visibility"
   ]
  },
  {
   "cell_type": "code",
   "execution_count": 884,
   "metadata": {},
   "outputs": [
    {
     "data": {
      "text/plain": [
       "<matplotlib.axes._subplots.AxesSubplot at 0x26827bfeb48>"
      ]
     },
     "execution_count": 884,
     "metadata": {},
     "output_type": "execute_result"
    },
    {
     "data": {
      "image/png": "[encoded data removed]",
      "text/plain": [
       "<Figure size 720x720 with 1 Axes>"
      ]
     },
     "metadata": {
      "needs_background": "light"
     },
     "output_type": "display_data"
    }
   ],
   "source": [
    "np.sqrt(df[\"Number of Reviews\"]).hist()"
   ]
  },
  {
   "cell_type": "markdown",
   "metadata": {},
   "source": [
    "Let's see a boxplot and colculate of outliers limits:"
   ]
  },
  {
   "cell_type": "code",
   "execution_count": 885,
   "metadata": {},
   "outputs": [
    {
     "data": {
      "image/png": "[encoded data removed]",
      "text/plain": [
       "<Figure size 1008x1440 with 1 Axes>"
      ]
     },
     "metadata": {
      "needs_background": "light"
     },
     "output_type": "display_data"
    }
   ],
   "source": [
    "fig, ax = plt.subplots(figsize = (14, 20))\n",
    "sns.boxplot( y=df[\"Number of Reviews\"], data=df[\"Number of Reviews\"], ax=ax)\n",
    "plt.show()\n",
    "            "
   ]
  },
  {
   "cell_type": "code",
   "execution_count": 886,
   "metadata": {},
   "outputs": [],
   "source": [
    "#function for percentiles, IQR and outliers\n",
    "def range_outliers(x):\n",
    "    xmedian=x.median()\n",
    "    xperc25=x.quantile(0.25)\n",
    "    xperc75=x.quantile(0.75)\n",
    "    xIQR=xperc75-xperc25\n",
    "    print('median:{},'.format(xmedian),'25% percentile:{},'.format(xperc25), '75% percentile:{},'.format(xperc75), 'IQR:{},'.format(xIQR), 'limits of outliers: [{f},{l}]'.format(f=xperc25-1.5*xIQR, l=xperc75+1.5*xIQR))"
   ]
  },
  {
   "cell_type": "code",
   "execution_count": 887,
   "metadata": {
    "scrolled": true
   },
   "outputs": [
    {
     "name": "stdout",
     "output_type": "stream",
     "text": [
      "median:33.0, 25% percentile:9.0, 75% percentile:115.0, IQR:106.0, limits of outliers: [-150.0,274.0]\n"
     ]
    }
   ],
   "source": [
    "range_outliers(df[\"Number of Reviews\"])"
   ]
  },
  {
   "cell_type": "markdown",
   "metadata": {},
   "source": [
    "As we see the median value fits better then mean for filling the blanks."
   ]
  },
  {
   "cell_type": "code",
   "execution_count": 888,
   "metadata": {},
   "outputs": [],
   "source": [
    "df[\"Number of Reviews\"].fillna(df[\"Number of Reviews\"].median(), inplace=True)\n"
   ]
  },
  {
   "cell_type": "markdown",
   "metadata": {},
   "source": [
    "# Feature Processing"
   ]
  },
  {
   "cell_type": "markdown",
   "metadata": {},
   "source": [
    "Let's clean 'Cuisine Style'."
   ]
  },
  {
   "cell_type": "code",
   "execution_count": 889,
   "metadata": {},
   "outputs": [],
   "source": [
    "df['Cuisine Style']=df['Cuisine Style'].str.replace('[', '')\n",
    "df['Cuisine Style']=df['Cuisine Style'].str.replace(']', '')\n",
    "df['Cuisine Style']=df['Cuisine Style'].str.replace(\"'\", \"\")\n",
    "df['Cuisine Style']=df['Cuisine Style'].str.replace(\" \", \"\")\n",
    "df['Cuisine Style']=df['Cuisine Style'].str.split(',')\n",
    "\n"
   ]
  },
  {
   "cell_type": "markdown",
   "metadata": {},
   "source": [
    "Let's define the most popular cuisine styles and count how many of them have restaurants."
   ]
  },
  {
   "cell_type": "code",
   "execution_count": 890,
   "metadata": {},
   "outputs": [],
   "source": [
    "popular_styles=set(styles_counted_df[styles_counted_df>1500].index)"
   ]
  },
  {
   "cell_type": "code",
   "execution_count": 891,
   "metadata": {},
   "outputs": [],
   "source": [
    "def popular(row):\n",
    "    a=0\n",
    "    for i in row['Cuisine Style']:\n",
    "        if i in popular_styles:\n",
    "            a+=1    \n",
    "    return a\n",
    "    "
   ]
  },
  {
   "cell_type": "code",
   "execution_count": 892,
   "metadata": {},
   "outputs": [],
   "source": [
    "df['Popular Cuisine']=df.apply(popular, axis=1)"
   ]
  },
  {
   "cell_type": "markdown",
   "metadata": {},
   "source": [
    "We can also pick out the information whether restaurant vegetarian friendly and bar (pub) in new columns"
   ]
  },
  {
   "cell_type": "code",
   "execution_count": 893,
   "metadata": {},
   "outputs": [],
   "source": [
    "def veggy(row):\n",
    "    v=0\n",
    "    for i in row['Cuisine Style']:\n",
    "        if i=='VegetarianFriendly':\n",
    "            v+=1\n",
    "        \n",
    "    return v\n",
    "        "
   ]
  },
  {
   "cell_type": "code",
   "execution_count": 894,
   "metadata": {},
   "outputs": [],
   "source": [
    "def bar(row):\n",
    "    \n",
    "    b=0\n",
    "    for i in row['Cuisine Style']:\n",
    "        if (i=='Bar') or (i=='Pub'):\n",
    "            b+=1\n",
    "        \n",
    "    return b"
   ]
  },
  {
   "cell_type": "code",
   "execution_count": 895,
   "metadata": {},
   "outputs": [],
   "source": [
    "df['Veggy']=df.apply(veggy, axis=1)"
   ]
  },
  {
   "cell_type": "code",
   "execution_count": 896,
   "metadata": {},
   "outputs": [],
   "source": [
    "df['Bar']=df.apply(bar, axis=1)"
   ]
  },
  {
   "cell_type": "markdown",
   "metadata": {},
   "source": [
    "Let's define a populat cities"
   ]
  },
  {
   "cell_type": "code",
   "execution_count": 897,
   "metadata": {},
   "outputs": [],
   "source": [
    "popular_city=set(df['City'].value_counts()[0:5].index)"
   ]
  },
  {
   "cell_type": "code",
   "execution_count": 898,
   "metadata": {},
   "outputs": [],
   "source": [
    "def pop_city(row):\n",
    "    if (row['City']=='Barcelona') or (row['City']=='Berlin') or (row['City']=='London') or (row['City']=='Madrid') or (row['City']=='Paris'):\n",
    "        return 1\n",
    "    else:\n",
    "        return 0"
   ]
  },
  {
   "cell_type": "code",
   "execution_count": 899,
   "metadata": {},
   "outputs": [],
   "source": [
    "df['Popular City']=df.apply(pop_city, axis=1)"
   ]
  },
  {
   "cell_type": "markdown",
   "metadata": {},
   "source": [
    "In the column 'Reviews' we have some usefull information about dates of reviews. Let's get it from string values. We will use replace function with regular expression."
   ]
  },
  {
   "cell_type": "code",
   "execution_count": 900,
   "metadata": {},
   "outputs": [],
   "source": [
    "regex_pat = re.compile('[^0-9/,]', flags=re.IGNORECASE) \n",
    "df['Date']=df['Reviews'].str.replace(regex_pat, '', regex=True)\n",
    "df['Date']=df['Date'].str.split(',')"
   ]
  },
  {
   "cell_type": "markdown",
   "metadata": {},
   "source": [
    "Let's make a function, that will define and convert dates and ignore exceptions: "
   ]
  },
  {
   "cell_type": "code",
   "execution_count": 901,
   "metadata": {},
   "outputs": [],
   "source": [
    "def datefunc(row):\n",
    "    dt=[]\n",
    "    for i in row['Date']:\n",
    "        try:\n",
    "            a=datetime.strptime(i, '%m/%d/%Y')\n",
    "            dt.append(datetime.strptime(i, '%m/%d/%Y'))\n",
    "        except:\n",
    "            continue\n",
    "    return dt"
   ]
  },
  {
   "cell_type": "code",
   "execution_count": 902,
   "metadata": {},
   "outputs": [],
   "source": [
    "df['Date']=df.apply(datefunc, axis=1)"
   ]
  },
  {
   "cell_type": "markdown",
   "metadata": {},
   "source": [
    "Now we have the 'Date' column and can define the time difference between the review's date and some constant date."
   ]
  },
  {
   "cell_type": "code",
   "execution_count": 903,
   "metadata": {},
   "outputs": [],
   "source": [
    "maxdate=datetime(2020,12,31,0,0,0)"
   ]
  },
  {
   "cell_type": "code",
   "execution_count": 904,
   "metadata": {},
   "outputs": [],
   "source": [
    "def fill_first(row):\n",
    "    try:\n",
    "        return (maxdate-row['Date'][0]).days\n",
    "    except:\n",
    "    \n",
    "        return None\n",
    "        "
   ]
  },
  {
   "cell_type": "code",
   "execution_count": 905,
   "metadata": {},
   "outputs": [],
   "source": [
    "def fill_second(row):\n",
    "    try:\n",
    "        return (maxdate-row['Date'][1]).days\n",
    "    except:\n",
    "    \n",
    "        return None\n",
    "        "
   ]
  },
  {
   "cell_type": "code",
   "execution_count": 906,
   "metadata": {},
   "outputs": [],
   "source": [
    "df['Timedelta_01']=df.apply(fill_first, axis=1)"
   ]
  },
  {
   "cell_type": "code",
   "execution_count": 907,
   "metadata": {},
   "outputs": [],
   "source": [
    "df['Timedelta_02']=df.apply(fill_second, axis=1)"
   ]
  },
  {
   "cell_type": "code",
   "execution_count": 908,
   "metadata": {},
   "outputs": [],
   "source": [
    "df['Timedelta_01']=df['Timedelta_01'].fillna(df['Timedelta_01'].median())\n",
    "df['Timedelta_02']=df['Timedelta_02'].fillna(df['Timedelta_02'].median())\n",
    "df['Timedelta_03']=df['Timedelta_02']-df['Timedelta_01']"
   ]
  },
  {
   "cell_type": "markdown",
   "metadata": {},
   "source": [
    "Let's convert some categorical variables into dummy variables with pandas.get_dummies()"
   ]
  },
  {
   "cell_type": "code",
   "execution_count": 909,
   "metadata": {},
   "outputs": [],
   "source": [
    "#df=pd.get_dummies(df, columns=['Price Range'])"
   ]
  },
  {
   "cell_type": "markdown",
   "metadata": {},
   "source": [
    "Let's make lentgh of each review as a column"
   ]
  },
  {
   "cell_type": "code",
   "execution_count": 910,
   "metadata": {},
   "outputs": [],
   "source": [
    "def lenrev(row):\n",
    "    return len(row['Reviews'])"
   ]
  },
  {
   "cell_type": "code",
   "execution_count": 911,
   "metadata": {},
   "outputs": [],
   "source": [
    "df['len_rev']=df.apply(lenrev, axis=1)"
   ]
  },
  {
   "cell_type": "code",
   "execution_count": 933,
   "metadata": {},
   "outputs": [
    {
     "data": {
      "text/plain": [
       "Restaurant_id        0\n",
       "City                 0\n",
       "Cuisine Style        0\n",
       "Ranking              0\n",
       "Rating               0\n",
       "Price Range          0\n",
       "Number of Reviews    0\n",
       "Reviews              0\n",
       "URL_TA               0\n",
       "ID_TA                0\n",
       "Popular Cuisine      0\n",
       "Veggy                0\n",
       "Bar                  0\n",
       "Popular City         0\n",
       "Date                 0\n",
       "Timedelta_01         0\n",
       "Timedelta_02         0\n",
       "Timedelta_03         0\n",
       "len_rev              0\n",
       "Additional           0\n",
       "dtype: int64"
      ]
     },
     "execution_count": 933,
     "metadata": {},
     "output_type": "execute_result"
    }
   ],
   "source": []
  },
  {
   "cell_type": "code",
   "execution_count": null,
   "metadata": {},
   "outputs": [],
   "source": []
  },
  {
   "cell_type": "markdown",
   "metadata": {},
   "source": [
    "Let's make some more visualisation of the features"
   ]
  },
  {
   "cell_type": "code",
   "execution_count": 913,
   "metadata": {
    "scrolled": true
   },
   "outputs": [
    {
     "data": {
      "text/plain": [
       "<matplotlib.axes._subplots.AxesSubplot at 0x267af5f0f48>"
      ]
     },
     "execution_count": 913,
     "metadata": {},
     "output_type": "execute_result"
    },
    {
     "data": {
      "image/png": "[encoded data removed]",
      "text/plain": [
       "<Figure size 720x720 with 1 Axes>"
      ]
     },
     "metadata": {
      "needs_background": "light"
     },
     "output_type": "display_data"
    }
   ],
   "source": [
    "df['Rating'].value_counts(ascending=True).plot(kind='barh')"
   ]
  },
  {
   "cell_type": "markdown",
   "metadata": {},
   "source": [
    "Let's see the relation of Rating and Ranking:"
   ]
  },
  {
   "cell_type": "code",
   "execution_count": 914,
   "metadata": {
    "scrolled": true
   },
   "outputs": [
    {
     "data": {
      "text/plain": [
       "<matplotlib.axes._subplots.AxesSubplot at 0x26828783c48>"
      ]
     },
     "execution_count": 914,
     "metadata": {},
     "output_type": "execute_result"
    },
    {
     "data": {
      "image/png": "[encoded data removed]",
      "text/plain": [
       "<Figure size 720x720 with 1 Axes>"
      ]
     },
     "metadata": {
      "needs_background": "light"
     },
     "output_type": "display_data"
    }
   ],
   "source": [
    "df.groupby(['Ranking'])['Rating' ].mean().hist()"
   ]
  },
  {
   "cell_type": "code",
   "execution_count": 915,
   "metadata": {
    "scrolled": true
   },
   "outputs": [
    {
     "data": {
      "text/plain": [
       "<matplotlib.axes._subplots.AxesSubplot at 0x268239314c8>"
      ]
     },
     "execution_count": 915,
     "metadata": {},
     "output_type": "execute_result"
    },
    {
     "data": {
      "image/png": "[encoded data removed]",
      "text/plain": [
       "<Figure size 720x720 with 1 Axes>"
      ]
     },
     "metadata": {
      "needs_background": "light"
     },
     "output_type": "display_data"
    }
   ],
   "source": [
    "df.groupby(['Number of Reviews'])['Rating'].mean().hist()"
   ]
  },
  {
   "cell_type": "code",
   "execution_count": 916,
   "metadata": {},
   "outputs": [
    {
     "data": {
      "text/plain": [
       "<matplotlib.axes._subplots.AxesSubplot at 0x2682861a6c8>"
      ]
     },
     "execution_count": 916,
     "metadata": {},
     "output_type": "execute_result"
    },
    {
     "data": {
      "image/png": "[encoded data removed]",
      "text/plain": [
       "<Figure size 720x720 with 1 Axes>"
      ]
     },
     "metadata": {
      "needs_background": "light"
     },
     "output_type": "display_data"
    }
   ],
   "source": [
    "df[df['Rating'] == 5].groupby(['Number of Reviews'])['Ranking'].mean().hist()"
   ]
  },
  {
   "cell_type": "code",
   "execution_count": 917,
   "metadata": {},
   "outputs": [
    {
     "data": {
      "text/plain": [
       "<matplotlib.axes._subplots.AxesSubplot at 0x26828436948>"
      ]
     },
     "execution_count": 917,
     "metadata": {},
     "output_type": "execute_result"
    },
    {
     "data": {
      "image/png": "[encoded data removed]",
      "text/plain": [
       "<Figure size 720x720 with 1 Axes>"
      ]
     },
     "metadata": {
      "needs_background": "light"
     },
     "output_type": "display_data"
    }
   ],
   "source": [
    "df['City'].value_counts(ascending=True).plot(kind='barh')"
   ]
  },
  {
   "cell_type": "code",
   "execution_count": null,
   "metadata": {},
   "outputs": [],
   "source": []
  },
  {
   "cell_type": "code",
   "execution_count": null,
   "metadata": {},
   "outputs": [],
   "source": []
  },
  {
   "cell_type": "markdown",
   "metadata": {},
   "source": [
    "Let's pick out one more feature:"
   ]
  },
  {
   "cell_type": "code",
   "execution_count": 918,
   "metadata": {},
   "outputs": [],
   "source": [
    "def additional(row):\n",
    "    if (row['Ranking']>2500) and (row['Number of Reviews']>500):\n",
    "        return 2\n",
    "    if (row['Ranking']<500) and (row['Number of Reviews']<50):\n",
    "        return 0\n",
    "    else:\n",
    "        return 1"
   ]
  },
  {
   "cell_type": "code",
   "execution_count": 919,
   "metadata": {},
   "outputs": [],
   "source": [
    "df['Additional']=df.apply(additional, axis=1)"
   ]
  },
  {
   "cell_type": "code",
   "execution_count": null,
   "metadata": {},
   "outputs": [],
   "source": []
  },
  {
   "cell_type": "code",
   "execution_count": null,
   "metadata": {},
   "outputs": [],
   "source": []
  },
  {
   "cell_type": "code",
   "execution_count": null,
   "metadata": {},
   "outputs": [],
   "source": []
  },
  {
   "cell_type": "code",
   "execution_count": 920,
   "metadata": {},
   "outputs": [
    {
     "data": {
      "text/plain": [
       "<matplotlib.axes._subplots.AxesSubplot at 0x26817c8d5c8>"
      ]
     },
     "execution_count": 920,
     "metadata": {},
     "output_type": "execute_result"
    },
    {
     "data": {
      "image/png": "[encoded data removed]",
      "text/plain": [
       "<Figure size 720x720 with 1 Axes>"
      ]
     },
     "metadata": {
      "needs_background": "light"
     },
     "output_type": "display_data"
    }
   ],
   "source": [
    "df['City'].value_counts(ascending=True).plot(kind='barh')"
   ]
  },
  {
   "cell_type": "code",
   "execution_count": null,
   "metadata": {},
   "outputs": [],
   "source": []
  },
  {
   "cell_type": "code",
   "execution_count": null,
   "metadata": {},
   "outputs": [],
   "source": []
  },
  {
   "cell_type": "markdown",
   "metadata": {},
   "source": [
    "Let's split our DataFrame to Data set for training of our model and the target value. "
   ]
  },
  {
   "cell_type": "code",
   "execution_count": 921,
   "metadata": {},
   "outputs": [],
   "source": [
    "X = df.drop(['Restaurant_id', 'Rating', 'City', 'Reviews', 'Date', \"Timedelta_02\" , 'Cuisine Style', 'URL_TA', 'ID_TA', 'Additional',  'Date', ], axis = 1) \n",
    "y = df['Rating']\n"
   ]
  },
  {
   "cell_type": "markdown",
   "metadata": {},
   "source": [
    "Let's see the correlations:"
   ]
  },
  {
   "cell_type": "code",
   "execution_count": 922,
   "metadata": {},
   "outputs": [
    {
     "data": {
      "text/html": [
       "<div>\n",
       "<style scoped>\n",
       "    .dataframe tbody tr th:only-of-type {\n",
       "        vertical-align: middle;\n",
       "    }\n",
       "\n",
       "    .dataframe tbody tr th {\n",
       "        vertical-align: top;\n",
       "    }\n",
       "\n",
       "    .dataframe thead th {\n",
       "        text-align: right;\n",
       "    }\n",
       "</style>\n",
       "<table border=\"1\" class=\"dataframe\">\n",
       "  <thead>\n",
       "    <tr style=\"text-align: right;\">\n",
       "      <th></th>\n",
       "      <th>Ranking</th>\n",
       "      <th>Price Range</th>\n",
       "      <th>Number of Reviews</th>\n",
       "      <th>Popular Cuisine</th>\n",
       "      <th>Veggy</th>\n",
       "      <th>Bar</th>\n",
       "      <th>Popular City</th>\n",
       "      <th>Timedelta_01</th>\n",
       "      <th>Timedelta_03</th>\n",
       "      <th>len_rev</th>\n",
       "    </tr>\n",
       "  </thead>\n",
       "  <tbody>\n",
       "    <tr>\n",
       "      <td>Ranking</td>\n",
       "      <td>1.000000</td>\n",
       "      <td>-0.243553</td>\n",
       "      <td>-0.220005</td>\n",
       "      <td>-0.286439</td>\n",
       "      <td>-0.300139</td>\n",
       "      <td>-0.028040</td>\n",
       "      <td>0.594109</td>\n",
       "      <td>0.166851</td>\n",
       "      <td>-0.011805</td>\n",
       "      <td>-0.138552</td>\n",
       "    </tr>\n",
       "    <tr>\n",
       "      <td>Price Range</td>\n",
       "      <td>-0.243553</td>\n",
       "      <td>1.000000</td>\n",
       "      <td>0.306522</td>\n",
       "      <td>0.472850</td>\n",
       "      <td>0.447498</td>\n",
       "      <td>0.155221</td>\n",
       "      <td>0.006317</td>\n",
       "      <td>-0.222741</td>\n",
       "      <td>0.064081</td>\n",
       "      <td>0.434038</td>\n",
       "    </tr>\n",
       "    <tr>\n",
       "      <td>Number of Reviews</td>\n",
       "      <td>-0.220005</td>\n",
       "      <td>0.306522</td>\n",
       "      <td>1.000000</td>\n",
       "      <td>0.411186</td>\n",
       "      <td>0.360999</td>\n",
       "      <td>0.048448</td>\n",
       "      <td>-0.019989</td>\n",
       "      <td>-0.173181</td>\n",
       "      <td>-0.013682</td>\n",
       "      <td>0.180115</td>\n",
       "    </tr>\n",
       "    <tr>\n",
       "      <td>Popular Cuisine</td>\n",
       "      <td>-0.286439</td>\n",
       "      <td>0.472850</td>\n",
       "      <td>0.411186</td>\n",
       "      <td>1.000000</td>\n",
       "      <td>0.698555</td>\n",
       "      <td>0.291659</td>\n",
       "      <td>-0.018520</td>\n",
       "      <td>-0.265359</td>\n",
       "      <td>-0.007523</td>\n",
       "      <td>0.294279</td>\n",
       "    </tr>\n",
       "    <tr>\n",
       "      <td>Veggy</td>\n",
       "      <td>-0.300139</td>\n",
       "      <td>0.447498</td>\n",
       "      <td>0.360999</td>\n",
       "      <td>0.698555</td>\n",
       "      <td>1.000000</td>\n",
       "      <td>0.034409</td>\n",
       "      <td>-0.019778</td>\n",
       "      <td>-0.255776</td>\n",
       "      <td>-0.008609</td>\n",
       "      <td>0.306629</td>\n",
       "    </tr>\n",
       "    <tr>\n",
       "      <td>Bar</td>\n",
       "      <td>-0.028040</td>\n",
       "      <td>0.155221</td>\n",
       "      <td>0.048448</td>\n",
       "      <td>0.291659</td>\n",
       "      <td>0.034409</td>\n",
       "      <td>1.000000</td>\n",
       "      <td>-0.003090</td>\n",
       "      <td>-0.090891</td>\n",
       "      <td>0.002501</td>\n",
       "      <td>0.093532</td>\n",
       "    </tr>\n",
       "    <tr>\n",
       "      <td>Popular City</td>\n",
       "      <td>0.594109</td>\n",
       "      <td>0.006317</td>\n",
       "      <td>-0.019989</td>\n",
       "      <td>-0.018520</td>\n",
       "      <td>-0.019778</td>\n",
       "      <td>-0.003090</td>\n",
       "      <td>1.000000</td>\n",
       "      <td>0.006806</td>\n",
       "      <td>-0.003723</td>\n",
       "      <td>0.004042</td>\n",
       "    </tr>\n",
       "    <tr>\n",
       "      <td>Timedelta_01</td>\n",
       "      <td>0.166851</td>\n",
       "      <td>-0.222741</td>\n",
       "      <td>-0.173181</td>\n",
       "      <td>-0.265359</td>\n",
       "      <td>-0.255776</td>\n",
       "      <td>-0.090891</td>\n",
       "      <td>0.006806</td>\n",
       "      <td>1.000000</td>\n",
       "      <td>-0.463075</td>\n",
       "      <td>-0.013415</td>\n",
       "    </tr>\n",
       "    <tr>\n",
       "      <td>Timedelta_03</td>\n",
       "      <td>-0.011805</td>\n",
       "      <td>0.064081</td>\n",
       "      <td>-0.013682</td>\n",
       "      <td>-0.007523</td>\n",
       "      <td>-0.008609</td>\n",
       "      <td>0.002501</td>\n",
       "      <td>-0.003723</td>\n",
       "      <td>-0.463075</td>\n",
       "      <td>1.000000</td>\n",
       "      <td>0.188899</td>\n",
       "    </tr>\n",
       "    <tr>\n",
       "      <td>len_rev</td>\n",
       "      <td>-0.138552</td>\n",
       "      <td>0.434038</td>\n",
       "      <td>0.180115</td>\n",
       "      <td>0.294279</td>\n",
       "      <td>0.306629</td>\n",
       "      <td>0.093532</td>\n",
       "      <td>0.004042</td>\n",
       "      <td>-0.013415</td>\n",
       "      <td>0.188899</td>\n",
       "      <td>1.000000</td>\n",
       "    </tr>\n",
       "  </tbody>\n",
       "</table>\n",
       "</div>"
      ],
      "text/plain": [
       "                    Ranking  Price Range  Number of Reviews  Popular Cuisine  \\\n",
       "Ranking            1.000000    -0.243553          -0.220005        -0.286439   \n",
       "Price Range       -0.243553     1.000000           0.306522         0.472850   \n",
       "Number of Reviews -0.220005     0.306522           1.000000         0.411186   \n",
       "Popular Cuisine   -0.286439     0.472850           0.411186         1.000000   \n",
       "Veggy             -0.300139     0.447498           0.360999         0.698555   \n",
       "Bar               -0.028040     0.155221           0.048448         0.291659   \n",
       "Popular City       0.594109     0.006317          -0.019989        -0.018520   \n",
       "Timedelta_01       0.166851    -0.222741          -0.173181        -0.265359   \n",
       "Timedelta_03      -0.011805     0.064081          -0.013682        -0.007523   \n",
       "len_rev           -0.138552     0.434038           0.180115         0.294279   \n",
       "\n",
       "                      Veggy       Bar  Popular City  Timedelta_01  \\\n",
       "Ranking           -0.300139 -0.028040      0.594109      0.166851   \n",
       "Price Range        0.447498  0.155221      0.006317     -0.222741   \n",
       "Number of Reviews  0.360999  0.048448     -0.019989     -0.173181   \n",
       "Popular Cuisine    0.698555  0.291659     -0.018520     -0.265359   \n",
       "Veggy              1.000000  0.034409     -0.019778     -0.255776   \n",
       "Bar                0.034409  1.000000     -0.003090     -0.090891   \n",
       "Popular City      -0.019778 -0.003090      1.000000      0.006806   \n",
       "Timedelta_01      -0.255776 -0.090891      0.006806      1.000000   \n",
       "Timedelta_03      -0.008609  0.002501     -0.003723     -0.463075   \n",
       "len_rev            0.306629  0.093532      0.004042     -0.013415   \n",
       "\n",
       "                   Timedelta_03   len_rev  \n",
       "Ranking               -0.011805 -0.138552  \n",
       "Price Range            0.064081  0.434038  \n",
       "Number of Reviews     -0.013682  0.180115  \n",
       "Popular Cuisine       -0.007523  0.294279  \n",
       "Veggy                 -0.008609  0.306629  \n",
       "Bar                    0.002501  0.093532  \n",
       "Popular City          -0.003723  0.004042  \n",
       "Timedelta_01          -0.463075 -0.013415  \n",
       "Timedelta_03           1.000000  0.188899  \n",
       "len_rev                0.188899  1.000000  "
      ]
     },
     "execution_count": 922,
     "metadata": {},
     "output_type": "execute_result"
    }
   ],
   "source": [
    "X.corr()"
   ]
  },
  {
   "cell_type": "code",
   "execution_count": 923,
   "metadata": {},
   "outputs": [
    {
     "data": {
      "text/plain": [
       "<matplotlib.axes._subplots.AxesSubplot at 0x2682498b748>"
      ]
     },
     "execution_count": 923,
     "metadata": {},
     "output_type": "execute_result"
    },
    {
     "data": {
      "image/png": "[encoded data removed]",
      "text/plain": [
       "<Figure size 720x720 with 2 Axes>"
      ]
     },
     "metadata": {
      "needs_background": "light"
     },
     "output_type": "display_data"
    }
   ],
   "source": [
    "sns.heatmap(X.corr())"
   ]
  },
  {
   "cell_type": "code",
   "execution_count": null,
   "metadata": {},
   "outputs": [],
   "source": []
  },
  {
   "cell_type": "code",
   "execution_count": 924,
   "metadata": {},
   "outputs": [],
   "source": [
    "#Popular Cuisine\tVeggy\tBar\tPopular City\tDate\tTimedelta_01\tTimedelta_02\tTimedelta_03\tlen_rev\tAdditional\n"
   ]
  },
  {
   "cell_type": "markdown",
   "metadata": {},
   "source": [
    "Now we will split datasets into random train and test subsets:"
   ]
  },
  {
   "cell_type": "code",
   "execution_count": 925,
   "metadata": {},
   "outputs": [],
   "source": [
    "\n",
    "X_train, X_test, y_train, y_test = train_test_split(X, y, test_size=0.25)\n"
   ]
  },
  {
   "cell_type": "markdown",
   "metadata": {},
   "source": [
    "Let's create a model:"
   ]
  },
  {
   "cell_type": "code",
   "execution_count": 926,
   "metadata": {},
   "outputs": [],
   "source": [
    "regr = RandomForestRegressor(n_estimators=100)"
   ]
  },
  {
   "cell_type": "markdown",
   "metadata": {},
   "source": [
    "Let's train the model on a test dataset:"
   ]
  },
  {
   "cell_type": "code",
   "execution_count": 927,
   "metadata": {},
   "outputs": [
    {
     "data": {
      "text/plain": [
       "RandomForestRegressor(bootstrap=True, criterion='mse', max_depth=None,\n",
       "                      max_features='auto', max_leaf_nodes=None,\n",
       "                      min_impurity_decrease=0.0, min_impurity_split=None,\n",
       "                      min_samples_leaf=1, min_samples_split=2,\n",
       "                      min_weight_fraction_leaf=0.0, n_estimators=100,\n",
       "                      n_jobs=None, oob_score=False, random_state=None,\n",
       "                      verbose=0, warm_start=False)"
      ]
     },
     "execution_count": 927,
     "metadata": {},
     "output_type": "execute_result"
    }
   ],
   "source": [
    "regr.fit(X_train, y_train)  "
   ]
  },
  {
   "cell_type": "markdown",
   "metadata": {},
   "source": [
    "Using our model for prediction restautant's rating save the predicted values:"
   ]
  },
  {
   "cell_type": "code",
   "execution_count": 928,
   "metadata": {},
   "outputs": [],
   "source": [
    "y_pred = regr.predict(X_test) "
   ]
  },
  {
   "cell_type": "code",
   "execution_count": null,
   "metadata": {},
   "outputs": [],
   "source": []
  },
  {
   "cell_type": "markdown",
   "metadata": {},
   "source": [
    "Mean Absolute Error:"
   ]
  },
  {
   "cell_type": "code",
   "execution_count": 929,
   "metadata": {},
   "outputs": [
    {
     "name": "stdout",
     "output_type": "stream",
     "text": [
      "MAE: 0.34280624285714284\n"
     ]
    }
   ],
   "source": [
    "print('MAE:', metrics.mean_absolute_error(y_test, y_pred))"
   ]
  },
  {
   "cell_type": "markdown",
   "metadata": {},
   "source": [
    "Let's see wich of the features have a biggest influence to our prediction "
   ]
  },
  {
   "cell_type": "code",
   "execution_count": 930,
   "metadata": {},
   "outputs": [
    {
     "data": {
      "text/plain": [
       "<matplotlib.axes._subplots.AxesSubplot at 0x268031fa148>"
      ]
     },
     "execution_count": 930,
     "metadata": {},
     "output_type": "execute_result"
    },
    {
     "data": {
      "image/png": "[encoded data removed]",
      "text/plain": [
       "<Figure size 720x720 with 1 Axes>"
      ]
     },
     "metadata": {
      "needs_background": "light"
     },
     "output_type": "display_data"
    }
   ],
   "source": [
    "plt.rcParams['figure.figsize'] = (10,10)\n",
    "feat_importances = pd.Series(regr.feature_importances_, index=X.columns)\n",
    "feat_importances.nlargest(15).plot(kind='barh')"
   ]
  }
 ],
 "metadata": {
  "kernelspec": {
   "display_name": "Python 3",
   "language": "python",
   "name": "python3"
  },
  "language_info": {
   "codemirror_mode": {
    "name": "ipython",
    "version": 3
   },
   "file_extension": ".py",
   "mimetype": "text/x-python",
   "name": "python",
   "nbconvert_exporter": "python",
   "pygments_lexer": "ipython3",
   "version": "3.7.4"
  }
 },
 "nbformat": 4,
 "nbformat_minor": 2
}
